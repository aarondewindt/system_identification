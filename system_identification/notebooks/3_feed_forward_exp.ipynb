{
 "cells": [
  {
   "cell_type": "markdown",
   "id": "hindu-horse",
   "metadata": {},
   "source": [
    "# Feed-Forward Neural Network"
   ]
  },
  {
   "cell_type": "code",
   "execution_count": 1,
   "id": "forbidden-tuesday",
   "metadata": {},
   "outputs": [],
   "source": [
    "%load_ext autoreload\n",
    "%autoreload 2\n",
    "%matplotlib widget"
   ]
  },
  {
   "cell_type": "code",
   "execution_count": 2,
   "id": "previous-argument",
   "metadata": {},
   "outputs": [],
   "source": [
    "from itertools import product\n",
    "from pathlib import Path\n",
    "from tqdm.auto import trange\n",
    "import pickle\n",
    "\n",
    "import numpy as np\n",
    "import xarray as xr\n",
    "import xarray.ufuncs as xf\n",
    "import matplotlib.pyplot as plt\n",
    "from scipy.interpolate import griddata\n",
    "\n",
    "from system_identification.ffnn import FeedForwardNeuralNetwork\n",
    "from system_identification.load_assignment_data import load_net_example_ff"
   ]
  },
  {
   "cell_type": "markdown",
   "id": "c515d588-5ad6-45e3-96e7-9cd94e282b99",
   "metadata": {},
   "source": [
    "## 1D"
   ]
  },
  {
   "cell_type": "code",
   "execution_count": 3,
   "id": "radio-railway",
   "metadata": {},
   "outputs": [],
   "source": [
    "def foo(x):\n",
    "    return 0.8 * np.tanh(x * 0.4 - 0.7) + 2.1\n",
    "\n",
    "# def f(x):\n",
    "#     return x[0]**2\n",
    "\n",
    "# def f(x):\n",
    "#     return -0.8 * np.tanh(x[0] * 3) + x[1]**2 + 1\n",
    "\n",
    "inputs = np.linspace(-5, 10, 1000)\n",
    "reference_outputs = np.array(list(map(foo, inputs)))\n",
    "reference_outputs_noisy = reference_outputs + (np.random.random(reference_outputs.shape) - 0.5) * 0.1\n",
    "\n",
    "inputs = inputs.reshape(-1, 1, 1)\n",
    "reference_outputs = reference_outputs.reshape(-1, 1, 1)\n",
    "reference_outputs_noisy = reference_outputs_noisy.reshape(-1, 1, 1)"
   ]
  },
  {
   "cell_type": "code",
   "execution_count": 4,
   "id": "4f938e7a-15ed-450d-a940-4c95c8448dc2",
   "metadata": {},
   "outputs": [
    {
     "data": {
      "application/vnd.jupyter.widget-view+json": {
       "model_id": "73e4974c2fa740b791fc3afb3aa4fa73",
       "version_major": 2,
       "version_minor": 0
      },
      "text/plain": [
       "Canvas(toolbar=Toolbar(toolitems=[('Home', 'Reset original view', 'home', 'home'), ('Back', 'Back to previous …"
      ]
     },
     "metadata": {},
     "output_type": "display_data"
    },
    {
     "data": {
      "text/plain": [
       "[<matplotlib.lines.Line2D at 0x7f446a8efb80>]"
      ]
     },
     "execution_count": 4,
     "metadata": {},
     "output_type": "execute_result"
    }
   ],
   "source": [
    "plt.figure()\n",
    "plt.plot(inputs[:, 0, 0], reference_outputs[:, 0, 0], \"o\", markersize=1)"
   ]
  },
  {
   "cell_type": "markdown",
   "id": "8dc11f7c-2a3a-403a-a5d8-47ea408b81b0",
   "metadata": {},
   "source": [
    "### Levenberg-Marquardt training"
   ]
  },
  {
   "cell_type": "code",
   "execution_count": 6,
   "id": "technological-democracy",
   "metadata": {},
   "outputs": [
    {
     "data": {
      "text/html": [
       "<div Class=\"cw_vdom_hyr cw_vdom_hyr_item\"><style>.cw_vdom_hyr {\n",
       "    font-family: monospace;\n",
       "}\n",
       "\n",
       ".cw_vdom_hyr_item > input {\n",
       "    display: none;\n",
       "}\n",
       "\n",
       ".cw_vdom_hyr_item > label {\n",
       "    color: var(--jp-accent-color1);\n",
       "    font-weight: bold;\n",
       "}\n",
       "\n",
       ".cw_vdom_hyr_item > label::before {\n",
       "    content: \"\\00a0\";\n",
       "}\n",
       "\n",
       ".cw_vdom_hyr_item > label::after {\n",
       "    content: \": \";\n",
       "}\n",
       "\n",
       ".cw_vdom_hyr_item > div {\n",
       "    display: inline-block;\n",
       "}\n",
       "\n",
       ".cw_vdom_hyr_item > input + label {\n",
       "    cursor: pointer;\n",
       "}\n",
       "\n",
       ".cw_vdom_hyr_item > input + label::before {\n",
       "    content: \"+\";\n",
       "}\n",
       "\n",
       ".cw_vdom_hyr_item > input:checked + label::before {\n",
       "    content: \"-\";\n",
       "}\n",
       "\n",
       ".cw_vdom_hyr_item > input ~ div {\n",
       "    display: none;\n",
       "    padding-left: 20px;\n",
       "}\n",
       "\n",
       ".cw_vdom_hyr_item > input:checked ~ div {\n",
       "    display: block;\n",
       "}\n",
       "\n",
       ".cw_vdom_hyr_type {\n",
       "    color: var(--jp-ui-font-color3);\n",
       "    font-size: var(--jp-ui-font-size0);\n",
       "}\n",
       "</style><input type=\"checkbox\" id=\"I8VHKWVRYZ\" ></input><label For=\"I8VHKWVRYZ\">Feed Forward Neural Network</label><span Class=\"cw_vdom_hyr_type\">system_identification.ffnn.FeedForwardNeuralNetwork:</span><div><div><div Class=\"cw_vdom_hyr_item\"><label For=\"IQGJ28YZTS\">description</label><span Class=\"cw_vdom_hyr_type\">str[55]:</span><div><span>Feedforward neural network with random initial weights.</span></div></div><div Class=\"cw_vdom_hyr_item\"><label For=\"UA1HF53YCP\">n_inputs</label><span Class=\"cw_vdom_hyr_type\">int:</span><div><span>1</span></div></div><div Class=\"cw_vdom_hyr_item\"><label For=\"RKCAOZJ2XX\">n_hidden</label><span Class=\"cw_vdom_hyr_type\">int:</span><div><span>3</span></div></div><div Class=\"cw_vdom_hyr_item\"><label For=\"EF1OOIJ4GO\">n_output</label><span Class=\"cw_vdom_hyr_type\">int:</span><div><span>1</span></div></div><div Class=\"cw_vdom_hyr_item\"><input type=\"checkbox\" id=\"KSQ1YF1Y87\" ></input><label For=\"KSQ1YF1Y87\">weights_0</label><span Class=\"cw_vdom_hyr_type\">numpy.ndarray[3, 2]:</span><div><div>[[0.65267496 0.61260675]<br/> [0.87190423 0.93561498]<br/> [0.04282741 0.36045606]]</div></div></div><div Class=\"cw_vdom_hyr_item\"><label For=\"51K0L2VB32\">weights_1</label><span Class=\"cw_vdom_hyr_type\">numpy.ndarray[1, 4]:</span><div>[[0.5693695  0.17575735 0.00083704 0.62966903]]</div></div><div Class=\"cw_vdom_hyr_item\"><input type=\"checkbox\" id=\"1P3NK5AZNU\" ></input><label For=\"1P3NK5AZNU\">input_weights</label><span Class=\"cw_vdom_hyr_type\">numpy.ndarray[3, 1]:</span><div><div>[[0.61260675]<br/> [0.93561498]<br/> [0.36045606]]</div></div></div><div Class=\"cw_vdom_hyr_item\"><label For=\"DRMWBTJCSM\">output_weights</label><span Class=\"cw_vdom_hyr_type\">numpy.ndarray[1, 3]:</span><div>[[0.17575735 0.00083704 0.62966903]]</div></div><div Class=\"cw_vdom_hyr_item\"><input type=\"checkbox\" id=\"DZDS2MG1J4\" ></input><label For=\"DZDS2MG1J4\">bias_weights</label><span Class=\"cw_vdom_hyr_type\">list[2]:</span><div><div><div Class=\"cw_vdom_hyr_item\"><input type=\"checkbox\" id=\"JOO6OQF2F0\" ></input><label For=\"JOO6OQF2F0\">[0]</label><span Class=\"cw_vdom_hyr_type\">numpy.ndarray[3, 1]:</span><div><div>[[0.61260675]<br/> [0.93561498]<br/> [0.36045606]]</div></div></div><div Class=\"cw_vdom_hyr_item\"><label For=\"C24O4NCCCJ\">[1]</label><span Class=\"cw_vdom_hyr_type\">numpy.ndarray[1, 1]:</span><div>[[0.17575735]]</div></div></div></div></div><div Class=\"cw_vdom_hyr_item\"><input type=\"checkbox\" id=\"E9F0F2NCMU\" ></input><label For=\"E9F0F2NCMU\">training_parameters</label><span Class=\"cw_vdom_hyr_type\">dict[3]:</span><div><div><div Class=\"cw_vdom_hyr_item\"><label For=\"J4NDE6Y01F\">training_algorithm</label><span Class=\"cw_vdom_hyr_type\">NoneType:</span><div><span>None</span></div></div><div Class=\"cw_vdom_hyr_item\"><label For=\"R6OHF5DELI\">goal</label><span Class=\"cw_vdom_hyr_type\">NoneType:</span><div><span>None</span></div></div><div Class=\"cw_vdom_hyr_item\"><label For=\"M5OZL71CVM\">min_grad</label><span Class=\"cw_vdom_hyr_type\">NoneType:</span><div><span>None</span></div></div></div></div></div><div Class=\"cw_vdom_hyr_item\"><label For=\"0QQJR0FIET\">log_dir</label><span Class=\"cw_vdom_hyr_type\">pathlib.PosixPath:</span><div><span>ffnn_exp</span></div></div></div></div></div>"
      ],
      "text/plain": [
       "<FeedForwardNeuralNetwork\n",
       " n_inputs=1\n",
       " n_hidden=3\n",
       " n_outputs=1>"
      ]
     },
     "execution_count": 6,
     "metadata": {},
     "output_type": "execute_result"
    }
   ],
   "source": [
    "model = FeedForwardNeuralNetwork.new(\n",
    "    n_inputs=1,\n",
    "    n_outputs=1,\n",
    "    n_hidden=3,\n",
    "    range=[[-1, 1]],\n",
    "    log_dir=\"./ffnn_exp\",\n",
    ")\n",
    "model"
   ]
  },
  {
   "cell_type": "code",
   "execution_count": 7,
   "id": "7b40b4c9-47b8-4dec-882a-57de054e831b",
   "metadata": {},
   "outputs": [
    {
     "data": {
      "application/vnd.jupyter.widget-view+json": {
       "model_id": "b495014f97f14ee7b5c1e9bee8df5dc3",
       "version_major": 2,
       "version_minor": 0
      },
      "text/plain": [
       "  0%|          | 0/10000 [00:00<?, ?it/s]"
      ]
     },
     "metadata": {},
     "output_type": "display_data"
    },
    {
     "name": "stdout",
     "output_type": "stream",
     "text": [
      "Goal met\n"
     ]
    }
   ],
   "source": [
    "model.train(\n",
    "    inputs,\n",
    "    reference_outputs,\n",
    "    epochs=10000,\n",
    "    goal=1e-6,\n",
    "    train_log_freq=1,\n",
    "    method=\"trainlm\",\n",
    "    mu=10.,\n",
    "    alpha=0.95)"
   ]
  },
  {
   "cell_type": "code",
   "execution_count": 8,
   "id": "c668bb50-f2b6-4c08-8e86-656c40d8fcd4",
   "metadata": {},
   "outputs": [
    {
     "data": {
      "application/vnd.jupyter.widget-view+json": {
       "model_id": "b5af0c3386a7402f8ebcd631bf434038",
       "version_major": 2,
       "version_minor": 0
      },
      "text/plain": [
       "Canvas(toolbar=Toolbar(toolitems=[('Home', 'Reset original view', 'home', 'home'), ('Back', 'Back to previous …"
      ]
     },
     "metadata": {},
     "output_type": "display_data"
    },
    {
     "data": {
      "application/vnd.jupyter.widget-view+json": {
       "model_id": "f8f298d4797640e9bb6c260fd50a2a1c",
       "version_major": 2,
       "version_minor": 0
      },
      "text/plain": [
       "Canvas(toolbar=Toolbar(toolitems=[('Home', 'Reset original view', 'home', 'home'), ('Back', 'Back to previous …"
      ]
     },
     "metadata": {},
     "output_type": "display_data"
    }
   ],
   "source": [
    "fig = plt.figure()\n",
    "outputs = model.evaluate(inputs)\n",
    "plt.plot(inputs.squeeze(), reference_outputs.squeeze())\n",
    "plt.plot(inputs.squeeze(), reference_outputs_noisy.squeeze(), \".\", markersize=1)\n",
    "plt.plot(inputs.squeeze(), outputs.squeeze())\n",
    "\n",
    "plt.figure()\n",
    "model.training_log.error.plot()\n",
    "plt.yscale(\"log\")"
   ]
  },
  {
   "cell_type": "markdown",
   "id": "4686c7b3-dc02-4942-a6b0-19ddd84f5857",
   "metadata": {},
   "source": [
    "### Back propagation"
   ]
  },
  {
   "cell_type": "code",
   "execution_count": 9,
   "id": "7d5d8d16-4c6d-4ddd-94df-ca205bde3b19",
   "metadata": {},
   "outputs": [
    {
     "data": {
      "text/html": [
       "<div Class=\"cw_vdom_hyr cw_vdom_hyr_item\"><style>.cw_vdom_hyr {\n",
       "    font-family: monospace;\n",
       "}\n",
       "\n",
       ".cw_vdom_hyr_item > input {\n",
       "    display: none;\n",
       "}\n",
       "\n",
       ".cw_vdom_hyr_item > label {\n",
       "    color: var(--jp-accent-color1);\n",
       "    font-weight: bold;\n",
       "}\n",
       "\n",
       ".cw_vdom_hyr_item > label::before {\n",
       "    content: \"\\00a0\";\n",
       "}\n",
       "\n",
       ".cw_vdom_hyr_item > label::after {\n",
       "    content: \": \";\n",
       "}\n",
       "\n",
       ".cw_vdom_hyr_item > div {\n",
       "    display: inline-block;\n",
       "}\n",
       "\n",
       ".cw_vdom_hyr_item > input + label {\n",
       "    cursor: pointer;\n",
       "}\n",
       "\n",
       ".cw_vdom_hyr_item > input + label::before {\n",
       "    content: \"+\";\n",
       "}\n",
       "\n",
       ".cw_vdom_hyr_item > input:checked + label::before {\n",
       "    content: \"-\";\n",
       "}\n",
       "\n",
       ".cw_vdom_hyr_item > input ~ div {\n",
       "    display: none;\n",
       "    padding-left: 20px;\n",
       "}\n",
       "\n",
       ".cw_vdom_hyr_item > input:checked ~ div {\n",
       "    display: block;\n",
       "}\n",
       "\n",
       ".cw_vdom_hyr_type {\n",
       "    color: var(--jp-ui-font-color3);\n",
       "    font-size: var(--jp-ui-font-size0);\n",
       "}\n",
       "</style><input type=\"checkbox\" id=\"CK17GE4GZ9\" ></input><label For=\"CK17GE4GZ9\">Feed Forward Neural Network</label><span Class=\"cw_vdom_hyr_type\">system_identification.ffnn.FeedForwardNeuralNetwork:</span><div><div><div Class=\"cw_vdom_hyr_item\"><label For=\"TNYK61F6G5\">description</label><span Class=\"cw_vdom_hyr_type\">str[55]:</span><div><span>Feedforward neural network with random initial weights.</span></div></div><div Class=\"cw_vdom_hyr_item\"><label For=\"45DH3EFAMR\">n_inputs</label><span Class=\"cw_vdom_hyr_type\">int:</span><div><span>1</span></div></div><div Class=\"cw_vdom_hyr_item\"><label For=\"LM4BDU4WSF\">n_hidden</label><span Class=\"cw_vdom_hyr_type\">int:</span><div><span>1</span></div></div><div Class=\"cw_vdom_hyr_item\"><label For=\"B9H0EUJH49\">n_output</label><span Class=\"cw_vdom_hyr_type\">int:</span><div><span>1</span></div></div><div Class=\"cw_vdom_hyr_item\"><label For=\"G6OFFRL1H8\">weights_0</label><span Class=\"cw_vdom_hyr_type\">numpy.ndarray[1, 2]:</span><div>[[0.97000813 0.75175321]]</div></div><div Class=\"cw_vdom_hyr_item\"><label For=\"RCE3L6HQR7\">weights_1</label><span Class=\"cw_vdom_hyr_type\">numpy.ndarray[1, 2]:</span><div>[[0.08339868 0.30511528]]</div></div><div Class=\"cw_vdom_hyr_item\"><label For=\"E33FLH08CD\">input_weights</label><span Class=\"cw_vdom_hyr_type\">numpy.ndarray[1, 1]:</span><div>[[0.75175321]]</div></div><div Class=\"cw_vdom_hyr_item\"><label For=\"CSY2GL6QW6\">output_weights</label><span Class=\"cw_vdom_hyr_type\">numpy.ndarray[1, 1]:</span><div>[[0.30511528]]</div></div><div Class=\"cw_vdom_hyr_item\"><input type=\"checkbox\" id=\"NTKHSEAGAR\" ></input><label For=\"NTKHSEAGAR\">bias_weights</label><span Class=\"cw_vdom_hyr_type\">list[2]:</span><div><div><div Class=\"cw_vdom_hyr_item\"><label For=\"6K0N6BFFPZ\">[0]</label><span Class=\"cw_vdom_hyr_type\">numpy.ndarray[1, 1]:</span><div>[[0.75175321]]</div></div><div Class=\"cw_vdom_hyr_item\"><label For=\"BOZBUVMRDZ\">[1]</label><span Class=\"cw_vdom_hyr_type\">numpy.ndarray[1, 1]:</span><div>[[0.30511528]]</div></div></div></div></div><div Class=\"cw_vdom_hyr_item\"><input type=\"checkbox\" id=\"5JZ33OTL9K\" ></input><label For=\"5JZ33OTL9K\">training_parameters</label><span Class=\"cw_vdom_hyr_type\">dict[3]:</span><div><div><div Class=\"cw_vdom_hyr_item\"><label For=\"OE1TP3ESZV\">training_algorithm</label><span Class=\"cw_vdom_hyr_type\">NoneType:</span><div><span>None</span></div></div><div Class=\"cw_vdom_hyr_item\"><label For=\"KE9V05BH8O\">goal</label><span Class=\"cw_vdom_hyr_type\">NoneType:</span><div><span>None</span></div></div><div Class=\"cw_vdom_hyr_item\"><label For=\"UWHWWTVJ5S\">min_grad</label><span Class=\"cw_vdom_hyr_type\">NoneType:</span><div><span>None</span></div></div></div></div></div><div Class=\"cw_vdom_hyr_item\"><label For=\"87992BM0MZ\">log_dir</label><span Class=\"cw_vdom_hyr_type\">pathlib.PosixPath:</span><div><span>ffnn_exp</span></div></div></div></div></div>"
      ],
      "text/plain": [
       "<FeedForwardNeuralNetwork\n",
       " n_inputs=1\n",
       " n_hidden=1\n",
       " n_outputs=1>"
      ]
     },
     "execution_count": 9,
     "metadata": {},
     "output_type": "execute_result"
    }
   ],
   "source": [
    "model = FeedForwardNeuralNetwork.new(\n",
    "    n_inputs=1,\n",
    "    n_outputs=1,\n",
    "    n_hidden=1,\n",
    "    range=[[-1, 1]],\n",
    "    log_dir=\"./ffnn_exp\",\n",
    ")\n",
    "model"
   ]
  },
  {
   "cell_type": "code",
   "execution_count": 10,
   "id": "b756c9b1-b120-45ca-8c36-d11214f21b1b",
   "metadata": {
    "tags": []
   },
   "outputs": [
    {
     "data": {
      "application/vnd.jupyter.widget-view+json": {
       "model_id": "86b6af9d96944338968fffb96c413166",
       "version_major": 2,
       "version_minor": 0
      },
      "text/plain": [
       "  0%|          | 0/10000 [00:00<?, ?it/s]"
      ]
     },
     "metadata": {},
     "output_type": "display_data"
    },
    {
     "name": "stdout",
     "output_type": "stream",
     "text": [
      "Goal met\n"
     ]
    }
   ],
   "source": [
    "model.train(\n",
    "    inputs,\n",
    "    reference_outputs,\n",
    "    epochs=10000,\n",
    "    goal=1e-6,\n",
    "    train_log_freq=1,\n",
    "    method=\"trainbp\",\n",
    "    eta=0.001,\n",
    "    alpha=1.001)"
   ]
  },
  {
   "cell_type": "code",
   "execution_count": 11,
   "id": "ab48bc04-a9de-45f2-871d-becd2a215c2c",
   "metadata": {},
   "outputs": [
    {
     "data": {
      "application/vnd.jupyter.widget-view+json": {
       "model_id": "ce4fb8f0518c4a3bbd802ea0df145474",
       "version_major": 2,
       "version_minor": 0
      },
      "text/plain": [
       "Canvas(toolbar=Toolbar(toolitems=[('Home', 'Reset original view', 'home', 'home'), ('Back', 'Back to previous …"
      ]
     },
     "metadata": {},
     "output_type": "display_data"
    },
    {
     "data": {
      "application/vnd.jupyter.widget-view+json": {
       "model_id": "f2db7a7250b54433a8a3e45c609b38f9",
       "version_major": 2,
       "version_minor": 0
      },
      "text/plain": [
       "Canvas(toolbar=Toolbar(toolitems=[('Home', 'Reset original view', 'home', 'home'), ('Back', 'Back to previous …"
      ]
     },
     "metadata": {},
     "output_type": "display_data"
    }
   ],
   "source": [
    "fig = plt.figure()\n",
    "outputs = model.evaluate(inputs)\n",
    "plt.plot(inputs.squeeze(), reference_outputs.squeeze())\n",
    "plt.plot(inputs.squeeze(), reference_outputs_noisy.squeeze(), \".\", markersize=1)\n",
    "plt.plot(inputs.squeeze(), outputs.squeeze())\n",
    "\n",
    "plt.figure()\n",
    "model.training_log.error.plot()\n",
    "plt.yscale(\"log\")"
   ]
  },
  {
   "cell_type": "markdown",
   "id": "db6c84a8-8c13-4dbd-a79f-21e9ab2796bf",
   "metadata": {},
   "source": [
    "## 2D"
   ]
  },
  {
   "cell_type": "code",
   "execution_count": 26,
   "id": "072c1e94-bb35-4399-9f25-2f44e787bd53",
   "metadata": {},
   "outputs": [],
   "source": [
    "input_range = np.array([(-1, 1), (-3, 5)])\n",
    "\n",
    "\n",
    "def foo(x):\n",
    "    return -x[0]**2 + np.sin(x[1]*2)\n",
    "\n",
    "\n",
    "resolution = 100\n",
    "inputs = np.array(tuple(product(np.linspace(*input_range[0, :], resolution),\n",
    "                                np.linspace(*input_range[1, :], resolution))))\n",
    "\n",
    "reference_outputs = np.array(list(map(foo, inputs)))\n",
    "reference_outputs_noisy = reference_outputs + (np.random.random(reference_outputs.shape) - 0.5) * 0.1\n",
    "\n",
    "inputs = inputs[..., None]\n",
    "reference_outputs = reference_outputs.reshape(-1, 1, 1)\n",
    "reference_outputs_noisy = reference_outputs_noisy.reshape(-1, 1, 1)"
   ]
  },
  {
   "cell_type": "code",
   "execution_count": 29,
   "id": "19cfcd60-19b2-4089-8767-b8f003d6911f",
   "metadata": {},
   "outputs": [
    {
     "data": {
      "application/vnd.jupyter.widget-view+json": {
       "model_id": "e4e55e42a198452a802a5d1d3417cab0",
       "version_major": 2,
       "version_minor": 0
      },
      "text/plain": [
       "Canvas(toolbar=Toolbar(toolitems=[('Home', 'Reset original view', 'home', 'home'), ('Back', 'Back to previous …"
      ]
     },
     "metadata": {},
     "output_type": "display_data"
    },
    {
     "data": {
      "text/plain": [
       "<mpl_toolkits.mplot3d.art3d.Path3DCollection at 0x7f445a0097f0>"
      ]
     },
     "execution_count": 29,
     "metadata": {},
     "output_type": "execute_result"
    }
   ],
   "source": [
    "fig = plt.figure()\n",
    "ax = fig.add_subplot(projection='3d')\n",
    "ax.scatter(inputs[:, 0, 0], inputs[:, 1, 0], reference_outputs.squeeze(), s=0.1)"
   ]
  },
  {
   "cell_type": "markdown",
   "id": "9c388b52-7e65-4960-a133-782e05d66182",
   "metadata": {},
   "source": [
    "### Levenberg-Marquardt training"
   ]
  },
  {
   "cell_type": "code",
   "execution_count": 41,
   "id": "bd8e86cc-a35e-424d-8757-404fec66703e",
   "metadata": {},
   "outputs": [
    {
     "data": {
      "text/html": [
       "<div Class=\"cw_vdom_hyr cw_vdom_hyr_item\"><style>.cw_vdom_hyr {\n",
       "    font-family: monospace;\n",
       "}\n",
       "\n",
       ".cw_vdom_hyr_item > input {\n",
       "    display: none;\n",
       "}\n",
       "\n",
       ".cw_vdom_hyr_item > label {\n",
       "    color: var(--jp-accent-color1);\n",
       "    font-weight: bold;\n",
       "}\n",
       "\n",
       ".cw_vdom_hyr_item > label::before {\n",
       "    content: \"\\00a0\";\n",
       "}\n",
       "\n",
       ".cw_vdom_hyr_item > label::after {\n",
       "    content: \": \";\n",
       "}\n",
       "\n",
       ".cw_vdom_hyr_item > div {\n",
       "    display: inline-block;\n",
       "}\n",
       "\n",
       ".cw_vdom_hyr_item > input + label {\n",
       "    cursor: pointer;\n",
       "}\n",
       "\n",
       ".cw_vdom_hyr_item > input + label::before {\n",
       "    content: \"+\";\n",
       "}\n",
       "\n",
       ".cw_vdom_hyr_item > input:checked + label::before {\n",
       "    content: \"-\";\n",
       "}\n",
       "\n",
       ".cw_vdom_hyr_item > input ~ div {\n",
       "    display: none;\n",
       "    padding-left: 20px;\n",
       "}\n",
       "\n",
       ".cw_vdom_hyr_item > input:checked ~ div {\n",
       "    display: block;\n",
       "}\n",
       "\n",
       ".cw_vdom_hyr_type {\n",
       "    color: var(--jp-ui-font-color3);\n",
       "    font-size: var(--jp-ui-font-size0);\n",
       "}\n",
       "</style><input type=\"checkbox\" id=\"G6VDD3KIGO\" ></input><label For=\"G6VDD3KIGO\">Feed Forward Neural Network</label><span Class=\"cw_vdom_hyr_type\">system_identification.ffnn.FeedForwardNeuralNetwork:</span><div><div><div Class=\"cw_vdom_hyr_item\"><label For=\"2WESOJZM1J\">description</label><span Class=\"cw_vdom_hyr_type\">str[55]:</span><div><span>Feedforward neural network with random initial weights.</span></div></div><div Class=\"cw_vdom_hyr_item\"><label For=\"59R3206NSD\">n_inputs</label><span Class=\"cw_vdom_hyr_type\">int:</span><div><span>2</span></div></div><div Class=\"cw_vdom_hyr_item\"><label For=\"C9T80VBBK7\">n_hidden</label><span Class=\"cw_vdom_hyr_type\">int:</span><div><span>10</span></div></div><div Class=\"cw_vdom_hyr_item\"><label For=\"NFOOI1ER9K\">n_output</label><span Class=\"cw_vdom_hyr_type\">int:</span><div><span>1</span></div></div><div Class=\"cw_vdom_hyr_item\"><input type=\"checkbox\" id=\"2SNJFZ9309\" ></input><label For=\"2SNJFZ9309\">weights_0</label><span Class=\"cw_vdom_hyr_type\">numpy.ndarray[10, 3]:</span><div><div>[[0.42307562 0.82530962 0.72805552]<br/> [0.14542485 0.56423231 0.20571666]<br/> [0.55467243 0.71932412 0.89206628]<br/> [0.61788125 0.62647733 0.15917149]<br/> [0.99847106 0.03109418 0.24768843]<br/> [0.83640677 0.87219822 0.40693723]<br/> [0.37219696 0.9207032  0.07102444]<br/> [0.78174068 0.22180602 0.64018647]<br/> [0.49838507 0.24998977 0.57055753]<br/> [0.74656116 0.5490179  0.0772876 ]]</div></div></div><div Class=\"cw_vdom_hyr_item\"><label For=\"KKV4XHSNN9\">weights_1</label><span Class=\"cw_vdom_hyr_type\">numpy.ndarray[1, 11]:</span><div>[[0.95665022 0.57399728 0.47032971 0.58098586 0.33547687 0.133728\n",
       "  0.7073778  0.89568121 0.92953702 0.21756658 0.9090631 ]]</div></div><div Class=\"cw_vdom_hyr_item\"><input type=\"checkbox\" id=\"H7EXGQ4C5L\" ></input><label For=\"H7EXGQ4C5L\">input_weights</label><span Class=\"cw_vdom_hyr_type\">numpy.ndarray[10, 2]:</span><div><div>[[0.82530962 0.72805552]<br/> [0.56423231 0.20571666]<br/> [0.71932412 0.89206628]<br/> [0.62647733 0.15917149]<br/> [0.03109418 0.24768843]<br/> [0.87219822 0.40693723]<br/> [0.9207032  0.07102444]<br/> [0.22180602 0.64018647]<br/> [0.24998977 0.57055753]<br/> [0.5490179  0.0772876 ]]</div></div></div><div Class=\"cw_vdom_hyr_item\"><label For=\"MJ8AC3U58W\">output_weights</label><span Class=\"cw_vdom_hyr_type\">numpy.ndarray[1, 10]:</span><div>[[0.57399728 0.47032971 0.58098586 0.33547687 0.133728   0.7073778\n",
       "  0.89568121 0.92953702 0.21756658 0.9090631 ]]</div></div><div Class=\"cw_vdom_hyr_item\"><input type=\"checkbox\" id=\"NZEI6XQ6CH\" ></input><label For=\"NZEI6XQ6CH\">bias_weights</label><span Class=\"cw_vdom_hyr_type\">list[2]:</span><div><div><div Class=\"cw_vdom_hyr_item\"><input type=\"checkbox\" id=\"JDMU3B6TGB\" ></input><label For=\"JDMU3B6TGB\">[0]</label><span Class=\"cw_vdom_hyr_type\">numpy.ndarray[10, 1]:</span><div><div>[[0.82530962]<br/> [0.56423231]<br/> [0.71932412]<br/> [0.62647733]<br/> [0.03109418]<br/> [0.87219822]<br/> [0.9207032 ]<br/> [0.22180602]<br/> [0.24998977]<br/> [0.5490179 ]]</div></div></div><div Class=\"cw_vdom_hyr_item\"><label For=\"9V9HWU4CLY\">[1]</label><span Class=\"cw_vdom_hyr_type\">numpy.ndarray[1, 1]:</span><div>[[0.57399728]]</div></div></div></div></div><div Class=\"cw_vdom_hyr_item\"><input type=\"checkbox\" id=\"ESXHSCDS2K\" ></input><label For=\"ESXHSCDS2K\">training_parameters</label><span Class=\"cw_vdom_hyr_type\">dict[3]:</span><div><div><div Class=\"cw_vdom_hyr_item\"><label For=\"TAO29VFDZR\">training_algorithm</label><span Class=\"cw_vdom_hyr_type\">NoneType:</span><div><span>None</span></div></div><div Class=\"cw_vdom_hyr_item\"><label For=\"WZR9Q8LW2X\">goal</label><span Class=\"cw_vdom_hyr_type\">NoneType:</span><div><span>None</span></div></div><div Class=\"cw_vdom_hyr_item\"><label For=\"PYWWN9L09W\">min_grad</label><span Class=\"cw_vdom_hyr_type\">NoneType:</span><div><span>None</span></div></div></div></div></div><div Class=\"cw_vdom_hyr_item\"><label For=\"A6084U7O0E\">log_dir</label><span Class=\"cw_vdom_hyr_type\">pathlib.PosixPath:</span><div><span>ffnn_exp</span></div></div></div></div></div>"
      ],
      "text/plain": [
       "<FeedForwardNeuralNetwork\n",
       " n_inputs=2\n",
       " n_hidden=10\n",
       " n_outputs=1>"
      ]
     },
     "execution_count": 41,
     "metadata": {},
     "output_type": "execute_result"
    }
   ],
   "source": [
    "model = FeedForwardNeuralNetwork.new(\n",
    "    n_inputs=2,\n",
    "    n_outputs=1,\n",
    "    n_hidden=10,\n",
    "    range=input_range,\n",
    "    log_dir=\"./ffnn_exp\",\n",
    ")\n",
    "model"
   ]
  },
  {
   "cell_type": "code",
   "execution_count": 42,
   "id": "c4675d7c-529b-4c55-9ee6-51db0a880c2b",
   "metadata": {
    "tags": []
   },
   "outputs": [
    {
     "data": {
      "application/vnd.jupyter.widget-view+json": {
       "model_id": "aa1a6adce89c4275a093a8e72461e1cb",
       "version_major": 2,
       "version_minor": 0
      },
      "text/plain": [
       "  0%|          | 0/1000 [00:00<?, ?it/s]"
      ]
     },
     "metadata": {},
     "output_type": "display_data"
    }
   ],
   "source": [
    "model.train(\n",
    "    inputs,\n",
    "    reference_outputs,\n",
    "    epochs=1000,\n",
    "    goal=1e-6,\n",
    "    train_log_freq=1,\n",
    "    method=\"trainlm\",\n",
    "    mu=10.,\n",
    "    alpha=0.99\n",
    ")"
   ]
  },
  {
   "cell_type": "code",
   "execution_count": 43,
   "id": "70420b7c-f5c8-4a22-ad26-9df893a77a3f",
   "metadata": {},
   "outputs": [
    {
     "data": {
      "application/vnd.jupyter.widget-view+json": {
       "model_id": "debd365974c14e92ba25af1d034f8516",
       "version_major": 2,
       "version_minor": 0
      },
      "text/plain": [
       "Canvas(toolbar=Toolbar(toolitems=[('Home', 'Reset original view', 'home', 'home'), ('Back', 'Back to previous …"
      ]
     },
     "metadata": {},
     "output_type": "display_data"
    },
    {
     "data": {
      "application/vnd.jupyter.widget-view+json": {
       "model_id": "975c337b6ab84fe39f3e80b5e12ae15e",
       "version_major": 2,
       "version_minor": 0
      },
      "text/plain": [
       "Canvas(toolbar=Toolbar(toolitems=[('Home', 'Reset original view', 'home', 'home'), ('Back', 'Back to previous …"
      ]
     },
     "metadata": {},
     "output_type": "display_data"
    }
   ],
   "source": [
    "fig = plt.figure()\n",
    "output = model.evaluate(inputs)\n",
    "ax = fig.add_subplot(projection='3d')\n",
    "ax.scatter(inputs[:, 0, 0], inputs[:, 1, 0], reference_outputs.squeeze(), s=0.1)\n",
    "ax.scatter(inputs[:, 0, 0], inputs[:, 1, 0], output.squeeze(), s=0.1)\n",
    "\n",
    "plt.figure()\n",
    "model.training_log.error.plot()\n",
    "plt.yscale(\"log\")"
   ]
  },
  {
   "cell_type": "markdown",
   "id": "541d8cbb-b9a3-411d-b995-7bbda97d76e6",
   "metadata": {},
   "source": [
    "### Back propagation training"
   ]
  },
  {
   "cell_type": "code",
   "execution_count": 59,
   "id": "38f98b76-efbb-4a92-b362-88fabf8cfe2c",
   "metadata": {},
   "outputs": [
    {
     "data": {
      "text/html": [
       "<div Class=\"cw_vdom_hyr cw_vdom_hyr_item\"><style>.cw_vdom_hyr {\n",
       "    font-family: monospace;\n",
       "}\n",
       "\n",
       ".cw_vdom_hyr_item > input {\n",
       "    display: none;\n",
       "}\n",
       "\n",
       ".cw_vdom_hyr_item > label {\n",
       "    color: var(--jp-accent-color1);\n",
       "    font-weight: bold;\n",
       "}\n",
       "\n",
       ".cw_vdom_hyr_item > label::before {\n",
       "    content: \"\\00a0\";\n",
       "}\n",
       "\n",
       ".cw_vdom_hyr_item > label::after {\n",
       "    content: \": \";\n",
       "}\n",
       "\n",
       ".cw_vdom_hyr_item > div {\n",
       "    display: inline-block;\n",
       "}\n",
       "\n",
       ".cw_vdom_hyr_item > input + label {\n",
       "    cursor: pointer;\n",
       "}\n",
       "\n",
       ".cw_vdom_hyr_item > input + label::before {\n",
       "    content: \"+\";\n",
       "}\n",
       "\n",
       ".cw_vdom_hyr_item > input:checked + label::before {\n",
       "    content: \"-\";\n",
       "}\n",
       "\n",
       ".cw_vdom_hyr_item > input ~ div {\n",
       "    display: none;\n",
       "    padding-left: 20px;\n",
       "}\n",
       "\n",
       ".cw_vdom_hyr_item > input:checked ~ div {\n",
       "    display: block;\n",
       "}\n",
       "\n",
       ".cw_vdom_hyr_type {\n",
       "    color: var(--jp-ui-font-color3);\n",
       "    font-size: var(--jp-ui-font-size0);\n",
       "}\n",
       "</style><input type=\"checkbox\" id=\"90NNE3TXPT\" ></input><label For=\"90NNE3TXPT\">Feed Forward Neural Network</label><span Class=\"cw_vdom_hyr_type\">system_identification.ffnn.FeedForwardNeuralNetwork:</span><div><div><div Class=\"cw_vdom_hyr_item\"><label For=\"CSY9NC24LO\">description</label><span Class=\"cw_vdom_hyr_type\">str[55]:</span><div><span>Feedforward neural network with random initial weights.</span></div></div><div Class=\"cw_vdom_hyr_item\"><label For=\"QNYPV6UFX7\">n_inputs</label><span Class=\"cw_vdom_hyr_type\">int:</span><div><span>2</span></div></div><div Class=\"cw_vdom_hyr_item\"><label For=\"OSTTQK0ULS\">n_hidden</label><span Class=\"cw_vdom_hyr_type\">int:</span><div><span>10</span></div></div><div Class=\"cw_vdom_hyr_item\"><label For=\"EJPZWIOHMF\">n_output</label><span Class=\"cw_vdom_hyr_type\">int:</span><div><span>1</span></div></div><div Class=\"cw_vdom_hyr_item\"><input type=\"checkbox\" id=\"K1L1UQXE9M\" ></input><label For=\"K1L1UQXE9M\">weights_0</label><span Class=\"cw_vdom_hyr_type\">numpy.ndarray[10, 3]:</span><div><div>[[0.76508886 0.90159345 0.71404647]<br/> [0.0535657  0.65775493 0.81787211]<br/> [0.39881533 0.98080568 0.02917311]<br/> [0.22487056 0.25717409 0.7703629 ]<br/> [0.73030103 0.74459741 0.37075024]<br/> [0.00712643 0.35500136 0.60089063]<br/> [0.14511113 0.93073884 0.95219605]<br/> [0.73057327 0.29115666 0.49268443]<br/> [0.31865925 0.28500555 0.46427801]<br/> [0.90250934 0.38408512 0.98441819]]</div></div></div><div Class=\"cw_vdom_hyr_item\"><label For=\"SBMTDUN3UO\">weights_1</label><span Class=\"cw_vdom_hyr_type\">numpy.ndarray[1, 11]:</span><div>[[0.28503161 0.08875971 0.93876352 0.86865354 0.43075649 0.01910145\n",
       "  0.67246609 0.66972091 0.6047712  0.41318044 0.04975053]]</div></div><div Class=\"cw_vdom_hyr_item\"><input type=\"checkbox\" id=\"9H99OET2I3\" ></input><label For=\"9H99OET2I3\">input_weights</label><span Class=\"cw_vdom_hyr_type\">numpy.ndarray[10, 2]:</span><div><div>[[0.90159345 0.71404647]<br/> [0.65775493 0.81787211]<br/> [0.98080568 0.02917311]<br/> [0.25717409 0.7703629 ]<br/> [0.74459741 0.37075024]<br/> [0.35500136 0.60089063]<br/> [0.93073884 0.95219605]<br/> [0.29115666 0.49268443]<br/> [0.28500555 0.46427801]<br/> [0.38408512 0.98441819]]</div></div></div><div Class=\"cw_vdom_hyr_item\"><label For=\"148X5C0BFL\">output_weights</label><span Class=\"cw_vdom_hyr_type\">numpy.ndarray[1, 10]:</span><div>[[0.08875971 0.93876352 0.86865354 0.43075649 0.01910145 0.67246609\n",
       "  0.66972091 0.6047712  0.41318044 0.04975053]]</div></div><div Class=\"cw_vdom_hyr_item\"><input type=\"checkbox\" id=\"W8ZLHB488N\" ></input><label For=\"W8ZLHB488N\">bias_weights</label><span Class=\"cw_vdom_hyr_type\">list[2]:</span><div><div><div Class=\"cw_vdom_hyr_item\"><input type=\"checkbox\" id=\"WV3FYVP18Y\" ></input><label For=\"WV3FYVP18Y\">[0]</label><span Class=\"cw_vdom_hyr_type\">numpy.ndarray[10, 1]:</span><div><div>[[0.90159345]<br/> [0.65775493]<br/> [0.98080568]<br/> [0.25717409]<br/> [0.74459741]<br/> [0.35500136]<br/> [0.93073884]<br/> [0.29115666]<br/> [0.28500555]<br/> [0.38408512]]</div></div></div><div Class=\"cw_vdom_hyr_item\"><label For=\"KQIBWACF5C\">[1]</label><span Class=\"cw_vdom_hyr_type\">numpy.ndarray[1, 1]:</span><div>[[0.08875971]]</div></div></div></div></div><div Class=\"cw_vdom_hyr_item\"><input type=\"checkbox\" id=\"DVAEXOMBFK\" ></input><label For=\"DVAEXOMBFK\">training_parameters</label><span Class=\"cw_vdom_hyr_type\">dict[3]:</span><div><div><div Class=\"cw_vdom_hyr_item\"><label For=\"IQP5T6IC4G\">training_algorithm</label><span Class=\"cw_vdom_hyr_type\">NoneType:</span><div><span>None</span></div></div><div Class=\"cw_vdom_hyr_item\"><label For=\"GXZ4HZ6Z76\">goal</label><span Class=\"cw_vdom_hyr_type\">NoneType:</span><div><span>None</span></div></div><div Class=\"cw_vdom_hyr_item\"><label For=\"O9W5S5R5WO\">min_grad</label><span Class=\"cw_vdom_hyr_type\">NoneType:</span><div><span>None</span></div></div></div></div></div><div Class=\"cw_vdom_hyr_item\"><label For=\"2ZDW1R22KH\">log_dir</label><span Class=\"cw_vdom_hyr_type\">pathlib.PosixPath:</span><div><span>ffnn_exp</span></div></div></div></div></div>"
      ],
      "text/plain": [
       "<FeedForwardNeuralNetwork\n",
       " n_inputs=2\n",
       " n_hidden=10\n",
       " n_outputs=1>"
      ]
     },
     "execution_count": 59,
     "metadata": {},
     "output_type": "execute_result"
    }
   ],
   "source": [
    "model = FeedForwardNeuralNetwork.new(\n",
    "    n_inputs=2,\n",
    "    n_outputs=1,\n",
    "    n_hidden=10,\n",
    "    range=input_range,\n",
    "    log_dir=\"./ffnn_exp\",\n",
    ")\n",
    "model"
   ]
  },
  {
   "cell_type": "code",
   "execution_count": 60,
   "id": "18138f4e-8e99-4c24-aa67-abc3b4c23acc",
   "metadata": {
    "tags": []
   },
   "outputs": [
    {
     "data": {
      "application/vnd.jupyter.widget-view+json": {
       "model_id": "0f777dcb78f8446eb945e56d755ae491",
       "version_major": 2,
       "version_minor": 0
      },
      "text/plain": [
       "  0%|          | 0/10000 [00:00<?, ?it/s]"
      ]
     },
     "metadata": {},
     "output_type": "display_data"
    }
   ],
   "source": [
    "model.train(\n",
    "    inputs,\n",
    "    reference_outputs,\n",
    "    epochs=10000,\n",
    "    goal=1e-6,\n",
    "    train_log_freq=1,\n",
    "    method=\"trainbp\",\n",
    "    eta=.01,\n",
    "    alpha=1.001\n",
    ")"
   ]
  },
  {
   "cell_type": "code",
   "execution_count": 61,
   "id": "74a8f9b4-a3f7-42d6-bda9-49ffc8c0b56c",
   "metadata": {},
   "outputs": [
    {
     "data": {
      "application/vnd.jupyter.widget-view+json": {
       "model_id": "48dad20e10f7479982bbf3bc9d42ce7e",
       "version_major": 2,
       "version_minor": 0
      },
      "text/plain": [
       "Canvas(toolbar=Toolbar(toolitems=[('Home', 'Reset original view', 'home', 'home'), ('Back', 'Back to previous …"
      ]
     },
     "metadata": {},
     "output_type": "display_data"
    },
    {
     "data": {
      "application/vnd.jupyter.widget-view+json": {
       "model_id": "d10d454803a147c59c8f8fe72ed7d931",
       "version_major": 2,
       "version_minor": 0
      },
      "text/plain": [
       "Canvas(toolbar=Toolbar(toolitems=[('Home', 'Reset original view', 'home', 'home'), ('Back', 'Back to previous …"
      ]
     },
     "metadata": {},
     "output_type": "display_data"
    }
   ],
   "source": [
    "fig = plt.figure()\n",
    "output = model.evaluate(inputs)\n",
    "ax = fig.add_subplot(projection='3d')\n",
    "ax.scatter(inputs[:, 0, 0], inputs[:, 1, 0], reference_outputs.squeeze(), s=0.1)\n",
    "ax.scatter(inputs[:, 0, 0], inputs[:, 1, 0], output.squeeze(), s=0.1)\n",
    "\n",
    "plt.figure()\n",
    "model.training_log.error.plot()\n",
    "plt.yscale(\"log\")"
   ]
  },
  {
   "cell_type": "markdown",
   "id": "presidential-deficit",
   "metadata": {},
   "source": [
    "## Example"
   ]
  },
  {
   "cell_type": "code",
   "execution_count": 144,
   "id": "efficient-sailing",
   "metadata": {},
   "outputs": [],
   "source": [
    "data_dir_path = Path().cwd().parent.parent / \"assignment\"\n",
    "example_nn = load_net_example_ff(data_dir_path)\n",
    "example_nn"
   ]
  },
  {
   "cell_type": "code",
   "execution_count": null,
   "id": "missing-revolution",
   "metadata": {},
   "outputs": [],
   "source": []
  },
  {
   "cell_type": "code",
   "execution_count": 73,
   "id": "surrounded-return",
   "metadata": {},
   "outputs": [
    {
     "data": {
      "text/plain": [
       "array([[ 4,  5,  6,  7],\n",
       "       [ 8, 10, 12, 14],\n",
       "       [12, 15, 18, 21]])"
      ]
     },
     "execution_count": 73,
     "metadata": {},
     "output_type": "execute_result"
    }
   ],
   "source": [
    "x = np.array([[1, 2, 3]]).T\n",
    "y = np.array([[4, 5, 6, 7]])\n",
    "\n",
    "x @ y"
   ]
  },
  {
   "cell_type": "code",
   "execution_count": 85,
   "id": "driven-bunch",
   "metadata": {},
   "outputs": [
    {
     "data": {
      "text/plain": [
       "array([0., 0., 0.])"
      ]
     },
     "execution_count": 85,
     "metadata": {},
     "output_type": "execute_result"
    }
   ],
   "source": [
    "np.zeros(3)"
   ]
  },
  {
   "cell_type": "code",
   "execution_count": 86,
   "id": "textile-farming",
   "metadata": {},
   "outputs": [],
   "source": [
    "import sympy as sp"
   ]
  },
  {
   "cell_type": "code",
   "execution_count": 120,
   "id": "loved-robinson",
   "metadata": {},
   "outputs": [],
   "source": [
    "x = sp.Matrix(sp.symbols(\"x_{00} x_{01} x_{02} x_{10} x_{11} x_{12}\")).reshape(2, 3)\n",
    "y = sp.Matrix(sp.symbols(\"y_0:3\")).T"
   ]
  },
  {
   "cell_type": "code",
   "execution_count": 121,
   "id": "exclusive-breathing",
   "metadata": {},
   "outputs": [
    {
     "data": {
      "text/latex": [
       "$\\displaystyle \\left[\\begin{matrix}x_{00} & x_{01} & x_{02}\\\\x_{10} & x_{11} & x_{12}\\end{matrix}\\right]$"
      ],
      "text/plain": [
       "Matrix([\n",
       "[x_{00}, x_{01}, x_{02}],\n",
       "[x_{10}, x_{11}, x_{12}]])"
      ]
     },
     "execution_count": 121,
     "metadata": {},
     "output_type": "execute_result"
    }
   ],
   "source": [
    "x"
   ]
  },
  {
   "cell_type": "code",
   "execution_count": 124,
   "id": "joint-track",
   "metadata": {},
   "outputs": [
    {
     "data": {
      "text/latex": [
       "$\\displaystyle \\left[\\begin{matrix}y_{0} & y_{1} & y_{2}\\end{matrix}\\right]$"
      ],
      "text/plain": [
       "Matrix([[y_0, y_1, y_2]])"
      ]
     },
     "execution_count": 124,
     "metadata": {},
     "output_type": "execute_result"
    }
   ],
   "source": [
    "y"
   ]
  },
  {
   "cell_type": "code",
   "execution_count": 129,
   "id": "median-porcelain",
   "metadata": {},
   "outputs": [
    {
     "data": {
      "text/latex": [
       "$\\displaystyle \\left[\\begin{matrix}x_{00} y_{0} + x_{10} y_{0}\\\\x_{01} y_{1} + x_{11} y_{1}\\\\x_{02} y_{2} + x_{12} y_{2}\\end{matrix}\\right]$"
      ],
      "text/plain": [
       "Matrix([\n",
       "[x_{00}*y_0 + x_{10}*y_0],\n",
       "[x_{01}*y_1 + x_{11}*y_1],\n",
       "[x_{02}*y_2 + x_{12}*y_2]])"
      ]
     },
     "execution_count": 129,
     "metadata": {},
     "output_type": "execute_result"
    }
   ],
   "source": [
    "qwerty = sp.zeros(3, 1)\n",
    "for j, k in product(range(3), range(2)):\n",
    "    qwerty[j] += x[k, j] * y[j]\n",
    "qwerty"
   ]
  },
  {
   "cell_type": "code",
   "execution_count": 136,
   "id": "common-attendance",
   "metadata": {},
   "outputs": [
    {
     "ename": "ShapeError",
     "evalue": "Matrix size mismatch: (3, 2) * (1, 3).",
     "output_type": "error",
     "traceback": [
      "\u001b[0;31m---------------------------------------------------------------------------\u001b[0m",
      "\u001b[0;31mShapeError\u001b[0m                                Traceback (most recent call last)",
      "\u001b[0;32m<ipython-input-136-012523f4c9d5>\u001b[0m in \u001b[0;36m<module>\u001b[0;34m\u001b[0m\n\u001b[0;32m----> 1\u001b[0;31m \u001b[0mx\u001b[0m\u001b[0;34m.\u001b[0m\u001b[0mT\u001b[0m \u001b[0;34m@\u001b[0m \u001b[0my\u001b[0m\u001b[0;34m\u001b[0m\u001b[0;34m\u001b[0m\u001b[0m\n\u001b[0m",
      "\u001b[0;32m/opt/conda/lib/python3.8/site-packages/sympy/core/decorators.py\u001b[0m in \u001b[0;36mbinary_op_wrapper\u001b[0;34m(self, other)\u001b[0m\n\u001b[1;32m    135\u001b[0m                     \u001b[0;32mif\u001b[0m \u001b[0mf\u001b[0m \u001b[0;32mis\u001b[0m \u001b[0;32mnot\u001b[0m \u001b[0;32mNone\u001b[0m\u001b[0;34m:\u001b[0m\u001b[0;34m\u001b[0m\u001b[0;34m\u001b[0m\u001b[0m\n\u001b[1;32m    136\u001b[0m                         \u001b[0;32mreturn\u001b[0m \u001b[0mf\u001b[0m\u001b[0;34m(\u001b[0m\u001b[0mself\u001b[0m\u001b[0;34m)\u001b[0m\u001b[0;34m\u001b[0m\u001b[0;34m\u001b[0m\u001b[0m\n\u001b[0;32m--> 137\u001b[0;31m             \u001b[0;32mreturn\u001b[0m \u001b[0mfunc\u001b[0m\u001b[0;34m(\u001b[0m\u001b[0mself\u001b[0m\u001b[0;34m,\u001b[0m \u001b[0mother\u001b[0m\u001b[0;34m)\u001b[0m\u001b[0;34m\u001b[0m\u001b[0;34m\u001b[0m\u001b[0m\n\u001b[0m\u001b[1;32m    138\u001b[0m         \u001b[0;32mreturn\u001b[0m \u001b[0mbinary_op_wrapper\u001b[0m\u001b[0;34m\u001b[0m\u001b[0;34m\u001b[0m\u001b[0m\n\u001b[1;32m    139\u001b[0m     \u001b[0;32mreturn\u001b[0m \u001b[0mpriority_decorator\u001b[0m\u001b[0;34m\u001b[0m\u001b[0;34m\u001b[0m\u001b[0m\n",
      "\u001b[0;32m/opt/conda/lib/python3.8/site-packages/sympy/matrices/common.py\u001b[0m in \u001b[0;36m__matmul__\u001b[0;34m(self, other)\u001b[0m\n\u001b[1;32m   2571\u001b[0m             \u001b[0;32mreturn\u001b[0m \u001b[0mNotImplemented\u001b[0m\u001b[0;34m\u001b[0m\u001b[0;34m\u001b[0m\u001b[0m\n\u001b[1;32m   2572\u001b[0m \u001b[0;34m\u001b[0m\u001b[0m\n\u001b[0;32m-> 2573\u001b[0;31m         \u001b[0;32mreturn\u001b[0m \u001b[0mself\u001b[0m\u001b[0;34m.\u001b[0m\u001b[0m__mul__\u001b[0m\u001b[0;34m(\u001b[0m\u001b[0mother\u001b[0m\u001b[0;34m)\u001b[0m\u001b[0;34m\u001b[0m\u001b[0;34m\u001b[0m\u001b[0m\n\u001b[0m\u001b[1;32m   2574\u001b[0m \u001b[0;34m\u001b[0m\u001b[0m\n\u001b[1;32m   2575\u001b[0m     \u001b[0;32mdef\u001b[0m \u001b[0m__mod__\u001b[0m\u001b[0;34m(\u001b[0m\u001b[0mself\u001b[0m\u001b[0;34m,\u001b[0m \u001b[0mother\u001b[0m\u001b[0;34m)\u001b[0m\u001b[0;34m:\u001b[0m\u001b[0;34m\u001b[0m\u001b[0;34m\u001b[0m\u001b[0m\n",
      "\u001b[0;32m/opt/conda/lib/python3.8/site-packages/sympy/core/decorators.py\u001b[0m in \u001b[0;36mbinary_op_wrapper\u001b[0;34m(self, other)\u001b[0m\n\u001b[1;32m    135\u001b[0m                     \u001b[0;32mif\u001b[0m \u001b[0mf\u001b[0m \u001b[0;32mis\u001b[0m \u001b[0;32mnot\u001b[0m \u001b[0;32mNone\u001b[0m\u001b[0;34m:\u001b[0m\u001b[0;34m\u001b[0m\u001b[0;34m\u001b[0m\u001b[0m\n\u001b[1;32m    136\u001b[0m                         \u001b[0;32mreturn\u001b[0m \u001b[0mf\u001b[0m\u001b[0;34m(\u001b[0m\u001b[0mself\u001b[0m\u001b[0;34m)\u001b[0m\u001b[0;34m\u001b[0m\u001b[0;34m\u001b[0m\u001b[0m\n\u001b[0;32m--> 137\u001b[0;31m             \u001b[0;32mreturn\u001b[0m \u001b[0mfunc\u001b[0m\u001b[0;34m(\u001b[0m\u001b[0mself\u001b[0m\u001b[0;34m,\u001b[0m \u001b[0mother\u001b[0m\u001b[0;34m)\u001b[0m\u001b[0;34m\u001b[0m\u001b[0;34m\u001b[0m\u001b[0m\n\u001b[0m\u001b[1;32m    138\u001b[0m         \u001b[0;32mreturn\u001b[0m \u001b[0mbinary_op_wrapper\u001b[0m\u001b[0;34m\u001b[0m\u001b[0;34m\u001b[0m\u001b[0m\n\u001b[1;32m    139\u001b[0m     \u001b[0;32mreturn\u001b[0m \u001b[0mpriority_decorator\u001b[0m\u001b[0;34m\u001b[0m\u001b[0;34m\u001b[0m\u001b[0m\n",
      "\u001b[0;32m/opt/conda/lib/python3.8/site-packages/sympy/matrices/common.py\u001b[0m in \u001b[0;36m__mul__\u001b[0;34m(self, other)\u001b[0m\n\u001b[1;32m   2605\u001b[0m         \"\"\"\n\u001b[1;32m   2606\u001b[0m \u001b[0;34m\u001b[0m\u001b[0m\n\u001b[0;32m-> 2607\u001b[0;31m         \u001b[0;32mreturn\u001b[0m \u001b[0mself\u001b[0m\u001b[0;34m.\u001b[0m\u001b[0mmultiply\u001b[0m\u001b[0;34m(\u001b[0m\u001b[0mother\u001b[0m\u001b[0;34m)\u001b[0m\u001b[0;34m\u001b[0m\u001b[0;34m\u001b[0m\u001b[0m\n\u001b[0m\u001b[1;32m   2608\u001b[0m \u001b[0;34m\u001b[0m\u001b[0m\n\u001b[1;32m   2609\u001b[0m     \u001b[0;32mdef\u001b[0m \u001b[0mmultiply\u001b[0m\u001b[0;34m(\u001b[0m\u001b[0mself\u001b[0m\u001b[0;34m,\u001b[0m \u001b[0mother\u001b[0m\u001b[0;34m,\u001b[0m \u001b[0mdotprodsimp\u001b[0m\u001b[0;34m=\u001b[0m\u001b[0;32mNone\u001b[0m\u001b[0;34m)\u001b[0m\u001b[0;34m:\u001b[0m\u001b[0;34m\u001b[0m\u001b[0;34m\u001b[0m\u001b[0m\n",
      "\u001b[0;32m/opt/conda/lib/python3.8/site-packages/sympy/matrices/common.py\u001b[0m in \u001b[0;36mmultiply\u001b[0;34m(self, other, dotprodsimp)\u001b[0m\n\u001b[1;32m   2627\u001b[0m              getattr(other, 'is_MatrixLike', True))):\n\u001b[1;32m   2628\u001b[0m             \u001b[0;32mif\u001b[0m \u001b[0mself\u001b[0m\u001b[0;34m.\u001b[0m\u001b[0mshape\u001b[0m\u001b[0;34m[\u001b[0m\u001b[0;36m1\u001b[0m\u001b[0;34m]\u001b[0m \u001b[0;34m!=\u001b[0m \u001b[0mother\u001b[0m\u001b[0;34m.\u001b[0m\u001b[0mshape\u001b[0m\u001b[0;34m[\u001b[0m\u001b[0;36m0\u001b[0m\u001b[0;34m]\u001b[0m\u001b[0;34m:\u001b[0m\u001b[0;34m\u001b[0m\u001b[0;34m\u001b[0m\u001b[0m\n\u001b[0;32m-> 2629\u001b[0;31m                 raise ShapeError(\"Matrix size mismatch: %s * %s.\" % (\n\u001b[0m\u001b[1;32m   2630\u001b[0m                     self.shape, other.shape))\n\u001b[1;32m   2631\u001b[0m \u001b[0;34m\u001b[0m\u001b[0m\n",
      "\u001b[0;31mShapeError\u001b[0m: Matrix size mismatch: (3, 2) * (1, 3)."
     ]
    }
   ],
   "source": []
  },
  {
   "cell_type": "code",
   "execution_count": null,
   "id": "creative-differential",
   "metadata": {},
   "outputs": [],
   "source": []
  },
  {
   "cell_type": "code",
   "execution_count": null,
   "id": "heavy-origin",
   "metadata": {},
   "outputs": [],
   "source": []
  }
 ],
 "metadata": {
  "kernelspec": {
   "display_name": "Python 3",
   "language": "python",
   "name": "python3"
  },
  "language_info": {
   "codemirror_mode": {
    "name": "ipython",
    "version": 3
   },
   "file_extension": ".py",
   "mimetype": "text/x-python",
   "name": "python",
   "nbconvert_exporter": "python",
   "pygments_lexer": "ipython3",
   "version": "3.9.2"
  }
 },
 "nbformat": 4,
 "nbformat_minor": 5
}
