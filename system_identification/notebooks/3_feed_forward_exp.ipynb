{
 "cells": [
  {
   "cell_type": "markdown",
   "id": "hindu-horse",
   "metadata": {},
   "source": [
    "# Feed-Forward Neural Network"
   ]
  },
  {
   "cell_type": "code",
   "execution_count": 1,
   "id": "forbidden-tuesday",
   "metadata": {},
   "outputs": [],
   "source": [
    "%load_ext autoreload\n",
    "%autoreload 2\n",
    "%matplotlib widget"
   ]
  },
  {
   "cell_type": "code",
   "execution_count": 2,
   "id": "previous-argument",
   "metadata": {},
   "outputs": [],
   "source": [
    "from itertools import product\n",
    "from pathlib import Path\n",
    "from tqdm.auto import trange\n",
    "import pickle\n",
    "\n",
    "import numpy as np\n",
    "import xarray as xr\n",
    "import xarray.ufuncs as xf\n",
    "import matplotlib.pyplot as plt\n",
    "from scipy.interpolate import griddata\n",
    "\n",
    "from system_identification.ffnn import FeedForwardNeuralNetwork, TrainingParameters\n",
    "from system_identification.load_assignment_data import load_net_example_ff"
   ]
  },
  {
   "cell_type": "code",
   "execution_count": 9,
   "id": "technological-democracy",
   "metadata": {},
   "outputs": [
    {
     "data": {
      "text/html": [
       "<div Class=\"cw_vdom_hyr cw_vdom_hyr_item\"><style>.cw_vdom_hyr {\n",
       "    font-family: monospace;\n",
       "}\n",
       "\n",
       ".cw_vdom_hyr_item > input {\n",
       "    display: none;\n",
       "}\n",
       "\n",
       ".cw_vdom_hyr_item > label {\n",
       "    color: var(--jp-accent-color1);\n",
       "    font-weight: bold;\n",
       "}\n",
       "\n",
       ".cw_vdom_hyr_item > label::before {\n",
       "    content: \"\\00a0\";\n",
       "}\n",
       "\n",
       ".cw_vdom_hyr_item > label::after {\n",
       "    content: \": \";\n",
       "}\n",
       "\n",
       ".cw_vdom_hyr_item > div {\n",
       "    display: inline-block;\n",
       "}\n",
       "\n",
       ".cw_vdom_hyr_item > input + label {\n",
       "    cursor: pointer;\n",
       "}\n",
       "\n",
       ".cw_vdom_hyr_item > input + label::before {\n",
       "    content: \"+\";\n",
       "}\n",
       "\n",
       ".cw_vdom_hyr_item > input:checked + label::before {\n",
       "    content: \"-\";\n",
       "}\n",
       "\n",
       ".cw_vdom_hyr_item > input ~ div {\n",
       "    display: none;\n",
       "    padding-left: 20px;\n",
       "}\n",
       "\n",
       ".cw_vdom_hyr_item > input:checked ~ div {\n",
       "    display: block;\n",
       "}\n",
       "\n",
       ".cw_vdom_hyr_type {\n",
       "    color: var(--jp-ui-font-color3);\n",
       "    font-size: var(--jp-ui-font-size0);\n",
       "}\n",
       "</style><input type=\"checkbox\" id=\"7KB9AQ9OEZ\" checked></input><label For=\"7KB9AQ9OEZ\">Feed Forward Neural Network</label><span Class=\"cw_vdom_hyr_type\">system_identification.ffnn.FeedForwardNeuralNetwork:</span><div><div><div Class=\"cw_vdom_hyr_item\"><label For=\"1PJNH1XCV8\">n_inputs</label><span Class=\"cw_vdom_hyr_type\">int:</span><div><span>1</span></div></div><div Class=\"cw_vdom_hyr_item\"><label For=\"V0K9LO9KC8\">n_hidden</label><span Class=\"cw_vdom_hyr_type\">int:</span><div><span>1</span></div></div><div Class=\"cw_vdom_hyr_item\"><label For=\"AEL84LXGQ7\">n_output</label><span Class=\"cw_vdom_hyr_type\">int:</span><div><span>1</span></div></div><div Class=\"cw_vdom_hyr_item\"><label For=\"B953WGYT59\">weights_0</label><span Class=\"cw_vdom_hyr_type\">numpy.ndarray[1, 2]:</span><div>[[0.90612723 0.03935665]]</div></div><div Class=\"cw_vdom_hyr_item\"><label For=\"5X5KP8IGDB\">weights_1</label><span Class=\"cw_vdom_hyr_type\">numpy.ndarray[1, 2]:</span><div>[[0.90094328 0.01058353]]</div></div><div Class=\"cw_vdom_hyr_item\"><label For=\"5190L3W27O\">input_weights</label><span Class=\"cw_vdom_hyr_type\">numpy.ndarray[1, 1]:</span><div>[[0.03935665]]</div></div><div Class=\"cw_vdom_hyr_item\"><label For=\"Z0HP9SDRG8\">output_weights</label><span Class=\"cw_vdom_hyr_type\">numpy.ndarray[1, 1]:</span><div>[[0.01058353]]</div></div><div Class=\"cw_vdom_hyr_item\"><input type=\"checkbox\" id=\"LQFDOACLZP\" ></input><label For=\"LQFDOACLZP\">bias_weights</label><span Class=\"cw_vdom_hyr_type\">list[2]:</span><div><div><div Class=\"cw_vdom_hyr_item\"><label For=\"Z8KYBKZ4RE\">[0]</label><span Class=\"cw_vdom_hyr_type\">numpy.ndarray[1, 1]:</span><div>[[0.03935665]]</div></div><div Class=\"cw_vdom_hyr_item\"><label For=\"ZHD7G1A1ZZ\">[1]</label><span Class=\"cw_vdom_hyr_type\">numpy.ndarray[1, 1]:</span><div>[[0.01058353]]</div></div></div></div></div><div Class=\"cw_vdom_hyr_item\"><input type=\"checkbox\" id=\"S9BB19P991\" ></input><label For=\"S9BB19P991\">training_parameters</label><span Class=\"cw_vdom_hyr_type\">system_identification.base_nn.TrainingParameters:</span><div><div><div Class=\"cw_vdom_hyr cw_vdom_hyr_item\"><style>.cw_vdom_hyr {\n",
       "    font-family: monospace;\n",
       "}\n",
       "\n",
       ".cw_vdom_hyr_item > input {\n",
       "    display: none;\n",
       "}\n",
       "\n",
       ".cw_vdom_hyr_item > label {\n",
       "    color: var(--jp-accent-color1);\n",
       "    font-weight: bold;\n",
       "}\n",
       "\n",
       ".cw_vdom_hyr_item > label::before {\n",
       "    content: \"\\00a0\";\n",
       "}\n",
       "\n",
       ".cw_vdom_hyr_item > label::after {\n",
       "    content: \": \";\n",
       "}\n",
       "\n",
       ".cw_vdom_hyr_item > div {\n",
       "    display: inline-block;\n",
       "}\n",
       "\n",
       ".cw_vdom_hyr_item > input + label {\n",
       "    cursor: pointer;\n",
       "}\n",
       "\n",
       ".cw_vdom_hyr_item > input + label::before {\n",
       "    content: \"+\";\n",
       "}\n",
       "\n",
       ".cw_vdom_hyr_item > input:checked + label::before {\n",
       "    content: \"-\";\n",
       "}\n",
       "\n",
       ".cw_vdom_hyr_item > input ~ div {\n",
       "    display: none;\n",
       "    padding-left: 20px;\n",
       "}\n",
       "\n",
       ".cw_vdom_hyr_item > input:checked ~ div {\n",
       "    display: block;\n",
       "}\n",
       "\n",
       ".cw_vdom_hyr_type {\n",
       "    color: var(--jp-ui-font-color3);\n",
       "    font-size: var(--jp-ui-font-size0);\n",
       "}\n",
       "</style><input type=\"checkbox\" id=\"QD8BWIUI33\" checked></input><label For=\"QD8BWIUI33\">TrainingParameters</label><span Class=\"cw_vdom_hyr_type\">system_identification.base_nn.TrainingParameters:</span><div><div><div Class=\"cw_vdom_hyr_item\"><label For=\"48JMBMVJOS\">epochs</label><span Class=\"cw_vdom_hyr_type\">int:</span><div><span>1000</span></div></div><div Class=\"cw_vdom_hyr_item\"><label For=\"AW8Q0X343K\">goal</label><span Class=\"cw_vdom_hyr_type\">int:</span><div><span>0</span></div></div><div Class=\"cw_vdom_hyr_item\"><label For=\"980CPZRTRS\">min_grad</label><span Class=\"cw_vdom_hyr_type\">float:</span><div><span>1e-10</span></div></div><div Class=\"cw_vdom_hyr_item\"><label For=\"X7APUDHNEA\">mu</label><span Class=\"cw_vdom_hyr_type\">int:</span><div><span>10</span></div></div></div></div></div></div></div></div><div Class=\"cw_vdom_hyr_item\"><label For=\"SS9OYXIJKQ\">log_dir</label><span Class=\"cw_vdom_hyr_type\">pathlib.PosixPath:</span><div><span>ffnn_exp</span></div></div></div></div></div>"
      ],
      "text/plain": [
       "<FeedForwardNeuralNetwork\n",
       " n_inputs=1\n",
       " n_hidden=1\n",
       " n_outputs=1>"
      ]
     },
     "execution_count": 9,
     "metadata": {},
     "output_type": "execute_result"
    }
   ],
   "source": [
    "nn = FeedForwardNeuralNetwork.new(\n",
    "    n_inputs=1,\n",
    "    n_outputs=1,\n",
    "    n_hidden=1,\n",
    "    range=[[-1, 1]],\n",
    "    log_dir=\"./ffnn_exp\",\n",
    "    training_parameters=TrainingParameters(\n",
    "        epochs=1000,\n",
    "        goal=0,\n",
    "        min_grad=1e-10,\n",
    "        mu=10,\n",
    "    ),\n",
    ")\n",
    "nn"
   ]
  },
  {
   "cell_type": "code",
   "execution_count": 4,
   "id": "radio-railway",
   "metadata": {},
   "outputs": [],
   "source": [
    "def f(x):\n",
    "    return 0.8 * np.tanh(x[0] * 0.4 - 0.7) + 2.1\n",
    "\n",
    "# def f(x):\n",
    "#     return x[0]**2\n",
    "\n",
    "# def f(x):\n",
    "#     return -0.8 * np.tanh(x[0] * 3) + x[1]**2 + 1, np.tanh(x[0])\n",
    "\n",
    "n_samples = 1000\n",
    "inputs = np.random.uniform(-5, 5, (n_samples, nn.n_inputs, 1))\n",
    "reference_outputs = np.array(list(map(f, inputs))).reshape(n_samples, nn.n_outputs, 1)"
   ]
  },
  {
   "cell_type": "code",
   "execution_count": 5,
   "id": "4f938e7a-15ed-450d-a940-4c95c8448dc2",
   "metadata": {},
   "outputs": [],
   "source": [
    "# plt.figure()\n",
    "# plt.plot(inputs[:, 0, 0], reference_outputs[:, 1, 0], \"o\")"
   ]
  },
  {
   "cell_type": "code",
   "execution_count": 20,
   "id": "7b40b4c9-47b8-4dec-882a-57de054e831b",
   "metadata": {},
   "outputs": [
    {
     "data": {
      "application/vnd.jupyter.widget-view+json": {
       "model_id": "9af7de3679534b4a9b9d49fc3bbe0586",
       "version_major": 2,
       "version_minor": 0
      },
      "text/plain": [
       "  0%|          | 0/100000 [00:00<?, ?it/s]"
      ]
     },
     "metadata": {},
     "output_type": "display_data"
    }
   ],
   "source": [
    "nn.train(inputs, reference_outputs, epochs=100_000, train_log_freq=1, method=\"trainbp\", eta=0.001, alpha=None)"
   ]
  },
  {
   "cell_type": "code",
   "execution_count": 21,
   "id": "a7b3c386-8db7-49cf-b1af-4dc2490f5cb4",
   "metadata": {},
   "outputs": [
    {
     "data": {
      "application/vnd.jupyter.widget-view+json": {
       "model_id": "a05c939699124e46bb3c40753bd33fdb",
       "version_major": 2,
       "version_minor": 0
      },
      "text/plain": [
       "Canvas(toolbar=Toolbar(toolitems=[('Home', 'Reset original view', 'home', 'home'), ('Back', 'Back to previous …"
      ]
     },
     "metadata": {},
     "output_type": "display_data"
    },
    {
     "data": {
      "text/plain": [
       "[<matplotlib.lines.Line2D at 0x7f070536e820>]"
      ]
     },
     "execution_count": 21,
     "metadata": {},
     "output_type": "execute_result"
    }
   ],
   "source": [
    "coords = np.linspace(-5, 5, 100)\n",
    "nn_eval = nn.evaluate(coords.reshape((100, 1, 1)))\n",
    "fn_eval = f([coords])\n",
    "plt.figure()\n",
    "plt.plot(coords, nn_eval.squeeze())\n",
    "plt.plot(coords, fn_eval)"
   ]
  },
  {
   "cell_type": "code",
   "execution_count": 22,
   "id": "cathedral-afternoon",
   "metadata": {},
   "outputs": [
    {
     "data": {
      "application/vnd.jupyter.widget-view+json": {
       "model_id": "c3a3c78a2231440fb22f79c099f7b700",
       "version_major": 2,
       "version_minor": 0
      },
      "text/plain": [
       "Canvas(toolbar=Toolbar(toolitems=[('Home', 'Reset original view', 'home', 'home'), ('Back', 'Back to previous …"
      ]
     },
     "metadata": {},
     "output_type": "display_data"
    },
    {
     "data": {
      "text/plain": [
       "<AxesSubplot:>"
      ]
     },
     "execution_count": 22,
     "metadata": {},
     "output_type": "execute_result"
    }
   ],
   "source": [
    "plt.figure()\n",
    "nn.training_log.error.plot()"
   ]
  },
  {
   "cell_type": "code",
   "execution_count": 50,
   "id": "acceptable-teaching",
   "metadata": {},
   "outputs": [],
   "source": [
    "# # print(nn.input_weights)\n",
    "# # print(nn.output_weights)\n",
    "# # print(nn.bias_weights)\n",
    "\n",
    "# coords = np.linspace(-5, 5, 100)\n",
    "# nn_eval = np.empty((100,))\n",
    "# fn_eval = np.empty((100,))\n",
    "# plt.figure()\n",
    "# for y in np.linspace(-1, 1, 4):\n",
    "#     for xi, x in enumerate(coords):\n",
    "#         fn_eval[xi] = f([x, y])\n",
    "#         nn_eval[xi] = nn.evaluate([x, y])\n",
    "\n",
    "#     plt.plot(coords, fn_eval, \"b\")\n",
    "#     plt.plot(coords, nn_eval, \"r\")\n",
    "\n",
    "# # plt.plot(inputs, reference_outputs, \".\", markersize=.1)"
   ]
  },
  {
   "cell_type": "code",
   "execution_count": 7,
   "id": "humanitarian-benchmark",
   "metadata": {},
   "outputs": [
    {
     "data": {
      "application/vnd.jupyter.widget-view+json": {
       "model_id": "d46204d3c97f4a5a8ca0eccd3b4dd8cd",
       "version_major": 2,
       "version_minor": 0
      },
      "text/plain": [
       "Canvas(toolbar=Toolbar(toolitems=[('Home', 'Reset original view', 'home', 'home'), ('Back', 'Back to previous …"
      ]
     },
     "metadata": {},
     "output_type": "display_data"
    },
    {
     "data": {
      "application/vnd.jupyter.widget-view+json": {
       "model_id": "f1830b3dee4d4b73bc2602cd4fef4a31",
       "version_major": 2,
       "version_minor": 0
      },
      "text/plain": [
       "Canvas(toolbar=Toolbar(toolitems=[('Home', 'Reset original view', 'home', 'home'), ('Back', 'Back to previous …"
      ]
     },
     "metadata": {},
     "output_type": "display_data"
    },
    {
     "data": {
      "text/plain": [
       "<matplotlib.colorbar.Colorbar at 0x7f9e690976a0>"
      ]
     },
     "execution_count": 7,
     "metadata": {},
     "output_type": "execute_result"
    }
   ],
   "source": [
    "coords = np.linspace(-1, 1, 100)\n",
    "nn_eval = np.empty((100, 100))\n",
    "fn_eval = np.empty((100, 100))\n",
    "for xi, x in enumerate(coords):\n",
    "    for yi, y in enumerate(coords):\n",
    "        fn_eval[xi, yi] = f([x, y])\n",
    "        inp = np.array([[[x], [y]]])\n",
    "        nn_eval[xi, yi] = nn.evaluate(inp).item()\n",
    "\n",
    "fig = plt.figure()\n",
    "pos = plt.imshow(fn_eval)\n",
    "fig.colorbar(pos)\n",
    "\n",
    "fig = plt.figure()\n",
    "pos = plt.imshow(nn_eval)\n",
    "fig.colorbar(pos)\n",
    "\n",
    "# fig = plt.figure()\n",
    "# zi = griddata(inputs[:, ::-1], reference_outputs, (coords[None, :], coords[:, None]), method='cubic')\n",
    "# pos = plt.imshow(zi)\n",
    "# fig.colorbar(pos)"
   ]
  },
  {
   "cell_type": "markdown",
   "id": "presidential-deficit",
   "metadata": {},
   "source": [
    "## Example"
   ]
  },
  {
   "cell_type": "code",
   "execution_count": 144,
   "id": "efficient-sailing",
   "metadata": {},
   "outputs": [],
   "source": [
    "data_dir_path = Path().cwd().parent.parent / \"assignment\"\n",
    "example_nn = load_net_example_ff(data_dir_path)\n",
    "example_nn"
   ]
  },
  {
   "cell_type": "code",
   "execution_count": null,
   "id": "missing-revolution",
   "metadata": {},
   "outputs": [],
   "source": []
  },
  {
   "cell_type": "code",
   "execution_count": 73,
   "id": "surrounded-return",
   "metadata": {},
   "outputs": [
    {
     "data": {
      "text/plain": [
       "array([[ 4,  5,  6,  7],\n",
       "       [ 8, 10, 12, 14],\n",
       "       [12, 15, 18, 21]])"
      ]
     },
     "execution_count": 73,
     "metadata": {},
     "output_type": "execute_result"
    }
   ],
   "source": [
    "x = np.array([[1, 2, 3]]).T\n",
    "y = np.array([[4, 5, 6, 7]])\n",
    "\n",
    "x @ y"
   ]
  },
  {
   "cell_type": "code",
   "execution_count": 85,
   "id": "driven-bunch",
   "metadata": {},
   "outputs": [
    {
     "data": {
      "text/plain": [
       "array([0., 0., 0.])"
      ]
     },
     "execution_count": 85,
     "metadata": {},
     "output_type": "execute_result"
    }
   ],
   "source": [
    "np.zeros(3)"
   ]
  },
  {
   "cell_type": "code",
   "execution_count": 86,
   "id": "textile-farming",
   "metadata": {},
   "outputs": [],
   "source": [
    "import sympy as sp"
   ]
  },
  {
   "cell_type": "code",
   "execution_count": 120,
   "id": "loved-robinson",
   "metadata": {},
   "outputs": [],
   "source": [
    "x = sp.Matrix(sp.symbols(\"x_{00} x_{01} x_{02} x_{10} x_{11} x_{12}\")).reshape(2, 3)\n",
    "y = sp.Matrix(sp.symbols(\"y_0:3\")).T"
   ]
  },
  {
   "cell_type": "code",
   "execution_count": 121,
   "id": "exclusive-breathing",
   "metadata": {},
   "outputs": [
    {
     "data": {
      "text/latex": [
       "$\\displaystyle \\left[\\begin{matrix}x_{00} & x_{01} & x_{02}\\\\x_{10} & x_{11} & x_{12}\\end{matrix}\\right]$"
      ],
      "text/plain": [
       "Matrix([\n",
       "[x_{00}, x_{01}, x_{02}],\n",
       "[x_{10}, x_{11}, x_{12}]])"
      ]
     },
     "execution_count": 121,
     "metadata": {},
     "output_type": "execute_result"
    }
   ],
   "source": [
    "x"
   ]
  },
  {
   "cell_type": "code",
   "execution_count": 124,
   "id": "joint-track",
   "metadata": {},
   "outputs": [
    {
     "data": {
      "text/latex": [
       "$\\displaystyle \\left[\\begin{matrix}y_{0} & y_{1} & y_{2}\\end{matrix}\\right]$"
      ],
      "text/plain": [
       "Matrix([[y_0, y_1, y_2]])"
      ]
     },
     "execution_count": 124,
     "metadata": {},
     "output_type": "execute_result"
    }
   ],
   "source": [
    "y"
   ]
  },
  {
   "cell_type": "code",
   "execution_count": 129,
   "id": "median-porcelain",
   "metadata": {},
   "outputs": [
    {
     "data": {
      "text/latex": [
       "$\\displaystyle \\left[\\begin{matrix}x_{00} y_{0} + x_{10} y_{0}\\\\x_{01} y_{1} + x_{11} y_{1}\\\\x_{02} y_{2} + x_{12} y_{2}\\end{matrix}\\right]$"
      ],
      "text/plain": [
       "Matrix([\n",
       "[x_{00}*y_0 + x_{10}*y_0],\n",
       "[x_{01}*y_1 + x_{11}*y_1],\n",
       "[x_{02}*y_2 + x_{12}*y_2]])"
      ]
     },
     "execution_count": 129,
     "metadata": {},
     "output_type": "execute_result"
    }
   ],
   "source": [
    "qwerty = sp.zeros(3, 1)\n",
    "for j, k in product(range(3), range(2)):\n",
    "    qwerty[j] += x[k, j] * y[j]\n",
    "qwerty"
   ]
  },
  {
   "cell_type": "code",
   "execution_count": 136,
   "id": "common-attendance",
   "metadata": {},
   "outputs": [
    {
     "ename": "ShapeError",
     "evalue": "Matrix size mismatch: (3, 2) * (1, 3).",
     "output_type": "error",
     "traceback": [
      "\u001b[0;31m---------------------------------------------------------------------------\u001b[0m",
      "\u001b[0;31mShapeError\u001b[0m                                Traceback (most recent call last)",
      "\u001b[0;32m<ipython-input-136-012523f4c9d5>\u001b[0m in \u001b[0;36m<module>\u001b[0;34m\u001b[0m\n\u001b[0;32m----> 1\u001b[0;31m \u001b[0mx\u001b[0m\u001b[0;34m.\u001b[0m\u001b[0mT\u001b[0m \u001b[0;34m@\u001b[0m \u001b[0my\u001b[0m\u001b[0;34m\u001b[0m\u001b[0;34m\u001b[0m\u001b[0m\n\u001b[0m",
      "\u001b[0;32m/opt/conda/lib/python3.8/site-packages/sympy/core/decorators.py\u001b[0m in \u001b[0;36mbinary_op_wrapper\u001b[0;34m(self, other)\u001b[0m\n\u001b[1;32m    135\u001b[0m                     \u001b[0;32mif\u001b[0m \u001b[0mf\u001b[0m \u001b[0;32mis\u001b[0m \u001b[0;32mnot\u001b[0m \u001b[0;32mNone\u001b[0m\u001b[0;34m:\u001b[0m\u001b[0;34m\u001b[0m\u001b[0;34m\u001b[0m\u001b[0m\n\u001b[1;32m    136\u001b[0m                         \u001b[0;32mreturn\u001b[0m \u001b[0mf\u001b[0m\u001b[0;34m(\u001b[0m\u001b[0mself\u001b[0m\u001b[0;34m)\u001b[0m\u001b[0;34m\u001b[0m\u001b[0;34m\u001b[0m\u001b[0m\n\u001b[0;32m--> 137\u001b[0;31m             \u001b[0;32mreturn\u001b[0m \u001b[0mfunc\u001b[0m\u001b[0;34m(\u001b[0m\u001b[0mself\u001b[0m\u001b[0;34m,\u001b[0m \u001b[0mother\u001b[0m\u001b[0;34m)\u001b[0m\u001b[0;34m\u001b[0m\u001b[0;34m\u001b[0m\u001b[0m\n\u001b[0m\u001b[1;32m    138\u001b[0m         \u001b[0;32mreturn\u001b[0m \u001b[0mbinary_op_wrapper\u001b[0m\u001b[0;34m\u001b[0m\u001b[0;34m\u001b[0m\u001b[0m\n\u001b[1;32m    139\u001b[0m     \u001b[0;32mreturn\u001b[0m \u001b[0mpriority_decorator\u001b[0m\u001b[0;34m\u001b[0m\u001b[0;34m\u001b[0m\u001b[0m\n",
      "\u001b[0;32m/opt/conda/lib/python3.8/site-packages/sympy/matrices/common.py\u001b[0m in \u001b[0;36m__matmul__\u001b[0;34m(self, other)\u001b[0m\n\u001b[1;32m   2571\u001b[0m             \u001b[0;32mreturn\u001b[0m \u001b[0mNotImplemented\u001b[0m\u001b[0;34m\u001b[0m\u001b[0;34m\u001b[0m\u001b[0m\n\u001b[1;32m   2572\u001b[0m \u001b[0;34m\u001b[0m\u001b[0m\n\u001b[0;32m-> 2573\u001b[0;31m         \u001b[0;32mreturn\u001b[0m \u001b[0mself\u001b[0m\u001b[0;34m.\u001b[0m\u001b[0m__mul__\u001b[0m\u001b[0;34m(\u001b[0m\u001b[0mother\u001b[0m\u001b[0;34m)\u001b[0m\u001b[0;34m\u001b[0m\u001b[0;34m\u001b[0m\u001b[0m\n\u001b[0m\u001b[1;32m   2574\u001b[0m \u001b[0;34m\u001b[0m\u001b[0m\n\u001b[1;32m   2575\u001b[0m     \u001b[0;32mdef\u001b[0m \u001b[0m__mod__\u001b[0m\u001b[0;34m(\u001b[0m\u001b[0mself\u001b[0m\u001b[0;34m,\u001b[0m \u001b[0mother\u001b[0m\u001b[0;34m)\u001b[0m\u001b[0;34m:\u001b[0m\u001b[0;34m\u001b[0m\u001b[0;34m\u001b[0m\u001b[0m\n",
      "\u001b[0;32m/opt/conda/lib/python3.8/site-packages/sympy/core/decorators.py\u001b[0m in \u001b[0;36mbinary_op_wrapper\u001b[0;34m(self, other)\u001b[0m\n\u001b[1;32m    135\u001b[0m                     \u001b[0;32mif\u001b[0m \u001b[0mf\u001b[0m \u001b[0;32mis\u001b[0m \u001b[0;32mnot\u001b[0m \u001b[0;32mNone\u001b[0m\u001b[0;34m:\u001b[0m\u001b[0;34m\u001b[0m\u001b[0;34m\u001b[0m\u001b[0m\n\u001b[1;32m    136\u001b[0m                         \u001b[0;32mreturn\u001b[0m \u001b[0mf\u001b[0m\u001b[0;34m(\u001b[0m\u001b[0mself\u001b[0m\u001b[0;34m)\u001b[0m\u001b[0;34m\u001b[0m\u001b[0;34m\u001b[0m\u001b[0m\n\u001b[0;32m--> 137\u001b[0;31m             \u001b[0;32mreturn\u001b[0m \u001b[0mfunc\u001b[0m\u001b[0;34m(\u001b[0m\u001b[0mself\u001b[0m\u001b[0;34m,\u001b[0m \u001b[0mother\u001b[0m\u001b[0;34m)\u001b[0m\u001b[0;34m\u001b[0m\u001b[0;34m\u001b[0m\u001b[0m\n\u001b[0m\u001b[1;32m    138\u001b[0m         \u001b[0;32mreturn\u001b[0m \u001b[0mbinary_op_wrapper\u001b[0m\u001b[0;34m\u001b[0m\u001b[0;34m\u001b[0m\u001b[0m\n\u001b[1;32m    139\u001b[0m     \u001b[0;32mreturn\u001b[0m \u001b[0mpriority_decorator\u001b[0m\u001b[0;34m\u001b[0m\u001b[0;34m\u001b[0m\u001b[0m\n",
      "\u001b[0;32m/opt/conda/lib/python3.8/site-packages/sympy/matrices/common.py\u001b[0m in \u001b[0;36m__mul__\u001b[0;34m(self, other)\u001b[0m\n\u001b[1;32m   2605\u001b[0m         \"\"\"\n\u001b[1;32m   2606\u001b[0m \u001b[0;34m\u001b[0m\u001b[0m\n\u001b[0;32m-> 2607\u001b[0;31m         \u001b[0;32mreturn\u001b[0m \u001b[0mself\u001b[0m\u001b[0;34m.\u001b[0m\u001b[0mmultiply\u001b[0m\u001b[0;34m(\u001b[0m\u001b[0mother\u001b[0m\u001b[0;34m)\u001b[0m\u001b[0;34m\u001b[0m\u001b[0;34m\u001b[0m\u001b[0m\n\u001b[0m\u001b[1;32m   2608\u001b[0m \u001b[0;34m\u001b[0m\u001b[0m\n\u001b[1;32m   2609\u001b[0m     \u001b[0;32mdef\u001b[0m \u001b[0mmultiply\u001b[0m\u001b[0;34m(\u001b[0m\u001b[0mself\u001b[0m\u001b[0;34m,\u001b[0m \u001b[0mother\u001b[0m\u001b[0;34m,\u001b[0m \u001b[0mdotprodsimp\u001b[0m\u001b[0;34m=\u001b[0m\u001b[0;32mNone\u001b[0m\u001b[0;34m)\u001b[0m\u001b[0;34m:\u001b[0m\u001b[0;34m\u001b[0m\u001b[0;34m\u001b[0m\u001b[0m\n",
      "\u001b[0;32m/opt/conda/lib/python3.8/site-packages/sympy/matrices/common.py\u001b[0m in \u001b[0;36mmultiply\u001b[0;34m(self, other, dotprodsimp)\u001b[0m\n\u001b[1;32m   2627\u001b[0m              getattr(other, 'is_MatrixLike', True))):\n\u001b[1;32m   2628\u001b[0m             \u001b[0;32mif\u001b[0m \u001b[0mself\u001b[0m\u001b[0;34m.\u001b[0m\u001b[0mshape\u001b[0m\u001b[0;34m[\u001b[0m\u001b[0;36m1\u001b[0m\u001b[0;34m]\u001b[0m \u001b[0;34m!=\u001b[0m \u001b[0mother\u001b[0m\u001b[0;34m.\u001b[0m\u001b[0mshape\u001b[0m\u001b[0;34m[\u001b[0m\u001b[0;36m0\u001b[0m\u001b[0;34m]\u001b[0m\u001b[0;34m:\u001b[0m\u001b[0;34m\u001b[0m\u001b[0;34m\u001b[0m\u001b[0m\n\u001b[0;32m-> 2629\u001b[0;31m                 raise ShapeError(\"Matrix size mismatch: %s * %s.\" % (\n\u001b[0m\u001b[1;32m   2630\u001b[0m                     self.shape, other.shape))\n\u001b[1;32m   2631\u001b[0m \u001b[0;34m\u001b[0m\u001b[0m\n",
      "\u001b[0;31mShapeError\u001b[0m: Matrix size mismatch: (3, 2) * (1, 3)."
     ]
    }
   ],
   "source": []
  },
  {
   "cell_type": "code",
   "execution_count": null,
   "id": "creative-differential",
   "metadata": {},
   "outputs": [],
   "source": []
  },
  {
   "cell_type": "code",
   "execution_count": null,
   "id": "heavy-origin",
   "metadata": {},
   "outputs": [],
   "source": []
  }
 ],
 "metadata": {
  "kernelspec": {
   "display_name": "Python 3",
   "language": "python",
   "name": "python3"
  },
  "language_info": {
   "codemirror_mode": {
    "name": "ipython",
    "version": 3
   },
   "file_extension": ".py",
   "mimetype": "text/x-python",
   "name": "python",
   "nbconvert_exporter": "python",
   "pygments_lexer": "ipython3",
   "version": "3.9.2"
  }
 },
 "nbformat": 4,
 "nbformat_minor": 5
}
