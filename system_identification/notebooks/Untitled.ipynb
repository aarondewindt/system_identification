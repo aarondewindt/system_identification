{
 "cells": [
  {
   "cell_type": "markdown",
   "metadata": {},
   "source": [
    "# Assignment filter\n",
    "\n",
    "\n",
    "ojnsdvojsdnjdg"
   ]
  },
  {
   "cell_type": "code",
   "execution_count": 27,
   "metadata": {},
   "outputs": [],
   "source": [
    "from pathlib import Path\n",
    "\n",
    "import sympy as sp\n",
    "import numpy as np\n",
    "import xarray as xr\n",
    "import xarray.ufuncs as xf\n",
    "import matplotlib.pyplot as plt\n",
    "from mpl_toolkits.mplot3d import Axes3D\n",
    "\n",
    "%matplotlib widget\n",
    "\n",
    "from cw.filters import IteratedExtendedKalmanFilter\n",
    "from system_identification.load_data import load_data"
   ]
  },
  {
   "cell_type": "code",
   "execution_count": 2,
   "metadata": {},
   "outputs": [],
   "source": [
    "u, v, w, cau = sp.symbols(\"u, v, w, C_alpha_u\")\n",
    "alpha_m, beta_m, v_m = sp.symbols(\"alpha_m, beta_m, V_m\")\n",
    "u_dot, v_dot, w_dot = sp.symbols(\"udot, vdot, wdot\")"
   ]
  },
  {
   "cell_type": "markdown",
   "metadata": {},
   "source": [
    "asc;sdjvhdldbv\n",
    "svjspndvj\n",
    "sdvosdv $\\alpha + \\beta = \\gamma$"
   ]
  },
  {
   "cell_type": "code",
   "execution_count": 3,
   "metadata": {},
   "outputs": [
    {
     "name": "stdout",
     "output_type": "stream",
     "text": [
      "IteratedExtendedKalmanFilter:\n",
      "  x:\n",
      "    (u, v, w, Cₐₗₚₕₐ ᵤ)\n",
      "  z:\n",
      "    (αₘ, βₘ, Vₘ)\n",
      "  u:\n",
      "    (u̇, v̇, ẇ)\n",
      "  f:\n",
      "    ⎡ u̇ ⎤\n",
      "    ⎢   ⎥\n",
      "    ⎢ v̇ ⎥\n",
      "    ⎢   ⎥\n",
      "    ⎢ ẇ ⎥\n",
      "    ⎢   ⎥\n",
      "    ⎣0.0⎦\n",
      "  g:\n",
      "    ⎡1  0  0  0⎤\n",
      "    ⎢          ⎥\n",
      "    ⎢0  1  0  0⎥\n",
      "    ⎢          ⎥\n",
      "    ⎢0  0  1  0⎥\n",
      "    ⎢          ⎥\n",
      "    ⎣0  0  0  0⎦\n",
      "  h:\n",
      "    ⎡                   ⎛w⎞⎤\n",
      "    ⎢(Cₐₗₚₕₐ ᵤ + 1)⋅atan⎜─⎟⎥\n",
      "    ⎢                   ⎝u⎠⎥\n",
      "    ⎢                      ⎥\n",
      "    ⎢      ⎛     v      ⎞  ⎥\n",
      "    ⎢  atan⎜────────────⎟  ⎥\n",
      "    ⎢      ⎜   _________⎟  ⎥\n",
      "    ⎢      ⎜  ╱  2    2 ⎟  ⎥\n",
      "    ⎢      ⎝╲╱  u  + w  ⎠  ⎥\n",
      "    ⎢                      ⎥\n",
      "    ⎢     ______________   ⎥\n",
      "    ⎢    ╱  2    2    2    ⎥\n",
      "    ⎣  ╲╱  u  + v  + w     ⎦\n",
      "  fx:\n",
      "    ⎡0  0  0  0⎤\n",
      "    ⎢          ⎥\n",
      "    ⎢0  0  0  0⎥\n",
      "    ⎢          ⎥\n",
      "    ⎢0  0  0  0⎥\n",
      "    ⎢          ⎥\n",
      "    ⎣0  0  0  0⎦\n",
      "  hx:\n",
      "    ⎡    -w⋅(Cₐₗₚₕₐ ᵤ + 1)                                          Cₐₗₚₕₐ ᵤ + 1             ⎛w⎞⎤\n",
      "    ⎢    ──────────────────                  0                      ────────────         atan⎜─⎟⎥\n",
      "    ⎢          ⎛     2⎞                                                ⎛     2⎞              ⎝u⎠⎥\n",
      "    ⎢        2 ⎜    w ⎟                                                ⎜    w ⎟                 ⎥\n",
      "    ⎢       u ⋅⎜1 + ──⎟                                              u⋅⎜1 + ──⎟                 ⎥\n",
      "    ⎢          ⎜     2⎟                                                ⎜     2⎟                 ⎥\n",
      "    ⎢          ⎝    u ⎠                                                ⎝    u ⎠                 ⎥\n",
      "    ⎢                                                                                           ⎥\n",
      "    ⎢          -u⋅v                          1                         -v⋅w                     ⎥\n",
      "    ⎢──────────────────────────  ──────────────────────────  ──────────────────────────     0   ⎥\n",
      "    ⎢         3/2 ⎛    2      ⎞     _________ ⎛    2      ⎞           3/2 ⎛    2      ⎞         ⎥\n",
      "    ⎢⎛ 2    2⎞    ⎜   v       ⎟    ╱  2    2  ⎜   v       ⎟  ⎛ 2    2⎞    ⎜   v       ⎟         ⎥\n",
      "    ⎢⎝u  + w ⎠   ⋅⎜─────── + 1⎟  ╲╱  u  + w  ⋅⎜─────── + 1⎟  ⎝u  + w ⎠   ⋅⎜─────── + 1⎟         ⎥\n",
      "    ⎢             ⎜ 2    2    ⎟               ⎜ 2    2    ⎟               ⎜ 2    2    ⎟         ⎥\n",
      "    ⎢             ⎝u  + w     ⎠               ⎝u  + w     ⎠               ⎝u  + w     ⎠         ⎥\n",
      "    ⎢                                                                                           ⎥\n",
      "    ⎢            u                           v                           w                      ⎥\n",
      "    ⎢    ─────────────────           ─────────────────           ─────────────────          0   ⎥\n",
      "    ⎢       ______________              ______________              ______________              ⎥\n",
      "    ⎢      ╱  2    2    2              ╱  2    2    2              ╱  2    2    2               ⎥\n",
      "    ⎣    ╲╱  u  + v  + w             ╲╱  u  + v  + w             ╲╱  u  + v  + w                ⎦\n",
      "\n"
     ]
    }
   ],
   "source": [
    "iekf = IteratedExtendedKalmanFilter(\n",
    "    x=[u, v, w, cau],\n",
    "    z=[alpha_m, beta_m, v_m],\n",
    "    u=[u_dot, v_dot, w_dot],\n",
    "    f=sp.Matrix([\n",
    "        u_dot,\n",
    "        v_dot,\n",
    "        w_dot,\n",
    "        0.\n",
    "    ]),\n",
    "    h=sp.Matrix([\n",
    "        sp.atan(w / u) * (1 + cau),\n",
    "        sp.atan(v / sp.sqrt(u**2 + w**2)),\n",
    "        sp.sqrt(u**2 + v**2 + w**2)\n",
    "    ]),\n",
    "    g=sp.Matrix(np.diag([1, 1, 1, 0])),\n",
    "    max_iterations=100,\n",
    "    eps=1e-10,\n",
    ")\n",
    "print(iekf)"
   ]
  },
  {
   "cell_type": "code",
   "execution_count": 4,
   "metadata": {},
   "outputs": [
    {
     "data": {
      "text/latex": [
       "$\\displaystyle \\left[\\begin{matrix}- \\frac{w \\left(C_{\\alpha u} + 1\\right)}{u^{2} \\left(1 + \\frac{w^{2}}{u^{2}}\\right)} & 0 & \\frac{C_{\\alpha u} + 1}{u \\left(1 + \\frac{w^{2}}{u^{2}}\\right)} & \\operatorname{atan}{\\left(\\frac{w}{u} \\right)}\\\\- \\frac{u v}{\\left(u^{2} + w^{2}\\right)^{\\frac{3}{2}} \\left(\\frac{v^{2}}{u^{2} + w^{2}} + 1\\right)} & \\frac{1}{\\sqrt{u^{2} + w^{2}} \\left(\\frac{v^{2}}{u^{2} + w^{2}} + 1\\right)} & - \\frac{v w}{\\left(u^{2} + w^{2}\\right)^{\\frac{3}{2}} \\left(\\frac{v^{2}}{u^{2} + w^{2}} + 1\\right)} & 0\\\\\\frac{u}{\\sqrt{u^{2} + v^{2} + w^{2}}} & \\frac{v}{\\sqrt{u^{2} + v^{2} + w^{2}}} & \\frac{w}{\\sqrt{u^{2} + v^{2} + w^{2}}} & 0\\end{matrix}\\right]$"
      ],
      "text/plain": [
       "Matrix([\n",
       "[           -w*(C_alpha_u + 1)/(u**2*(1 + w**2/u**2)),                                              0,                  (C_alpha_u + 1)/(u*(1 + w**2/u**2)), atan(w/u)],\n",
       "[-u*v/((u**2 + w**2)**(3/2)*(v**2/(u**2 + w**2) + 1)), 1/(sqrt(u**2 + w**2)*(v**2/(u**2 + w**2) + 1)), -v*w/((u**2 + w**2)**(3/2)*(v**2/(u**2 + w**2) + 1)),         0],\n",
       "[                          u/sqrt(u**2 + v**2 + w**2),                     v/sqrt(u**2 + v**2 + w**2),                           w/sqrt(u**2 + v**2 + w**2),         0]])"
      ]
     },
     "execution_count": 4,
     "metadata": {},
     "output_type": "execute_result"
    }
   ],
   "source": [
    "iekf.hx"
   ]
  },
  {
   "cell_type": "code",
   "execution_count": 5,
   "metadata": {},
   "outputs": [],
   "source": [
    "data_dir_path = Path().cwd().parent.parent / \"assignment\"\n",
    "data = load_data(data_dir_path)"
   ]
  },
  {
   "cell_type": "code",
   "execution_count": 6,
   "metadata": {},
   "outputs": [
    {
     "data": {
      "text/html": [
       "<pre>&lt;xarray.Dataset&gt;\n",
       "Dimensions:  (t: 10001)\n",
       "Coordinates:\n",
       "  * t        (t) float64 0.0 0.01 0.02 0.03 0.04 ... 99.97 99.98 99.99 100.0\n",
       "Data variables:\n",
       "    alpha_m  (t) float64 -0.004572 -0.003229 -0.004428 ... -0.2303 -0.2288\n",
       "    beta_m   (t) float64 0.002069 0.002634 0.0005577 ... 0.2579 0.2543 0.2574\n",
       "    V_m      (t) float64 144.9 147.6 153.4 148.4 ... 152.3 152.1 152.1 153.9\n",
       "    udot     (t) float64 1.043e-05 6.843e-06 4.02e-06 ... -2.244 -2.153 -2.05\n",
       "    vdot     (t) float64 0.45 0.4499 0.4497 0.4494 ... 24.86 24.46 24.05 23.63\n",
       "    wdot     (t) float64 2.855e-07 0.0225 0.04499 ... -49.15 -46.12 -43.07\n",
       "    c_m      (t) float64 -0.05797 -0.05873 -0.05849 ... -0.03054 -0.02537</pre>"
      ],
      "text/plain": [
       "<xarray.Dataset>\n",
       "Dimensions:  (t: 10001)\n",
       "Coordinates:\n",
       "  * t        (t) float64 0.0 0.01 0.02 0.03 0.04 ... 99.97 99.98 99.99 100.0\n",
       "Data variables:\n",
       "    alpha_m  (t) float64 -0.004572 -0.003229 -0.004428 ... -0.2303 -0.2288\n",
       "    beta_m   (t) float64 0.002069 0.002634 0.0005577 ... 0.2579 0.2543 0.2574\n",
       "    V_m      (t) float64 144.9 147.6 153.4 148.4 ... 152.3 152.1 152.1 153.9\n",
       "    udot     (t) float64 1.043e-05 6.843e-06 4.02e-06 ... -2.244 -2.153 -2.05\n",
       "    vdot     (t) float64 0.45 0.4499 0.4497 0.4494 ... 24.86 24.46 24.05 23.63\n",
       "    wdot     (t) float64 2.855e-07 0.0225 0.04499 ... -49.15 -46.12 -43.07\n",
       "    c_m      (t) float64 -0.05797 -0.05873 -0.05849 ... -0.03054 -0.02537"
      ]
     },
     "execution_count": 6,
     "metadata": {},
     "output_type": "execute_result"
    }
   ],
   "source": [
    "data"
   ]
  },
  {
   "cell_type": "code",
   "execution_count": 7,
   "metadata": {},
   "outputs": [
    {
     "data": {
      "application/vnd.jupyter.widget-view+json": {
       "model_id": "096bca1459ed4d8a89acf4998591a9d5",
       "version_major": 2,
       "version_minor": 0
      },
      "text/plain": [
       "Canvas(toolbar=Toolbar(toolitems=[('Home', 'Reset original view', 'home', 'home'), ('Back', 'Back to previous …"
      ]
     },
     "metadata": {},
     "output_type": "display_data"
    },
    {
     "data": {
      "text/plain": [
       "<mpl_toolkits.mplot3d.art3d.Path3DCollection at 0x7ffb689dd760>"
      ]
     },
     "execution_count": 7,
     "metadata": {},
     "output_type": "execute_result"
    }
   ],
   "source": [
    "fig = plt.figure()\n",
    "ax = fig.add_subplot(111, projection='3d')\n",
    "ax.scatter(data.alpha_m, data.beta_m, data.c_m)"
   ]
  },
  {
   "cell_type": "code",
   "execution_count": 46,
   "metadata": {},
   "outputs": [],
   "source": [
    "f_data = iekf.filter(\n",
    "    data=data,\n",
    "    x_0=[150, 0, 0, 0.6021],\n",
    "    p_0=np.diag([1.e-3, 1., 1., 1.]),\n",
    "    q=np.diag([1e-3**2, 1e-3**2, 1e-3**2, 0.**2]),\n",
    "    r=np.diag([0.01**2, 0.0058**2, 0.112**2])\n",
    ")\n",
    "f_data[\"vm_est\"] = xf.sqrt(xf.square(f_data.u_est) + xf.square(f_data.v_est) + xf.square(f_data.w_est))"
   ]
  },
  {
   "cell_type": "code",
   "execution_count": 47,
   "metadata": {},
   "outputs": [
    {
     "data": {
      "text/html": [
       "<pre>&lt;xarray.Dataset&gt;\n",
       "Dimensions:        (dim_0: 4, dim_1: 4, t: 10001)\n",
       "Coordinates:\n",
       "  * t              (t) float64 0.0 0.01 0.02 0.03 ... 99.97 99.98 99.99 100.0\n",
       "Dimensions without coordinates: dim_0, dim_1\n",
       "Data variables:\n",
       "    alpha_m        (t) float64 -0.004572 -0.003229 -0.004428 ... -0.2303 -0.2288\n",
       "    beta_m         (t) float64 0.002069 0.002634 0.0005577 ... 0.2543 0.2574\n",
       "    V_m            (t) float64 144.9 147.6 153.4 148.4 ... 152.1 152.1 153.9\n",
       "    udot           (t) float64 1.043e-05 6.843e-06 4.02e-06 ... -2.153 -2.05\n",
       "    vdot           (t) float64 0.45 0.4499 0.4497 0.4494 ... 24.46 24.05 23.63\n",
       "    wdot           (t) float64 2.855e-07 0.0225 0.04499 ... -49.15 -46.12 -43.07\n",
       "    c_m            (t) float64 -0.05797 -0.05873 -0.05849 ... -0.03054 -0.02537\n",
       "    u_est          (t) float64 150.0 149.7 149.5 149.7 ... 149.6 149.5 149.5\n",
       "    v_est          (t) float64 0.0 -5.895 -2.788 -3.39 ... 37.96 38.21 38.44\n",
       "    w_est          (t) float64 0.0 0.3452 0.07328 ... -20.61 -21.1 -21.56\n",
       "    C_alpha_u_est  (t) float64 0.6021 0.8656 0.755 ... 0.6066 0.6066 0.6065\n",
       "    p_k1k1         (t, dim_0, dim_1) float64 0.001 0.0 ... -2.304e-07 1.453e-07\n",
       "    iekf_i_count   (t) int64 0 100 19 19 10 9 12 14 8 7 ... 3 2 3 3 3 3 3 3 3 3\n",
       "    vm_est         (t) float64 150.0 149.8 149.5 149.8 ... 155.7 155.8 155.9</pre>"
      ],
      "text/plain": [
       "<xarray.Dataset>\n",
       "Dimensions:        (dim_0: 4, dim_1: 4, t: 10001)\n",
       "Coordinates:\n",
       "  * t              (t) float64 0.0 0.01 0.02 0.03 ... 99.97 99.98 99.99 100.0\n",
       "Dimensions without coordinates: dim_0, dim_1\n",
       "Data variables:\n",
       "    alpha_m        (t) float64 -0.004572 -0.003229 -0.004428 ... -0.2303 -0.2288\n",
       "    beta_m         (t) float64 0.002069 0.002634 0.0005577 ... 0.2543 0.2574\n",
       "    V_m            (t) float64 144.9 147.6 153.4 148.4 ... 152.1 152.1 153.9\n",
       "    udot           (t) float64 1.043e-05 6.843e-06 4.02e-06 ... -2.153 -2.05\n",
       "    vdot           (t) float64 0.45 0.4499 0.4497 0.4494 ... 24.46 24.05 23.63\n",
       "    wdot           (t) float64 2.855e-07 0.0225 0.04499 ... -49.15 -46.12 -43.07\n",
       "    c_m            (t) float64 -0.05797 -0.05873 -0.05849 ... -0.03054 -0.02537\n",
       "    u_est          (t) float64 150.0 149.7 149.5 149.7 ... 149.6 149.5 149.5\n",
       "    v_est          (t) float64 0.0 -5.895 -2.788 -3.39 ... 37.96 38.21 38.44\n",
       "    w_est          (t) float64 0.0 0.3452 0.07328 ... -20.61 -21.1 -21.56\n",
       "    C_alpha_u_est  (t) float64 0.6021 0.8656 0.755 ... 0.6066 0.6066 0.6065\n",
       "    p_k1k1         (t, dim_0, dim_1) float64 0.001 0.0 ... -2.304e-07 1.453e-07\n",
       "    iekf_i_count   (t) int64 0 100 19 19 10 9 12 14 8 7 ... 3 2 3 3 3 3 3 3 3 3\n",
       "    vm_est         (t) float64 150.0 149.8 149.5 149.8 ... 155.7 155.8 155.9"
      ]
     },
     "execution_count": 47,
     "metadata": {},
     "output_type": "execute_result"
    }
   ],
   "source": [
    "f_data"
   ]
  },
  {
   "cell_type": "code",
   "execution_count": 48,
   "metadata": {},
   "outputs": [
    {
     "data": {
      "application/vnd.jupyter.widget-view+json": {
       "model_id": "09f6421e36e347bfa2b5f6ce9126ffad",
       "version_major": 2,
       "version_minor": 0
      },
      "text/plain": [
       "Canvas(toolbar=Toolbar(toolitems=[('Home', 'Reset original view', 'home', 'home'), ('Back', 'Back to previous …"
      ]
     },
     "metadata": {},
     "output_type": "display_data"
    },
    {
     "data": {
      "text/plain": [
       "<Figure size 640x480 with 0 Axes>"
      ]
     },
     "execution_count": 48,
     "metadata": {},
     "output_type": "execute_result"
    },
    {
     "data": {
      "text/plain": [
       "[<matplotlib.lines.Line2D at 0x7ffb5f4c01f0>]"
      ]
     },
     "execution_count": 48,
     "metadata": {},
     "output_type": "execute_result"
    }
   ],
   "source": [
    "plt.figure()\n",
    "# f_data.u.plot()\n",
    "f_data.C_alpha_u_est.plot()"
   ]
  },
  {
   "cell_type": "code",
   "execution_count": 49,
   "metadata": {},
   "outputs": [
    {
     "data": {
      "application/vnd.jupyter.widget-view+json": {
       "model_id": "99e675b0bdd64187b2e7d1634bb17dcf",
       "version_major": 2,
       "version_minor": 0
      },
      "text/plain": [
       "Canvas(toolbar=Toolbar(toolitems=[('Home', 'Reset original view', 'home', 'home'), ('Back', 'Back to previous …"
      ]
     },
     "metadata": {},
     "output_type": "display_data"
    },
    {
     "data": {
      "text/plain": [
       "<Figure size 640x480 with 0 Axes>"
      ]
     },
     "execution_count": 49,
     "metadata": {},
     "output_type": "execute_result"
    },
    {
     "data": {
      "text/plain": [
       "[<matplotlib.lines.Line2D at 0x7ffb5f458430>]"
      ]
     },
     "execution_count": 49,
     "metadata": {},
     "output_type": "execute_result"
    }
   ],
   "source": [
    "plt.figure()\n",
    "f_data.u_est.plot()"
   ]
  },
  {
   "cell_type": "code",
   "execution_count": 50,
   "metadata": {},
   "outputs": [
    {
     "data": {
      "application/vnd.jupyter.widget-view+json": {
       "model_id": "2628f7d866b7418fbe3f11378cc7a34d",
       "version_major": 2,
       "version_minor": 0
      },
      "text/plain": [
       "Canvas(toolbar=Toolbar(toolitems=[('Home', 'Reset original view', 'home', 'home'), ('Back', 'Back to previous …"
      ]
     },
     "metadata": {},
     "output_type": "display_data"
    },
    {
     "data": {
      "text/plain": [
       "<Figure size 640x480 with 0 Axes>"
      ]
     },
     "execution_count": 50,
     "metadata": {},
     "output_type": "execute_result"
    },
    {
     "data": {
      "text/plain": [
       "[<matplotlib.lines.Line2D at 0x7ffb5f40c880>]"
      ]
     },
     "execution_count": 50,
     "metadata": {},
     "output_type": "execute_result"
    }
   ],
   "source": [
    "plt.figure()\n",
    "f_data.V_m.plot()"
   ]
  },
  {
   "cell_type": "code",
   "execution_count": null,
   "metadata": {},
   "outputs": [],
   "source": []
  },
  {
   "cell_type": "code",
   "execution_count": 51,
   "metadata": {},
   "outputs": [
    {
     "data": {
      "application/vnd.jupyter.widget-view+json": {
       "model_id": "95db1b23dab24283b1053e8bea490131",
       "version_major": 2,
       "version_minor": 0
      },
      "text/plain": [
       "Canvas(toolbar=Toolbar(toolitems=[('Home', 'Reset original view', 'home', 'home'), ('Back', 'Back to previous …"
      ]
     },
     "metadata": {},
     "output_type": "display_data"
    },
    {
     "data": {
      "text/plain": [
       "<Figure size 640x480 with 0 Axes>"
      ]
     },
     "execution_count": 51,
     "metadata": {},
     "output_type": "execute_result"
    },
    {
     "data": {
      "text/plain": [
       "[<matplotlib.lines.Line2D at 0x7ffb5f442df0>]"
      ]
     },
     "execution_count": 51,
     "metadata": {},
     "output_type": "execute_result"
    },
    {
     "data": {
      "text/plain": [
       "[<matplotlib.lines.Line2D at 0x7ffb60491df0>]"
      ]
     },
     "execution_count": 51,
     "metadata": {},
     "output_type": "execute_result"
    }
   ],
   "source": [
    "plt.figure()\n",
    "f_data.V_m.plot()\n",
    "f_data.vm_est.plot()"
   ]
  },
  {
   "cell_type": "code",
   "execution_count": 52,
   "metadata": {},
   "outputs": [
    {
     "data": {
      "application/vnd.jupyter.widget-view+json": {
       "model_id": "a06b0c9c253b439e88da34186bfde056",
       "version_major": 2,
       "version_minor": 0
      },
      "text/plain": [
       "Canvas(toolbar=Toolbar(toolitems=[('Home', 'Reset original view', 'home', 'home'), ('Back', 'Back to previous …"
      ]
     },
     "metadata": {},
     "output_type": "display_data"
    },
    {
     "data": {
      "text/plain": [
       "<Figure size 640x480 with 0 Axes>"
      ]
     },
     "execution_count": 52,
     "metadata": {},
     "output_type": "execute_result"
    },
    {
     "data": {
      "text/plain": [
       "[<matplotlib.lines.Line2D at 0x7ffb5f405550>]"
      ]
     },
     "execution_count": 52,
     "metadata": {},
     "output_type": "execute_result"
    }
   ],
   "source": [
    "plt.figure()\n",
    "f_data.u_est.plot()"
   ]
  },
  {
   "cell_type": "code",
   "execution_count": null,
   "metadata": {},
   "outputs": [],
   "source": []
  }
 ],
 "metadata": {
  "kernelspec": {
   "display_name": "Python 3",
   "language": "python",
   "name": "python3"
  },
  "language_info": {
   "codemirror_mode": {
    "name": "ipython",
    "version": 3
   },
   "file_extension": ".py",
   "mimetype": "text/x-python",
   "name": "python",
   "nbconvert_exporter": "python",
   "pygments_lexer": "ipython3",
   "version": "3.8.1"
  }
 },
 "nbformat": 4,
 "nbformat_minor": 4
}
