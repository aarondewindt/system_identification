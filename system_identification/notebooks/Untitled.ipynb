{
 "cells": [
  {
   "cell_type": "code",
   "execution_count": 1,
   "id": "059a878d-3662-407d-8fcc-f78053ecbe00",
   "metadata": {},
   "outputs": [],
   "source": [
    "import sympy as sp"
   ]
  },
  {
   "cell_type": "code",
   "execution_count": 31,
   "id": "9e25806b-cf59-4e21-9859-3da101336423",
   "metadata": {},
   "outputs": [],
   "source": [
    "fx, fy, fz, \\\n",
    "    cgx, cgy, cgz, \\\n",
    "    mrcx, mrcy, mrcz, \\\n",
    "    deltax, deltay, deltaz = \\\n",
    "    sp.symbols(\"f_x f_y f_z \"\n",
    "               \"cg_x cg_y cg_z \"\n",
    "               \"mrc_x mrc_y mrc_z \"\n",
    "               \"delta_x delta_y delta_z\")"
   ]
  },
  {
   "cell_type": "code",
   "execution_count": 35,
   "id": "21acc8da-192d-4aed-b95c-8c23303f98ae",
   "metadata": {},
   "outputs": [],
   "source": [
    "f = sp.Matrix([[fx], [fy], [fz]])\n",
    "cg = sp.Matrix([[cgx], [cgy], [cgz]])\n",
    "mrc = sp.Matrix([[mrcx], [mrcy], [mrcz]])\n",
    "delta = sp.Matrix([[-deltax], [deltay], [-deltaz]])"
   ]
  },
  {
   "cell_type": "code",
   "execution_count": 36,
   "id": "7f929abd-a407-432e-abb9-468ef40865b2",
   "metadata": {},
   "outputs": [
    {
     "data": {
      "text/latex": [
       "$\\displaystyle \\left[\\begin{matrix}f_{x}\\\\f_{y}\\\\f_{z}\\end{matrix}\\right]$"
      ],
      "text/plain": [
       "Matrix([\n",
       "[f_x],\n",
       "[f_y],\n",
       "[f_z]])"
      ]
     },
     "execution_count": 36,
     "metadata": {},
     "output_type": "execute_result"
    }
   ],
   "source": [
    "f"
   ]
  },
  {
   "cell_type": "code",
   "execution_count": 42,
   "id": "b994a554-f571-4040-aed6-fb393856d1d7",
   "metadata": {},
   "outputs": [
    {
     "data": {
      "text/latex": [
       "$\\displaystyle \\left[\\begin{matrix}- cg_{x}\\\\- cg_{y}\\\\- cg_{z}\\end{matrix}\\right]$"
      ],
      "text/plain": [
       "Matrix([\n",
       "[-cg_x],\n",
       "[-cg_y],\n",
       "[-cg_z]])"
      ]
     },
     "execution_count": 42,
     "metadata": {},
     "output_type": "execute_result"
    }
   ],
   "source": [
    "delta = - cg\n",
    "delta"
   ]
  },
  {
   "cell_type": "code",
   "execution_count": 43,
   "id": "0277821f-1902-40ef-95f3-b5c9a1b78029",
   "metadata": {},
   "outputs": [
    {
     "data": {
      "text/latex": [
       "$\\displaystyle \\left[\\begin{matrix}- cg_{y} f_{z} + cg_{z} f_{y}\\\\cg_{x} f_{z} - cg_{z} f_{x}\\\\- cg_{x} f_{y} + cg_{y} f_{x}\\end{matrix}\\right]$"
      ],
      "text/plain": [
       "Matrix([\n",
       "[-cg_y*f_z + cg_z*f_y],\n",
       "[ cg_x*f_z - cg_z*f_x],\n",
       "[-cg_x*f_y + cg_y*f_x]])"
      ]
     },
     "execution_count": 43,
     "metadata": {},
     "output_type": "execute_result"
    }
   ],
   "source": [
    "delta.cross(f)"
   ]
  },
  {
   "cell_type": "code",
   "execution_count": null,
   "id": "70ecf887-e047-490a-b1f3-fefef761360f",
   "metadata": {},
   "outputs": [],
   "source": []
  }
 ],
 "metadata": {
  "kernelspec": {
   "display_name": "Python 3",
   "language": "python",
   "name": "python3"
  },
  "language_info": {
   "codemirror_mode": {
    "name": "ipython",
    "version": 3
   },
   "file_extension": ".py",
   "mimetype": "text/x-python",
   "name": "python",
   "nbconvert_exporter": "python",
   "pygments_lexer": "ipython3",
   "version": "3.9.2"
  }
 },
 "nbformat": 4,
 "nbformat_minor": 5
}
