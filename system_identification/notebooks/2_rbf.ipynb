{
 "cells": [
  {
   "cell_type": "markdown",
   "id": "exempt-dealer",
   "metadata": {},
   "source": [
    "# Radial Basis Function Neural Network"
   ]
  },
  {
   "cell_type": "code",
   "execution_count": 1,
   "id": "sexual-verse",
   "metadata": {},
   "outputs": [],
   "source": [
    "%load_ext autoreload\n",
    "%autoreload 2\n",
    "%matplotlib widget"
   ]
  },
  {
   "cell_type": "code",
   "execution_count": 2,
   "id": "above-vinyl",
   "metadata": {},
   "outputs": [],
   "source": [
    "from itertools import product\n",
    "\n",
    "import numpy as np\n",
    "import xarray as xr\n",
    "import xarray.ufuncs as xf\n",
    "import matplotlib.pyplot as plt\n",
    "\n",
    "from system_identification.rbfnn_model import RadialBasisFunctionNeuralNetworkModel"
   ]
  },
  {
   "cell_type": "markdown",
   "id": "c4a9f6fd-b243-4149-aa66-9ceed64a2c1d",
   "metadata": {},
   "source": [
    "## 1D"
   ]
  },
  {
   "cell_type": "code",
   "execution_count": 3,
   "id": "a9f74bb5-d52a-4d4c-8b7e-798356076ef6",
   "metadata": {},
   "outputs": [],
   "source": [
    "def foo(x):\n",
    "    return -x**2\n",
    "\n",
    "\n",
    "inputs = np.linspace(-1, 1, 1000)\n",
    "reference_outputs = np.array(list(map(foo, inputs)))\n",
    "reference_outputs_noisy = reference_outputs + (np.random.random(reference_outputs.shape) - 0.5) * 0.1\n",
    "\n",
    "inputs = inputs.reshape(-1, 1, 1)\n",
    "reference_outputs = reference_outputs.reshape(-1, 1, 1)\n",
    "reference_outputs_noisy = reference_outputs_noisy.reshape(-1, 1, 1)"
   ]
  },
  {
   "cell_type": "markdown",
   "id": "7cb269c2-a667-463e-aac4-3ce76d39210c",
   "metadata": {},
   "source": [
    "### Least squares"
   ]
  },
  {
   "cell_type": "code",
   "execution_count": 4,
   "id": "recognized-employer",
   "metadata": {},
   "outputs": [
    {
     "data": {
      "text/html": [
       "<div Class=\"cw_vdom_hyr cw_vdom_hyr_item\"><style>.cw_vdom_hyr {\n",
       "    font-family: monospace;\n",
       "}\n",
       "\n",
       ".cw_vdom_hyr_item > input {\n",
       "    display: none;\n",
       "}\n",
       "\n",
       ".cw_vdom_hyr_item > label {\n",
       "    color: var(--jp-accent-color1);\n",
       "    font-weight: bold;\n",
       "}\n",
       "\n",
       ".cw_vdom_hyr_item > label::before {\n",
       "    content: \"\\00a0\";\n",
       "}\n",
       "\n",
       ".cw_vdom_hyr_item > label::after {\n",
       "    content: \": \";\n",
       "}\n",
       "\n",
       ".cw_vdom_hyr_item > div {\n",
       "    display: inline-block;\n",
       "}\n",
       "\n",
       ".cw_vdom_hyr_item > input + label {\n",
       "    cursor: pointer;\n",
       "}\n",
       "\n",
       ".cw_vdom_hyr_item > input + label::before {\n",
       "    content: \"+\";\n",
       "}\n",
       "\n",
       ".cw_vdom_hyr_item > input:checked + label::before {\n",
       "    content: \"-\";\n",
       "}\n",
       "\n",
       ".cw_vdom_hyr_item > input ~ div {\n",
       "    display: none;\n",
       "    padding-left: 20px;\n",
       "}\n",
       "\n",
       ".cw_vdom_hyr_item > input:checked ~ div {\n",
       "    display: block;\n",
       "}\n",
       "\n",
       ".cw_vdom_hyr_type {\n",
       "    color: var(--jp-ui-font-color3);\n",
       "    font-size: var(--jp-ui-font-size0);\n",
       "}\n",
       "</style><input type=\"checkbox\" id=\"PMMLHSEZAM\" ></input><label For=\"PMMLHSEZAM\">Radial Basis Function Neural Network</label><span Class=\"cw_vdom_hyr_type\">system_identification.rbfnn_model.RadialBasisFunctionNeuralNetworkModel:</span><div><div><div Class=\"cw_vdom_hyr_item\"><label For=\"YLI65GSZLX\">description</label><span Class=\"cw_vdom_hyr_type\">str[87]:</span><div><span>Radial basis function neural network with the initial centers placed in a uniform grid.</span></div></div><div Class=\"cw_vdom_hyr_item\"><label For=\"OOU3N5OUUG\">n_inputs</label><span Class=\"cw_vdom_hyr_type\">int:</span><div><span>1</span></div></div><div Class=\"cw_vdom_hyr_item\"><label For=\"C9O11CPD1V\">n_hidden</label><span Class=\"cw_vdom_hyr_type\">int:</span><div><span>9</span></div></div><div Class=\"cw_vdom_hyr_item\"><label For=\"N5F5L5KWXW\">n_output</label><span Class=\"cw_vdom_hyr_type\">int:</span><div><span>1</span></div></div><div Class=\"cw_vdom_hyr_item\"><input type=\"checkbox\" id=\"4QP9JJEC81\" ></input><label For=\"4QP9JJEC81\">training_parameters</label><span Class=\"cw_vdom_hyr_type\">dict[3]:</span><div><div><div Class=\"cw_vdom_hyr_item\"><label For=\"64RJP7ZX7I\">training_algorithm</label><span Class=\"cw_vdom_hyr_type\">NoneType:</span><div><span>None</span></div></div><div Class=\"cw_vdom_hyr_item\"><label For=\"2WAF6E2ZHV\">goal</label><span Class=\"cw_vdom_hyr_type\">NoneType:</span><div><span>None</span></div></div><div Class=\"cw_vdom_hyr_item\"><label For=\"LMHZCQNVUO\">min_grad</label><span Class=\"cw_vdom_hyr_type\">NoneType:</span><div><span>None</span></div></div></div></div></div><div Class=\"cw_vdom_hyr_item\"><label For=\"ZAOYSH8Z81\">log_dir</label><span Class=\"cw_vdom_hyr_type\">pathlib.PosixPath:</span><div><span>.</span></div></div><div Class=\"cw_vdom_hyr_item\"><input type=\"checkbox\" id=\"K0HMC8X6OR\" ></input><label For=\"K0HMC8X6OR\">weights</label><span Class=\"cw_vdom_hyr_type\">dict[3]:</span><div><div><div Class=\"cw_vdom_hyr_item\"><label For=\"88HIA619B1\">weights_a</label><span Class=\"cw_vdom_hyr_type\">numpy.ndarray[9]:</span><div>[1. 1. 1. 1. 1. 1. 1. 1. 1.]</div></div><div Class=\"cw_vdom_hyr_item\"><input type=\"checkbox\" id=\"YGO4LB8AND\" ></input><label For=\"YGO4LB8AND\">weights_c</label><span Class=\"cw_vdom_hyr_type\">numpy.ndarray[9, 1]:</span><div><div>[[-1.  ]<br/> [-0.75]<br/> [-0.5 ]<br/> [-0.25]<br/> [ 0.  ]<br/> [ 0.25]<br/> [ 0.5 ]<br/> [ 0.75]<br/> [ 1.  ]]</div></div></div><div Class=\"cw_vdom_hyr_item\"><input type=\"checkbox\" id=\"RQQDUL8ZVE\" ></input><label For=\"RQQDUL8ZVE\">weights_w</label><span Class=\"cw_vdom_hyr_type\">numpy.ndarray[9, 1]:</span><div><div>[[1.75]<br/> [1.75]<br/> [1.75]<br/> [1.75]<br/> [1.75]<br/> [1.75]<br/> [1.75]<br/> [1.75]<br/> [1.75]]</div></div></div></div></div></div></div></div></div>"
      ],
      "text/plain": [
       "<RadialBasisFunctionNeuralNetwork\n",
       " n_inputs=1\n",
       " n_hidden=9\n",
       " n_outputs=1>"
      ]
     },
     "execution_count": 4,
     "metadata": {},
     "output_type": "execute_result"
    }
   ],
   "source": [
    "model = RadialBasisFunctionNeuralNetworkModel.new_grid_placement(\n",
    "    n_inputs=1,\n",
    "    grid_size=[9],\n",
    "    input_range=np.array([(-1, 1)]),\n",
    "    rbf_width=1.75,\n",
    "    rbf_amplitude=1,\n",
    "    log_dir=\"./\"\n",
    ")\n",
    "model"
   ]
  },
  {
   "cell_type": "code",
   "execution_count": 5,
   "id": "cda46db8-fcff-4f89-bfb6-759dcfaea485",
   "metadata": {},
   "outputs": [],
   "source": [
    "model.train(inputs, reference_outputs)"
   ]
  },
  {
   "cell_type": "code",
   "execution_count": 6,
   "id": "428733c8-2449-4714-b2f9-18895249cb2c",
   "metadata": {},
   "outputs": [
    {
     "data": {
      "application/vnd.jupyter.widget-view+json": {
       "model_id": "aad2d41b91af4e628c0b054fa81551f3",
       "version_major": 2,
       "version_minor": 0
      },
      "text/plain": [
       "Canvas(toolbar=Toolbar(toolitems=[('Home', 'Reset original view', 'home', 'home'), ('Back', 'Back to previous …"
      ]
     },
     "metadata": {},
     "output_type": "display_data"
    },
    {
     "data": {
      "text/plain": [
       "[<matplotlib.lines.Line2D at 0x7f594c3d50a0>]"
      ]
     },
     "execution_count": 6,
     "metadata": {},
     "output_type": "execute_result"
    }
   ],
   "source": [
    "fig = plt.figure()\n",
    "outputs = model.evaluate(inputs)\n",
    "plt.plot(inputs.squeeze(), reference_outputs.squeeze())\n",
    "plt.plot(inputs.squeeze(), reference_outputs_noisy.squeeze(), \".\", markersize=1)\n",
    "plt.plot(inputs.squeeze(), outputs.squeeze())"
   ]
  },
  {
   "cell_type": "markdown",
   "id": "c4cb2b62-09d6-4c3d-9207-b26dcf720bb0",
   "metadata": {},
   "source": [
    "### Levenberg-Marquardt training"
   ]
  },
  {
   "cell_type": "code",
   "execution_count": 7,
   "id": "12df9ce8-fa04-4123-a723-237b241fcddc",
   "metadata": {},
   "outputs": [],
   "source": [
    "model = RadialBasisFunctionNeuralNetworkModel.new_grid_placement(\n",
    "    n_inputs=1,\n",
    "    grid_size=[3],\n",
    "    input_range=np.array([(-1, 1)]),\n",
    "    rbf_width=1.75,\n",
    "    rbf_amplitude=1,\n",
    "    log_dir=\"./\"\n",
    ")"
   ]
  },
  {
   "cell_type": "code",
   "execution_count": 8,
   "id": "92356a46-3cd4-4280-bf34-4d5037ac7ee2",
   "metadata": {},
   "outputs": [
    {
     "data": {
      "text/html": [
       "<div Class=\"cw_vdom_hyr cw_vdom_hyr_item\"><style>.cw_vdom_hyr {\n",
       "    font-family: monospace;\n",
       "}\n",
       "\n",
       ".cw_vdom_hyr_item > input {\n",
       "    display: none;\n",
       "}\n",
       "\n",
       ".cw_vdom_hyr_item > label {\n",
       "    color: var(--jp-accent-color1);\n",
       "    font-weight: bold;\n",
       "}\n",
       "\n",
       ".cw_vdom_hyr_item > label::before {\n",
       "    content: \"\\00a0\";\n",
       "}\n",
       "\n",
       ".cw_vdom_hyr_item > label::after {\n",
       "    content: \": \";\n",
       "}\n",
       "\n",
       ".cw_vdom_hyr_item > div {\n",
       "    display: inline-block;\n",
       "}\n",
       "\n",
       ".cw_vdom_hyr_item > input + label {\n",
       "    cursor: pointer;\n",
       "}\n",
       "\n",
       ".cw_vdom_hyr_item > input + label::before {\n",
       "    content: \"+\";\n",
       "}\n",
       "\n",
       ".cw_vdom_hyr_item > input:checked + label::before {\n",
       "    content: \"-\";\n",
       "}\n",
       "\n",
       ".cw_vdom_hyr_item > input ~ div {\n",
       "    display: none;\n",
       "    padding-left: 20px;\n",
       "}\n",
       "\n",
       ".cw_vdom_hyr_item > input:checked ~ div {\n",
       "    display: block;\n",
       "}\n",
       "\n",
       ".cw_vdom_hyr_type {\n",
       "    color: var(--jp-ui-font-color3);\n",
       "    font-size: var(--jp-ui-font-size0);\n",
       "}\n",
       "</style><input type=\"checkbox\" id=\"LOR8LQMD4J\" ></input><label For=\"LOR8LQMD4J\">Radial Basis Function Neural Network</label><span Class=\"cw_vdom_hyr_type\">system_identification.rbfnn_model.RadialBasisFunctionNeuralNetworkModel:</span><div><div><div Class=\"cw_vdom_hyr_item\"><label For=\"XHMC3U23PS\">description</label><span Class=\"cw_vdom_hyr_type\">str[87]:</span><div><span>Radial basis function neural network with the initial centers placed in a uniform grid.</span></div></div><div Class=\"cw_vdom_hyr_item\"><label For=\"NXDGA3JTP2\">n_inputs</label><span Class=\"cw_vdom_hyr_type\">int:</span><div><span>1</span></div></div><div Class=\"cw_vdom_hyr_item\"><label For=\"5RVSROCU7H\">n_hidden</label><span Class=\"cw_vdom_hyr_type\">int:</span><div><span>3</span></div></div><div Class=\"cw_vdom_hyr_item\"><label For=\"SAGBJRC1FG\">n_output</label><span Class=\"cw_vdom_hyr_type\">int:</span><div><span>1</span></div></div><div Class=\"cw_vdom_hyr_item\"><input type=\"checkbox\" id=\"9M9VKNV4G9\" ></input><label For=\"9M9VKNV4G9\">training_parameters</label><span Class=\"cw_vdom_hyr_type\">dict[3]:</span><div><div><div Class=\"cw_vdom_hyr_item\"><label For=\"6KPC6350TK\">training_algorithm</label><span Class=\"cw_vdom_hyr_type\">NoneType:</span><div><span>None</span></div></div><div Class=\"cw_vdom_hyr_item\"><label For=\"A6REAEPXDI\">goal</label><span Class=\"cw_vdom_hyr_type\">NoneType:</span><div><span>None</span></div></div><div Class=\"cw_vdom_hyr_item\"><label For=\"AYLNE3HHCZ\">min_grad</label><span Class=\"cw_vdom_hyr_type\">NoneType:</span><div><span>None</span></div></div></div></div></div><div Class=\"cw_vdom_hyr_item\"><label For=\"T8IWAL64J4\">log_dir</label><span Class=\"cw_vdom_hyr_type\">pathlib.PosixPath:</span><div><span>.</span></div></div><div Class=\"cw_vdom_hyr_item\"><input type=\"checkbox\" id=\"HEB1PSXCYE\" ></input><label For=\"HEB1PSXCYE\">weights</label><span Class=\"cw_vdom_hyr_type\">dict[3]:</span><div><div><div Class=\"cw_vdom_hyr_item\"><label For=\"MW22UT7ETS\">weights_a</label><span Class=\"cw_vdom_hyr_type\">numpy.ndarray[3]:</span><div>[1. 1. 1.]</div></div><div Class=\"cw_vdom_hyr_item\"><input type=\"checkbox\" id=\"OR0S0946S1\" ></input><label For=\"OR0S0946S1\">weights_c</label><span Class=\"cw_vdom_hyr_type\">numpy.ndarray[3, 1]:</span><div><div>[[-1.]<br/> [ 0.]<br/> [ 1.]]</div></div></div><div Class=\"cw_vdom_hyr_item\"><input type=\"checkbox\" id=\"LDML36X3HZ\" ></input><label For=\"LDML36X3HZ\">weights_w</label><span Class=\"cw_vdom_hyr_type\">numpy.ndarray[3, 1]:</span><div><div>[[1.75]<br/> [1.75]<br/> [1.75]]</div></div></div></div></div></div></div></div></div>"
      ],
      "text/plain": [
       "<RadialBasisFunctionNeuralNetwork\n",
       " n_inputs=1\n",
       " n_hidden=3\n",
       " n_outputs=1>"
      ]
     },
     "execution_count": 8,
     "metadata": {},
     "output_type": "execute_result"
    }
   ],
   "source": [
    "model"
   ]
  },
  {
   "cell_type": "code",
   "execution_count": 9,
   "id": "c29a1460-d13b-4029-b57a-3534c421f12e",
   "metadata": {},
   "outputs": [
    {
     "data": {
      "application/vnd.jupyter.widget-view+json": {
       "model_id": "486f6ca759b249b4b04850b865bfa9fe",
       "version_major": 2,
       "version_minor": 0
      },
      "text/plain": [
       "  0%|          | 0/1000 [00:00<?, ?it/s]"
      ]
     },
     "metadata": {},
     "output_type": "display_data"
    }
   ],
   "source": [
    "model.train(\n",
    "    inputs,\n",
    "    reference_outputs,\n",
    "    epochs=1000,\n",
    "    goal=1e-6,\n",
    "    train_log_freq=1,\n",
    "    method=\"trainlm\",\n",
    "    mu=10.,\n",
    "    alpha=0.95\n",
    ")"
   ]
  },
  {
   "cell_type": "code",
   "execution_count": 10,
   "id": "aa6ce3b4-084a-4038-9486-e5e5b2ca2551",
   "metadata": {},
   "outputs": [
    {
     "data": {
      "application/vnd.jupyter.widget-view+json": {
       "model_id": "af4e7ca13e9a443d94269a883715a57c",
       "version_major": 2,
       "version_minor": 0
      },
      "text/plain": [
       "Canvas(toolbar=Toolbar(toolitems=[('Home', 'Reset original view', 'home', 'home'), ('Back', 'Back to previous …"
      ]
     },
     "metadata": {},
     "output_type": "display_data"
    },
    {
     "data": {
      "application/vnd.jupyter.widget-view+json": {
       "model_id": "b78a811d3c304add85a3a80711304c5a",
       "version_major": 2,
       "version_minor": 0
      },
      "text/plain": [
       "Canvas(toolbar=Toolbar(toolitems=[('Home', 'Reset original view', 'home', 'home'), ('Back', 'Back to previous …"
      ]
     },
     "metadata": {},
     "output_type": "display_data"
    }
   ],
   "source": [
    "fig = plt.figure()\n",
    "outputs = model.evaluate(inputs)\n",
    "plt.plot(inputs.squeeze(), reference_outputs.squeeze())\n",
    "plt.plot(inputs.squeeze(), reference_outputs_noisy.squeeze(), \".\", markersize=1)\n",
    "plt.plot(inputs.squeeze(), outputs.squeeze())\n",
    "\n",
    "plt.figure()\n",
    "model.training_log.error.plot()\n",
    "plt.yscale(\"log\")"
   ]
  },
  {
   "cell_type": "markdown",
   "id": "b3ddef2d-d450-4161-84a2-110d4069adf3",
   "metadata": {},
   "source": [
    "## 2D"
   ]
  },
  {
   "cell_type": "code",
   "execution_count": 11,
   "id": "c6361a36-d81d-4ad1-bb9c-3f42e966de1f",
   "metadata": {},
   "outputs": [],
   "source": [
    "def foo(x):\n",
    "    return -x[0]**2 + np.sin(x[1]*2)\n",
    "\n",
    "\n",
    "resolution = 100\n",
    "input_range = np.array([(-1, 1), (-3, 5)])\n",
    "inputs = np.array(tuple(product(np.linspace(*input_range[0, :], resolution),\n",
    "                                np.linspace(*input_range[1, :], resolution))))\n",
    "\n",
    "reference_outputs = np.array(list(map(foo, inputs)))\n",
    "reference_outputs_noisy = reference_outputs + (np.random.random(reference_outputs.shape) - 0.5) * 0.1\n",
    "\n",
    "inputs = inputs[..., None]\n",
    "reference_outputs = reference_outputs.reshape(-1, 1, 1)\n",
    "reference_outputs_noisy = reference_outputs_noisy.reshape(-1, 1, 1)"
   ]
  },
  {
   "cell_type": "markdown",
   "id": "cab6d2cb-63f4-4554-bb09-b8a973b829a4",
   "metadata": {
    "tags": []
   },
   "source": [
    "### Least squares"
   ]
  },
  {
   "cell_type": "code",
   "execution_count": 12,
   "id": "4d9d6d5c-3191-4ddc-99de-4d0f8240dbff",
   "metadata": {},
   "outputs": [
    {
     "data": {
      "text/html": [
       "<div Class=\"cw_vdom_hyr cw_vdom_hyr_item\"><style>.cw_vdom_hyr {\n",
       "    font-family: monospace;\n",
       "}\n",
       "\n",
       ".cw_vdom_hyr_item > input {\n",
       "    display: none;\n",
       "}\n",
       "\n",
       ".cw_vdom_hyr_item > label {\n",
       "    color: var(--jp-accent-color1);\n",
       "    font-weight: bold;\n",
       "}\n",
       "\n",
       ".cw_vdom_hyr_item > label::before {\n",
       "    content: \"\\00a0\";\n",
       "}\n",
       "\n",
       ".cw_vdom_hyr_item > label::after {\n",
       "    content: \": \";\n",
       "}\n",
       "\n",
       ".cw_vdom_hyr_item > div {\n",
       "    display: inline-block;\n",
       "}\n",
       "\n",
       ".cw_vdom_hyr_item > input + label {\n",
       "    cursor: pointer;\n",
       "}\n",
       "\n",
       ".cw_vdom_hyr_item > input + label::before {\n",
       "    content: \"+\";\n",
       "}\n",
       "\n",
       ".cw_vdom_hyr_item > input:checked + label::before {\n",
       "    content: \"-\";\n",
       "}\n",
       "\n",
       ".cw_vdom_hyr_item > input ~ div {\n",
       "    display: none;\n",
       "    padding-left: 20px;\n",
       "}\n",
       "\n",
       ".cw_vdom_hyr_item > input:checked ~ div {\n",
       "    display: block;\n",
       "}\n",
       "\n",
       ".cw_vdom_hyr_type {\n",
       "    color: var(--jp-ui-font-color3);\n",
       "    font-size: var(--jp-ui-font-size0);\n",
       "}\n",
       "</style><input type=\"checkbox\" id=\"Y7VVMNNZTX\" ></input><label For=\"Y7VVMNNZTX\">Radial Basis Function Neural Network</label><span Class=\"cw_vdom_hyr_type\">system_identification.rbfnn_model.RadialBasisFunctionNeuralNetworkModel:</span><div><div><div Class=\"cw_vdom_hyr_item\"><label For=\"5RTHZK4GSJ\">description</label><span Class=\"cw_vdom_hyr_type\">str[87]:</span><div><span>Radial basis function neural network with the initial centers placed in a uniform grid.</span></div></div><div Class=\"cw_vdom_hyr_item\"><label For=\"3AYAZHK4RI\">n_inputs</label><span Class=\"cw_vdom_hyr_type\">int:</span><div><span>2</span></div></div><div Class=\"cw_vdom_hyr_item\"><label For=\"5TP20VSACT\">n_hidden</label><span Class=\"cw_vdom_hyr_type\">int:</span><div><span>75</span></div></div><div Class=\"cw_vdom_hyr_item\"><label For=\"Y7E80U8IMS\">n_output</label><span Class=\"cw_vdom_hyr_type\">int:</span><div><span>1</span></div></div><div Class=\"cw_vdom_hyr_item\"><input type=\"checkbox\" id=\"FK4WSFYBZS\" ></input><label For=\"FK4WSFYBZS\">training_parameters</label><span Class=\"cw_vdom_hyr_type\">dict[3]:</span><div><div><div Class=\"cw_vdom_hyr_item\"><label For=\"NMHQS0U1DX\">training_algorithm</label><span Class=\"cw_vdom_hyr_type\">NoneType:</span><div><span>None</span></div></div><div Class=\"cw_vdom_hyr_item\"><label For=\"B5MM96V37B\">goal</label><span Class=\"cw_vdom_hyr_type\">NoneType:</span><div><span>None</span></div></div><div Class=\"cw_vdom_hyr_item\"><label For=\"FXQHUV7CSM\">min_grad</label><span Class=\"cw_vdom_hyr_type\">NoneType:</span><div><span>None</span></div></div></div></div></div><div Class=\"cw_vdom_hyr_item\"><label For=\"6NK3VFVHV5\">log_dir</label><span Class=\"cw_vdom_hyr_type\">pathlib.PosixPath:</span><div><span>.</span></div></div><div Class=\"cw_vdom_hyr_item\"><input type=\"checkbox\" id=\"CN1Q6UWNQB\" ></input><label For=\"CN1Q6UWNQB\">weights</label><span Class=\"cw_vdom_hyr_type\">dict[3]:</span><div><div><div Class=\"cw_vdom_hyr_item\"><label For=\"7JNMPMRW3V\">weights_a</label><span Class=\"cw_vdom_hyr_type\">numpy.ndarray[75]:</span><div>[1. 1. 1. 1. 1. 1. 1. 1. 1. 1. 1. 1. 1. 1. 1. 1. 1. 1. 1. 1. 1. 1. 1. 1.\n",
       " 1. 1. 1. 1. 1. 1. 1. 1. 1. 1. 1. 1. 1. 1. 1. 1. 1. 1. 1. 1. 1. 1. 1. 1.\n",
       " 1. 1. 1. 1. 1. 1. 1. 1. 1. 1. 1. 1. 1. 1. 1. 1. 1. 1. 1. 1. 1. 1. 1. 1.\n",
       " 1. 1. 1.]</div></div><div Class=\"cw_vdom_hyr_item\"><input type=\"checkbox\" id=\"XTPWTB2X4W\" ></input><label For=\"XTPWTB2X4W\">weights_c</label><span Class=\"cw_vdom_hyr_type\">numpy.ndarray[75, 2]:</span><div><div>[[-1.         -3.        ]<br/> [-1.         -2.42857143]<br/> [-1.         -1.85714286]<br/> [-1.         -1.28571429]<br/> [-1.         -0.71428571]<br/> [-1.         -0.14285714]<br/> [-1.          0.42857143]<br/> [-1.          1.        ]<br/> [-1.          1.57142857]<br/> [-1.          2.14285714]<br/> [-1.          2.71428571]<br/> [-1.          3.28571429]<br/> [-1.          3.85714286]<br/> [-1.          4.42857143]<br/> [-1.          5.        ]<br/> [-0.5        -3.        ]<br/> [-0.5        -2.42857143]<br/> [-0.5        -1.85714286]<br/> [-0.5        -1.28571429]<br/> [-0.5        -0.71428571]<br/> [-0.5        -0.14285714]<br/> [-0.5         0.42857143]<br/> [-0.5         1.        ]<br/> [-0.5         1.57142857]<br/> [-0.5         2.14285714]<br/> [-0.5         2.71428571]<br/> [-0.5         3.28571429]<br/> [-0.5         3.85714286]<br/> [-0.5         4.42857143]<br/> [-0.5         5.        ]<br/> [ 0.         -3.        ]<br/> [ 0.         -2.42857143]<br/> [ 0.         -1.85714286]<br/> [ 0.         -1.28571429]<br/> [ 0.         -0.71428571]<br/> [ 0.         -0.14285714]<br/> [ 0.          0.42857143]<br/> [ 0.          1.        ]<br/> [ 0.          1.57142857]<br/> [ 0.          2.14285714]<br/> [ 0.          2.71428571]<br/> [ 0.          3.28571429]<br/> [ 0.          3.85714286]<br/> [ 0.          4.42857143]<br/> [ 0.          5.        ]<br/> [ 0.5        -3.        ]<br/> [ 0.5        -2.42857143]<br/> [ 0.5        -1.85714286]<br/> [ 0.5        -1.28571429]<br/> [ 0.5        -0.71428571]<br/> [ 0.5        -0.14285714]<br/> [ 0.5         0.42857143]<br/> [ 0.5         1.        ]<br/> [ 0.5         1.57142857]<br/> [ 0.5         2.14285714]<br/> [ 0.5         2.71428571]<br/> [ 0.5         3.28571429]<br/> [ 0.5         3.85714286]<br/> [ 0.5         4.42857143]<br/> [ 0.5         5.        ]<br/> [ 1.         -3.        ]<br/> [ 1.         -2.42857143]<br/> [ 1.         -1.85714286]<br/> [ 1.         -1.28571429]<br/> [ 1.         -0.71428571]<br/> [ 1.         -0.14285714]<br/> [ 1.          0.42857143]<br/> [ 1.          1.        ]<br/> [ 1.          1.57142857]<br/> [ 1.          2.14285714]<br/> [ 1.          2.71428571]<br/> [ 1.          3.28571429]<br/> [ 1.          3.85714286]<br/> [ 1.          4.42857143]<br/> [ 1.          5.        ]]</div></div></div><div Class=\"cw_vdom_hyr_item\"><input type=\"checkbox\" id=\"1NZAT0E2O4\" ></input><label For=\"1NZAT0E2O4\">weights_w</label><span Class=\"cw_vdom_hyr_type\">numpy.ndarray[75, 2]:</span><div><div>[[1.75 1.75]<br/> [1.75 1.75]<br/> [1.75 1.75]<br/> [1.75 1.75]<br/> [1.75 1.75]<br/> [1.75 1.75]<br/> [1.75 1.75]<br/> [1.75 1.75]<br/> [1.75 1.75]<br/> [1.75 1.75]<br/> [1.75 1.75]<br/> [1.75 1.75]<br/> [1.75 1.75]<br/> [1.75 1.75]<br/> [1.75 1.75]<br/> [1.75 1.75]<br/> [1.75 1.75]<br/> [1.75 1.75]<br/> [1.75 1.75]<br/> [1.75 1.75]<br/> [1.75 1.75]<br/> [1.75 1.75]<br/> [1.75 1.75]<br/> [1.75 1.75]<br/> [1.75 1.75]<br/> [1.75 1.75]<br/> [1.75 1.75]<br/> [1.75 1.75]<br/> [1.75 1.75]<br/> [1.75 1.75]<br/> [1.75 1.75]<br/> [1.75 1.75]<br/> [1.75 1.75]<br/> [1.75 1.75]<br/> [1.75 1.75]<br/> [1.75 1.75]<br/> [1.75 1.75]<br/> [1.75 1.75]<br/> [1.75 1.75]<br/> [1.75 1.75]<br/> [1.75 1.75]<br/> [1.75 1.75]<br/> [1.75 1.75]<br/> [1.75 1.75]<br/> [1.75 1.75]<br/> [1.75 1.75]<br/> [1.75 1.75]<br/> [1.75 1.75]<br/> [1.75 1.75]<br/> [1.75 1.75]<br/> [1.75 1.75]<br/> [1.75 1.75]<br/> [1.75 1.75]<br/> [1.75 1.75]<br/> [1.75 1.75]<br/> [1.75 1.75]<br/> [1.75 1.75]<br/> [1.75 1.75]<br/> [1.75 1.75]<br/> [1.75 1.75]<br/> [1.75 1.75]<br/> [1.75 1.75]<br/> [1.75 1.75]<br/> [1.75 1.75]<br/> [1.75 1.75]<br/> [1.75 1.75]<br/> [1.75 1.75]<br/> [1.75 1.75]<br/> [1.75 1.75]<br/> [1.75 1.75]<br/> [1.75 1.75]<br/> [1.75 1.75]<br/> [1.75 1.75]<br/> [1.75 1.75]<br/> [1.75 1.75]]</div></div></div></div></div></div></div></div></div>"
      ],
      "text/plain": [
       "<RadialBasisFunctionNeuralNetwork\n",
       " n_inputs=2\n",
       " n_hidden=75\n",
       " n_outputs=1>"
      ]
     },
     "execution_count": 12,
     "metadata": {},
     "output_type": "execute_result"
    }
   ],
   "source": [
    "model = RadialBasisFunctionNeuralNetworkModel.new_grid_placement(\n",
    "    n_inputs=2,\n",
    "    grid_size=[5, 15],\n",
    "    input_range=input_range,\n",
    "    rbf_width=1.75,\n",
    "    rbf_amplitude=1,\n",
    "    log_dir=\"./\"\n",
    ")\n",
    "model"
   ]
  },
  {
   "cell_type": "code",
   "execution_count": 13,
   "id": "13a58a76-0705-43af-90ff-9c6a6b1f6226",
   "metadata": {},
   "outputs": [],
   "source": [
    "model.train(inputs, reference_outputs)\n",
    "output = model.evaluate(inputs)"
   ]
  },
  {
   "cell_type": "code",
   "execution_count": 14,
   "id": "9e11376f-59a7-4bff-91a6-928b85579fc3",
   "metadata": {},
   "outputs": [
    {
     "data": {
      "application/vnd.jupyter.widget-view+json": {
       "model_id": "ec8a401f6580486e88b2d149661fc660",
       "version_major": 2,
       "version_minor": 0
      },
      "text/plain": [
       "Canvas(toolbar=Toolbar(toolitems=[('Home', 'Reset original view', 'home', 'home'), ('Back', 'Back to previous …"
      ]
     },
     "metadata": {},
     "output_type": "display_data"
    },
    {
     "data": {
      "application/vnd.jupyter.widget-view+json": {
       "model_id": "0bf49d0ed8314301ad01dcf953c09a2b",
       "version_major": 2,
       "version_minor": 0
      },
      "text/plain": [
       "Canvas(toolbar=Toolbar(toolitems=[('Home', 'Reset original view', 'home', 'home'), ('Back', 'Back to previous …"
      ]
     },
     "metadata": {},
     "output_type": "display_data"
    },
    {
     "data": {
      "text/plain": [
       "<mpl_toolkits.mplot3d.art3d.Path3DCollection at 0x7f594b762a90>"
      ]
     },
     "execution_count": 14,
     "metadata": {},
     "output_type": "execute_result"
    }
   ],
   "source": [
    "fig = plt.figure(figsize=(4, 3))\n",
    "plt.plot(model.weights_c[:, 0], model.weights_c[:, 1], \"x\")\n",
    "\n",
    "fig = plt.figure(figsize=(4, 3))\n",
    "ax = fig.add_subplot(projection='3d')\n",
    "ax.scatter(inputs[:, 0, 0], inputs[:, 1, 0], reference_outputs.squeeze(), s=0.1)\n",
    "ax.scatter(inputs[:, 0, 0], inputs[:, 1, 0], output.squeeze(), s=0.1)"
   ]
  },
  {
   "cell_type": "markdown",
   "id": "746fb9bf-23ab-4ca7-83e2-a0cef7cdfd09",
   "metadata": {},
   "source": [
    "### Levenberg-Marquardt training"
   ]
  },
  {
   "cell_type": "code",
   "execution_count": 15,
   "id": "dcafe03b-8669-4250-9175-7f73fdab17eb",
   "metadata": {},
   "outputs": [
    {
     "data": {
      "text/html": [
       "<div Class=\"cw_vdom_hyr cw_vdom_hyr_item\"><style>.cw_vdom_hyr {\n",
       "    font-family: monospace;\n",
       "}\n",
       "\n",
       ".cw_vdom_hyr_item > input {\n",
       "    display: none;\n",
       "}\n",
       "\n",
       ".cw_vdom_hyr_item > label {\n",
       "    color: var(--jp-accent-color1);\n",
       "    font-weight: bold;\n",
       "}\n",
       "\n",
       ".cw_vdom_hyr_item > label::before {\n",
       "    content: \"\\00a0\";\n",
       "}\n",
       "\n",
       ".cw_vdom_hyr_item > label::after {\n",
       "    content: \": \";\n",
       "}\n",
       "\n",
       ".cw_vdom_hyr_item > div {\n",
       "    display: inline-block;\n",
       "}\n",
       "\n",
       ".cw_vdom_hyr_item > input + label {\n",
       "    cursor: pointer;\n",
       "}\n",
       "\n",
       ".cw_vdom_hyr_item > input + label::before {\n",
       "    content: \"+\";\n",
       "}\n",
       "\n",
       ".cw_vdom_hyr_item > input:checked + label::before {\n",
       "    content: \"-\";\n",
       "}\n",
       "\n",
       ".cw_vdom_hyr_item > input ~ div {\n",
       "    display: none;\n",
       "    padding-left: 20px;\n",
       "}\n",
       "\n",
       ".cw_vdom_hyr_item > input:checked ~ div {\n",
       "    display: block;\n",
       "}\n",
       "\n",
       ".cw_vdom_hyr_type {\n",
       "    color: var(--jp-ui-font-color3);\n",
       "    font-size: var(--jp-ui-font-size0);\n",
       "}\n",
       "</style><input type=\"checkbox\" id=\"XKZXSPSQMY\" ></input><label For=\"XKZXSPSQMY\">Radial Basis Function Neural Network</label><span Class=\"cw_vdom_hyr_type\">system_identification.rbfnn_model.RadialBasisFunctionNeuralNetworkModel:</span><div><div><div Class=\"cw_vdom_hyr_item\"><label For=\"06DQQUH1ND\">description</label><span Class=\"cw_vdom_hyr_type\">str[87]:</span><div><span>Radial basis function neural network with the initial centers placed in a uniform grid.</span></div></div><div Class=\"cw_vdom_hyr_item\"><label For=\"VOZ3L03MN8\">n_inputs</label><span Class=\"cw_vdom_hyr_type\">int:</span><div><span>2</span></div></div><div Class=\"cw_vdom_hyr_item\"><label For=\"JEXBZ1OGTA\">n_hidden</label><span Class=\"cw_vdom_hyr_type\">int:</span><div><span>35</span></div></div><div Class=\"cw_vdom_hyr_item\"><label For=\"OEYZPLM45G\">n_output</label><span Class=\"cw_vdom_hyr_type\">int:</span><div><span>1</span></div></div><div Class=\"cw_vdom_hyr_item\"><input type=\"checkbox\" id=\"5QHDJU2FTR\" ></input><label For=\"5QHDJU2FTR\">training_parameters</label><span Class=\"cw_vdom_hyr_type\">dict[3]:</span><div><div><div Class=\"cw_vdom_hyr_item\"><label For=\"5D4P474OIP\">training_algorithm</label><span Class=\"cw_vdom_hyr_type\">NoneType:</span><div><span>None</span></div></div><div Class=\"cw_vdom_hyr_item\"><label For=\"CYC5HBFKTK\">goal</label><span Class=\"cw_vdom_hyr_type\">NoneType:</span><div><span>None</span></div></div><div Class=\"cw_vdom_hyr_item\"><label For=\"DJ3K4QKUFX\">min_grad</label><span Class=\"cw_vdom_hyr_type\">NoneType:</span><div><span>None</span></div></div></div></div></div><div Class=\"cw_vdom_hyr_item\"><label For=\"D00S2HEQDS\">log_dir</label><span Class=\"cw_vdom_hyr_type\">pathlib.PosixPath:</span><div><span>.</span></div></div><div Class=\"cw_vdom_hyr_item\"><input type=\"checkbox\" id=\"75B4Y5HQ1U\" ></input><label For=\"75B4Y5HQ1U\">weights</label><span Class=\"cw_vdom_hyr_type\">dict[3]:</span><div><div><div Class=\"cw_vdom_hyr_item\"><label For=\"PYJ9FZABI3\">weights_a</label><span Class=\"cw_vdom_hyr_type\">numpy.ndarray[35]:</span><div>[1. 1. 1. 1. 1. 1. 1. 1. 1. 1. 1. 1. 1. 1. 1. 1. 1. 1. 1. 1. 1. 1. 1. 1.\n",
       " 1. 1. 1. 1. 1. 1. 1. 1. 1. 1. 1.]</div></div><div Class=\"cw_vdom_hyr_item\"><input type=\"checkbox\" id=\"86G6Q38XXV\" ></input><label For=\"86G6Q38XXV\">weights_c</label><span Class=\"cw_vdom_hyr_type\">numpy.ndarray[35, 2]:</span><div><div>[[-1.         -3.        ]<br/> [-1.         -1.66666667]<br/> [-1.         -0.33333333]<br/> [-1.          1.        ]<br/> [-1.          2.33333333]<br/> [-1.          3.66666667]<br/> [-1.          5.        ]<br/> [-0.5        -3.        ]<br/> [-0.5        -1.66666667]<br/> [-0.5        -0.33333333]<br/> [-0.5         1.        ]<br/> [-0.5         2.33333333]<br/> [-0.5         3.66666667]<br/> [-0.5         5.        ]<br/> [ 0.         -3.        ]<br/> [ 0.         -1.66666667]<br/> [ 0.         -0.33333333]<br/> [ 0.          1.        ]<br/> [ 0.          2.33333333]<br/> [ 0.          3.66666667]<br/> [ 0.          5.        ]<br/> [ 0.5        -3.        ]<br/> [ 0.5        -1.66666667]<br/> [ 0.5        -0.33333333]<br/> [ 0.5         1.        ]<br/> [ 0.5         2.33333333]<br/> [ 0.5         3.66666667]<br/> [ 0.5         5.        ]<br/> [ 1.         -3.        ]<br/> [ 1.         -1.66666667]<br/> [ 1.         -0.33333333]<br/> [ 1.          1.        ]<br/> [ 1.          2.33333333]<br/> [ 1.          3.66666667]<br/> [ 1.          5.        ]]</div></div></div><div Class=\"cw_vdom_hyr_item\"><input type=\"checkbox\" id=\"IHZ7BI3JSM\" ></input><label For=\"IHZ7BI3JSM\">weights_w</label><span Class=\"cw_vdom_hyr_type\">numpy.ndarray[35, 2]:</span><div><div>[[1.75 1.75]<br/> [1.75 1.75]<br/> [1.75 1.75]<br/> [1.75 1.75]<br/> [1.75 1.75]<br/> [1.75 1.75]<br/> [1.75 1.75]<br/> [1.75 1.75]<br/> [1.75 1.75]<br/> [1.75 1.75]<br/> [1.75 1.75]<br/> [1.75 1.75]<br/> [1.75 1.75]<br/> [1.75 1.75]<br/> [1.75 1.75]<br/> [1.75 1.75]<br/> [1.75 1.75]<br/> [1.75 1.75]<br/> [1.75 1.75]<br/> [1.75 1.75]<br/> [1.75 1.75]<br/> [1.75 1.75]<br/> [1.75 1.75]<br/> [1.75 1.75]<br/> [1.75 1.75]<br/> [1.75 1.75]<br/> [1.75 1.75]<br/> [1.75 1.75]<br/> [1.75 1.75]<br/> [1.75 1.75]<br/> [1.75 1.75]<br/> [1.75 1.75]<br/> [1.75 1.75]<br/> [1.75 1.75]<br/> [1.75 1.75]]</div></div></div></div></div></div></div></div></div>"
      ],
      "text/plain": [
       "<RadialBasisFunctionNeuralNetwork\n",
       " n_inputs=2\n",
       " n_hidden=35\n",
       " n_outputs=1>"
      ]
     },
     "execution_count": 15,
     "metadata": {},
     "output_type": "execute_result"
    }
   ],
   "source": [
    "model = RadialBasisFunctionNeuralNetworkModel.new_grid_placement(\n",
    "    n_inputs=2,\n",
    "    grid_size=[5, 7],\n",
    "    input_range=input_range,\n",
    "    rbf_width=1.75,\n",
    "    rbf_amplitude=1,\n",
    "    log_dir=\"./\"\n",
    ")\n",
    "model"
   ]
  },
  {
   "cell_type": "code",
   "execution_count": 16,
   "id": "dfe25118-262a-4a1e-be82-f5a5befc2513",
   "metadata": {},
   "outputs": [
    {
     "data": {
      "application/vnd.jupyter.widget-view+json": {
       "model_id": "a82455adf91b4838a979091b315f63b4",
       "version_major": 2,
       "version_minor": 0
      },
      "text/plain": [
       "  0%|          | 0/1000 [00:00<?, ?it/s]"
      ]
     },
     "metadata": {},
     "output_type": "display_data"
    }
   ],
   "source": [
    "model.train(inputs, reference_outputs)\n",
    "model.train(\n",
    "    inputs,\n",
    "    reference_outputs,\n",
    "    epochs=1000,\n",
    "    goal=1e-6,\n",
    "    train_log_freq=1,\n",
    "    method=\"trainlm\",\n",
    "    mu=10.,\n",
    "    alpha=0.95\n",
    ")"
   ]
  },
  {
   "cell_type": "code",
   "execution_count": 96,
   "id": "22009def-ca9b-4bb8-9eae-8f89014bf6bf",
   "metadata": {},
   "outputs": [
    {
     "data": {
      "application/vnd.jupyter.widget-view+json": {
       "model_id": "518903045d6240bfa89e6fce0ae2d70e",
       "version_major": 2,
       "version_minor": 0
      },
      "text/plain": [
       "Canvas(toolbar=Toolbar(toolitems=[('Home', 'Reset original view', 'home', 'home'), ('Back', 'Back to previous …"
      ]
     },
     "metadata": {},
     "output_type": "display_data"
    },
    {
     "data": {
      "application/vnd.jupyter.widget-view+json": {
       "model_id": "69637240c60742db93d828a64cdd6252",
       "version_major": 2,
       "version_minor": 0
      },
      "text/plain": [
       "Canvas(toolbar=Toolbar(toolitems=[('Home', 'Reset original view', 'home', 'home'), ('Back', 'Back to previous …"
      ]
     },
     "metadata": {},
     "output_type": "display_data"
    },
    {
     "data": {
      "application/vnd.jupyter.widget-view+json": {
       "model_id": "9640170e984046ca9d44154aa8752565",
       "version_major": 2,
       "version_minor": 0
      },
      "text/plain": [
       "Canvas(toolbar=Toolbar(toolitems=[('Home', 'Reset original view', 'home', 'home'), ('Back', 'Back to previous …"
      ]
     },
     "metadata": {},
     "output_type": "display_data"
    }
   ],
   "source": [
    "fig = plt.figure(figsize=(4, 3))\n",
    "plt.plot(model.weights_c[:, 0], model.weights_c[:, 1], \"x\")\n",
    "\n",
    "fig = plt.figure(figsize=(4, 3))\n",
    "ax = fig.add_subplot(projection='3d')\n",
    "output = model.evaluate(inputs)\n",
    "ax.scatter(inputs[:, 0, 0], inputs[:, 1, 0], reference_outputs.squeeze(), s=0.1)\n",
    "ax.scatter(inputs[:, 0, 0], inputs[:, 1, 0], output.squeeze(), s=0.1)\n",
    "\n",
    "plt.figure(figsize=(6, 3))\n",
    "model.training_log.error.plot()\n",
    "plt.yscale(\"log\")"
   ]
  },
  {
   "cell_type": "code",
   "execution_count": 63,
   "id": "a07d0aca-9e35-4331-92f5-5a85c6364402",
   "metadata": {},
   "outputs": [],
   "source": [
    "model_2 = model"
   ]
  },
  {
   "cell_type": "code",
   "execution_count": 93,
   "id": "0070b1ec-59d0-42c7-8435-1f15fad76ac6",
   "metadata": {},
   "outputs": [
    {
     "data": {
      "application/vnd.jupyter.widget-view+json": {
       "model_id": "6900f6b73c824b908f0b6a689a9352e7",
       "version_major": 2,
       "version_minor": 0
      },
      "text/plain": [
       "Canvas(toolbar=Toolbar(toolitems=[('Home', 'Reset original view', 'home', 'home'), ('Back', 'Back to previous …"
      ]
     },
     "metadata": {},
     "output_type": "display_data"
    }
   ],
   "source": [
    "plt.figure(figsize=(6, 3))\n",
    "model_0.training_log.error.plot()\n",
    "model_1.training_log.error.plot()\n",
    "# model_2.training_log.error.plot()\n",
    "model.training_log.error.plot()\n",
    "plt.yscale(\"log\")"
   ]
  },
  {
   "cell_type": "code",
   "execution_count": 17,
   "id": "b9493409-89eb-47ad-811b-ec8be9c41386",
   "metadata": {},
   "outputs": [
    {
     "data": {
      "text/plain": [
       "array([[-1,  1],\n",
       "       [-3,  5]])"
      ]
     },
     "execution_count": 17,
     "metadata": {},
     "output_type": "execute_result"
    }
   ],
   "source": [
    "input_range"
   ]
  },
  {
   "cell_type": "code",
   "execution_count": 29,
   "id": "8a1efe01-a326-49b7-acd7-e2db6cf6bd49",
   "metadata": {},
   "outputs": [
    {
     "data": {
      "text/html": [
       "<div Class=\"cw_vdom_hyr cw_vdom_hyr_item\"><style>.cw_vdom_hyr {\n",
       "    font-family: monospace;\n",
       "}\n",
       "\n",
       ".cw_vdom_hyr_item > input {\n",
       "    display: none;\n",
       "}\n",
       "\n",
       ".cw_vdom_hyr_item > label {\n",
       "    color: var(--jp-accent-color1);\n",
       "    font-weight: bold;\n",
       "}\n",
       "\n",
       ".cw_vdom_hyr_item > label::before {\n",
       "    content: \"\\00a0\";\n",
       "}\n",
       "\n",
       ".cw_vdom_hyr_item > label::after {\n",
       "    content: \": \";\n",
       "}\n",
       "\n",
       ".cw_vdom_hyr_item > div {\n",
       "    display: inline-block;\n",
       "}\n",
       "\n",
       ".cw_vdom_hyr_item > input + label {\n",
       "    cursor: pointer;\n",
       "}\n",
       "\n",
       ".cw_vdom_hyr_item > input + label::before {\n",
       "    content: \"+\";\n",
       "}\n",
       "\n",
       ".cw_vdom_hyr_item > input:checked + label::before {\n",
       "    content: \"-\";\n",
       "}\n",
       "\n",
       ".cw_vdom_hyr_item > input ~ div {\n",
       "    display: none;\n",
       "    padding-left: 20px;\n",
       "}\n",
       "\n",
       ".cw_vdom_hyr_item > input:checked ~ div {\n",
       "    display: block;\n",
       "}\n",
       "\n",
       ".cw_vdom_hyr_type {\n",
       "    color: var(--jp-ui-font-color3);\n",
       "    font-size: var(--jp-ui-font-size0);\n",
       "}\n",
       "</style><input type=\"checkbox\" id=\"2KW5JN8GXH\" ></input><label For=\"2KW5JN8GXH\">Radial Basis Function Neural Network</label><span Class=\"cw_vdom_hyr_type\">system_identification.rbfnn_model.RadialBasisFunctionNeuralNetworkModel:</span><div><div><div Class=\"cw_vdom_hyr_item\"><label For=\"SWY2JDKYLB\">description</label><span Class=\"cw_vdom_hyr_type\">str[55]:</span><div><span>Feedforward neural network with random initial weights.</span></div></div><div Class=\"cw_vdom_hyr_item\"><label For=\"HDLTKA11TD\">n_inputs</label><span Class=\"cw_vdom_hyr_type\">int:</span><div><span>2</span></div></div><div Class=\"cw_vdom_hyr_item\"><label For=\"JHUOXPKPV3\">n_hidden</label><span Class=\"cw_vdom_hyr_type\">int:</span><div><span>4</span></div></div><div Class=\"cw_vdom_hyr_item\"><label For=\"PL45JZU4UN\">n_output</label><span Class=\"cw_vdom_hyr_type\">int:</span><div><span>1</span></div></div><div Class=\"cw_vdom_hyr_item\"><input type=\"checkbox\" id=\"Z39LBZZMJF\" ></input><label For=\"Z39LBZZMJF\">training_parameters</label><span Class=\"cw_vdom_hyr_type\">dict[3]:</span><div><div><div Class=\"cw_vdom_hyr_item\"><label For=\"34R1C4ZLVV\">training_algorithm</label><span Class=\"cw_vdom_hyr_type\">NoneType:</span><div><span>None</span></div></div><div Class=\"cw_vdom_hyr_item\"><label For=\"RA9J3DQ6O4\">goal</label><span Class=\"cw_vdom_hyr_type\">NoneType:</span><div><span>None</span></div></div><div Class=\"cw_vdom_hyr_item\"><label For=\"IJGIFQ9BDA\">min_grad</label><span Class=\"cw_vdom_hyr_type\">NoneType:</span><div><span>None</span></div></div></div></div></div><div Class=\"cw_vdom_hyr_item\"><label For=\"7IE1NWEDIW\">log_dir</label><span Class=\"cw_vdom_hyr_type\">pathlib.PosixPath:</span><div><span>.</span></div></div><div Class=\"cw_vdom_hyr_item\"><input type=\"checkbox\" id=\"LWMR8KADHS\" ></input><label For=\"LWMR8KADHS\">weights</label><span Class=\"cw_vdom_hyr_type\">dict[3]:</span><div><div><div Class=\"cw_vdom_hyr_item\"><label For=\"TUGZZNZD6W\">weights_a</label><span Class=\"cw_vdom_hyr_type\">numpy.ndarray[4]:</span><div>[1. 1. 1. 1.]</div></div><div Class=\"cw_vdom_hyr_item\"><input type=\"checkbox\" id=\"OWS4C1OJIT\" ></input><label For=\"OWS4C1OJIT\">weights_c</label><span Class=\"cw_vdom_hyr_type\">numpy.ndarray[4, 2]:</span><div><div>[[ 0.14648196  3.07592608]<br/> [-0.43008854  3.12075019]<br/> [ 0.64205497  2.81984185]<br/> [ 0.86087824  0.62518917]]</div></div></div><div Class=\"cw_vdom_hyr_item\"><input type=\"checkbox\" id=\"9KRDSEO2DF\" ></input><label For=\"9KRDSEO2DF\">weights_w</label><span Class=\"cw_vdom_hyr_type\">numpy.ndarray[4, 2]:</span><div><div>[[1.75 1.75]<br/> [1.75 1.75]<br/> [1.75 1.75]<br/> [1.75 1.75]]</div></div></div></div></div></div></div></div></div>"
      ],
      "text/plain": [
       "<RadialBasisFunctionNeuralNetwork\n",
       " n_inputs=2\n",
       " n_hidden=4\n",
       " n_outputs=1>"
      ]
     },
     "execution_count": 29,
     "metadata": {},
     "output_type": "execute_result"
    }
   ],
   "source": [
    "RadialBasisFunctionNeuralNetworkModel.new_random_placement(\n",
    "    n_inputs=2,\n",
    "    n_hidden=4,\n",
    "    input_range=input_range,\n",
    "    rbf_width=1.75,\n",
    "    rbf_amplitude=1,\n",
    "    log_dir=\"./\"\n",
    ")"
   ]
  },
  {
   "cell_type": "code",
   "execution_count": 23,
   "id": "b0331166-2e89-4235-b390-2fcf54e234ab",
   "metadata": {},
   "outputs": [
    {
     "data": {
      "text/plain": [
       "array([[2],\n",
       "       [8]])"
      ]
     },
     "execution_count": 23,
     "metadata": {},
     "output_type": "execute_result"
    }
   ],
   "source": []
  },
  {
   "cell_type": "code",
   "execution_count": null,
   "id": "a3a13463-f64a-47f4-a8d0-73fe34e8a6c6",
   "metadata": {},
   "outputs": [],
   "source": []
  }
 ],
 "metadata": {
  "kernelspec": {
   "display_name": "Python 3 (ipykernel)",
   "language": "python",
   "name": "python3"
  },
  "language_info": {
   "codemirror_mode": {
    "name": "ipython",
    "version": 3
   },
   "file_extension": ".py",
   "mimetype": "text/x-python",
   "name": "python",
   "nbconvert_exporter": "python",
   "pygments_lexer": "ipython3",
   "version": "3.9.6"
  }
 },
 "nbformat": 4,
 "nbformat_minor": 5
}
