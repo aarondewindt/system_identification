{
 "cells": [
  {
   "cell_type": "markdown",
   "id": "exempt-dealer",
   "metadata": {},
   "source": [
    "# Radial Basis Function Neural Network"
   ]
  },
  {
   "cell_type": "code",
   "execution_count": 1,
   "id": "sexual-verse",
   "metadata": {},
   "outputs": [],
   "source": [
    "%load_ext autoreload\n",
    "%autoreload 2\n",
    "%matplotlib widget"
   ]
  },
  {
   "cell_type": "code",
   "execution_count": 2,
   "id": "above-vinyl",
   "metadata": {},
   "outputs": [],
   "source": [
    "from itertools import product\n",
    "\n",
    "import numpy as np\n",
    "import xarray as xr\n",
    "import xarray.ufuncs as xf\n",
    "import matplotlib.pyplot as plt\n",
    "\n",
    "from system_identification.rbfnn_model import RadialBasisFunctionNeuralNetwork"
   ]
  },
  {
   "cell_type": "markdown",
   "id": "c4a9f6fd-b243-4149-aa66-9ceed64a2c1d",
   "metadata": {},
   "source": [
    "## 1D"
   ]
  },
  {
   "cell_type": "code",
   "execution_count": 18,
   "id": "recognized-employer",
   "metadata": {},
   "outputs": [
    {
     "data": {
      "text/html": [
       "<div Class=\"cw_vdom_hyr cw_vdom_hyr_item\"><style>.cw_vdom_hyr {\n",
       "    font-family: monospace;\n",
       "}\n",
       "\n",
       ".cw_vdom_hyr_item > input {\n",
       "    display: none;\n",
       "}\n",
       "\n",
       ".cw_vdom_hyr_item > label {\n",
       "    color: var(--jp-accent-color1);\n",
       "    font-weight: bold;\n",
       "}\n",
       "\n",
       ".cw_vdom_hyr_item > label::before {\n",
       "    content: \"\\00a0\";\n",
       "}\n",
       "\n",
       ".cw_vdom_hyr_item > label::after {\n",
       "    content: \": \";\n",
       "}\n",
       "\n",
       ".cw_vdom_hyr_item > div {\n",
       "    display: inline-block;\n",
       "}\n",
       "\n",
       ".cw_vdom_hyr_item > input + label {\n",
       "    cursor: pointer;\n",
       "}\n",
       "\n",
       ".cw_vdom_hyr_item > input + label::before {\n",
       "    content: \"+\";\n",
       "}\n",
       "\n",
       ".cw_vdom_hyr_item > input:checked + label::before {\n",
       "    content: \"-\";\n",
       "}\n",
       "\n",
       ".cw_vdom_hyr_item > input ~ div {\n",
       "    display: none;\n",
       "    padding-left: 20px;\n",
       "}\n",
       "\n",
       ".cw_vdom_hyr_item > input:checked ~ div {\n",
       "    display: block;\n",
       "}\n",
       "\n",
       ".cw_vdom_hyr_type {\n",
       "    color: var(--jp-ui-font-color3);\n",
       "    font-size: var(--jp-ui-font-size0);\n",
       "}\n",
       "</style><input type=\"checkbox\" id=\"UVW601OIRO\" checked></input><label For=\"UVW601OIRO\">Radial Basis Function Neural Network</label><span Class=\"cw_vdom_hyr_type\">system_identification.rbfnn_model.RadialBasisFunctionNeuralNetwork:</span><div><div><div Class=\"cw_vdom_hyr_item\"><label For=\"QF7HSSQKFI\">description</label><span Class=\"cw_vdom_hyr_type\">str[65]:</span><div><span>Radial basis function neural network with random initial weights.</span></div></div><div Class=\"cw_vdom_hyr_item\"><label For=\"GLUG0KLNLZ\">n_inputs</label><span Class=\"cw_vdom_hyr_type\">int:</span><div><span>1</span></div></div><div Class=\"cw_vdom_hyr_item\"><label For=\"GYI1CUZ31Q\">n_hidden</label><span Class=\"cw_vdom_hyr_type\">int:</span><div><span>5</span></div></div><div Class=\"cw_vdom_hyr_item\"><label For=\"TO4PW33W29\">n_output</label><span Class=\"cw_vdom_hyr_type\">int:</span><div><span>1</span></div></div><div Class=\"cw_vdom_hyr_item\"><input type=\"checkbox\" id=\"32NLSMSV1T\" ></input><label For=\"32NLSMSV1T\">training_parameters</label><span Class=\"cw_vdom_hyr_type\">dict[3]:</span><div><div><div Class=\"cw_vdom_hyr_item\"><label For=\"2CDBATYWA5\">training_algorithm</label><span Class=\"cw_vdom_hyr_type\">NoneType:</span><div><span>None</span></div></div><div Class=\"cw_vdom_hyr_item\"><label For=\"CT5ASIU8JB\">goal</label><span Class=\"cw_vdom_hyr_type\">NoneType:</span><div><span>None</span></div></div><div Class=\"cw_vdom_hyr_item\"><label For=\"YC26YRYZ4V\">min_grad</label><span Class=\"cw_vdom_hyr_type\">NoneType:</span><div><span>None</span></div></div></div></div></div><div Class=\"cw_vdom_hyr_item\"><label For=\"HFL30SKF4R\">log_dir</label><span Class=\"cw_vdom_hyr_type\">pathlib.PosixPath:</span><div><span>.</span></div></div><div Class=\"cw_vdom_hyr_item\"><input type=\"checkbox\" id=\"AFS8WKR6SN\" ></input><label For=\"AFS8WKR6SN\">weights</label><span Class=\"cw_vdom_hyr_type\">dict[3]:</span><div><div><div Class=\"cw_vdom_hyr_item\"><label For=\"3C0SOLSYJM\">weights_a</label><span Class=\"cw_vdom_hyr_type\">numpy.ndarray[5]:</span><div>[1. 1. 1. 1. 1.]</div></div><div Class=\"cw_vdom_hyr_item\"><input type=\"checkbox\" id=\"AAHRSORKCF\" ></input><label For=\"AAHRSORKCF\">weights_c</label><span Class=\"cw_vdom_hyr_type\">numpy.ndarray[5, 1]:</span><div><div>[[-1. ]<br/> [-0.5]<br/> [ 0. ]<br/> [ 0.5]<br/> [ 1. ]]</div></div></div><div Class=\"cw_vdom_hyr_item\"><input type=\"checkbox\" id=\"CXZQIHSIRJ\" ></input><label For=\"CXZQIHSIRJ\">weights_w</label><span Class=\"cw_vdom_hyr_type\">numpy.ndarray[5, 1]:</span><div><div>[[1.75]<br/> [1.75]<br/> [1.75]<br/> [1.75]<br/> [1.75]]</div></div></div></div></div></div></div></div></div>"
      ],
      "text/plain": [
       "<RadialBasisFunctionNeuralNetwork\n",
       " n_inputs=1\n",
       " n_hidden=5\n",
       " n_outputs=1>"
      ]
     },
     "execution_count": 18,
     "metadata": {},
     "output_type": "execute_result"
    }
   ],
   "source": [
    "model = RadialBasisFunctionNeuralNetwork.new_grid_placement(\n",
    "    n_inputs=1,\n",
    "    grid_size=[5],\n",
    "    input_range=np.array([(-1, 1)]),\n",
    "    rbf_width=1.75,\n",
    "    rbf_amplitude=1,\n",
    "    log_dir=\"./\"\n",
    ")\n",
    "model"
   ]
  },
  {
   "cell_type": "code",
   "execution_count": 19,
   "id": "5d90c6f4-4f3a-4c7a-89e4-05ff32934388",
   "metadata": {},
   "outputs": [],
   "source": [
    "def foo(x):\n",
    "    return -x**2\n",
    "\n",
    "inputs = np.linspace(-1, 1, 1000)\n",
    "reference_outputs = np.array(list(map(foo, inputs)))\n",
    "reference_outputs_noisy = reference_outputs + (np.random.random(reference_outputs.shape) - 0.5) * 0.1\n",
    "\n",
    "inputs = inputs.reshape(-1, 1, 1)\n",
    "reference_outputs = reference_outputs.reshape(-1, 1, 1)\n",
    "reference_outputs_noisy = reference_outputs_noisy.reshape(-1, 1, 1)"
   ]
  },
  {
   "cell_type": "code",
   "execution_count": 20,
   "id": "cda46db8-fcff-4f89-bfb6-759dcfaea485",
   "metadata": {},
   "outputs": [],
   "source": [
    "model.train(inputs, reference_outputs_noisy)"
   ]
  },
  {
   "cell_type": "code",
   "execution_count": 21,
   "id": "428733c8-2449-4714-b2f9-18895249cb2c",
   "metadata": {},
   "outputs": [
    {
     "data": {
      "application/vnd.jupyter.widget-view+json": {
       "model_id": "f5b5b772615842d0954af4f33093555a",
       "version_major": 2,
       "version_minor": 0
      },
      "text/plain": [
       "Canvas(toolbar=Toolbar(toolitems=[('Home', 'Reset original view', 'home', 'home'), ('Back', 'Back to previous …"
      ]
     },
     "metadata": {},
     "output_type": "display_data"
    },
    {
     "data": {
      "text/plain": [
       "[<matplotlib.lines.Line2D at 0x7fe3b8334e50>]"
      ]
     },
     "execution_count": 21,
     "metadata": {},
     "output_type": "execute_result"
    }
   ],
   "source": [
    "\n",
    "fig = plt.figure()\n",
    "outputs = model.evaluate(inputs)\n",
    "plt.plot(inputs.squeeze(), reference_outputs.squeeze())\n",
    "plt.plot(inputs.squeeze(), reference_outputs_noisy.squeeze(), \".\", markersize=1)\n",
    "plt.plot(inputs.squeeze(), outputs.squeeze())"
   ]
  },
  {
   "cell_type": "markdown",
   "id": "b3ddef2d-d450-4161-84a2-110d4069adf3",
   "metadata": {},
   "source": [
    "## 2D"
   ]
  },
  {
   "cell_type": "code",
   "execution_count": 33,
   "id": "4d9d6d5c-3191-4ddc-99de-4d0f8240dbff",
   "metadata": {},
   "outputs": [
    {
     "data": {
      "text/html": [
       "<div Class=\"cw_vdom_hyr cw_vdom_hyr_item\"><style>.cw_vdom_hyr {\n",
       "    font-family: monospace;\n",
       "}\n",
       "\n",
       ".cw_vdom_hyr_item > input {\n",
       "    display: none;\n",
       "}\n",
       "\n",
       ".cw_vdom_hyr_item > label {\n",
       "    color: var(--jp-accent-color1);\n",
       "    font-weight: bold;\n",
       "}\n",
       "\n",
       ".cw_vdom_hyr_item > label::before {\n",
       "    content: \"\\00a0\";\n",
       "}\n",
       "\n",
       ".cw_vdom_hyr_item > label::after {\n",
       "    content: \": \";\n",
       "}\n",
       "\n",
       ".cw_vdom_hyr_item > div {\n",
       "    display: inline-block;\n",
       "}\n",
       "\n",
       ".cw_vdom_hyr_item > input + label {\n",
       "    cursor: pointer;\n",
       "}\n",
       "\n",
       ".cw_vdom_hyr_item > input + label::before {\n",
       "    content: \"+\";\n",
       "}\n",
       "\n",
       ".cw_vdom_hyr_item > input:checked + label::before {\n",
       "    content: \"-\";\n",
       "}\n",
       "\n",
       ".cw_vdom_hyr_item > input ~ div {\n",
       "    display: none;\n",
       "    padding-left: 20px;\n",
       "}\n",
       "\n",
       ".cw_vdom_hyr_item > input:checked ~ div {\n",
       "    display: block;\n",
       "}\n",
       "\n",
       ".cw_vdom_hyr_type {\n",
       "    color: var(--jp-ui-font-color3);\n",
       "    font-size: var(--jp-ui-font-size0);\n",
       "}\n",
       "</style><input type=\"checkbox\" id=\"4BINJC0EDY\" checked></input><label For=\"4BINJC0EDY\">Radial Basis Function Neural Network</label><span Class=\"cw_vdom_hyr_type\">system_identification.rbfnn_model.RadialBasisFunctionNeuralNetwork:</span><div><div><div Class=\"cw_vdom_hyr_item\"><label For=\"H7BYKJJKDD\">description</label><span Class=\"cw_vdom_hyr_type\">str[65]:</span><div><span>Radial basis function neural network with random initial weights.</span></div></div><div Class=\"cw_vdom_hyr_item\"><label For=\"GETCIKP6ZN\">n_inputs</label><span Class=\"cw_vdom_hyr_type\">int:</span><div><span>2</span></div></div><div Class=\"cw_vdom_hyr_item\"><label For=\"8OB41Z4PI4\">n_hidden</label><span Class=\"cw_vdom_hyr_type\">int:</span><div><span>75</span></div></div><div Class=\"cw_vdom_hyr_item\"><label For=\"H2WXTXM4XP\">n_output</label><span Class=\"cw_vdom_hyr_type\">int:</span><div><span>1</span></div></div><div Class=\"cw_vdom_hyr_item\"><input type=\"checkbox\" id=\"K8PQ6SJF5C\" ></input><label For=\"K8PQ6SJF5C\">training_parameters</label><span Class=\"cw_vdom_hyr_type\">dict[3]:</span><div><div><div Class=\"cw_vdom_hyr_item\"><label For=\"FN10JOWFH8\">training_algorithm</label><span Class=\"cw_vdom_hyr_type\">NoneType:</span><div><span>None</span></div></div><div Class=\"cw_vdom_hyr_item\"><label For=\"PT2P14JZ8G\">goal</label><span Class=\"cw_vdom_hyr_type\">NoneType:</span><div><span>None</span></div></div><div Class=\"cw_vdom_hyr_item\"><label For=\"7ZJQVJOEL3\">min_grad</label><span Class=\"cw_vdom_hyr_type\">NoneType:</span><div><span>None</span></div></div></div></div></div><div Class=\"cw_vdom_hyr_item\"><label For=\"M67VUKEQ5A\">log_dir</label><span Class=\"cw_vdom_hyr_type\">pathlib.PosixPath:</span><div><span>.</span></div></div><div Class=\"cw_vdom_hyr_item\"><input type=\"checkbox\" id=\"RJI0L757G5\" ></input><label For=\"RJI0L757G5\">weights</label><span Class=\"cw_vdom_hyr_type\">dict[3]:</span><div><div><div Class=\"cw_vdom_hyr_item\"><label For=\"VEDX06KC1P\">weights_a</label><span Class=\"cw_vdom_hyr_type\">numpy.ndarray[75]:</span><div>[1. 1. 1. 1. 1. 1. 1. 1. 1. 1. 1. 1. 1. 1. 1. 1. 1. 1. 1. 1. 1. 1. 1. 1.\n",
       " 1. 1. 1. 1. 1. 1. 1. 1. 1. 1. 1. 1. 1. 1. 1. 1. 1. 1. 1. 1. 1. 1. 1. 1.\n",
       " 1. 1. 1. 1. 1. 1. 1. 1. 1. 1. 1. 1. 1. 1. 1. 1. 1. 1. 1. 1. 1. 1. 1. 1.\n",
       " 1. 1. 1.]</div></div><div Class=\"cw_vdom_hyr_item\"><input type=\"checkbox\" id=\"QTTTPZD8JA\" ></input><label For=\"QTTTPZD8JA\">weights_c</label><span Class=\"cw_vdom_hyr_type\">numpy.ndarray[75, 2]:</span><div><div>[[-1.         -3.        ]<br/> [-1.         -2.42857143]<br/> [-1.         -1.85714286]<br/> [-1.         -1.28571429]<br/> [-1.         -0.71428571]<br/> [-1.         -0.14285714]<br/> [-1.          0.42857143]<br/> [-1.          1.        ]<br/> [-1.          1.57142857]<br/> [-1.          2.14285714]<br/> [-1.          2.71428571]<br/> [-1.          3.28571429]<br/> [-1.          3.85714286]<br/> [-1.          4.42857143]<br/> [-1.          5.        ]<br/> [-0.5        -3.        ]<br/> [-0.5        -2.42857143]<br/> [-0.5        -1.85714286]<br/> [-0.5        -1.28571429]<br/> [-0.5        -0.71428571]<br/> [-0.5        -0.14285714]<br/> [-0.5         0.42857143]<br/> [-0.5         1.        ]<br/> [-0.5         1.57142857]<br/> [-0.5         2.14285714]<br/> [-0.5         2.71428571]<br/> [-0.5         3.28571429]<br/> [-0.5         3.85714286]<br/> [-0.5         4.42857143]<br/> [-0.5         5.        ]<br/> [ 0.         -3.        ]<br/> [ 0.         -2.42857143]<br/> [ 0.         -1.85714286]<br/> [ 0.         -1.28571429]<br/> [ 0.         -0.71428571]<br/> [ 0.         -0.14285714]<br/> [ 0.          0.42857143]<br/> [ 0.          1.        ]<br/> [ 0.          1.57142857]<br/> [ 0.          2.14285714]<br/> [ 0.          2.71428571]<br/> [ 0.          3.28571429]<br/> [ 0.          3.85714286]<br/> [ 0.          4.42857143]<br/> [ 0.          5.        ]<br/> [ 0.5        -3.        ]<br/> [ 0.5        -2.42857143]<br/> [ 0.5        -1.85714286]<br/> [ 0.5        -1.28571429]<br/> [ 0.5        -0.71428571]<br/> [ 0.5        -0.14285714]<br/> [ 0.5         0.42857143]<br/> [ 0.5         1.        ]<br/> [ 0.5         1.57142857]<br/> [ 0.5         2.14285714]<br/> [ 0.5         2.71428571]<br/> [ 0.5         3.28571429]<br/> [ 0.5         3.85714286]<br/> [ 0.5         4.42857143]<br/> [ 0.5         5.        ]<br/> [ 1.         -3.        ]<br/> [ 1.         -2.42857143]<br/> [ 1.         -1.85714286]<br/> [ 1.         -1.28571429]<br/> [ 1.         -0.71428571]<br/> [ 1.         -0.14285714]<br/> [ 1.          0.42857143]<br/> [ 1.          1.        ]<br/> [ 1.          1.57142857]<br/> [ 1.          2.14285714]<br/> [ 1.          2.71428571]<br/> [ 1.          3.28571429]<br/> [ 1.          3.85714286]<br/> [ 1.          4.42857143]<br/> [ 1.          5.        ]]</div></div></div><div Class=\"cw_vdom_hyr_item\"><input type=\"checkbox\" id=\"KB8D4OVLKH\" ></input><label For=\"KB8D4OVLKH\">weights_w</label><span Class=\"cw_vdom_hyr_type\">numpy.ndarray[75, 2]:</span><div><div>[[1.75 1.75]<br/> [1.75 1.75]<br/> [1.75 1.75]<br/> [1.75 1.75]<br/> [1.75 1.75]<br/> [1.75 1.75]<br/> [1.75 1.75]<br/> [1.75 1.75]<br/> [1.75 1.75]<br/> [1.75 1.75]<br/> [1.75 1.75]<br/> [1.75 1.75]<br/> [1.75 1.75]<br/> [1.75 1.75]<br/> [1.75 1.75]<br/> [1.75 1.75]<br/> [1.75 1.75]<br/> [1.75 1.75]<br/> [1.75 1.75]<br/> [1.75 1.75]<br/> [1.75 1.75]<br/> [1.75 1.75]<br/> [1.75 1.75]<br/> [1.75 1.75]<br/> [1.75 1.75]<br/> [1.75 1.75]<br/> [1.75 1.75]<br/> [1.75 1.75]<br/> [1.75 1.75]<br/> [1.75 1.75]<br/> [1.75 1.75]<br/> [1.75 1.75]<br/> [1.75 1.75]<br/> [1.75 1.75]<br/> [1.75 1.75]<br/> [1.75 1.75]<br/> [1.75 1.75]<br/> [1.75 1.75]<br/> [1.75 1.75]<br/> [1.75 1.75]<br/> [1.75 1.75]<br/> [1.75 1.75]<br/> [1.75 1.75]<br/> [1.75 1.75]<br/> [1.75 1.75]<br/> [1.75 1.75]<br/> [1.75 1.75]<br/> [1.75 1.75]<br/> [1.75 1.75]<br/> [1.75 1.75]<br/> [1.75 1.75]<br/> [1.75 1.75]<br/> [1.75 1.75]<br/> [1.75 1.75]<br/> [1.75 1.75]<br/> [1.75 1.75]<br/> [1.75 1.75]<br/> [1.75 1.75]<br/> [1.75 1.75]<br/> [1.75 1.75]<br/> [1.75 1.75]<br/> [1.75 1.75]<br/> [1.75 1.75]<br/> [1.75 1.75]<br/> [1.75 1.75]<br/> [1.75 1.75]<br/> [1.75 1.75]<br/> [1.75 1.75]<br/> [1.75 1.75]<br/> [1.75 1.75]<br/> [1.75 1.75]<br/> [1.75 1.75]<br/> [1.75 1.75]<br/> [1.75 1.75]<br/> [1.75 1.75]]</div></div></div></div></div></div></div></div></div>"
      ],
      "text/plain": [
       "<RadialBasisFunctionNeuralNetwork\n",
       " n_inputs=2\n",
       " n_hidden=75\n",
       " n_outputs=1>"
      ]
     },
     "execution_count": 33,
     "metadata": {},
     "output_type": "execute_result"
    }
   ],
   "source": [
    "model = RadialBasisFunctionNeuralNetwork.new_grid_placement(\n",
    "    n_inputs=2,\n",
    "    grid_size=[5, 15],\n",
    "    input_range=np.array([(-1, 1), (-3, 5)]),\n",
    "    rbf_width=1.75,\n",
    "    rbf_amplitude=1,\n",
    "    log_dir=\"./\"\n",
    ")\n",
    "model"
   ]
  },
  {
   "cell_type": "code",
   "execution_count": 34,
   "id": "c6361a36-d81d-4ad1-bb9c-3f42e966de1f",
   "metadata": {},
   "outputs": [],
   "source": [
    "def foo(x):\n",
    "    return -x[0]**2 + np.sin(x[1]*2)\n",
    "\n",
    "\n",
    "resolution = 100\n",
    "inputs = np.array(tuple(product(np.linspace(*model.range[0, :], resolution),\n",
    "                                np.linspace(*model.range[1, :], resolution))))\n",
    "\n",
    "reference_outputs = np.array(list(map(foo, inputs)))\n",
    "reference_outputs_noisy = reference_outputs + (np.random.random(reference_outputs.shape) - 0.5) * 0.1\n",
    "\n",
    "inputs = inputs[..., None]\n",
    "reference_outputs = reference_outputs.reshape(-1, 1, 1)\n",
    "reference_outputs_noisy = reference_outputs_noisy.reshape(-1, 1, 1)"
   ]
  },
  {
   "cell_type": "code",
   "execution_count": 35,
   "id": "13a58a76-0705-43af-90ff-9c6a6b1f6226",
   "metadata": {},
   "outputs": [],
   "source": [
    "model.train(inputs, reference_outputs)\n",
    "output = model.evaluate(inputs)"
   ]
  },
  {
   "cell_type": "code",
   "execution_count": 40,
   "id": "9e11376f-59a7-4bff-91a6-928b85579fc3",
   "metadata": {},
   "outputs": [
    {
     "data": {
      "application/vnd.jupyter.widget-view+json": {
       "model_id": "246e6bb2a6ed4a34a4431c73aa75c563",
       "version_major": 2,
       "version_minor": 0
      },
      "text/plain": [
       "Canvas(toolbar=Toolbar(toolitems=[('Home', 'Reset original view', 'home', 'home'), ('Back', 'Back to previous …"
      ]
     },
     "metadata": {},
     "output_type": "display_data"
    },
    {
     "data": {
      "text/plain": [
       "[<matplotlib.lines.Line2D at 0x7fe3b3351c40>]"
      ]
     },
     "execution_count": 40,
     "metadata": {},
     "output_type": "execute_result"
    }
   ],
   "source": [
    "fig = plt.figure()\n",
    "plt.plot(model.weights_c[:, 0], model.weights_c[:, 1], \"x\")"
   ]
  },
  {
   "cell_type": "code",
   "execution_count": 38,
   "id": "56869dd3-bcd7-4aba-87cf-854e23f5f826",
   "metadata": {},
   "outputs": [
    {
     "data": {
      "application/vnd.jupyter.widget-view+json": {
       "model_id": "16e1627eeaf14f1b94ab93e325f32a8d",
       "version_major": 2,
       "version_minor": 0
      },
      "text/plain": [
       "Canvas(toolbar=Toolbar(toolitems=[('Home', 'Reset original view', 'home', 'home'), ('Back', 'Back to previous …"
      ]
     },
     "metadata": {},
     "output_type": "display_data"
    },
    {
     "data": {
      "text/plain": [
       "<matplotlib.colorbar.Colorbar at 0x7fe3b3f41400>"
      ]
     },
     "execution_count": 38,
     "metadata": {},
     "output_type": "execute_result"
    }
   ],
   "source": [
    "fig = plt.figure()\n",
    "pos = plt.imshow(reference_outputs.reshape((resolution, resolution)))\n",
    "fig.colorbar(pos)"
   ]
  },
  {
   "cell_type": "code",
   "execution_count": 37,
   "id": "5b40a38d-c24f-4c09-8d31-bd3352171472",
   "metadata": {},
   "outputs": [
    {
     "data": {
      "application/vnd.jupyter.widget-view+json": {
       "model_id": "de1aacb5fa084c47b8c7002f663f0385",
       "version_major": 2,
       "version_minor": 0
      },
      "text/plain": [
       "Canvas(toolbar=Toolbar(toolitems=[('Home', 'Reset original view', 'home', 'home'), ('Back', 'Back to previous …"
      ]
     },
     "metadata": {},
     "output_type": "display_data"
    },
    {
     "data": {
      "text/plain": [
       "<mpl_toolkits.mplot3d.art3d.Path3DCollection at 0x7fe3b84ef910>"
      ]
     },
     "execution_count": 37,
     "metadata": {},
     "output_type": "execute_result"
    }
   ],
   "source": [
    "fig = plt.figure()\n",
    "ax = fig.add_subplot(projection='3d')\n",
    "ax.scatter(inputs[:, 0, 0], inputs[:, 1, 0], reference_outputs.squeeze(), s=0.1)\n",
    "ax.scatter(inputs[:, 0, 0], inputs[:, 1, 0], output.squeeze(), s=0.1)"
   ]
  },
  {
   "cell_type": "code",
   "execution_count": null,
   "id": "cfa3d035-d3bb-45ad-b9be-7f94b95be7c4",
   "metadata": {},
   "outputs": [],
   "source": []
  }
 ],
 "metadata": {
  "kernelspec": {
   "display_name": "Python 3",
   "language": "python",
   "name": "python3"
  },
  "language_info": {
   "codemirror_mode": {
    "name": "ipython",
    "version": 3
   },
   "file_extension": ".py",
   "mimetype": "text/x-python",
   "name": "python",
   "nbconvert_exporter": "python",
   "pygments_lexer": "ipython3",
   "version": "3.9.2"
  }
 },
 "nbformat": 4,
 "nbformat_minor": 5
}
