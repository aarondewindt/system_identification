{
 "cells": [
  {
   "cell_type": "markdown",
   "id": "utility-electronics",
   "metadata": {},
   "source": [
    "# Feed-Forward Neural Network"
   ]
  },
  {
   "cell_type": "code",
   "execution_count": 2,
   "id": "thirty-proceeding",
   "metadata": {},
   "outputs": [],
   "source": [
    "%load_ext autoreload\n",
    "%autoreload 2\n",
    "%matplotlib widget"
   ]
  },
  {
   "cell_type": "code",
   "execution_count": 3,
   "id": "incorporated-valentine",
   "metadata": {},
   "outputs": [],
   "source": [
    "from itertools import product\n",
    "from pathlib import Path\n",
    "from tqdm.auto import trange, tqdm\n",
    "import pickle\n",
    "\n",
    "import numpy as np\n",
    "import xarray as xr\n",
    "import xarray.ufuncs as xf\n",
    "import matplotlib.pyplot as plt\n",
    "from scipy.interpolate import griddata\n",
    "\n",
    "from system_identification.ffnn import FeedForwardNeuralNetwork, TrainingParameters\n",
    "from system_identification.load_assignment_data import load_net_example_ff"
   ]
  },
  {
   "cell_type": "markdown",
   "id": "baking-kinase",
   "metadata": {},
   "source": [
    "## Define network"
   ]
  },
  {
   "cell_type": "code",
   "execution_count": null,
   "id": "boring-germany",
   "metadata": {},
   "outputs": [],
   "source": []
  },
  {
   "cell_type": "code",
   "execution_count": 4,
   "id": "concerned-laundry",
   "metadata": {},
   "outputs": [
    {
     "data": {
      "text/html": [
       "<div><svg style=\"position: absolute; width: 0; height: 0; overflow: hidden\">\n",
       "<defs>\n",
       "<symbol id=\"icon-database\" viewBox=\"0 0 32 32\">\n",
       "<path d=\"M16 0c-8.837 0-16 2.239-16 5v4c0 2.761 7.163 5 16 5s16-2.239 16-5v-4c0-2.761-7.163-5-16-5z\"></path>\n",
       "<path d=\"M16 17c-8.837 0-16-2.239-16-5v6c0 2.761 7.163 5 16 5s16-2.239 16-5v-6c0 2.761-7.163 5-16 5z\"></path>\n",
       "<path d=\"M16 26c-8.837 0-16-2.239-16-5v6c0 2.761 7.163 5 16 5s16-2.239 16-5v-6c0 2.761-7.163 5-16 5z\"></path>\n",
       "</symbol>\n",
       "<symbol id=\"icon-file-text2\" viewBox=\"0 0 32 32\">\n",
       "<path d=\"M28.681 7.159c-0.694-0.947-1.662-2.053-2.724-3.116s-2.169-2.030-3.116-2.724c-1.612-1.182-2.393-1.319-2.841-1.319h-15.5c-1.378 0-2.5 1.121-2.5 2.5v27c0 1.378 1.122 2.5 2.5 2.5h23c1.378 0 2.5-1.122 2.5-2.5v-19.5c0-0.448-0.137-1.23-1.319-2.841zM24.543 5.457c0.959 0.959 1.712 1.825 2.268 2.543h-4.811v-4.811c0.718 0.556 1.584 1.309 2.543 2.268zM28 29.5c0 0.271-0.229 0.5-0.5 0.5h-23c-0.271 0-0.5-0.229-0.5-0.5v-27c0-0.271 0.229-0.5 0.5-0.5 0 0 15.499-0 15.5 0v7c0 0.552 0.448 1 1 1h7v19.5z\"></path>\n",
       "<path d=\"M23 26h-14c-0.552 0-1-0.448-1-1s0.448-1 1-1h14c0.552 0 1 0.448 1 1s-0.448 1-1 1z\"></path>\n",
       "<path d=\"M23 22h-14c-0.552 0-1-0.448-1-1s0.448-1 1-1h14c0.552 0 1 0.448 1 1s-0.448 1-1 1z\"></path>\n",
       "<path d=\"M23 18h-14c-0.552 0-1-0.448-1-1s0.448-1 1-1h14c0.552 0 1 0.448 1 1s-0.448 1-1 1z\"></path>\n",
       "</symbol>\n",
       "</defs>\n",
       "</svg>\n",
       "<style>/* CSS stylesheet for displaying xarray objects in jupyterlab.\n",
       " *\n",
       " */\n",
       "\n",
       ":root {\n",
       "  --xr-font-color0: var(--jp-content-font-color0, rgba(0, 0, 0, 1));\n",
       "  --xr-font-color2: var(--jp-content-font-color2, rgba(0, 0, 0, 0.54));\n",
       "  --xr-font-color3: var(--jp-content-font-color3, rgba(0, 0, 0, 0.38));\n",
       "  --xr-border-color: var(--jp-border-color2, #e0e0e0);\n",
       "  --xr-disabled-color: var(--jp-layout-color3, #bdbdbd);\n",
       "  --xr-background-color: var(--jp-layout-color0, white);\n",
       "  --xr-background-color-row-even: var(--jp-layout-color1, white);\n",
       "  --xr-background-color-row-odd: var(--jp-layout-color2, #eeeeee);\n",
       "}\n",
       "\n",
       "html[theme=dark],\n",
       "body.vscode-dark {\n",
       "  --xr-font-color0: rgba(255, 255, 255, 1);\n",
       "  --xr-font-color2: rgba(255, 255, 255, 0.54);\n",
       "  --xr-font-color3: rgba(255, 255, 255, 0.38);\n",
       "  --xr-border-color: #1F1F1F;\n",
       "  --xr-disabled-color: #515151;\n",
       "  --xr-background-color: #111111;\n",
       "  --xr-background-color-row-even: #111111;\n",
       "  --xr-background-color-row-odd: #313131;\n",
       "}\n",
       "\n",
       ".xr-wrap {\n",
       "  display: block;\n",
       "  min-width: 300px;\n",
       "  max-width: 700px;\n",
       "}\n",
       "\n",
       ".xr-text-repr-fallback {\n",
       "  /* fallback to plain text repr when CSS is not injected (untrusted notebook) */\n",
       "  display: none;\n",
       "}\n",
       "\n",
       ".xr-header {\n",
       "  padding-top: 6px;\n",
       "  padding-bottom: 6px;\n",
       "  margin-bottom: 4px;\n",
       "  border-bottom: solid 1px var(--xr-border-color);\n",
       "}\n",
       "\n",
       ".xr-header > div,\n",
       ".xr-header > ul {\n",
       "  display: inline;\n",
       "  margin-top: 0;\n",
       "  margin-bottom: 0;\n",
       "}\n",
       "\n",
       ".xr-obj-type,\n",
       ".xr-array-name {\n",
       "  margin-left: 2px;\n",
       "  margin-right: 10px;\n",
       "}\n",
       "\n",
       ".xr-obj-type {\n",
       "  color: var(--xr-font-color2);\n",
       "}\n",
       "\n",
       ".xr-sections {\n",
       "  padding-left: 0 !important;\n",
       "  display: grid;\n",
       "  grid-template-columns: 150px auto auto 1fr 20px 20px;\n",
       "}\n",
       "\n",
       ".xr-section-item {\n",
       "  display: contents;\n",
       "}\n",
       "\n",
       ".xr-section-item input {\n",
       "  display: none;\n",
       "}\n",
       "\n",
       ".xr-section-item input + label {\n",
       "  color: var(--xr-disabled-color);\n",
       "}\n",
       "\n",
       ".xr-section-item input:enabled + label {\n",
       "  cursor: pointer;\n",
       "  color: var(--xr-font-color2);\n",
       "}\n",
       "\n",
       ".xr-section-item input:enabled + label:hover {\n",
       "  color: var(--xr-font-color0);\n",
       "}\n",
       "\n",
       ".xr-section-summary {\n",
       "  grid-column: 1;\n",
       "  color: var(--xr-font-color2);\n",
       "  font-weight: 500;\n",
       "}\n",
       "\n",
       ".xr-section-summary > span {\n",
       "  display: inline-block;\n",
       "  padding-left: 0.5em;\n",
       "}\n",
       "\n",
       ".xr-section-summary-in:disabled + label {\n",
       "  color: var(--xr-font-color2);\n",
       "}\n",
       "\n",
       ".xr-section-summary-in + label:before {\n",
       "  display: inline-block;\n",
       "  content: '►';\n",
       "  font-size: 11px;\n",
       "  width: 15px;\n",
       "  text-align: center;\n",
       "}\n",
       "\n",
       ".xr-section-summary-in:disabled + label:before {\n",
       "  color: var(--xr-disabled-color);\n",
       "}\n",
       "\n",
       ".xr-section-summary-in:checked + label:before {\n",
       "  content: '▼';\n",
       "}\n",
       "\n",
       ".xr-section-summary-in:checked + label > span {\n",
       "  display: none;\n",
       "}\n",
       "\n",
       ".xr-section-summary,\n",
       ".xr-section-inline-details {\n",
       "  padding-top: 4px;\n",
       "  padding-bottom: 4px;\n",
       "}\n",
       "\n",
       ".xr-section-inline-details {\n",
       "  grid-column: 2 / -1;\n",
       "}\n",
       "\n",
       ".xr-section-details {\n",
       "  display: none;\n",
       "  grid-column: 1 / -1;\n",
       "  margin-bottom: 5px;\n",
       "}\n",
       "\n",
       ".xr-section-summary-in:checked ~ .xr-section-details {\n",
       "  display: contents;\n",
       "}\n",
       "\n",
       ".xr-array-wrap {\n",
       "  grid-column: 1 / -1;\n",
       "  display: grid;\n",
       "  grid-template-columns: 20px auto;\n",
       "}\n",
       "\n",
       ".xr-array-wrap > label {\n",
       "  grid-column: 1;\n",
       "  vertical-align: top;\n",
       "}\n",
       "\n",
       ".xr-preview {\n",
       "  color: var(--xr-font-color3);\n",
       "}\n",
       "\n",
       ".xr-array-preview,\n",
       ".xr-array-data {\n",
       "  padding: 0 5px !important;\n",
       "  grid-column: 2;\n",
       "}\n",
       "\n",
       ".xr-array-data,\n",
       ".xr-array-in:checked ~ .xr-array-preview {\n",
       "  display: none;\n",
       "}\n",
       "\n",
       ".xr-array-in:checked ~ .xr-array-data,\n",
       ".xr-array-preview {\n",
       "  display: inline-block;\n",
       "}\n",
       "\n",
       ".xr-dim-list {\n",
       "  display: inline-block !important;\n",
       "  list-style: none;\n",
       "  padding: 0 !important;\n",
       "  margin: 0;\n",
       "}\n",
       "\n",
       ".xr-dim-list li {\n",
       "  display: inline-block;\n",
       "  padding: 0;\n",
       "  margin: 0;\n",
       "}\n",
       "\n",
       ".xr-dim-list:before {\n",
       "  content: '(';\n",
       "}\n",
       "\n",
       ".xr-dim-list:after {\n",
       "  content: ')';\n",
       "}\n",
       "\n",
       ".xr-dim-list li:not(:last-child):after {\n",
       "  content: ',';\n",
       "  padding-right: 5px;\n",
       "}\n",
       "\n",
       ".xr-has-index {\n",
       "  font-weight: bold;\n",
       "}\n",
       "\n",
       ".xr-var-list,\n",
       ".xr-var-item {\n",
       "  display: contents;\n",
       "}\n",
       "\n",
       ".xr-var-item > div,\n",
       ".xr-var-item label,\n",
       ".xr-var-item > .xr-var-name span {\n",
       "  background-color: var(--xr-background-color-row-even);\n",
       "  margin-bottom: 0;\n",
       "}\n",
       "\n",
       ".xr-var-item > .xr-var-name:hover span {\n",
       "  padding-right: 5px;\n",
       "}\n",
       "\n",
       ".xr-var-list > li:nth-child(odd) > div,\n",
       ".xr-var-list > li:nth-child(odd) > label,\n",
       ".xr-var-list > li:nth-child(odd) > .xr-var-name span {\n",
       "  background-color: var(--xr-background-color-row-odd);\n",
       "}\n",
       "\n",
       ".xr-var-name {\n",
       "  grid-column: 1;\n",
       "}\n",
       "\n",
       ".xr-var-dims {\n",
       "  grid-column: 2;\n",
       "}\n",
       "\n",
       ".xr-var-dtype {\n",
       "  grid-column: 3;\n",
       "  text-align: right;\n",
       "  color: var(--xr-font-color2);\n",
       "}\n",
       "\n",
       ".xr-var-preview {\n",
       "  grid-column: 4;\n",
       "}\n",
       "\n",
       ".xr-var-name,\n",
       ".xr-var-dims,\n",
       ".xr-var-dtype,\n",
       ".xr-preview,\n",
       ".xr-attrs dt {\n",
       "  white-space: nowrap;\n",
       "  overflow: hidden;\n",
       "  text-overflow: ellipsis;\n",
       "  padding-right: 10px;\n",
       "}\n",
       "\n",
       ".xr-var-name:hover,\n",
       ".xr-var-dims:hover,\n",
       ".xr-var-dtype:hover,\n",
       ".xr-attrs dt:hover {\n",
       "  overflow: visible;\n",
       "  width: auto;\n",
       "  z-index: 1;\n",
       "}\n",
       "\n",
       ".xr-var-attrs,\n",
       ".xr-var-data {\n",
       "  display: none;\n",
       "  background-color: var(--xr-background-color) !important;\n",
       "  padding-bottom: 5px !important;\n",
       "}\n",
       "\n",
       ".xr-var-attrs-in:checked ~ .xr-var-attrs,\n",
       ".xr-var-data-in:checked ~ .xr-var-data {\n",
       "  display: block;\n",
       "}\n",
       "\n",
       ".xr-var-data > table {\n",
       "  float: right;\n",
       "}\n",
       "\n",
       ".xr-var-name span,\n",
       ".xr-var-data,\n",
       ".xr-attrs {\n",
       "  padding-left: 25px !important;\n",
       "}\n",
       "\n",
       ".xr-attrs,\n",
       ".xr-var-attrs,\n",
       ".xr-var-data {\n",
       "  grid-column: 1 / -1;\n",
       "}\n",
       "\n",
       "dl.xr-attrs {\n",
       "  padding: 0;\n",
       "  margin: 0;\n",
       "  display: grid;\n",
       "  grid-template-columns: 125px auto;\n",
       "}\n",
       "\n",
       ".xr-attrs dt,\n",
       ".xr-attrs dd {\n",
       "  padding: 0;\n",
       "  margin: 0;\n",
       "  float: left;\n",
       "  padding-right: 10px;\n",
       "  width: auto;\n",
       "}\n",
       "\n",
       ".xr-attrs dt {\n",
       "  font-weight: normal;\n",
       "  grid-column: 1;\n",
       "}\n",
       "\n",
       ".xr-attrs dt:hover span {\n",
       "  display: inline-block;\n",
       "  background: var(--xr-background-color);\n",
       "  padding-right: 10px;\n",
       "}\n",
       "\n",
       ".xr-attrs dd {\n",
       "  grid-column: 2;\n",
       "  white-space: pre-wrap;\n",
       "  word-break: break-all;\n",
       "}\n",
       "\n",
       ".xr-icon-database,\n",
       ".xr-icon-file-text2 {\n",
       "  display: inline-block;\n",
       "  vertical-align: middle;\n",
       "  width: 1em;\n",
       "  height: 1.5em !important;\n",
       "  stroke-width: 0;\n",
       "  stroke: currentColor;\n",
       "  fill: currentColor;\n",
       "}\n",
       "</style><pre class='xr-text-repr-fallback'>&lt;xarray.Dataset&gt;\n",
       "Dimensions:                 (dim_0: 4, dim_1: 4, t: 10001, x_idx: 4)\n",
       "Coordinates:\n",
       "  * t                       (t) float64 0.0 0.01 0.02 0.03 ... 99.98 99.99 100.0\n",
       "Dimensions without coordinates: dim_0, dim_1, x_idx\n",
       "Data variables: (12/35)\n",
       "    p_k1k1                  (t, dim_0, dim_1) float64 ...\n",
       "    p_kk1                   (t, dim_0, dim_1) float64 ...\n",
       "    phi                     (t, dim_0, dim_1) float64 ...\n",
       "    gamma                   (t, dim_0, dim_1) float64 ...\n",
       "    ps                      (t, dim_0, dim_1) float64 ...\n",
       "    x_k1k1                  (t, x_idx) float64 150.0 0.0 0.0 ... -21.56 0.6065\n",
       "    ...                      ...\n",
       "    w_smoothed_std          (t) float64 1.918e-05 1.918e-05 ... 1.884e-05\n",
       "    C_alpha_u_smoothed      (t) float64 0.6065 0.6065 0.6065 ... 0.6065 0.6065\n",
       "    C_alpha_u_smoothed_std  (t) float64 1.453e-07 1.453e-07 ... 1.453e-07\n",
       "    vm_filtered             (t) float64 150.0 145.0 146.3 ... 155.7 155.8 155.9\n",
       "    vm_smoothed             (t) float64 150.0 150.0 150.0 ... 155.7 155.8 155.9\n",
       "    alpha_estimate          (t) float64 -0.002846 -0.00201 ... -0.1433 -0.1424</pre><div class='xr-wrap' hidden><div class='xr-header'><div class='xr-obj-type'>xarray.Dataset</div></div><ul class='xr-sections'><li class='xr-section-item'><input id='section-94d21a5a-0f81-4634-ad2d-014fa123a7e5' class='xr-section-summary-in' type='checkbox' disabled ><label for='section-94d21a5a-0f81-4634-ad2d-014fa123a7e5' class='xr-section-summary'  title='Expand/collapse section'>Dimensions:</label><div class='xr-section-inline-details'><ul class='xr-dim-list'><li><span>dim_0</span>: 4</li><li><span>dim_1</span>: 4</li><li><span class='xr-has-index'>t</span>: 10001</li><li><span>x_idx</span>: 4</li></ul></div><div class='xr-section-details'></div></li><li class='xr-section-item'><input id='section-0c48d7b3-27c2-44f1-a51c-646c54a77ed0' class='xr-section-summary-in' type='checkbox'  checked><label for='section-0c48d7b3-27c2-44f1-a51c-646c54a77ed0' class='xr-section-summary' >Coordinates: <span>(1)</span></label><div class='xr-section-inline-details'></div><div class='xr-section-details'><ul class='xr-var-list'><li class='xr-var-item'><div class='xr-var-name'><span class='xr-has-index'>t</span></div><div class='xr-var-dims'>(t)</div><div class='xr-var-dtype'>float64</div><div class='xr-var-preview xr-preview'>0.0 0.01 0.02 ... 99.98 99.99 100.0</div><input id='attrs-efc82525-f846-4ca1-975a-e847a8fe6eb0' class='xr-var-attrs-in' type='checkbox' disabled><label for='attrs-efc82525-f846-4ca1-975a-e847a8fe6eb0' title='Show/Hide attributes'><svg class='icon xr-icon-file-text2'><use xlink:href='#icon-file-text2'></use></svg></label><input id='data-7984767b-66d5-4a94-b45e-818b69f27a65' class='xr-var-data-in' type='checkbox'><label for='data-7984767b-66d5-4a94-b45e-818b69f27a65' title='Show/Hide data repr'><svg class='icon xr-icon-database'><use xlink:href='#icon-database'></use></svg></label><div class='xr-var-attrs'><dl class='xr-attrs'></dl></div><div class='xr-var-data'><pre>array([0.000e+00, 1.000e-02, 2.000e-02, ..., 9.998e+01, 9.999e+01, 1.000e+02])</pre></div></li></ul></div></li><li class='xr-section-item'><input id='section-2017c9fd-4ff8-443e-b9e0-cf2039dd6f19' class='xr-section-summary-in' type='checkbox'  ><label for='section-2017c9fd-4ff8-443e-b9e0-cf2039dd6f19' class='xr-section-summary' >Data variables: <span>(35)</span></label><div class='xr-section-inline-details'></div><div class='xr-section-details'><ul class='xr-var-list'><li class='xr-var-item'><div class='xr-var-name'><span>p_k1k1</span></div><div class='xr-var-dims'>(t, dim_0, dim_1)</div><div class='xr-var-dtype'>float64</div><div class='xr-var-preview xr-preview'>...</div><input id='attrs-10d81158-568d-499c-977e-bf9ecc875eb8' class='xr-var-attrs-in' type='checkbox' disabled><label for='attrs-10d81158-568d-499c-977e-bf9ecc875eb8' title='Show/Hide attributes'><svg class='icon xr-icon-file-text2'><use xlink:href='#icon-file-text2'></use></svg></label><input id='data-2a4ec1ca-9754-4c0e-a8a9-314d531728be' class='xr-var-data-in' type='checkbox'><label for='data-2a4ec1ca-9754-4c0e-a8a9-314d531728be' title='Show/Hide data repr'><svg class='icon xr-icon-database'><use xlink:href='#icon-database'></use></svg></label><div class='xr-var-attrs'><dl class='xr-attrs'></dl></div><div class='xr-var-data'><pre>[160016 values with dtype=float64]</pre></div></li><li class='xr-var-item'><div class='xr-var-name'><span>p_kk1</span></div><div class='xr-var-dims'>(t, dim_0, dim_1)</div><div class='xr-var-dtype'>float64</div><div class='xr-var-preview xr-preview'>...</div><input id='attrs-41de5133-848d-412f-b4ba-f1ea156bca6c' class='xr-var-attrs-in' type='checkbox' disabled><label for='attrs-41de5133-848d-412f-b4ba-f1ea156bca6c' title='Show/Hide attributes'><svg class='icon xr-icon-file-text2'><use xlink:href='#icon-file-text2'></use></svg></label><input id='data-9e2302b0-ac3c-433f-b6be-96e950593613' class='xr-var-data-in' type='checkbox'><label for='data-9e2302b0-ac3c-433f-b6be-96e950593613' title='Show/Hide data repr'><svg class='icon xr-icon-database'><use xlink:href='#icon-database'></use></svg></label><div class='xr-var-attrs'><dl class='xr-attrs'></dl></div><div class='xr-var-data'><pre>[160016 values with dtype=float64]</pre></div></li><li class='xr-var-item'><div class='xr-var-name'><span>phi</span></div><div class='xr-var-dims'>(t, dim_0, dim_1)</div><div class='xr-var-dtype'>float64</div><div class='xr-var-preview xr-preview'>...</div><input id='attrs-8266d75e-cd5a-4514-82de-c69f0787df37' class='xr-var-attrs-in' type='checkbox' disabled><label for='attrs-8266d75e-cd5a-4514-82de-c69f0787df37' title='Show/Hide attributes'><svg class='icon xr-icon-file-text2'><use xlink:href='#icon-file-text2'></use></svg></label><input id='data-9b152925-4254-4b71-8bf9-e46bde36b1dd' class='xr-var-data-in' type='checkbox'><label for='data-9b152925-4254-4b71-8bf9-e46bde36b1dd' title='Show/Hide data repr'><svg class='icon xr-icon-database'><use xlink:href='#icon-database'></use></svg></label><div class='xr-var-attrs'><dl class='xr-attrs'></dl></div><div class='xr-var-data'><pre>[160016 values with dtype=float64]</pre></div></li><li class='xr-var-item'><div class='xr-var-name'><span>gamma</span></div><div class='xr-var-dims'>(t, dim_0, dim_1)</div><div class='xr-var-dtype'>float64</div><div class='xr-var-preview xr-preview'>...</div><input id='attrs-5885e8a4-b1ea-470f-8183-5cb4018d0052' class='xr-var-attrs-in' type='checkbox' disabled><label for='attrs-5885e8a4-b1ea-470f-8183-5cb4018d0052' title='Show/Hide attributes'><svg class='icon xr-icon-file-text2'><use xlink:href='#icon-file-text2'></use></svg></label><input id='data-56ea8a87-7d0f-49cd-b36b-3f15ad6432f3' class='xr-var-data-in' type='checkbox'><label for='data-56ea8a87-7d0f-49cd-b36b-3f15ad6432f3' title='Show/Hide data repr'><svg class='icon xr-icon-database'><use xlink:href='#icon-database'></use></svg></label><div class='xr-var-attrs'><dl class='xr-attrs'></dl></div><div class='xr-var-data'><pre>[160016 values with dtype=float64]</pre></div></li><li class='xr-var-item'><div class='xr-var-name'><span>ps</span></div><div class='xr-var-dims'>(t, dim_0, dim_1)</div><div class='xr-var-dtype'>float64</div><div class='xr-var-preview xr-preview'>...</div><input id='attrs-ad3096e3-e682-4aa9-a180-033acce65eda' class='xr-var-attrs-in' type='checkbox' disabled><label for='attrs-ad3096e3-e682-4aa9-a180-033acce65eda' title='Show/Hide attributes'><svg class='icon xr-icon-file-text2'><use xlink:href='#icon-file-text2'></use></svg></label><input id='data-d613f036-6564-4b55-97cf-c72634917b75' class='xr-var-data-in' type='checkbox'><label for='data-d613f036-6564-4b55-97cf-c72634917b75' title='Show/Hide data repr'><svg class='icon xr-icon-database'><use xlink:href='#icon-database'></use></svg></label><div class='xr-var-attrs'><dl class='xr-attrs'></dl></div><div class='xr-var-data'><pre>[160016 values with dtype=float64]</pre></div></li><li class='xr-var-item'><div class='xr-var-name'><span>x_k1k1</span></div><div class='xr-var-dims'>(t, x_idx)</div><div class='xr-var-dtype'>float64</div><div class='xr-var-preview xr-preview'>...</div><input id='attrs-9855950b-a32a-482a-bb7e-6a5bb704358e' class='xr-var-attrs-in' type='checkbox' disabled><label for='attrs-9855950b-a32a-482a-bb7e-6a5bb704358e' title='Show/Hide attributes'><svg class='icon xr-icon-file-text2'><use xlink:href='#icon-file-text2'></use></svg></label><input id='data-427af220-e491-4d3e-b1d8-a22a5ed1349b' class='xr-var-data-in' type='checkbox'><label for='data-427af220-e491-4d3e-b1d8-a22a5ed1349b' title='Show/Hide data repr'><svg class='icon xr-icon-database'><use xlink:href='#icon-database'></use></svg></label><div class='xr-var-attrs'><dl class='xr-attrs'></dl></div><div class='xr-var-data'><pre>array([[150.      ,   0.      ,   0.      ,   0.606546],\n",
       "       [144.99145 ,   0.175057,  -0.223497,   0.638093],\n",
       "       [146.274307,   0.273804,  -0.252987,   0.640004],\n",
       "       ...,\n",
       "       [149.571649,  37.963743, -20.612827,   0.606586],\n",
       "       [149.548596,  38.205292, -21.103009,   0.606566],\n",
       "       [149.526453,  38.442623, -21.562935,   0.606546]])</pre></div></li><li class='xr-var-item'><div class='xr-var-name'><span>x_kk1</span></div><div class='xr-var-dims'>(t, x_idx)</div><div class='xr-var-dtype'>float64</div><div class='xr-var-preview xr-preview'>...</div><input id='attrs-ffc148f2-bc97-49ae-8508-fc18e9b11368' class='xr-var-attrs-in' type='checkbox' disabled><label for='attrs-ffc148f2-bc97-49ae-8508-fc18e9b11368' title='Show/Hide attributes'><svg class='icon xr-icon-file-text2'><use xlink:href='#icon-file-text2'></use></svg></label><input id='data-c6a72bf1-2b98-4186-9482-2f12b992ed60' class='xr-var-data-in' type='checkbox'><label for='data-c6a72bf1-2b98-4186-9482-2f12b992ed60' title='Show/Hide data repr'><svg class='icon xr-icon-database'><use xlink:href='#icon-database'></use></svg></label><div class='xr-var-attrs'><dl class='xr-attrs'></dl></div><div class='xr-var-data'><pre>array([[ 1.500000e+02,  0.000000e+00,  0.000000e+00,  6.065461e-01],\n",
       "       [ 1.500000e+02,  4.500000e-03,  2.854526e-09,  6.065461e-01],\n",
       "       [ 1.449915e+02,  1.795559e-01, -2.232715e-01,  6.380927e-01],\n",
       "       ...,\n",
       "       [ 1.495722e+02,  3.796653e+01, -2.061397e+01,  6.066052e-01],\n",
       "       [ 1.495492e+02,  3.820835e+01, -2.110428e+01,  6.065864e-01],\n",
       "       [ 1.495271e+02,  3.844578e+01, -2.156423e+01,  6.065657e-01]])</pre></div></li><li class='xr-var-item'><div class='xr-var-name'><span>xs</span></div><div class='xr-var-dims'>(t, x_idx)</div><div class='xr-var-dtype'>float64</div><div class='xr-var-preview xr-preview'>...</div><input id='attrs-48878375-7613-48ab-a0e4-86313a304e0f' class='xr-var-attrs-in' type='checkbox' disabled><label for='attrs-48878375-7613-48ab-a0e4-86313a304e0f' title='Show/Hide attributes'><svg class='icon xr-icon-file-text2'><use xlink:href='#icon-file-text2'></use></svg></label><input id='data-56419c01-4714-4cb9-99da-4843d0e957a8' class='xr-var-data-in' type='checkbox'><label for='data-56419c01-4714-4cb9-99da-4843d0e957a8' title='Show/Hide data repr'><svg class='icon xr-icon-database'><use xlink:href='#icon-database'></use></svg></label><div class='xr-var-attrs'><dl class='xr-attrs'></dl></div><div class='xr-var-data'><pre>array([[ 1.500336e+02, -8.298827e-02, -3.775603e-02,  6.065459e-01],\n",
       "       [ 1.500336e+02, -7.848827e-02, -3.775603e-02,  6.065459e-01],\n",
       "       [ 1.500336e+02, -7.398895e-02, -3.753104e-02,  6.065459e-01],\n",
       "       ...,\n",
       "       [ 1.495704e+02,  3.795753e+01, -2.061026e+01,  6.065459e-01],\n",
       "       [ 1.495480e+02,  3.820213e+01, -2.110172e+01,  6.065459e-01],\n",
       "       [ 1.495265e+02,  3.844262e+01, -2.156293e+01,  6.065459e-01]])</pre></div></li><li class='xr-var-item'><div class='xr-var-name'><span>alpha_m</span></div><div class='xr-var-dims'>(t)</div><div class='xr-var-dtype'>float64</div><div class='xr-var-preview xr-preview'>...</div><input id='attrs-84660f20-73f6-4d70-bd18-327484de5e43' class='xr-var-attrs-in' type='checkbox' disabled><label for='attrs-84660f20-73f6-4d70-bd18-327484de5e43' title='Show/Hide attributes'><svg class='icon xr-icon-file-text2'><use xlink:href='#icon-file-text2'></use></svg></label><input id='data-6bdd43dd-9aa7-4b6a-97f8-a58a81e528a2' class='xr-var-data-in' type='checkbox'><label for='data-6bdd43dd-9aa7-4b6a-97f8-a58a81e528a2' title='Show/Hide data repr'><svg class='icon xr-icon-database'><use xlink:href='#icon-database'></use></svg></label><div class='xr-var-attrs'><dl class='xr-attrs'></dl></div><div class='xr-var-data'><pre>array([-0.004572, -0.003229, -0.004428, ..., -0.219024, -0.230254, -0.228772])</pre></div></li><li class='xr-var-item'><div class='xr-var-name'><span>beta_m</span></div><div class='xr-var-dims'>(t)</div><div class='xr-var-dtype'>float64</div><div class='xr-var-preview xr-preview'>...</div><input id='attrs-b0eba4d1-446b-491a-a045-3ea15412fff7' class='xr-var-attrs-in' type='checkbox' disabled><label for='attrs-b0eba4d1-446b-491a-a045-3ea15412fff7' title='Show/Hide attributes'><svg class='icon xr-icon-file-text2'><use xlink:href='#icon-file-text2'></use></svg></label><input id='data-346033bd-2040-4930-a60c-7aaa7bf060bc' class='xr-var-data-in' type='checkbox'><label for='data-346033bd-2040-4930-a60c-7aaa7bf060bc' title='Show/Hide data repr'><svg class='icon xr-icon-database'><use xlink:href='#icon-database'></use></svg></label><div class='xr-var-attrs'><dl class='xr-attrs'></dl></div><div class='xr-var-data'><pre>array([0.002069, 0.002634, 0.000558, ..., 0.257857, 0.25428 , 0.257411])</pre></div></li><li class='xr-var-item'><div class='xr-var-name'><span>V_m</span></div><div class='xr-var-dims'>(t)</div><div class='xr-var-dtype'>float64</div><div class='xr-var-preview xr-preview'>...</div><input id='attrs-27cbd6a6-696a-43df-8293-d25b4021c785' class='xr-var-attrs-in' type='checkbox' disabled><label for='attrs-27cbd6a6-696a-43df-8293-d25b4021c785' title='Show/Hide attributes'><svg class='icon xr-icon-file-text2'><use xlink:href='#icon-file-text2'></use></svg></label><input id='data-586aff38-71aa-4fdf-8cca-d9ff75328962' class='xr-var-data-in' type='checkbox'><label for='data-586aff38-71aa-4fdf-8cca-d9ff75328962' title='Show/Hide data repr'><svg class='icon xr-icon-database'><use xlink:href='#icon-database'></use></svg></label><div class='xr-var-attrs'><dl class='xr-attrs'></dl></div><div class='xr-var-data'><pre>array([144.928908, 147.573892, 153.37962 , ..., 152.071844, 152.11282 ,\n",
       "       153.918162])</pre></div></li><li class='xr-var-item'><div class='xr-var-name'><span>udot</span></div><div class='xr-var-dims'>(t)</div><div class='xr-var-dtype'>float64</div><div class='xr-var-preview xr-preview'>...</div><input id='attrs-233f713a-6c35-466e-8916-6568853bbf59' class='xr-var-attrs-in' type='checkbox' disabled><label for='attrs-233f713a-6c35-466e-8916-6568853bbf59' title='Show/Hide attributes'><svg class='icon xr-icon-file-text2'><use xlink:href='#icon-file-text2'></use></svg></label><input id='data-24b9fc2a-ecf0-46b8-ac12-0c66c29115f4' class='xr-var-data-in' type='checkbox'><label for='data-24b9fc2a-ecf0-46b8-ac12-0c66c29115f4' title='Show/Hide data repr'><svg class='icon xr-icon-database'><use xlink:href='#icon-database'></use></svg></label><div class='xr-var-attrs'><dl class='xr-attrs'></dl></div><div class='xr-var-data'><pre>array([ 1.043416e-05,  6.842761e-06,  4.019559e-06, ..., -2.244409e+00,\n",
       "       -2.152592e+00, -2.049869e+00])</pre></div></li><li class='xr-var-item'><div class='xr-var-name'><span>vdot</span></div><div class='xr-var-dims'>(t)</div><div class='xr-var-dtype'>float64</div><div class='xr-var-preview xr-preview'>...</div><input id='attrs-d86a7882-77aa-4c3a-88aa-346b306b7280' class='xr-var-attrs-in' type='checkbox' disabled><label for='attrs-d86a7882-77aa-4c3a-88aa-346b306b7280' title='Show/Hide attributes'><svg class='icon xr-icon-file-text2'><use xlink:href='#icon-file-text2'></use></svg></label><input id='data-e5c90e4b-4ffe-4cf0-bce5-61b8c7b479ad' class='xr-var-data-in' type='checkbox'><label for='data-e5c90e4b-4ffe-4cf0-bce5-61b8c7b479ad' title='Show/Hide data repr'><svg class='icon xr-icon-database'><use xlink:href='#icon-database'></use></svg></label><div class='xr-var-attrs'><dl class='xr-attrs'></dl></div><div class='xr-var-data'><pre>array([ 0.45    ,  0.449932,  0.44973 , ..., 24.460468, 24.049088, 23.629135])</pre></div></li><li class='xr-var-item'><div class='xr-var-name'><span>wdot</span></div><div class='xr-var-dims'>(t)</div><div class='xr-var-dtype'>float64</div><div class='xr-var-preview xr-preview'>...</div><input id='attrs-95436096-2775-4eae-9674-0e3f1de1ad79' class='xr-var-attrs-in' type='checkbox' disabled><label for='attrs-95436096-2775-4eae-9674-0e3f1de1ad79' title='Show/Hide attributes'><svg class='icon xr-icon-file-text2'><use xlink:href='#icon-file-text2'></use></svg></label><input id='data-279e46b9-b4ce-4518-8e5f-4a7a720f8214' class='xr-var-data-in' type='checkbox'><label for='data-279e46b9-b4ce-4518-8e5f-4a7a720f8214' title='Show/Hide data repr'><svg class='icon xr-icon-database'><use xlink:href='#icon-database'></use></svg></label><div class='xr-var-attrs'><dl class='xr-attrs'></dl></div><div class='xr-var-data'><pre>array([ 2.854526e-07,  2.249946e-02,  4.499439e-02, ..., -4.914529e+01,\n",
       "       -4.612174e+01, -4.306610e+01])</pre></div></li><li class='xr-var-item'><div class='xr-var-name'><span>c_m</span></div><div class='xr-var-dims'>(t)</div><div class='xr-var-dtype'>float64</div><div class='xr-var-preview xr-preview'>...</div><input id='attrs-e882095e-fb21-42de-b818-6c29fcfa4abf' class='xr-var-attrs-in' type='checkbox' disabled><label for='attrs-e882095e-fb21-42de-b818-6c29fcfa4abf' title='Show/Hide attributes'><svg class='icon xr-icon-file-text2'><use xlink:href='#icon-file-text2'></use></svg></label><input id='data-e6cf6260-d437-4325-95a8-529f47ccc756' class='xr-var-data-in' type='checkbox'><label for='data-e6cf6260-d437-4325-95a8-529f47ccc756' title='Show/Hide data repr'><svg class='icon xr-icon-database'><use xlink:href='#icon-database'></use></svg></label><div class='xr-var-attrs'><dl class='xr-attrs'></dl></div><div class='xr-var-data'><pre>array([-0.057974, -0.058735, -0.058492, ..., -0.033296, -0.030539, -0.025372])</pre></div></li><li class='xr-var-item'><div class='xr-var-name'><span>iekf_i_count</span></div><div class='xr-var-dims'>(t)</div><div class='xr-var-dtype'>int32</div><div class='xr-var-preview xr-preview'>...</div><input id='attrs-6a187ab7-e7f2-4302-a76e-ec1979d7f389' class='xr-var-attrs-in' type='checkbox' disabled><label for='attrs-6a187ab7-e7f2-4302-a76e-ec1979d7f389' title='Show/Hide attributes'><svg class='icon xr-icon-file-text2'><use xlink:href='#icon-file-text2'></use></svg></label><input id='data-de71996f-03dc-4709-a7a8-15f2793427cd' class='xr-var-data-in' type='checkbox'><label for='data-de71996f-03dc-4709-a7a8-15f2793427cd' title='Show/Hide data repr'><svg class='icon xr-icon-database'><use xlink:href='#icon-database'></use></svg></label><div class='xr-var-attrs'><dl class='xr-attrs'></dl></div><div class='xr-var-data'><pre>array([ 0,  9, 10, ...,  3,  3,  3], dtype=int32)</pre></div></li><li class='xr-var-item'><div class='xr-var-name'><span>u_filtered</span></div><div class='xr-var-dims'>(t)</div><div class='xr-var-dtype'>float64</div><div class='xr-var-preview xr-preview'>...</div><input id='attrs-e6e9745a-64c9-4b75-85cf-6ba37078462d' class='xr-var-attrs-in' type='checkbox' disabled><label for='attrs-e6e9745a-64c9-4b75-85cf-6ba37078462d' title='Show/Hide attributes'><svg class='icon xr-icon-file-text2'><use xlink:href='#icon-file-text2'></use></svg></label><input id='data-18f45eb3-2f2d-411c-9fe3-0b69fceb3b1f' class='xr-var-data-in' type='checkbox'><label for='data-18f45eb3-2f2d-411c-9fe3-0b69fceb3b1f' title='Show/Hide data repr'><svg class='icon xr-icon-database'><use xlink:href='#icon-database'></use></svg></label><div class='xr-var-attrs'><dl class='xr-attrs'></dl></div><div class='xr-var-data'><pre>array([150.      , 144.99145 , 146.274307, ..., 149.571649, 149.548596,\n",
       "       149.526453])</pre></div></li><li class='xr-var-item'><div class='xr-var-name'><span>u_filtered_std</span></div><div class='xr-var-dims'>(t)</div><div class='xr-var-dtype'>float64</div><div class='xr-var-preview xr-preview'>...</div><input id='attrs-6c5f6dc7-1653-489c-8a6a-4206efb9f643' class='xr-var-attrs-in' type='checkbox' disabled><label for='attrs-6c5f6dc7-1653-489c-8a6a-4206efb9f643' title='Show/Hide attributes'><svg class='icon xr-icon-file-text2'><use xlink:href='#icon-file-text2'></use></svg></label><input id='data-0b0f3d91-403e-4567-a227-063e6a06e7de' class='xr-var-data-in' type='checkbox'><label for='data-0b0f3d91-403e-4567-a227-063e6a06e7de' title='Show/Hide data repr'><svg class='icon xr-icon-database'><use xlink:href='#icon-database'></use></svg></label><div class='xr-var-attrs'><dl class='xr-attrs'></dl></div><div class='xr-var-data'><pre>array([1.000000e+00, 1.239021e-02, 6.234285e-03, ..., 1.862564e-06,\n",
       "       1.862326e-06, 1.862086e-06])</pre></div></li><li class='xr-var-item'><div class='xr-var-name'><span>v_filtered</span></div><div class='xr-var-dims'>(t)</div><div class='xr-var-dtype'>float64</div><div class='xr-var-preview xr-preview'>...</div><input id='attrs-1cabc698-b77d-4c8b-a0fc-b9e237740f81' class='xr-var-attrs-in' type='checkbox' disabled><label for='attrs-1cabc698-b77d-4c8b-a0fc-b9e237740f81' title='Show/Hide attributes'><svg class='icon xr-icon-file-text2'><use xlink:href='#icon-file-text2'></use></svg></label><input id='data-7bdd8793-9805-4222-b038-38ba8745b404' class='xr-var-data-in' type='checkbox'><label for='data-7bdd8793-9805-4222-b038-38ba8745b404' title='Show/Hide data repr'><svg class='icon xr-icon-database'><use xlink:href='#icon-database'></use></svg></label><div class='xr-var-attrs'><dl class='xr-attrs'></dl></div><div class='xr-var-data'><pre>array([ 0.      ,  0.175057,  0.273804, ..., 37.963743, 38.205292, 38.442623])</pre></div></li><li class='xr-var-item'><div class='xr-var-name'><span>v_filtered_std</span></div><div class='xr-var-dims'>(t)</div><div class='xr-var-dtype'>float64</div><div class='xr-var-preview xr-preview'>...</div><input id='attrs-ccd61eb9-5ae2-476b-90be-ffbe9969a01b' class='xr-var-attrs-in' type='checkbox' disabled><label for='attrs-ccd61eb9-5ae2-476b-90be-ffbe9969a01b' title='Show/Hide attributes'><svg class='icon xr-icon-file-text2'><use xlink:href='#icon-file-text2'></use></svg></label><input id='data-17d48db9-c50d-4c8f-85e9-a3aa5924060a' class='xr-var-data-in' type='checkbox'><label for='data-17d48db9-c50d-4c8f-85e9-a3aa5924060a' title='Show/Hide data repr'><svg class='icon xr-icon-database'><use xlink:href='#icon-database'></use></svg></label><div class='xr-var-attrs'><dl class='xr-attrs'></dl></div><div class='xr-var-data'><pre>array([1.000000e+00, 4.142451e-01, 2.629239e-01, ..., 4.285008e-05,\n",
       "       4.283914e-05, 4.282812e-05])</pre></div></li><li class='xr-var-item'><div class='xr-var-name'><span>w_filtered</span></div><div class='xr-var-dims'>(t)</div><div class='xr-var-dtype'>float64</div><div class='xr-var-preview xr-preview'>...</div><input id='attrs-fe256493-9b9a-4ac2-9ed9-1f998fd3a0e6' class='xr-var-attrs-in' type='checkbox' disabled><label for='attrs-fe256493-9b9a-4ac2-9ed9-1f998fd3a0e6' title='Show/Hide attributes'><svg class='icon xr-icon-file-text2'><use xlink:href='#icon-file-text2'></use></svg></label><input id='data-c9743fdd-649f-4ff2-8dc5-31c4dc32d42c' class='xr-var-data-in' type='checkbox'><label for='data-c9743fdd-649f-4ff2-8dc5-31c4dc32d42c' title='Show/Hide data repr'><svg class='icon xr-icon-database'><use xlink:href='#icon-database'></use></svg></label><div class='xr-var-attrs'><dl class='xr-attrs'></dl></div><div class='xr-var-data'><pre>array([  0.      ,  -0.223497,  -0.252987, ..., -20.612827, -21.103009,\n",
       "       -21.562935])</pre></div></li><li class='xr-var-item'><div class='xr-var-name'><span>w_filtered_std</span></div><div class='xr-var-dims'>(t)</div><div class='xr-var-dtype'>float64</div><div class='xr-var-preview xr-preview'>...</div><input id='attrs-caf35966-bf92-4d3b-a22a-12e33cb82eb2' class='xr-var-attrs-in' type='checkbox' disabled><label for='attrs-caf35966-bf92-4d3b-a22a-12e33cb82eb2' title='Show/Hide attributes'><svg class='icon xr-icon-file-text2'><use xlink:href='#icon-file-text2'></use></svg></label><input id='data-af66c192-561d-49b0-9a7e-8d400d06eddb' class='xr-var-data-in' type='checkbox'><label for='data-af66c192-561d-49b0-9a7e-8d400d06eddb' title='Show/Hide data repr'><svg class='icon xr-icon-database'><use xlink:href='#icon-database'></use></svg></label><div class='xr-var-attrs'><dl class='xr-attrs'></dl></div><div class='xr-var-data'><pre>array([1.000000e+00, 4.450787e-01, 2.936942e-01, ..., 1.884504e-05,\n",
       "       1.884319e-05, 1.884130e-05])</pre></div></li><li class='xr-var-item'><div class='xr-var-name'><span>C_alpha_u_filtered</span></div><div class='xr-var-dims'>(t)</div><div class='xr-var-dtype'>float64</div><div class='xr-var-preview xr-preview'>...</div><input id='attrs-1904aedc-5a36-4c4a-b519-4461d66bff52' class='xr-var-attrs-in' type='checkbox' disabled><label for='attrs-1904aedc-5a36-4c4a-b519-4461d66bff52' title='Show/Hide attributes'><svg class='icon xr-icon-file-text2'><use xlink:href='#icon-file-text2'></use></svg></label><input id='data-81e938dd-acdd-4fa5-9c90-24d670602f28' class='xr-var-data-in' type='checkbox'><label for='data-81e938dd-acdd-4fa5-9c90-24d670602f28' title='Show/Hide data repr'><svg class='icon xr-icon-database'><use xlink:href='#icon-database'></use></svg></label><div class='xr-var-attrs'><dl class='xr-attrs'></dl></div><div class='xr-var-data'><pre>array([0.606546, 0.638093, 0.640004, ..., 0.606586, 0.606566, 0.606546])</pre></div></li><li class='xr-var-item'><div class='xr-var-name'><span>C_alpha_u_filtered_std</span></div><div class='xr-var-dims'>(t)</div><div class='xr-var-dtype'>float64</div><div class='xr-var-preview xr-preview'>...</div><input id='attrs-af93ef3c-60d8-496d-bf25-fe1c29502ad4' class='xr-var-attrs-in' type='checkbox' disabled><label for='attrs-af93ef3c-60d8-496d-bf25-fe1c29502ad4' title='Show/Hide attributes'><svg class='icon xr-icon-file-text2'><use xlink:href='#icon-file-text2'></use></svg></label><input id='data-a3c36914-3fff-4e39-9db0-66a55dbfa5de' class='xr-var-data-in' type='checkbox'><label for='data-a3c36914-3fff-4e39-9db0-66a55dbfa5de' title='Show/Hide data repr'><svg class='icon xr-icon-database'><use xlink:href='#icon-database'></use></svg></label><div class='xr-var-attrs'><dl class='xr-attrs'></dl></div><div class='xr-var-data'><pre>array([1.000000e+00, 9.896701e-01, 9.848972e-01, ..., 1.452807e-07,\n",
       "       1.452752e-07, 1.452695e-07])</pre></div></li><li class='xr-var-item'><div class='xr-var-name'><span>u_smoothed</span></div><div class='xr-var-dims'>(t)</div><div class='xr-var-dtype'>float64</div><div class='xr-var-preview xr-preview'>...</div><input id='attrs-94ec9a73-1c45-4d4a-bc24-ab08488f3b84' class='xr-var-attrs-in' type='checkbox' disabled><label for='attrs-94ec9a73-1c45-4d4a-bc24-ab08488f3b84' title='Show/Hide attributes'><svg class='icon xr-icon-file-text2'><use xlink:href='#icon-file-text2'></use></svg></label><input id='data-a26fb4b7-6505-47f2-b4f8-e483763d3211' class='xr-var-data-in' type='checkbox'><label for='data-a26fb4b7-6505-47f2-b4f8-e483763d3211' title='Show/Hide data repr'><svg class='icon xr-icon-database'><use xlink:href='#icon-database'></use></svg></label><div class='xr-var-attrs'><dl class='xr-attrs'></dl></div><div class='xr-var-data'><pre>array([150.03356 , 150.03356 , 150.03356 , ..., 149.570423, 149.547979,\n",
       "       149.526453])</pre></div></li><li class='xr-var-item'><div class='xr-var-name'><span>u_smoothed_std</span></div><div class='xr-var-dims'>(t)</div><div class='xr-var-dtype'>float64</div><div class='xr-var-preview xr-preview'>...</div><input id='attrs-51c59a81-71f4-4a61-ad9e-e4f41ae64a43' class='xr-var-attrs-in' type='checkbox' disabled><label for='attrs-51c59a81-71f4-4a61-ad9e-e4f41ae64a43' title='Show/Hide attributes'><svg class='icon xr-icon-file-text2'><use xlink:href='#icon-file-text2'></use></svg></label><input id='data-3267bbc9-7d63-4cf5-932b-2c8a6e081e33' class='xr-var-data-in' type='checkbox'><label for='data-3267bbc9-7d63-4cf5-932b-2c8a6e081e33' title='Show/Hide data repr'><svg class='icon xr-icon-database'><use xlink:href='#icon-database'></use></svg></label><div class='xr-var-attrs'><dl class='xr-attrs'></dl></div><div class='xr-var-data'><pre>array([1.777763e-06, 1.777663e-06, 1.777563e-06, ..., 1.861886e-06,\n",
       "       1.861986e-06, 1.862086e-06])</pre></div></li><li class='xr-var-item'><div class='xr-var-name'><span>v_smoothed</span></div><div class='xr-var-dims'>(t)</div><div class='xr-var-dtype'>float64</div><div class='xr-var-preview xr-preview'>...</div><input id='attrs-26dfa3eb-e904-4bd3-9d47-618f047ebcc4' class='xr-var-attrs-in' type='checkbox' disabled><label for='attrs-26dfa3eb-e904-4bd3-9d47-618f047ebcc4' title='Show/Hide attributes'><svg class='icon xr-icon-file-text2'><use xlink:href='#icon-file-text2'></use></svg></label><input id='data-8a738b56-d9ce-496a-9fcf-84fe2af37654' class='xr-var-data-in' type='checkbox'><label for='data-8a738b56-d9ce-496a-9fcf-84fe2af37654' title='Show/Hide data repr'><svg class='icon xr-icon-database'><use xlink:href='#icon-database'></use></svg></label><div class='xr-var-attrs'><dl class='xr-attrs'></dl></div><div class='xr-var-data'><pre>array([-0.082988, -0.078488, -0.073989, ..., 37.957527, 38.202132, 38.442623])</pre></div></li><li class='xr-var-item'><div class='xr-var-name'><span>v_smoothed_std</span></div><div class='xr-var-dims'>(t)</div><div class='xr-var-dtype'>float64</div><div class='xr-var-preview xr-preview'>...</div><input id='attrs-501651ad-ea45-47b6-b8e4-472933c6fe6f' class='xr-var-attrs-in' type='checkbox' disabled><label for='attrs-501651ad-ea45-47b6-b8e4-472933c6fe6f' title='Show/Hide attributes'><svg class='icon xr-icon-file-text2'><use xlink:href='#icon-file-text2'></use></svg></label><input id='data-6e7967e1-96cd-4e16-ba97-d7ce112fa319' class='xr-var-data-in' type='checkbox'><label for='data-6e7967e1-96cd-4e16-ba97-d7ce112fa319' title='Show/Hide data repr'><svg class='icon xr-icon-database'><use xlink:href='#icon-database'></use></svg></label><div class='xr-var-attrs'><dl class='xr-attrs'></dl></div><div class='xr-var-data'><pre>array([4.304089e-05, 4.304079e-05, 4.304069e-05, ..., 4.282792e-05,\n",
       "       4.282802e-05, 4.282812e-05])</pre></div></li><li class='xr-var-item'><div class='xr-var-name'><span>w_smoothed</span></div><div class='xr-var-dims'>(t)</div><div class='xr-var-dtype'>float64</div><div class='xr-var-preview xr-preview'>...</div><input id='attrs-11b0da9b-6317-4a29-8f5d-47c5982d711f' class='xr-var-attrs-in' type='checkbox' disabled><label for='attrs-11b0da9b-6317-4a29-8f5d-47c5982d711f' title='Show/Hide attributes'><svg class='icon xr-icon-file-text2'><use xlink:href='#icon-file-text2'></use></svg></label><input id='data-09f026da-7907-4478-baba-51192f538f9b' class='xr-var-data-in' type='checkbox'><label for='data-09f026da-7907-4478-baba-51192f538f9b' title='Show/Hide data repr'><svg class='icon xr-icon-database'><use xlink:href='#icon-database'></use></svg></label><div class='xr-var-attrs'><dl class='xr-attrs'></dl></div><div class='xr-var-data'><pre>array([ -0.037756,  -0.037756,  -0.037531, ..., -20.610265, -21.101717,\n",
       "       -21.562935])</pre></div></li><li class='xr-var-item'><div class='xr-var-name'><span>w_smoothed_std</span></div><div class='xr-var-dims'>(t)</div><div class='xr-var-dtype'>float64</div><div class='xr-var-preview xr-preview'>...</div><input id='attrs-063728b7-fc64-4d39-8268-4eb60543d98a' class='xr-var-attrs-in' type='checkbox' disabled><label for='attrs-063728b7-fc64-4d39-8268-4eb60543d98a' title='Show/Hide attributes'><svg class='icon xr-icon-file-text2'><use xlink:href='#icon-file-text2'></use></svg></label><input id='data-1fce8b9e-9687-484d-b57f-3be4fb14df64' class='xr-var-data-in' type='checkbox'><label for='data-1fce8b9e-9687-484d-b57f-3be4fb14df64' title='Show/Hide data repr'><svg class='icon xr-icon-database'><use xlink:href='#icon-database'></use></svg></label><div class='xr-var-attrs'><dl class='xr-attrs'></dl></div><div class='xr-var-data'><pre>array([1.918237e-05, 1.918227e-05, 1.918217e-05, ..., 1.884110e-05,\n",
       "       1.884120e-05, 1.884130e-05])</pre></div></li><li class='xr-var-item'><div class='xr-var-name'><span>C_alpha_u_smoothed</span></div><div class='xr-var-dims'>(t)</div><div class='xr-var-dtype'>float64</div><div class='xr-var-preview xr-preview'>...</div><input id='attrs-72ba9618-f6ac-408b-bc00-7e63d626a478' class='xr-var-attrs-in' type='checkbox' disabled><label for='attrs-72ba9618-f6ac-408b-bc00-7e63d626a478' title='Show/Hide attributes'><svg class='icon xr-icon-file-text2'><use xlink:href='#icon-file-text2'></use></svg></label><input id='data-f5d44c4f-4b7c-43b6-a24e-fa0a6f7d5d00' class='xr-var-data-in' type='checkbox'><label for='data-f5d44c4f-4b7c-43b6-a24e-fa0a6f7d5d00' title='Show/Hide data repr'><svg class='icon xr-icon-database'><use xlink:href='#icon-database'></use></svg></label><div class='xr-var-attrs'><dl class='xr-attrs'></dl></div><div class='xr-var-data'><pre>array([0.606546, 0.606546, 0.606546, ..., 0.606546, 0.606546, 0.606546])</pre></div></li><li class='xr-var-item'><div class='xr-var-name'><span>C_alpha_u_smoothed_std</span></div><div class='xr-var-dims'>(t)</div><div class='xr-var-dtype'>float64</div><div class='xr-var-preview xr-preview'>...</div><input id='attrs-aa361df3-f413-41ad-b3e8-af56848ac710' class='xr-var-attrs-in' type='checkbox' disabled><label for='attrs-aa361df3-f413-41ad-b3e8-af56848ac710' title='Show/Hide attributes'><svg class='icon xr-icon-file-text2'><use xlink:href='#icon-file-text2'></use></svg></label><input id='data-0fd524c6-1af4-4c4d-b787-fae0c673b29e' class='xr-var-data-in' type='checkbox'><label for='data-0fd524c6-1af4-4c4d-b787-fae0c673b29e' title='Show/Hide data repr'><svg class='icon xr-icon-database'><use xlink:href='#icon-database'></use></svg></label><div class='xr-var-attrs'><dl class='xr-attrs'></dl></div><div class='xr-var-data'><pre>array([1.452695e-07, 1.452695e-07, 1.452695e-07, ..., 1.452695e-07,\n",
       "       1.452695e-07, 1.452695e-07])</pre></div></li><li class='xr-var-item'><div class='xr-var-name'><span>vm_filtered</span></div><div class='xr-var-dims'>(t)</div><div class='xr-var-dtype'>float64</div><div class='xr-var-preview xr-preview'>...</div><input id='attrs-4f3068a0-5401-4883-87ac-c360aa1742a9' class='xr-var-attrs-in' type='checkbox' disabled><label for='attrs-4f3068a0-5401-4883-87ac-c360aa1742a9' title='Show/Hide attributes'><svg class='icon xr-icon-file-text2'><use xlink:href='#icon-file-text2'></use></svg></label><input id='data-9d4eb5d7-ad54-4c43-b90b-fe4dcea4a800' class='xr-var-data-in' type='checkbox'><label for='data-9d4eb5d7-ad54-4c43-b90b-fe4dcea4a800' title='Show/Hide data repr'><svg class='icon xr-icon-database'><use xlink:href='#icon-database'></use></svg></label><div class='xr-var-attrs'><dl class='xr-attrs'></dl></div><div class='xr-var-data'><pre>array([150.      , 144.991728, 146.274782, ..., 155.684979, 155.787561,\n",
       "       155.887638])</pre></div></li><li class='xr-var-item'><div class='xr-var-name'><span>vm_smoothed</span></div><div class='xr-var-dims'>(t)</div><div class='xr-var-dtype'>float64</div><div class='xr-var-preview xr-preview'>...</div><input id='attrs-a44a25e9-150f-484f-9ed9-00d78e301d19' class='xr-var-attrs-in' type='checkbox' disabled><label for='attrs-a44a25e9-150f-484f-9ed9-00d78e301d19' title='Show/Hide attributes'><svg class='icon xr-icon-file-text2'><use xlink:href='#icon-file-text2'></use></svg></label><input id='data-6686f9ef-e510-4e28-bdc6-20d45a6e6941' class='xr-var-data-in' type='checkbox'><label for='data-6686f9ef-e510-4e28-bdc6-20d45a6e6941' title='Show/Hide data repr'><svg class='icon xr-icon-database'><use xlink:href='#icon-database'></use></svg></label><div class='xr-var-attrs'><dl class='xr-attrs'></dl></div><div class='xr-var-data'><pre>array([150.033587, 150.033585, 150.033583, ..., 155.681946, 155.786018,\n",
       "       155.887638])</pre></div></li><li class='xr-var-item'><div class='xr-var-name'><span>alpha_estimate</span></div><div class='xr-var-dims'>(t)</div><div class='xr-var-dtype'>float64</div><div class='xr-var-preview xr-preview'>...</div><input id='attrs-b6e63951-cd96-4d8d-98f0-7c8c97ab7fd8' class='xr-var-attrs-in' type='checkbox' disabled><label for='attrs-b6e63951-cd96-4d8d-98f0-7c8c97ab7fd8' title='Show/Hide attributes'><svg class='icon xr-icon-file-text2'><use xlink:href='#icon-file-text2'></use></svg></label><input id='data-ab88870e-827e-43bf-a8fc-373130f5b032' class='xr-var-data-in' type='checkbox'><label for='data-ab88870e-827e-43bf-a8fc-373130f5b032' title='Show/Hide data repr'><svg class='icon xr-icon-database'><use xlink:href='#icon-database'></use></svg></label><div class='xr-var-attrs'><dl class='xr-attrs'></dl></div><div class='xr-var-data'><pre>array([-0.002846, -0.00201 , -0.002757, ..., -0.136332, -0.143322, -0.1424  ])</pre></div></li></ul></div></li><li class='xr-section-item'><input id='section-1906c877-52a0-4bf0-b2f5-9ac82fa0c370' class='xr-section-summary-in' type='checkbox' disabled ><label for='section-1906c877-52a0-4bf0-b2f5-9ac82fa0c370' class='xr-section-summary'  title='Expand/collapse section'>Attributes: <span>(0)</span></label><div class='xr-section-inline-details'></div><div class='xr-section-details'><dl class='xr-attrs'></dl></div></li></ul></div></div>"
      ],
      "text/plain": [
       "<xarray.Dataset>\n",
       "Dimensions:                 (dim_0: 4, dim_1: 4, t: 10001, x_idx: 4)\n",
       "Coordinates:\n",
       "  * t                       (t) float64 0.0 0.01 0.02 0.03 ... 99.98 99.99 100.0\n",
       "Dimensions without coordinates: dim_0, dim_1, x_idx\n",
       "Data variables: (12/35)\n",
       "    p_k1k1                  (t, dim_0, dim_1) float64 ...\n",
       "    p_kk1                   (t, dim_0, dim_1) float64 ...\n",
       "    phi                     (t, dim_0, dim_1) float64 ...\n",
       "    gamma                   (t, dim_0, dim_1) float64 ...\n",
       "    ps                      (t, dim_0, dim_1) float64 ...\n",
       "    x_k1k1                  (t, x_idx) float64 ...\n",
       "    ...                      ...\n",
       "    w_smoothed_std          (t) float64 ...\n",
       "    C_alpha_u_smoothed      (t) float64 ...\n",
       "    C_alpha_u_smoothed_std  (t) float64 ...\n",
       "    vm_filtered             (t) float64 ...\n",
       "    vm_smoothed             (t) float64 ...\n",
       "    alpha_estimate          (t) float64 ..."
      ]
     },
     "metadata": {},
     "output_type": "display_data"
    }
   ],
   "source": [
    "data = xr.open_dataset(\"data/data_smoothed.nc\")\n",
    "# data = data.isel(t=slice(None, None, 50))\n",
    "display(data)\n",
    "\n",
    "inputs = np.hstack((\n",
    "    data.alpha_estimate.values[:, None],\n",
    "    data.beta_m.values[:, None]\n",
    "))\n",
    "reference_outputs = data.c_m.values[:, None]"
   ]
  },
  {
   "cell_type": "code",
   "execution_count": 5,
   "id": "elegant-dining",
   "metadata": {},
   "outputs": [
    {
     "ename": "NameError",
     "evalue": "name 'nn' is not defined",
     "output_type": "error",
     "traceback": [
      "\u001b[0;31m---------------------------------------------------------------------------\u001b[0m",
      "\u001b[0;31mNameError\u001b[0m                                 Traceback (most recent call last)",
      "\u001b[0;32m<ipython-input-5-d3241e84650a>\u001b[0m in \u001b[0;36m<module>\u001b[0;34m\u001b[0m\n\u001b[0;32m----> 1\u001b[0;31m \u001b[0mnn\u001b[0m\u001b[0;34m.\u001b[0m\u001b[0msaves_idxs\u001b[0m\u001b[0;34m(\u001b[0m\u001b[0mnn\u001b[0m\u001b[0;34m.\u001b[0m\u001b[0mlog_dir\u001b[0m\u001b[0;34m)\u001b[0m\u001b[0;34m[\u001b[0m\u001b[0;34m-\u001b[0m\u001b[0;36m1\u001b[0m\u001b[0;34m]\u001b[0m\u001b[0;34m\u001b[0m\u001b[0;34m\u001b[0m\u001b[0m\n\u001b[0m",
      "\u001b[0;31mNameError\u001b[0m: name 'nn' is not defined"
     ]
    }
   ],
   "source": [
    "nn.saves_idxs(nn.log_dir)[-1]"
   ]
  },
  {
   "cell_type": "code",
   "execution_count": 15,
   "id": "critical-heating",
   "metadata": {},
   "outputs": [
    {
     "data": {
      "application/vnd.jupyter.widget-view+json": {
       "model_id": "43322a1dbda748609c9d766982ea8465",
       "version_major": 2,
       "version_minor": 0
      },
      "text/plain": [
       "  0%|          | 0/1 [00:00<?, ?it/s]"
      ]
     },
     "metadata": {},
     "output_type": "display_data"
    },
    {
     "data": {
      "application/vnd.jupyter.widget-view+json": {
       "model_id": "55cb466819844a71a050a99bae0c91e9",
       "version_major": 2,
       "version_minor": 0
      },
      "text/plain": [
       "  0%|          | 0/9600 [00:00<?, ?it/s]"
      ]
     },
     "metadata": {},
     "output_type": "display_data"
    },
    {
     "ename": "KeyboardInterrupt",
     "evalue": "",
     "output_type": "error",
     "traceback": [
      "\u001b[0;31m---------------------------------------------------------------------------\u001b[0m",
      "\u001b[0;31mKeyboardInterrupt\u001b[0m                         Traceback (most recent call last)",
      "\u001b[0;32m<ipython-input-15-96c00101203e>\u001b[0m in \u001b[0;36m<module>\u001b[0;34m\u001b[0m\n\u001b[1;32m     20\u001b[0m         )\n\u001b[1;32m     21\u001b[0m     \u001b[0mnns\u001b[0m\u001b[0;34m.\u001b[0m\u001b[0mappend\u001b[0m\u001b[0;34m(\u001b[0m\u001b[0mnn\u001b[0m\u001b[0;34m)\u001b[0m\u001b[0;34m\u001b[0m\u001b[0;34m\u001b[0m\u001b[0m\n\u001b[0;32m---> 22\u001b[0;31m     \u001b[0mnn\u001b[0m\u001b[0;34m.\u001b[0m\u001b[0mback_propagation\u001b[0m\u001b[0;34m(\u001b[0m\u001b[0minputs\u001b[0m\u001b[0;34m,\u001b[0m \u001b[0mreference_outputs\u001b[0m\u001b[0;34m,\u001b[0m \u001b[0mepochs\u001b[0m\u001b[0;34m=\u001b[0m\u001b[0mint\u001b[0m\u001b[0;34m(\u001b[0m\u001b[0;36m40000\u001b[0m \u001b[0;34m/\u001b[0m \u001b[0;36m50\u001b[0m \u001b[0;34m*\u001b[0m \u001b[0;36m12\u001b[0m\u001b[0;34m)\u001b[0m\u001b[0;34m)\u001b[0m\u001b[0;34m\u001b[0m\u001b[0;34m\u001b[0m\u001b[0m\n\u001b[0m",
      "\u001b[0;32m~/system_identification/system_identification/ffnn.py\u001b[0m in \u001b[0;36mback_propagation\u001b[0;34m(self, inputs, reference_outputs, epochs, dt_save)\u001b[0m\n\u001b[1;32m    218\u001b[0m \u001b[0;34m\u001b[0m\u001b[0m\n\u001b[1;32m    219\u001b[0m                     \u001b[0mupdate_error\u001b[0m\u001b[0;34m,\u001b[0m \u001b[0mdelta_bias_weights_0\u001b[0m\u001b[0;34m,\u001b[0m \u001b[0mdelta_input_weights\u001b[0m\u001b[0;34m,\u001b[0m\u001b[0;31m \u001b[0m\u001b[0;31m\\\u001b[0m\u001b[0;34m\u001b[0m\u001b[0;34m\u001b[0m\u001b[0m\n\u001b[0;32m--> 220\u001b[0;31m                     delta_bias_weights_1, delta_output_weights = calc_deltas(\n\u001b[0m\u001b[1;32m    221\u001b[0m                         \u001b[0minput\u001b[0m\u001b[0;34m,\u001b[0m\u001b[0;34m\u001b[0m\u001b[0;34m\u001b[0m\u001b[0m\n\u001b[1;32m    222\u001b[0m                         \u001b[0mreference_output\u001b[0m\u001b[0;34m,\u001b[0m\u001b[0;34m\u001b[0m\u001b[0;34m\u001b[0m\u001b[0m\n",
      "\u001b[0;31mKeyboardInterrupt\u001b[0m: "
     ]
    }
   ],
   "source": [
    "n_hidden_list = [2**i for i in [11]]\n",
    "nns = []\n",
    "\n",
    "for n_hidden in tqdm(n_hidden_list):\n",
    "    nn = FeedForwardNeuralNetwork.load(f\"./ffnn_{n_hidden}\")\n",
    "    if nn is None:\n",
    "        print(\"Creating new FeedForwardNeuralNetwork\")\n",
    "        nn = FeedForwardNeuralNetwork.new(\n",
    "            n_inputs=2,\n",
    "            n_outputs=1,\n",
    "            n_hidden=n_hidden,\n",
    "            range=[[-1, 1], [-1, 1]],\n",
    "            log_dir=f\"./ffnn_{n_hidden}\",\n",
    "            training_parameters=TrainingParameters(\n",
    "                epochs=1000,\n",
    "                goal=0,\n",
    "                min_grad=1e-10,\n",
    "                mu=0.1,\n",
    "            ),\n",
    "        )\n",
    "    nns.append(nn)\n",
    "    nn.back_propagation(inputs, reference_outputs, epochs=int(40000 / 50 * 12))"
   ]
  },
  {
   "cell_type": "code",
   "execution_count": 20,
   "id": "prostate-trader",
   "metadata": {},
   "outputs": [
    {
     "data": {
      "text/plain": [
       "(2048, 1)"
      ]
     },
     "execution_count": 20,
     "metadata": {},
     "output_type": "execute_result"
    }
   ],
   "source": [
    "nn.bias_weights[1].shape"
   ]
  },
  {
   "cell_type": "code",
   "execution_count": null,
   "id": "metallic-winter",
   "metadata": {},
   "outputs": [],
   "source": [
    "with open(\"training_logs_2.pickle\", \"wb\") as f:\n",
    "    pickle.dump(nns, f)"
   ]
  },
  {
   "cell_type": "markdown",
   "id": "neural-typing",
   "metadata": {},
   "source": [
    "## Plotting"
   ]
  },
  {
   "cell_type": "code",
   "execution_count": 13,
   "id": "fiscal-castle",
   "metadata": {},
   "outputs": [
    {
     "data": {
      "application/vnd.jupyter.widget-view+json": {
       "model_id": "a913e4141708400dba54b04cd9882fdb",
       "version_major": 2,
       "version_minor": 0
      },
      "text/plain": [
       "Canvas(toolbar=Toolbar(toolitems=[('Home', 'Reset original view', 'home', 'home'), ('Back', 'Back to previous …"
      ]
     },
     "metadata": {},
     "output_type": "display_data"
    },
    {
     "name": "stdout",
     "output_type": "stream",
     "text": [
      "1.3576746029642734\n"
     ]
    }
   ],
   "source": [
    "# 8.60445130660727\n",
    "\n",
    "plt.figure()\n",
    "for nn in nns:\n",
    "    print(min(nn.training_log.error))\n",
    "    nn.training_log.error.plot()"
   ]
  },
  {
   "cell_type": "code",
   "execution_count": 66,
   "id": "progressive-delicious",
   "metadata": {},
   "outputs": [
    {
     "data": {
      "application/vnd.jupyter.widget-view+json": {
       "model_id": "97361febb84a43d393b8977f68bb6fe4",
       "version_major": 2,
       "version_minor": 0
      },
      "text/plain": [
       "Canvas(toolbar=Toolbar(toolitems=[('Home', 'Reset original view', 'home', 'home'), ('Back', 'Back to previous …"
      ]
     },
     "metadata": {},
     "output_type": "display_data"
    }
   ],
   "source": [
    "coords = np.linspace(-5, 5, 100)\n",
    "nn_eval = np.empty((100,))\n",
    "fn_eval = np.empty((100,))\n",
    "plt.figure()\n",
    "\n",
    "for y in np.linspace(-1, 1, 4):\n",
    "    for xi, x in enumerate(coords):\n",
    "        nn_eval[xi] = nn.evaluate([x, y])\n",
    "\n",
    "    plt.plot(coords, fn_eval, \"b\")\n",
    "    plt.plot(coords, nn_eval, \"r\")\n"
   ]
  },
  {
   "cell_type": "code",
   "execution_count": 14,
   "id": "industrial-saudi",
   "metadata": {},
   "outputs": [
    {
     "data": {
      "application/vnd.jupyter.widget-view+json": {
       "model_id": "a737a1fa5dd54737b32e139cb20a950e",
       "version_major": 2,
       "version_minor": 0
      },
      "text/plain": [
       "Canvas(toolbar=Toolbar(toolitems=[('Home', 'Reset original view', 'home', 'home'), ('Back', 'Back to previous …"
      ]
     },
     "metadata": {},
     "output_type": "display_data"
    },
    {
     "data": {
      "application/vnd.jupyter.widget-view+json": {
       "model_id": "6724fba6384a4e1eb62bc3ca3748d476",
       "version_major": 2,
       "version_minor": 0
      },
      "text/plain": [
       "Canvas(toolbar=Toolbar(toolitems=[('Home', 'Reset original view', 'home', 'home'), ('Back', 'Back to previous …"
      ]
     },
     "metadata": {},
     "output_type": "display_data"
    },
    {
     "data": {
      "application/vnd.jupyter.widget-view+json": {
       "model_id": "4bd166f935e34e8d9c4bab07d39b7925",
       "version_major": 2,
       "version_minor": 0
      },
      "text/plain": [
       "Canvas(toolbar=Toolbar(toolitems=[('Home', 'Reset original view', 'home', 'home'), ('Back', 'Back to previous …"
      ]
     },
     "metadata": {},
     "output_type": "display_data"
    },
    {
     "data": {
      "text/plain": [
       "<mpl_toolkits.mplot3d.art3d.Path3DCollection at 0x7fb8a75e7df0>"
      ]
     },
     "execution_count": 14,
     "metadata": {},
     "output_type": "execute_result"
    }
   ],
   "source": [
    "alpha_grid = np.linspace(-0.2, 0.8, 1000)\n",
    "beta_grid = np.linspace(-0.3, 0.3, 1000)\n",
    "clim = min(reference_outputs), max(reference_outputs)\n",
    "nn = nns[0]\n",
    "\n",
    "\n",
    "nn_eval = np.empty(reference_outputs.shape)\n",
    "for ii, input in enumerate(inputs):\n",
    "    nn_eval[ii] = nn.evaluate(input)\n",
    "\n",
    "fig = plt.figure()\n",
    "ax = plt.gca()\n",
    "zi = griddata((inputs[:, 0], inputs[:, 1]), nn_eval, (alpha_grid[None, :], beta_grid[:, None]), method='linear')\n",
    "pos = plt.imshow(zi, cmap='viridis')\n",
    "fig.colorbar(pos)\n",
    "plt.clim(*clim)\n",
    "\n",
    "fig = plt.figure()\n",
    "ax = plt.gca()\n",
    "zi = griddata((inputs[:, 0], inputs[:, 1]), reference_outputs, (alpha_grid[None, :], beta_grid[:, None]), method='linear')\n",
    "pos = plt.imshow(zi, cmap='viridis')\n",
    "fig.colorbar(pos)\n",
    "plt.clim(*clim)\n",
    "\n",
    "fig = plt.figure()\n",
    "ax = fig.add_subplot(111, projection='3d')\n",
    "ax.scatter(inputs[:, 0], inputs[:, 1], reference_outputs)\n",
    "\n",
    "# ax = fig.add_subplot(111, projection='3d')\n",
    "ax.scatter(inputs[:, 0], inputs[:, 1], nn_eval)"
   ]
  },
  {
   "cell_type": "markdown",
   "id": "final-monitoring",
   "metadata": {},
   "source": [
    "## Evaluate error"
   ]
  },
  {
   "cell_type": "code",
   "execution_count": 20,
   "id": "utility-popularity",
   "metadata": {},
   "outputs": [
    {
     "data": {
      "application/vnd.jupyter.widget-view+json": {
       "model_id": "949df79057484657a5b39eb9cb4f8ac5",
       "version_major": 2,
       "version_minor": 0
      },
      "text/plain": [
       "  0%|          | 0/97 [00:00<?, ?it/s]"
      ]
     },
     "metadata": {},
     "output_type": "display_data"
    },
    {
     "data": {
      "application/vnd.jupyter.widget-view+json": {
       "model_id": "0e7a547ac51249148555b704eeec0fb5",
       "version_major": 2,
       "version_minor": 0
      },
      "text/plain": [
       "Canvas(toolbar=Toolbar(toolitems=[('Home', 'Reset original view', 'home', 'home'), ('Back', 'Back to previous …"
      ]
     },
     "metadata": {},
     "output_type": "display_data"
    },
    {
     "data": {
      "text/plain": [
       "[<matplotlib.lines.Line2D at 0x7f406654da60>]"
      ]
     },
     "execution_count": 20,
     "metadata": {},
     "output_type": "execute_result"
    }
   ],
   "source": [
    "errors = []\n",
    "for idx in tqdm(FeedForwardNeuralNetwork.saves_idxs(nn.log_dir)):\n",
    "    ffnn = FeedForwardNeuralNetwork.load(nn.log_dir, idx)\n",
    "    errors.append(ffnn.evaluate_error(inputs, reference_outputs))\n",
    "\n",
    "plt.figure()\n",
    "plt.plot(errors)"
   ]
  },
  {
   "cell_type": "code",
   "execution_count": null,
   "id": "pleased-intention",
   "metadata": {},
   "outputs": [],
   "source": []
  }
 ],
 "metadata": {
  "kernelspec": {
   "display_name": "Python 3 (ipykernel)",
   "language": "python",
   "name": "python3"
  },
  "language_info": {
   "codemirror_mode": {
    "name": "ipython",
    "version": 3
   },
   "file_extension": ".py",
   "mimetype": "text/x-python",
   "name": "python",
   "nbconvert_exporter": "python",
   "pygments_lexer": "ipython3",
   "version": "3.9.6"
  }
 },
 "nbformat": 4,
 "nbformat_minor": 5
}
