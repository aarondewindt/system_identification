{
 "cells": [
  {
   "cell_type": "markdown",
   "id": "64224315-2494-441e-84e1-d54c489f74c7",
   "metadata": {},
   "source": [
    "#  Lloyd's Algorithm\n",
    "\n",
    "References:\n",
    " 1. https://github.com/mapsense/bounded-voronoi-demo/blob/master/voronoi.py\n",
    " 2. https://en.wikipedia.org/wiki/Lloyd's_algorithm"
   ]
  },
  {
   "cell_type": "code",
   "execution_count": 1,
   "id": "24693414-822e-4af6-a1c7-01f4dc18e416",
   "metadata": {},
   "outputs": [],
   "source": [
    "%load_ext autoreload\n",
    "%autoreload 2\n",
    "%matplotlib widget"
   ]
  },
  {
   "cell_type": "code",
   "execution_count": 2,
   "id": "fcb11281-026e-4cd8-a43e-6d7dbe934f96",
   "metadata": {},
   "outputs": [],
   "source": [
    "import matplotlib.pyplot as plt\n",
    "from scipy.spatial import voronoi_plot_2d\n",
    "\n",
    "from system_identification.utils.lloyds_algorithm import LloydsAlgorithm"
   ]
  },
  {
   "cell_type": "code",
   "execution_count": 53,
   "id": "f615b813-1ea8-43fa-a93f-f60df5010670",
   "metadata": {},
   "outputs": [],
   "source": [
    "field = LloydsAlgorithm(\n",
    "    n=101,\n",
    "    bounding_box=(-1, 1, -3, 5),\n",
    ")"
   ]
  },
  {
   "cell_type": "code",
   "execution_count": 54,
   "id": "3da3676f-455d-44ae-ab18-cf1dc02a6d62",
   "metadata": {},
   "outputs": [],
   "source": [
    "def plot_field(field):\n",
    "    plt.figure()\n",
    "    plt.plot(*field.bounding_box.exterior.xy, \":\")\n",
    "\n",
    "    for region in field.regions:\n",
    "        plt.plot(*region.exterior.xy)\n",
    "        plt.plot(*region.centroid.xy, \"o\")\n",
    "        \n",
    "    for point in field.points:\n",
    "        plt.plot(*point.xy, \"x\")\n",
    "    \n",
    "    plt.gca().set_aspect(\"equal\")\n",
    "    \n",
    "    len(field.regions)"
   ]
  },
  {
   "cell_type": "code",
   "execution_count": 55,
   "id": "8db04692-f7e9-4c20-a3f8-fb20fa5ff26f",
   "metadata": {},
   "outputs": [
    {
     "data": {
      "application/vnd.jupyter.widget-view+json": {
       "model_id": "688e39fa472144e5a6cff79d4bdb728f",
       "version_major": 2,
       "version_minor": 0
      },
      "text/plain": [
       "Canvas(toolbar=Toolbar(toolitems=[('Home', 'Reset original view', 'home', 'home'), ('Back', 'Back to previous …"
      ]
     },
     "metadata": {},
     "output_type": "display_data"
    },
    {
     "data": {
      "application/vnd.jupyter.widget-view+json": {
       "model_id": "86f6b793838b4804a679ef6452ec3ee1",
       "version_major": 2,
       "version_minor": 0
      },
      "text/plain": [
       "Canvas(toolbar=Toolbar(toolitems=[('Home', 'Reset original view', 'home', 'home'), ('Back', 'Back to previous …"
      ]
     },
     "metadata": {},
     "output_type": "display_data"
    },
    {
     "data": {
      "application/vnd.jupyter.widget-view+json": {
       "model_id": "8aad99e0559146a084611b4cdf81ed89",
       "version_major": 2,
       "version_minor": 0
      },
      "text/plain": [
       "Canvas(toolbar=Toolbar(toolitems=[('Home', 'Reset original view', 'home', 'home'), ('Back', 'Back to previous …"
      ]
     },
     "metadata": {},
     "output_type": "display_data"
    },
    {
     "data": {
      "text/plain": [
       "[<matplotlib.lines.Line2D at 0x7f3ea6245610>]"
      ]
     },
     "execution_count": 55,
     "metadata": {},
     "output_type": "execute_result"
    }
   ],
   "source": [
    "plt.close('all')\n",
    "errors = [field.error]\n",
    "plot_field(field)\n",
    "for _ in range(30):\n",
    "    field.relax_points(1)\n",
    "    errors.append(field.error)\n",
    "plot_field(field)\n",
    "plt.figure()\n",
    "plt.plot(errors)"
   ]
  },
  {
   "cell_type": "code",
   "execution_count": null,
   "id": "bf01c55f-9160-4c0f-be90-f74ed334c30c",
   "metadata": {},
   "outputs": [],
   "source": []
  },
  {
   "cell_type": "code",
   "execution_count": null,
   "id": "5450aa26-8171-4058-bca9-9993aca1b842",
   "metadata": {},
   "outputs": [],
   "source": []
  }
 ],
 "metadata": {
  "kernelspec": {
   "display_name": "Python 3 (ipykernel)",
   "language": "python",
   "name": "python3"
  },
  "language_info": {
   "codemirror_mode": {
    "name": "ipython",
    "version": 3
   },
   "file_extension": ".py",
   "mimetype": "text/x-python",
   "name": "python",
   "nbconvert_exporter": "python",
   "pygments_lexer": "ipython3",
   "version": "3.9.6"
  }
 },
 "nbformat": 4,
 "nbformat_minor": 5
}
