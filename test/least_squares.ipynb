{
 "cells": [
  {
   "cell_type": "markdown",
   "id": "dc99b2ff-6065-40fd-9763-cdc3a57ae001",
   "metadata": {},
   "source": [
    "# Least squares"
   ]
  },
  {
   "cell_type": "code",
   "execution_count": 1,
   "id": "57db8099-9482-455c-9931-4128442e8c7d",
   "metadata": {},
   "outputs": [],
   "source": [
    "%load_ext autoreload\n",
    "%autoreload 2\n",
    "%matplotlib widget"
   ]
  },
  {
   "cell_type": "code",
   "execution_count": 2,
   "id": "2b84310b-e0e4-49b4-bf56-56593a0b1f67",
   "metadata": {},
   "outputs": [],
   "source": [
    "from itertools import product\n",
    "\n",
    "import numpy as np\n",
    "import xarray as xr\n",
    "import xarray.ufuncs as xf\n",
    "import matplotlib.pyplot as plt\n",
    "import statsmodels.stats.api as sms\n",
    "from tqdm.auto import tqdm\n",
    "from scipy.optimize import lsq_linear\n",
    "\n",
    "from system_identification.lsqr_model import LeastSquaresModel"
   ]
  },
  {
   "cell_type": "markdown",
   "id": "66697439-53be-464a-a7c2-1dd82dddb5b5",
   "metadata": {},
   "source": [
    "# 1D"
   ]
  },
  {
   "cell_type": "code",
   "execution_count": 3,
   "id": "3ddbef86-0027-4254-84f2-74f0fe660cc5",
   "metadata": {},
   "outputs": [],
   "source": [
    "def foo(x):\n",
    "    return 0.8 * np.tanh(x * 0.4 - 0.7) + 2.1\n",
    "\n",
    "# def foo(x):\n",
    "#     return 0.01 * x**2\n",
    "\n",
    "input_range = [[-5, 10]]\n",
    "inputs = np.linspace(*input_range[0], 10000)\n",
    "reference_outputs = np.array(list(map(foo, inputs)))\n",
    "reference_outputs_noisy = reference_outputs + np.random.normal(0, 0.1, size=reference_outputs.shape)\n",
    "\n",
    "inputs = inputs.reshape(-1, 1, 1)\n",
    "reference_outputs = reference_outputs.reshape(-1, 1, 1)\n",
    "reference_outputs_noisy = reference_outputs_noisy.reshape(-1, 1, 1)"
   ]
  },
  {
   "cell_type": "code",
   "execution_count": 4,
   "id": "4443fbf4-e513-4d68-8f75-02f49b2d9fdb",
   "metadata": {},
   "outputs": [
    {
     "data": {
      "application/vnd.jupyter.widget-view+json": {
       "model_id": "5d80669f60384cd5aefd45764386112e",
       "version_major": 2,
       "version_minor": 0
      },
      "text/plain": [
       "Canvas(toolbar=Toolbar(toolitems=[('Home', 'Reset original view', 'home', 'home'), ('Back', 'Back to previous …"
      ]
     },
     "metadata": {},
     "output_type": "display_data"
    },
    {
     "data": {
      "text/plain": [
       "[<matplotlib.lines.Line2D at 0x7f35e559c3a0>]"
      ]
     },
     "execution_count": 4,
     "metadata": {},
     "output_type": "execute_result"
    }
   ],
   "source": [
    "plt.figure()\n",
    "plt.plot(inputs[:, 0, 0], reference_outputs_noisy[:, 0, 0], \".\", markersize=1)\n",
    "plt.plot(inputs[:, 0, 0], reference_outputs[:, 0, 0], \".\", markersize=1)"
   ]
  },
  {
   "cell_type": "code",
   "execution_count": 5,
   "id": "3b24cb57-9939-41b0-a838-93a2a0017451",
   "metadata": {},
   "outputs": [
    {
     "data": {
      "text/html": [
       "<div Class=\"cw_vdom_hyr cw_vdom_hyr_item\"><style>.cw_vdom_hyr {\n",
       "    font-family: monospace;\n",
       "}\n",
       "\n",
       ".cw_vdom_hyr_item > input {\n",
       "    display: none;\n",
       "}\n",
       "\n",
       ".cw_vdom_hyr_item > label {\n",
       "    color: var(--jp-accent-color1);\n",
       "    font-weight: bold;\n",
       "}\n",
       "\n",
       ".cw_vdom_hyr_item > label::before {\n",
       "    content: \"\\00a0\";\n",
       "}\n",
       "\n",
       ".cw_vdom_hyr_item > label::after {\n",
       "    content: \": \";\n",
       "}\n",
       "\n",
       ".cw_vdom_hyr_item > div {\n",
       "    display: inline-block;\n",
       "}\n",
       "\n",
       ".cw_vdom_hyr_item > input + label {\n",
       "    cursor: pointer;\n",
       "}\n",
       "\n",
       ".cw_vdom_hyr_item > input + label::before {\n",
       "    content: \"+\";\n",
       "}\n",
       "\n",
       ".cw_vdom_hyr_item > input:checked + label::before {\n",
       "    content: \"-\";\n",
       "}\n",
       "\n",
       ".cw_vdom_hyr_item > input ~ div {\n",
       "    display: none;\n",
       "    padding-left: 20px;\n",
       "}\n",
       "\n",
       ".cw_vdom_hyr_item > input:checked ~ div {\n",
       "    display: block;\n",
       "}\n",
       "\n",
       ".cw_vdom_hyr_type {\n",
       "    color: var(--jp-ui-font-color3);\n",
       "    font-size: var(--jp-ui-font-size0);\n",
       "}\n",
       "</style><input type=\"checkbox\" id=\"4IUA52AKKL\" ></input><label For=\"4IUA52AKKL\">Least squares model</label><span Class=\"cw_vdom_hyr_type\">system_identification.lsqr_model.LeastSquaresModel:</span><div><div><div Class=\"cw_vdom_hyr_item\"><label For=\"EKP8AS0G5Y\">description</label><span Class=\"cw_vdom_hyr_type\">str[51]:</span><div><span>Least squares model fitting a `3` order polynomial.</span></div></div><div Class=\"cw_vdom_hyr_item\"><label For=\"E176U94FZK\">n_inputs</label><span Class=\"cw_vdom_hyr_type\">int:</span><div><span>1</span></div></div><div Class=\"cw_vdom_hyr_item\"><label For=\"W06PGINIJK\">n_output</label><span Class=\"cw_vdom_hyr_type\">int:</span><div><span>1</span></div></div><div Class=\"cw_vdom_hyr_item\"><label For=\"L8ZQA2TGMM\">n_coefficients</label><span Class=\"cw_vdom_hyr_type\">NoneType:</span><div><span>None</span></div></div><div Class=\"cw_vdom_hyr_item\"><label For=\"JEHGUSG74I\">range</label><span Class=\"cw_vdom_hyr_type\">numpy.ndarray[1, 2]:</span><div>[[-5 10]]</div></div><div Class=\"cw_vdom_hyr_item\"><label For=\"ST03WT6IUV\">polynomial_terms</label><span Class=\"cw_vdom_hyr_type\">sympy.matrices.dense.MutableDenseMatrix:</span><div><span>Matrix([[x_{0}]])</span></div></div></div></div></div>"
      ],
      "text/plain": [
       "<system_identification.lsqr_model.LeastSquaresModel at 0x7f35e562dbb0>"
      ]
     },
     "execution_count": 5,
     "metadata": {},
     "output_type": "execute_result"
    }
   ],
   "source": [
    "model = LeastSquaresModel.new_polynomial(\n",
    "    n_inputs=1,\n",
    "    input_range=input_range,\n",
    "    order=3)\n",
    "model"
   ]
  },
  {
   "cell_type": "code",
   "execution_count": 12,
   "id": "87dc62ce-22c7-4c99-ac68-dd296efb8252",
   "metadata": {},
   "outputs": [
    {
     "data": {
      "text/plain": [
       "list"
      ]
     },
     "execution_count": 12,
     "metadata": {},
     "output_type": "execute_result"
    }
   ],
   "source": [
    "type(model.func(0))"
   ]
  },
  {
   "cell_type": "code",
   "execution_count": 13,
   "id": "1dee43ee-1ab4-4ebb-a848-6565a7b33ee9",
   "metadata": {},
   "outputs": [
    {
     "name": "stdout",
     "output_type": "stream",
     "text": [
      "[[   1.           -5.           25.         -125.        ]\n",
      " [   1.           -4.99849985   24.98500075 -124.8875225 ]\n",
      " [   1.           -4.9969997    24.970006   -124.7751125 ]\n",
      " ...\n",
      " [   1.            9.9969997    99.940003    999.10018002]\n",
      " [   1.            9.99849985   99.96999925  999.55002251]\n",
      " [   1.           10.          100.         1000.        ]]\n"
     ]
    }
   ],
   "source": [
    "model.train(inputs, reference_outputs_noisy)"
   ]
  },
  {
   "cell_type": "code",
   "execution_count": 14,
   "id": "0ef644f9-032b-4ba0-a493-97724f5b1434",
   "metadata": {},
   "outputs": [
    {
     "data": {
      "application/vnd.jupyter.widget-view+json": {
       "model_id": "1679e555cf6b4aaf919403da986d72db",
       "version_major": 2,
       "version_minor": 0
      },
      "text/plain": [
       "Canvas(toolbar=Toolbar(toolitems=[('Home', 'Reset original view', 'home', 'home'), ('Back', 'Back to previous …"
      ]
     },
     "metadata": {},
     "output_type": "display_data"
    },
    {
     "data": {
      "text/plain": [
       "[<matplotlib.lines.Line2D at 0x7fdfc8f4fb80>]"
      ]
     },
     "execution_count": 14,
     "metadata": {},
     "output_type": "execute_result"
    }
   ],
   "source": [
    "fig = plt.figure()\n",
    "outputs = model.evaluate(inputs)\n",
    "plt.plot(inputs.squeeze(), reference_outputs.squeeze())\n",
    "plt.plot(inputs.squeeze(), reference_outputs_noisy.squeeze(), \".\", markersize=1)\n",
    "plt.plot(inputs.squeeze(), outputs.squeeze())"
   ]
  },
  {
   "cell_type": "code",
   "execution_count": 15,
   "id": "8ffa352f-8c0b-438c-8820-e82213e45cb7",
   "metadata": {},
   "outputs": [
    {
     "data": {
      "text/html": [
       "<div><svg style=\"position: absolute; width: 0; height: 0; overflow: hidden\">\n",
       "<defs>\n",
       "<symbol id=\"icon-database\" viewBox=\"0 0 32 32\">\n",
       "<path d=\"M16 0c-8.837 0-16 2.239-16 5v4c0 2.761 7.163 5 16 5s16-2.239 16-5v-4c0-2.761-7.163-5-16-5z\"></path>\n",
       "<path d=\"M16 17c-8.837 0-16-2.239-16-5v6c0 2.761 7.163 5 16 5s16-2.239 16-5v-6c0 2.761-7.163 5-16 5z\"></path>\n",
       "<path d=\"M16 26c-8.837 0-16-2.239-16-5v6c0 2.761 7.163 5 16 5s16-2.239 16-5v-6c0 2.761-7.163 5-16 5z\"></path>\n",
       "</symbol>\n",
       "<symbol id=\"icon-file-text2\" viewBox=\"0 0 32 32\">\n",
       "<path d=\"M28.681 7.159c-0.694-0.947-1.662-2.053-2.724-3.116s-2.169-2.030-3.116-2.724c-1.612-1.182-2.393-1.319-2.841-1.319h-15.5c-1.378 0-2.5 1.121-2.5 2.5v27c0 1.378 1.122 2.5 2.5 2.5h23c1.378 0 2.5-1.122 2.5-2.5v-19.5c0-0.448-0.137-1.23-1.319-2.841zM24.543 5.457c0.959 0.959 1.712 1.825 2.268 2.543h-4.811v-4.811c0.718 0.556 1.584 1.309 2.543 2.268zM28 29.5c0 0.271-0.229 0.5-0.5 0.5h-23c-0.271 0-0.5-0.229-0.5-0.5v-27c0-0.271 0.229-0.5 0.5-0.5 0 0 15.499-0 15.5 0v7c0 0.552 0.448 1 1 1h7v19.5z\"></path>\n",
       "<path d=\"M23 26h-14c-0.552 0-1-0.448-1-1s0.448-1 1-1h14c0.552 0 1 0.448 1 1s-0.448 1-1 1z\"></path>\n",
       "<path d=\"M23 22h-14c-0.552 0-1-0.448-1-1s0.448-1 1-1h14c0.552 0 1 0.448 1 1s-0.448 1-1 1z\"></path>\n",
       "<path d=\"M23 18h-14c-0.552 0-1-0.448-1-1s0.448-1 1-1h14c0.552 0 1 0.448 1 1s-0.448 1-1 1z\"></path>\n",
       "</symbol>\n",
       "</defs>\n",
       "</svg>\n",
       "<style>/* CSS stylesheet for displaying xarray objects in jupyterlab.\n",
       " *\n",
       " */\n",
       "\n",
       ":root {\n",
       "  --xr-font-color0: var(--jp-content-font-color0, rgba(0, 0, 0, 1));\n",
       "  --xr-font-color2: var(--jp-content-font-color2, rgba(0, 0, 0, 0.54));\n",
       "  --xr-font-color3: var(--jp-content-font-color3, rgba(0, 0, 0, 0.38));\n",
       "  --xr-border-color: var(--jp-border-color2, #e0e0e0);\n",
       "  --xr-disabled-color: var(--jp-layout-color3, #bdbdbd);\n",
       "  --xr-background-color: var(--jp-layout-color0, white);\n",
       "  --xr-background-color-row-even: var(--jp-layout-color1, white);\n",
       "  --xr-background-color-row-odd: var(--jp-layout-color2, #eeeeee);\n",
       "}\n",
       "\n",
       "html[theme=dark],\n",
       "body.vscode-dark {\n",
       "  --xr-font-color0: rgba(255, 255, 255, 1);\n",
       "  --xr-font-color2: rgba(255, 255, 255, 0.54);\n",
       "  --xr-font-color3: rgba(255, 255, 255, 0.38);\n",
       "  --xr-border-color: #1F1F1F;\n",
       "  --xr-disabled-color: #515151;\n",
       "  --xr-background-color: #111111;\n",
       "  --xr-background-color-row-even: #111111;\n",
       "  --xr-background-color-row-odd: #313131;\n",
       "}\n",
       "\n",
       ".xr-wrap {\n",
       "  display: block;\n",
       "  min-width: 300px;\n",
       "  max-width: 700px;\n",
       "}\n",
       "\n",
       ".xr-text-repr-fallback {\n",
       "  /* fallback to plain text repr when CSS is not injected (untrusted notebook) */\n",
       "  display: none;\n",
       "}\n",
       "\n",
       ".xr-header {\n",
       "  padding-top: 6px;\n",
       "  padding-bottom: 6px;\n",
       "  margin-bottom: 4px;\n",
       "  border-bottom: solid 1px var(--xr-border-color);\n",
       "}\n",
       "\n",
       ".xr-header > div,\n",
       ".xr-header > ul {\n",
       "  display: inline;\n",
       "  margin-top: 0;\n",
       "  margin-bottom: 0;\n",
       "}\n",
       "\n",
       ".xr-obj-type,\n",
       ".xr-array-name {\n",
       "  margin-left: 2px;\n",
       "  margin-right: 10px;\n",
       "}\n",
       "\n",
       ".xr-obj-type {\n",
       "  color: var(--xr-font-color2);\n",
       "}\n",
       "\n",
       ".xr-sections {\n",
       "  padding-left: 0 !important;\n",
       "  display: grid;\n",
       "  grid-template-columns: 150px auto auto 1fr 20px 20px;\n",
       "}\n",
       "\n",
       ".xr-section-item {\n",
       "  display: contents;\n",
       "}\n",
       "\n",
       ".xr-section-item input {\n",
       "  display: none;\n",
       "}\n",
       "\n",
       ".xr-section-item input + label {\n",
       "  color: var(--xr-disabled-color);\n",
       "}\n",
       "\n",
       ".xr-section-item input:enabled + label {\n",
       "  cursor: pointer;\n",
       "  color: var(--xr-font-color2);\n",
       "}\n",
       "\n",
       ".xr-section-item input:enabled + label:hover {\n",
       "  color: var(--xr-font-color0);\n",
       "}\n",
       "\n",
       ".xr-section-summary {\n",
       "  grid-column: 1;\n",
       "  color: var(--xr-font-color2);\n",
       "  font-weight: 500;\n",
       "}\n",
       "\n",
       ".xr-section-summary > span {\n",
       "  display: inline-block;\n",
       "  padding-left: 0.5em;\n",
       "}\n",
       "\n",
       ".xr-section-summary-in:disabled + label {\n",
       "  color: var(--xr-font-color2);\n",
       "}\n",
       "\n",
       ".xr-section-summary-in + label:before {\n",
       "  display: inline-block;\n",
       "  content: '►';\n",
       "  font-size: 11px;\n",
       "  width: 15px;\n",
       "  text-align: center;\n",
       "}\n",
       "\n",
       ".xr-section-summary-in:disabled + label:before {\n",
       "  color: var(--xr-disabled-color);\n",
       "}\n",
       "\n",
       ".xr-section-summary-in:checked + label:before {\n",
       "  content: '▼';\n",
       "}\n",
       "\n",
       ".xr-section-summary-in:checked + label > span {\n",
       "  display: none;\n",
       "}\n",
       "\n",
       ".xr-section-summary,\n",
       ".xr-section-inline-details {\n",
       "  padding-top: 4px;\n",
       "  padding-bottom: 4px;\n",
       "}\n",
       "\n",
       ".xr-section-inline-details {\n",
       "  grid-column: 2 / -1;\n",
       "}\n",
       "\n",
       ".xr-section-details {\n",
       "  display: none;\n",
       "  grid-column: 1 / -1;\n",
       "  margin-bottom: 5px;\n",
       "}\n",
       "\n",
       ".xr-section-summary-in:checked ~ .xr-section-details {\n",
       "  display: contents;\n",
       "}\n",
       "\n",
       ".xr-array-wrap {\n",
       "  grid-column: 1 / -1;\n",
       "  display: grid;\n",
       "  grid-template-columns: 20px auto;\n",
       "}\n",
       "\n",
       ".xr-array-wrap > label {\n",
       "  grid-column: 1;\n",
       "  vertical-align: top;\n",
       "}\n",
       "\n",
       ".xr-preview {\n",
       "  color: var(--xr-font-color3);\n",
       "}\n",
       "\n",
       ".xr-array-preview,\n",
       ".xr-array-data {\n",
       "  padding: 0 5px !important;\n",
       "  grid-column: 2;\n",
       "}\n",
       "\n",
       ".xr-array-data,\n",
       ".xr-array-in:checked ~ .xr-array-preview {\n",
       "  display: none;\n",
       "}\n",
       "\n",
       ".xr-array-in:checked ~ .xr-array-data,\n",
       ".xr-array-preview {\n",
       "  display: inline-block;\n",
       "}\n",
       "\n",
       ".xr-dim-list {\n",
       "  display: inline-block !important;\n",
       "  list-style: none;\n",
       "  padding: 0 !important;\n",
       "  margin: 0;\n",
       "}\n",
       "\n",
       ".xr-dim-list li {\n",
       "  display: inline-block;\n",
       "  padding: 0;\n",
       "  margin: 0;\n",
       "}\n",
       "\n",
       ".xr-dim-list:before {\n",
       "  content: '(';\n",
       "}\n",
       "\n",
       ".xr-dim-list:after {\n",
       "  content: ')';\n",
       "}\n",
       "\n",
       ".xr-dim-list li:not(:last-child):after {\n",
       "  content: ',';\n",
       "  padding-right: 5px;\n",
       "}\n",
       "\n",
       ".xr-has-index {\n",
       "  font-weight: bold;\n",
       "}\n",
       "\n",
       ".xr-var-list,\n",
       ".xr-var-item {\n",
       "  display: contents;\n",
       "}\n",
       "\n",
       ".xr-var-item > div,\n",
       ".xr-var-item label,\n",
       ".xr-var-item > .xr-var-name span {\n",
       "  background-color: var(--xr-background-color-row-even);\n",
       "  margin-bottom: 0;\n",
       "}\n",
       "\n",
       ".xr-var-item > .xr-var-name:hover span {\n",
       "  padding-right: 5px;\n",
       "}\n",
       "\n",
       ".xr-var-list > li:nth-child(odd) > div,\n",
       ".xr-var-list > li:nth-child(odd) > label,\n",
       ".xr-var-list > li:nth-child(odd) > .xr-var-name span {\n",
       "  background-color: var(--xr-background-color-row-odd);\n",
       "}\n",
       "\n",
       ".xr-var-name {\n",
       "  grid-column: 1;\n",
       "}\n",
       "\n",
       ".xr-var-dims {\n",
       "  grid-column: 2;\n",
       "}\n",
       "\n",
       ".xr-var-dtype {\n",
       "  grid-column: 3;\n",
       "  text-align: right;\n",
       "  color: var(--xr-font-color2);\n",
       "}\n",
       "\n",
       ".xr-var-preview {\n",
       "  grid-column: 4;\n",
       "}\n",
       "\n",
       ".xr-var-name,\n",
       ".xr-var-dims,\n",
       ".xr-var-dtype,\n",
       ".xr-preview,\n",
       ".xr-attrs dt {\n",
       "  white-space: nowrap;\n",
       "  overflow: hidden;\n",
       "  text-overflow: ellipsis;\n",
       "  padding-right: 10px;\n",
       "}\n",
       "\n",
       ".xr-var-name:hover,\n",
       ".xr-var-dims:hover,\n",
       ".xr-var-dtype:hover,\n",
       ".xr-attrs dt:hover {\n",
       "  overflow: visible;\n",
       "  width: auto;\n",
       "  z-index: 1;\n",
       "}\n",
       "\n",
       ".xr-var-attrs,\n",
       ".xr-var-data {\n",
       "  display: none;\n",
       "  background-color: var(--xr-background-color) !important;\n",
       "  padding-bottom: 5px !important;\n",
       "}\n",
       "\n",
       ".xr-var-attrs-in:checked ~ .xr-var-attrs,\n",
       ".xr-var-data-in:checked ~ .xr-var-data {\n",
       "  display: block;\n",
       "}\n",
       "\n",
       ".xr-var-data > table {\n",
       "  float: right;\n",
       "}\n",
       "\n",
       ".xr-var-name span,\n",
       ".xr-var-data,\n",
       ".xr-attrs {\n",
       "  padding-left: 25px !important;\n",
       "}\n",
       "\n",
       ".xr-attrs,\n",
       ".xr-var-attrs,\n",
       ".xr-var-data {\n",
       "  grid-column: 1 / -1;\n",
       "}\n",
       "\n",
       "dl.xr-attrs {\n",
       "  padding: 0;\n",
       "  margin: 0;\n",
       "  display: grid;\n",
       "  grid-template-columns: 125px auto;\n",
       "}\n",
       "\n",
       ".xr-attrs dt,\n",
       ".xr-attrs dd {\n",
       "  padding: 0;\n",
       "  margin: 0;\n",
       "  float: left;\n",
       "  padding-right: 10px;\n",
       "  width: auto;\n",
       "}\n",
       "\n",
       ".xr-attrs dt {\n",
       "  font-weight: normal;\n",
       "  grid-column: 1;\n",
       "}\n",
       "\n",
       ".xr-attrs dt:hover span {\n",
       "  display: inline-block;\n",
       "  background: var(--xr-background-color);\n",
       "  padding-right: 10px;\n",
       "}\n",
       "\n",
       ".xr-attrs dd {\n",
       "  grid-column: 2;\n",
       "  white-space: pre-wrap;\n",
       "  word-break: break-all;\n",
       "}\n",
       "\n",
       ".xr-icon-database,\n",
       ".xr-icon-file-text2 {\n",
       "  display: inline-block;\n",
       "  vertical-align: middle;\n",
       "  width: 1em;\n",
       "  height: 1.5em !important;\n",
       "  stroke-width: 0;\n",
       "  stroke: currentColor;\n",
       "  fill: currentColor;\n",
       "}\n",
       "</style><pre class='xr-text-repr-fallback'>&lt;xarray.Dataset&gt;\n",
       "Dimensions:                (epoch: 1, i: 10000, j: 1, k: 4)\n",
       "Coordinates:\n",
       "  * epoch                  (epoch) int64 1\n",
       "Dimensions without coordinates: i, j, k\n",
       "Data variables:\n",
       "    gradient               (epoch) float64 nan\n",
       "    error_training_data    (epoch, i) float64 -0.0562 -0.03901 ... 0.3711 0.2442\n",
       "    error_validation_data  (epoch, j) float64 nan\n",
       "    error_training_jb      (epoch) float64 3.831\n",
       "    error_training_jbp     (epoch) float64 0.1472\n",
       "    error_training_skew    (epoch) float64 0.04641\n",
       "    error_training_kurt    (epoch) float64 2.976\n",
       "    error_validation_jb    (epoch) float64 nan\n",
       "    error_validation_jbp   (epoch) float64 nan\n",
       "    error_validation_skew  (epoch) float64 nan\n",
       "    error_validation_kurt  (epoch) float64 nan\n",
       "    coefficients           (epoch, k) float64 1.704 0.1996 0.01398 -0.002387</pre><div class='xr-wrap' hidden><div class='xr-header'><div class='xr-obj-type'>xarray.Dataset</div></div><ul class='xr-sections'><li class='xr-section-item'><input id='section-5d51174a-3c6b-4c35-9ef0-7423aed31a0f' class='xr-section-summary-in' type='checkbox' disabled ><label for='section-5d51174a-3c6b-4c35-9ef0-7423aed31a0f' class='xr-section-summary'  title='Expand/collapse section'>Dimensions:</label><div class='xr-section-inline-details'><ul class='xr-dim-list'><li><span class='xr-has-index'>epoch</span>: 1</li><li><span>i</span>: 10000</li><li><span>j</span>: 1</li><li><span>k</span>: 4</li></ul></div><div class='xr-section-details'></div></li><li class='xr-section-item'><input id='section-b7a798ea-97e3-4921-8a5d-b8a85621637a' class='xr-section-summary-in' type='checkbox'  checked><label for='section-b7a798ea-97e3-4921-8a5d-b8a85621637a' class='xr-section-summary' >Coordinates: <span>(1)</span></label><div class='xr-section-inline-details'></div><div class='xr-section-details'><ul class='xr-var-list'><li class='xr-var-item'><div class='xr-var-name'><span class='xr-has-index'>epoch</span></div><div class='xr-var-dims'>(epoch)</div><div class='xr-var-dtype'>int64</div><div class='xr-var-preview xr-preview'>1</div><input id='attrs-faebaaff-a903-4a3e-b66b-a20cf8293140' class='xr-var-attrs-in' type='checkbox' disabled><label for='attrs-faebaaff-a903-4a3e-b66b-a20cf8293140' title='Show/Hide attributes'><svg class='icon xr-icon-file-text2'><use xlink:href='#icon-file-text2'></use></svg></label><input id='data-fdd4bc38-3c73-408c-8ff6-11c34ac77378' class='xr-var-data-in' type='checkbox'><label for='data-fdd4bc38-3c73-408c-8ff6-11c34ac77378' title='Show/Hide data repr'><svg class='icon xr-icon-database'><use xlink:href='#icon-database'></use></svg></label><div class='xr-var-attrs'><dl class='xr-attrs'></dl></div><div class='xr-var-data'><pre>array([1])</pre></div></li></ul></div></li><li class='xr-section-item'><input id='section-ebb0e763-e9af-44e3-a974-9976ddf81a38' class='xr-section-summary-in' type='checkbox'  checked><label for='section-ebb0e763-e9af-44e3-a974-9976ddf81a38' class='xr-section-summary' >Data variables: <span>(12)</span></label><div class='xr-section-inline-details'></div><div class='xr-section-details'><ul class='xr-var-list'><li class='xr-var-item'><div class='xr-var-name'><span>gradient</span></div><div class='xr-var-dims'>(epoch)</div><div class='xr-var-dtype'>float64</div><div class='xr-var-preview xr-preview'>nan</div><input id='attrs-0861e9b7-88db-4b3f-90c6-16fff864043f' class='xr-var-attrs-in' type='checkbox' disabled><label for='attrs-0861e9b7-88db-4b3f-90c6-16fff864043f' title='Show/Hide attributes'><svg class='icon xr-icon-file-text2'><use xlink:href='#icon-file-text2'></use></svg></label><input id='data-39db1c84-8f5b-47e5-9e22-9586d031b5f3' class='xr-var-data-in' type='checkbox'><label for='data-39db1c84-8f5b-47e5-9e22-9586d031b5f3' title='Show/Hide data repr'><svg class='icon xr-icon-database'><use xlink:href='#icon-database'></use></svg></label><div class='xr-var-attrs'><dl class='xr-attrs'></dl></div><div class='xr-var-data'><pre>array([nan])</pre></div></li><li class='xr-var-item'><div class='xr-var-name'><span>error_training_data</span></div><div class='xr-var-dims'>(epoch, i)</div><div class='xr-var-dtype'>float64</div><div class='xr-var-preview xr-preview'>-0.0562 -0.03901 ... 0.3711 0.2442</div><input id='attrs-9e01c97e-5b35-4db4-b3b1-7a761b651b60' class='xr-var-attrs-in' type='checkbox' disabled><label for='attrs-9e01c97e-5b35-4db4-b3b1-7a761b651b60' title='Show/Hide attributes'><svg class='icon xr-icon-file-text2'><use xlink:href='#icon-file-text2'></use></svg></label><input id='data-2f66546d-39ac-427e-be72-239a3d90fcd4' class='xr-var-data-in' type='checkbox'><label for='data-2f66546d-39ac-427e-be72-239a3d90fcd4' title='Show/Hide data repr'><svg class='icon xr-icon-database'><use xlink:href='#icon-database'></use></svg></label><div class='xr-var-attrs'><dl class='xr-attrs'></dl></div><div class='xr-var-data'><pre>array([[-0.0561962 , -0.03901277, -0.03082018, ...,  0.22465176,\n",
       "         0.37111713,  0.24419641]])</pre></div></li><li class='xr-var-item'><div class='xr-var-name'><span>error_validation_data</span></div><div class='xr-var-dims'>(epoch, j)</div><div class='xr-var-dtype'>float64</div><div class='xr-var-preview xr-preview'>nan</div><input id='attrs-a923266f-f9c3-4f60-bbad-df7770d9fe4d' class='xr-var-attrs-in' type='checkbox' disabled><label for='attrs-a923266f-f9c3-4f60-bbad-df7770d9fe4d' title='Show/Hide attributes'><svg class='icon xr-icon-file-text2'><use xlink:href='#icon-file-text2'></use></svg></label><input id='data-4a6d99ba-118b-4a0b-a9c1-b73f351f3dd8' class='xr-var-data-in' type='checkbox'><label for='data-4a6d99ba-118b-4a0b-a9c1-b73f351f3dd8' title='Show/Hide data repr'><svg class='icon xr-icon-database'><use xlink:href='#icon-database'></use></svg></label><div class='xr-var-attrs'><dl class='xr-attrs'></dl></div><div class='xr-var-data'><pre>array([[nan]])</pre></div></li><li class='xr-var-item'><div class='xr-var-name'><span>error_training_jb</span></div><div class='xr-var-dims'>(epoch)</div><div class='xr-var-dtype'>float64</div><div class='xr-var-preview xr-preview'>3.831</div><input id='attrs-56bd5387-381e-480a-9f3c-23a78c3a11fc' class='xr-var-attrs-in' type='checkbox' disabled><label for='attrs-56bd5387-381e-480a-9f3c-23a78c3a11fc' title='Show/Hide attributes'><svg class='icon xr-icon-file-text2'><use xlink:href='#icon-file-text2'></use></svg></label><input id='data-acd03917-8236-440c-9b9e-6f7c9f23cbf8' class='xr-var-data-in' type='checkbox'><label for='data-acd03917-8236-440c-9b9e-6f7c9f23cbf8' title='Show/Hide data repr'><svg class='icon xr-icon-database'><use xlink:href='#icon-database'></use></svg></label><div class='xr-var-attrs'><dl class='xr-attrs'></dl></div><div class='xr-var-data'><pre>array([3.83135033])</pre></div></li><li class='xr-var-item'><div class='xr-var-name'><span>error_training_jbp</span></div><div class='xr-var-dims'>(epoch)</div><div class='xr-var-dtype'>float64</div><div class='xr-var-preview xr-preview'>0.1472</div><input id='attrs-0b33af9e-0371-40a3-b951-f7d66fb75cf8' class='xr-var-attrs-in' type='checkbox' disabled><label for='attrs-0b33af9e-0371-40a3-b951-f7d66fb75cf8' title='Show/Hide attributes'><svg class='icon xr-icon-file-text2'><use xlink:href='#icon-file-text2'></use></svg></label><input id='data-607d69bc-b6b3-41ab-af71-eaa09fbad8b9' class='xr-var-data-in' type='checkbox'><label for='data-607d69bc-b6b3-41ab-af71-eaa09fbad8b9' title='Show/Hide data repr'><svg class='icon xr-icon-database'><use xlink:href='#icon-database'></use></svg></label><div class='xr-var-attrs'><dl class='xr-attrs'></dl></div><div class='xr-var-data'><pre>array([0.14724239])</pre></div></li><li class='xr-var-item'><div class='xr-var-name'><span>error_training_skew</span></div><div class='xr-var-dims'>(epoch)</div><div class='xr-var-dtype'>float64</div><div class='xr-var-preview xr-preview'>0.04641</div><input id='attrs-f8bb6bae-868d-49cb-8ffb-d4c2857e7383' class='xr-var-attrs-in' type='checkbox' disabled><label for='attrs-f8bb6bae-868d-49cb-8ffb-d4c2857e7383' title='Show/Hide attributes'><svg class='icon xr-icon-file-text2'><use xlink:href='#icon-file-text2'></use></svg></label><input id='data-862c12bc-bd59-4ad2-a018-4661b9016e85' class='xr-var-data-in' type='checkbox'><label for='data-862c12bc-bd59-4ad2-a018-4661b9016e85' title='Show/Hide data repr'><svg class='icon xr-icon-database'><use xlink:href='#icon-database'></use></svg></label><div class='xr-var-attrs'><dl class='xr-attrs'></dl></div><div class='xr-var-data'><pre>array([0.04640764])</pre></div></li><li class='xr-var-item'><div class='xr-var-name'><span>error_training_kurt</span></div><div class='xr-var-dims'>(epoch)</div><div class='xr-var-dtype'>float64</div><div class='xr-var-preview xr-preview'>2.976</div><input id='attrs-3f7a9b8f-d996-47df-9689-c0e8a752e268' class='xr-var-attrs-in' type='checkbox' disabled><label for='attrs-3f7a9b8f-d996-47df-9689-c0e8a752e268' title='Show/Hide attributes'><svg class='icon xr-icon-file-text2'><use xlink:href='#icon-file-text2'></use></svg></label><input id='data-c752c054-71a7-49b1-bed3-966bc84fbbd3' class='xr-var-data-in' type='checkbox'><label for='data-c752c054-71a7-49b1-bed3-966bc84fbbd3' title='Show/Hide data repr'><svg class='icon xr-icon-database'><use xlink:href='#icon-database'></use></svg></label><div class='xr-var-attrs'><dl class='xr-attrs'></dl></div><div class='xr-var-data'><pre>array([2.97590507])</pre></div></li><li class='xr-var-item'><div class='xr-var-name'><span>error_validation_jb</span></div><div class='xr-var-dims'>(epoch)</div><div class='xr-var-dtype'>float64</div><div class='xr-var-preview xr-preview'>nan</div><input id='attrs-1d66cf89-6be6-4383-b033-39a33139a7cf' class='xr-var-attrs-in' type='checkbox' disabled><label for='attrs-1d66cf89-6be6-4383-b033-39a33139a7cf' title='Show/Hide attributes'><svg class='icon xr-icon-file-text2'><use xlink:href='#icon-file-text2'></use></svg></label><input id='data-0b8a1182-0302-4a72-9fef-28b1a0587bca' class='xr-var-data-in' type='checkbox'><label for='data-0b8a1182-0302-4a72-9fef-28b1a0587bca' title='Show/Hide data repr'><svg class='icon xr-icon-database'><use xlink:href='#icon-database'></use></svg></label><div class='xr-var-attrs'><dl class='xr-attrs'></dl></div><div class='xr-var-data'><pre>array([nan])</pre></div></li><li class='xr-var-item'><div class='xr-var-name'><span>error_validation_jbp</span></div><div class='xr-var-dims'>(epoch)</div><div class='xr-var-dtype'>float64</div><div class='xr-var-preview xr-preview'>nan</div><input id='attrs-005123ce-1511-4953-bc3c-a14b34877b1f' class='xr-var-attrs-in' type='checkbox' disabled><label for='attrs-005123ce-1511-4953-bc3c-a14b34877b1f' title='Show/Hide attributes'><svg class='icon xr-icon-file-text2'><use xlink:href='#icon-file-text2'></use></svg></label><input id='data-306eff6b-48a7-4021-8d33-b04c779c73b1' class='xr-var-data-in' type='checkbox'><label for='data-306eff6b-48a7-4021-8d33-b04c779c73b1' title='Show/Hide data repr'><svg class='icon xr-icon-database'><use xlink:href='#icon-database'></use></svg></label><div class='xr-var-attrs'><dl class='xr-attrs'></dl></div><div class='xr-var-data'><pre>array([nan])</pre></div></li><li class='xr-var-item'><div class='xr-var-name'><span>error_validation_skew</span></div><div class='xr-var-dims'>(epoch)</div><div class='xr-var-dtype'>float64</div><div class='xr-var-preview xr-preview'>nan</div><input id='attrs-1a9137bf-15f3-4dbc-bf81-618c04b54367' class='xr-var-attrs-in' type='checkbox' disabled><label for='attrs-1a9137bf-15f3-4dbc-bf81-618c04b54367' title='Show/Hide attributes'><svg class='icon xr-icon-file-text2'><use xlink:href='#icon-file-text2'></use></svg></label><input id='data-c91f15b0-12f7-4045-b0f7-7fd2689c922a' class='xr-var-data-in' type='checkbox'><label for='data-c91f15b0-12f7-4045-b0f7-7fd2689c922a' title='Show/Hide data repr'><svg class='icon xr-icon-database'><use xlink:href='#icon-database'></use></svg></label><div class='xr-var-attrs'><dl class='xr-attrs'></dl></div><div class='xr-var-data'><pre>array([nan])</pre></div></li><li class='xr-var-item'><div class='xr-var-name'><span>error_validation_kurt</span></div><div class='xr-var-dims'>(epoch)</div><div class='xr-var-dtype'>float64</div><div class='xr-var-preview xr-preview'>nan</div><input id='attrs-e1683b62-a9d7-4b3a-b527-8e74c9c149d1' class='xr-var-attrs-in' type='checkbox' disabled><label for='attrs-e1683b62-a9d7-4b3a-b527-8e74c9c149d1' title='Show/Hide attributes'><svg class='icon xr-icon-file-text2'><use xlink:href='#icon-file-text2'></use></svg></label><input id='data-0175d639-1a24-46ed-8dde-4ab0ad236ced' class='xr-var-data-in' type='checkbox'><label for='data-0175d639-1a24-46ed-8dde-4ab0ad236ced' title='Show/Hide data repr'><svg class='icon xr-icon-database'><use xlink:href='#icon-database'></use></svg></label><div class='xr-var-attrs'><dl class='xr-attrs'></dl></div><div class='xr-var-data'><pre>array([nan])</pre></div></li><li class='xr-var-item'><div class='xr-var-name'><span>coefficients</span></div><div class='xr-var-dims'>(epoch, k)</div><div class='xr-var-dtype'>float64</div><div class='xr-var-preview xr-preview'>1.704 0.1996 0.01398 -0.002387</div><input id='attrs-89a1e331-5adb-472b-a046-fda99a6f9957' class='xr-var-attrs-in' type='checkbox' disabled><label for='attrs-89a1e331-5adb-472b-a046-fda99a6f9957' title='Show/Hide attributes'><svg class='icon xr-icon-file-text2'><use xlink:href='#icon-file-text2'></use></svg></label><input id='data-915bcedd-d53f-4d28-bb85-c25bb1af948d' class='xr-var-data-in' type='checkbox'><label for='data-915bcedd-d53f-4d28-bb85-c25bb1af948d' title='Show/Hide data repr'><svg class='icon xr-icon-database'><use xlink:href='#icon-database'></use></svg></label><div class='xr-var-attrs'><dl class='xr-attrs'></dl></div><div class='xr-var-data'><pre>array([[ 1.70371423,  0.1995875 ,  0.01398462, -0.00238722]])</pre></div></li></ul></div></li><li class='xr-section-item'><input id='section-9422dac0-664d-4a48-9993-4a84f278df6a' class='xr-section-summary-in' type='checkbox' disabled ><label for='section-9422dac0-664d-4a48-9993-4a84f278df6a' class='xr-section-summary'  title='Expand/collapse section'>Attributes: <span>(0)</span></label><div class='xr-section-inline-details'></div><div class='xr-section-details'><dl class='xr-attrs'></dl></div></li></ul></div></div>"
      ],
      "text/plain": [
       "<xarray.Dataset>\n",
       "Dimensions:                (epoch: 1, i: 10000, j: 1, k: 4)\n",
       "Coordinates:\n",
       "  * epoch                  (epoch) int64 1\n",
       "Dimensions without coordinates: i, j, k\n",
       "Data variables:\n",
       "    gradient               (epoch) float64 nan\n",
       "    error_training_data    (epoch, i) float64 -0.0562 -0.03901 ... 0.3711 0.2442\n",
       "    error_validation_data  (epoch, j) float64 nan\n",
       "    error_training_jb      (epoch) float64 3.831\n",
       "    error_training_jbp     (epoch) float64 0.1472\n",
       "    error_training_skew    (epoch) float64 0.04641\n",
       "    error_training_kurt    (epoch) float64 2.976\n",
       "    error_validation_jb    (epoch) float64 nan\n",
       "    error_validation_jbp   (epoch) float64 nan\n",
       "    error_validation_skew  (epoch) float64 nan\n",
       "    error_validation_kurt  (epoch) float64 nan\n",
       "    coefficients           (epoch, k) float64 1.704 0.1996 0.01398 -0.002387"
      ]
     },
     "execution_count": 15,
     "metadata": {},
     "output_type": "execute_result"
    }
   ],
   "source": [
    "model.training_log"
   ]
  },
  {
   "cell_type": "code",
   "execution_count": 18,
   "id": "2aa4753c-3b73-4307-8ad6-a40483009da9",
   "metadata": {},
   "outputs": [
    {
     "data": {
      "application/vnd.jupyter.widget-view+json": {
       "model_id": "920288cc5d574ef99121290b324f0168",
       "version_major": 2,
       "version_minor": 0
      },
      "text/plain": [
       "Canvas(toolbar=Toolbar(toolitems=[('Home', 'Reset original view', 'home', 'home'), ('Back', 'Back to previous …"
      ]
     },
     "metadata": {},
     "output_type": "display_data"
    },
    {
     "data": {
      "application/vnd.jupyter.widget-view+json": {
       "model_id": "e699ea3b2109461e9f3141c5356be436",
       "version_major": 2,
       "version_minor": 0
      },
      "text/plain": [
       "  0%|          | 0/24 [00:00<?, ?it/s]"
      ]
     },
     "metadata": {},
     "output_type": "display_data"
    }
   ],
   "source": [
    "orders = list(range(1, 25))\n",
    "extra_axis = 5\n",
    "fig, axs = plt.subplots(len(orders) + extra_axis, 1, figsize=(8, (len(orders) + extra_axis) * 2))\n",
    "\n",
    "error_mean = []\n",
    "error_jb = []\n",
    "error_jbp = []\n",
    "error_skew = []\n",
    "error_kurt = []\n",
    "\n",
    "for i, order in tqdm(enumerate(orders), total=len(orders)):\n",
    "    model = LeastSquaresModel.new_polynomial(\n",
    "        n_inputs=1,\n",
    "        input_range=input_range,\n",
    "        order=order)\n",
    "\n",
    "    model.train(inputs, reference_outputs_noisy)\n",
    "\n",
    "    error_mean.append(model.training_log.error_training_data.mean())\n",
    "\n",
    "    error_jb.append(model.training_log.error_training_jb.item())\n",
    "    error_jbp.append(model.training_log.error_training_jbp.item())\n",
    "    error_skew.append(model.training_log.error_training_skew.item())\n",
    "    error_kurt.append(model.training_log.error_training_kurt.item())\n",
    "\n",
    "    model.training_log.error_training_data.plot.line(x='i', ls=\" \", marker=\".\", ax=axs[i+extra_axis])\n",
    "    axs[i+extra_axis].set_title(f\"Histogram polynomial order={order}\")\n",
    "\n",
    "axs[0].plot(orders, error_mean)\n",
    "axs[1].plot(orders, error_jb)\n",
    "axs[2].plot(orders, error_jbp)\n",
    "axs[3].plot(orders, error_skew)\n",
    "axs[4].plot(orders, error_kurt)\n",
    "\n",
    "axs[1].set_yscale('log')\n",
    "\n",
    "plt.tight_layout()"
   ]
  },
  {
   "cell_type": "markdown",
   "id": "29e6d1c7-73ae-4901-af96-7f3d930421ef",
   "metadata": {},
   "source": [
    "## 2D"
   ]
  },
  {
   "cell_type": "code",
   "execution_count": 19,
   "id": "78f240ca-c46d-4f1a-8e6d-382d7cbe2e86",
   "metadata": {},
   "outputs": [],
   "source": [
    "input_range = np.array([(-1, 1), (-3, 5)])\n",
    "\n",
    "\n",
    "def foo(x):\n",
    "    return -x[0]**2 + np.tanh(x[1]*2)\n",
    "\n",
    "\n",
    "resolution = 100\n",
    "inputs = np.array(tuple(product(np.linspace(*input_range[0, :], resolution),\n",
    "                                np.linspace(*input_range[1, :], resolution))))\n",
    "\n",
    "reference_outputs = np.array(list(map(foo, inputs)))\n",
    "reference_outputs_noisy = reference_outputs + (np.random.random(reference_outputs.shape) - 0.5) * 0.1\n",
    "\n",
    "inputs = inputs[..., None]\n",
    "reference_outputs = reference_outputs.reshape(-1, 1, 1)\n",
    "reference_outputs_noisy = reference_outputs_noisy.reshape(-1, 1, 1)"
   ]
  },
  {
   "cell_type": "code",
   "execution_count": 20,
   "id": "ea27ea9a-963b-41c6-b269-a6a241b7bcdd",
   "metadata": {},
   "outputs": [
    {
     "data": {
      "application/vnd.jupyter.widget-view+json": {
       "model_id": "e5b284bb0ae2448cabe4763e1771ab4f",
       "version_major": 2,
       "version_minor": 0
      },
      "text/plain": [
       "Canvas(toolbar=Toolbar(toolitems=[('Home', 'Reset original view', 'home', 'home'), ('Back', 'Back to previous …"
      ]
     },
     "metadata": {},
     "output_type": "display_data"
    },
    {
     "data": {
      "text/plain": [
       "<mpl_toolkits.mplot3d.art3d.Path3DCollection at 0x7fdfb5d43490>"
      ]
     },
     "execution_count": 20,
     "metadata": {},
     "output_type": "execute_result"
    }
   ],
   "source": [
    "fig = plt.figure()\n",
    "ax = fig.add_subplot(projection='3d')\n",
    "ax.scatter(inputs[:, 0, 0], inputs[:, 1, 0], reference_outputs.squeeze(), s=0.1)"
   ]
  },
  {
   "cell_type": "code",
   "execution_count": 23,
   "id": "787655cc-98c7-40be-ae9f-ba1452b392bf",
   "metadata": {},
   "outputs": [
    {
     "data": {
      "text/html": [
       "<div Class=\"cw_vdom_hyr cw_vdom_hyr_item\"><style>.cw_vdom_hyr {\n",
       "    font-family: monospace;\n",
       "}\n",
       "\n",
       ".cw_vdom_hyr_item > input {\n",
       "    display: none;\n",
       "}\n",
       "\n",
       ".cw_vdom_hyr_item > label {\n",
       "    color: var(--jp-accent-color1);\n",
       "    font-weight: bold;\n",
       "}\n",
       "\n",
       ".cw_vdom_hyr_item > label::before {\n",
       "    content: \"\\00a0\";\n",
       "}\n",
       "\n",
       ".cw_vdom_hyr_item > label::after {\n",
       "    content: \": \";\n",
       "}\n",
       "\n",
       ".cw_vdom_hyr_item > div {\n",
       "    display: inline-block;\n",
       "}\n",
       "\n",
       ".cw_vdom_hyr_item > input + label {\n",
       "    cursor: pointer;\n",
       "}\n",
       "\n",
       ".cw_vdom_hyr_item > input + label::before {\n",
       "    content: \"+\";\n",
       "}\n",
       "\n",
       ".cw_vdom_hyr_item > input:checked + label::before {\n",
       "    content: \"-\";\n",
       "}\n",
       "\n",
       ".cw_vdom_hyr_item > input ~ div {\n",
       "    display: none;\n",
       "    padding-left: 20px;\n",
       "}\n",
       "\n",
       ".cw_vdom_hyr_item > input:checked ~ div {\n",
       "    display: block;\n",
       "}\n",
       "\n",
       ".cw_vdom_hyr_type {\n",
       "    color: var(--jp-ui-font-color3);\n",
       "    font-size: var(--jp-ui-font-size0);\n",
       "}\n",
       "</style><input type=\"checkbox\" id=\"9I8IK776G1\" ></input><label For=\"9I8IK776G1\">Least squares model</label><span Class=\"cw_vdom_hyr_type\">system_identification.lsqr_model.LeastSquaresModel:</span><div><div><div Class=\"cw_vdom_hyr_item\"><label For=\"EOJCYZVIZY\">description</label><span Class=\"cw_vdom_hyr_type\">str[51]:</span><div><span>Least squares model fitting a `5` order polynomial.</span></div></div><div Class=\"cw_vdom_hyr_item\"><label For=\"FBS7FO5OJ8\">n_inputs</label><span Class=\"cw_vdom_hyr_type\">int:</span><div><span>2</span></div></div><div Class=\"cw_vdom_hyr_item\"><label For=\"UE3UPEKWUE\">n_output</label><span Class=\"cw_vdom_hyr_type\">int:</span><div><span>1</span></div></div><div Class=\"cw_vdom_hyr_item\"><label For=\"WC2PV13ZIG\">n_coefficients</label><span Class=\"cw_vdom_hyr_type\">NoneType:</span><div><span>None</span></div></div><div Class=\"cw_vdom_hyr_item\"><input type=\"checkbox\" id=\"0ZU0WAVKPT\" ></input><label For=\"0ZU0WAVKPT\">range</label><span Class=\"cw_vdom_hyr_type\">numpy.ndarray[2, 2]:</span><div><div>[[-1  1]<br/> [-3  5]]</div></div></div></div></div></div>"
      ],
      "text/plain": [
       "<system_identification.lsqr_model.LeastSquaresModel at 0x7fdfb64a4e80>"
      ]
     },
     "execution_count": 23,
     "metadata": {},
     "output_type": "execute_result"
    }
   ],
   "source": [
    "model = LeastSquaresModel.new_polynomial(\n",
    "    n_inputs=2,\n",
    "    input_range=input_range,\n",
    "    order=5)\n",
    "model"
   ]
  },
  {
   "cell_type": "code",
   "execution_count": 24,
   "id": "cb3a9897-5e61-4bf7-99f8-aec3559b764a",
   "metadata": {},
   "outputs": [],
   "source": [
    "model.train(inputs, reference_outputs)"
   ]
  },
  {
   "cell_type": "code",
   "execution_count": 25,
   "id": "30e7cf84-fd2c-4158-8f89-9ce659afe984",
   "metadata": {},
   "outputs": [
    {
     "data": {
      "application/vnd.jupyter.widget-view+json": {
       "model_id": "13da551171534dd7a3ef928d8d95de36",
       "version_major": 2,
       "version_minor": 0
      },
      "text/plain": [
       "Canvas(toolbar=Toolbar(toolitems=[('Home', 'Reset original view', 'home', 'home'), ('Back', 'Back to previous …"
      ]
     },
     "metadata": {},
     "output_type": "display_data"
    },
    {
     "data": {
      "text/plain": [
       "<mpl_toolkits.mplot3d.art3d.Path3DCollection at 0x7fdfb64d6e50>"
      ]
     },
     "execution_count": 25,
     "metadata": {},
     "output_type": "execute_result"
    }
   ],
   "source": [
    "fig = plt.figure()\n",
    "output = model.evaluate(inputs)\n",
    "ax = fig.add_subplot(projection='3d')\n",
    "ax.scatter(inputs[:, 0, 0], inputs[:, 1, 0], reference_outputs.squeeze(), s=0.1)\n",
    "ax.scatter(inputs[:, 0, 0], inputs[:, 1, 0], output.squeeze(), s=0.1)"
   ]
  },
  {
   "cell_type": "code",
   "execution_count": null,
   "id": "7092a6f6-1e5f-423e-bb5e-09216a2a7649",
   "metadata": {},
   "outputs": [],
   "source": []
  }
 ],
 "metadata": {
  "kernelspec": {
   "display_name": "Python 3 (ipykernel)",
   "language": "python",
   "name": "python3"
  },
  "language_info": {
   "codemirror_mode": {
    "name": "ipython",
    "version": 3
   },
   "file_extension": ".py",
   "mimetype": "text/x-python",
   "name": "python",
   "nbconvert_exporter": "python",
   "pygments_lexer": "ipython3",
   "version": "3.9.6"
  }
 },
 "nbformat": 4,
 "nbformat_minor": 5
}
