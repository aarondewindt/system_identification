{
 "cells": [
  {
   "cell_type": "markdown",
   "id": "dc99b2ff-6065-40fd-9763-cdc3a57ae001",
   "metadata": {},
   "source": [
    "# Least squares"
   ]
  },
  {
   "cell_type": "code",
   "execution_count": 1,
   "id": "57db8099-9482-455c-9931-4128442e8c7d",
   "metadata": {},
   "outputs": [],
   "source": [
    "%load_ext autoreload\n",
    "%autoreload 2\n",
    "%matplotlib widget"
   ]
  },
  {
   "cell_type": "code",
   "execution_count": 2,
   "id": "2b84310b-e0e4-49b4-bf56-56593a0b1f67",
   "metadata": {},
   "outputs": [],
   "source": [
    "from itertools import product\n",
    "\n",
    "import numpy as np\n",
    "import xarray as xr\n",
    "import xarray.ufuncs as xf\n",
    "import matplotlib.pyplot as plt\n",
    "import statsmodels.stats.api as sms\n",
    "from tqdm.auto import tqdm\n",
    "from scipy.optimize import lsq_linear\n",
    "\n",
    "from system_identification.lsqr_model import LeastSquaresModel"
   ]
  },
  {
   "cell_type": "markdown",
   "id": "66697439-53be-464a-a7c2-1dd82dddb5b5",
   "metadata": {},
   "source": [
    "## 1D"
   ]
  },
  {
   "cell_type": "code",
   "execution_count": 3,
   "id": "3ddbef86-0027-4254-84f2-74f0fe660cc5",
   "metadata": {},
   "outputs": [],
   "source": [
    "def foo(x):\n",
    "    return 0.8 * np.tanh(x * 0.4 - 0.7) + 2.1\n",
    "\n",
    "# def foo(x):\n",
    "#     return 0.01 * x**2\n",
    "\n",
    "input_range = [[-5, 10]]\n",
    "inputs = np.linspace(*input_range[0], 10000)\n",
    "reference_outputs = np.array(list(map(foo, inputs)))\n",
    "reference_outputs_noisy = reference_outputs + np.random.normal(0, 0.1, size=reference_outputs.shape)\n",
    "\n",
    "inputs = inputs.reshape(-1, 1, 1)\n",
    "reference_outputs = reference_outputs.reshape(-1, 1, 1)\n",
    "reference_outputs_noisy = reference_outputs_noisy.reshape(-1, 1, 1)"
   ]
  },
  {
   "cell_type": "code",
   "execution_count": 4,
   "id": "4443fbf4-e513-4d68-8f75-02f49b2d9fdb",
   "metadata": {},
   "outputs": [
    {
     "data": {
      "application/vnd.jupyter.widget-view+json": {
       "model_id": "cc568d50fa3441ecb88f9271992a8f3e",
       "version_major": 2,
       "version_minor": 0
      },
      "text/plain": [
       "Canvas(toolbar=Toolbar(toolitems=[('Home', 'Reset original view', 'home', 'home'), ('Back', 'Back to previous …"
      ]
     },
     "metadata": {},
     "output_type": "display_data"
    },
    {
     "data": {
      "text/plain": [
       "[<matplotlib.lines.Line2D at 0x7f423b675c40>]"
      ]
     },
     "execution_count": 4,
     "metadata": {},
     "output_type": "execute_result"
    }
   ],
   "source": [
    "plt.figure()\n",
    "plt.plot(inputs[:, 0, 0], reference_outputs_noisy[:, 0, 0], \".\", markersize=1)\n",
    "plt.plot(inputs[:, 0, 0], reference_outputs[:, 0, 0], \".\", markersize=1)"
   ]
  },
  {
   "cell_type": "code",
   "execution_count": 5,
   "id": "3b24cb57-9939-41b0-a838-93a2a0017451",
   "metadata": {},
   "outputs": [
    {
     "data": {
      "text/html": [
       "<div Class=\"cw_vdom_hyr cw_vdom_hyr_item\"><style>.cw_vdom_hyr {\n",
       "    font-family: monospace;\n",
       "}\n",
       "\n",
       ".cw_vdom_hyr_item > input {\n",
       "    display: none;\n",
       "}\n",
       "\n",
       ".cw_vdom_hyr_item > label {\n",
       "    color: var(--jp-accent-color1);\n",
       "    font-weight: bold;\n",
       "}\n",
       "\n",
       ".cw_vdom_hyr_item > label::before {\n",
       "    content: \"\\00a0\";\n",
       "}\n",
       "\n",
       ".cw_vdom_hyr_item > label::after {\n",
       "    content: \": \";\n",
       "}\n",
       "\n",
       ".cw_vdom_hyr_item > div {\n",
       "    display: inline-block;\n",
       "}\n",
       "\n",
       ".cw_vdom_hyr_item > input + label {\n",
       "    cursor: pointer;\n",
       "}\n",
       "\n",
       ".cw_vdom_hyr_item > input + label::before {\n",
       "    content: \"+\";\n",
       "}\n",
       "\n",
       ".cw_vdom_hyr_item > input:checked + label::before {\n",
       "    content: \"-\";\n",
       "}\n",
       "\n",
       ".cw_vdom_hyr_item > input ~ div {\n",
       "    display: none;\n",
       "    padding-left: 20px;\n",
       "}\n",
       "\n",
       ".cw_vdom_hyr_item > input:checked ~ div {\n",
       "    display: block;\n",
       "}\n",
       "\n",
       ".cw_vdom_hyr_type {\n",
       "    color: var(--jp-ui-font-color3);\n",
       "    font-size: var(--jp-ui-font-size0);\n",
       "}\n",
       "</style><input type=\"checkbox\" id=\"4AGXPA31DM\" ></input><label For=\"4AGXPA31DM\">Least squares model</label><span Class=\"cw_vdom_hyr_type\">system_identification.lsqr_model.LeastSquaresModel:</span><div><div><div Class=\"cw_vdom_hyr_item\"><label For=\"MA350OKAWR\">description</label><span Class=\"cw_vdom_hyr_type\">str[51]:</span><div><span>Least squares model fitting a `2` order polynomial.</span></div></div><div Class=\"cw_vdom_hyr_item\"><label For=\"OQ6HBN3MU8\">n_inputs</label><span Class=\"cw_vdom_hyr_type\">int:</span><div><span>1</span></div></div><div Class=\"cw_vdom_hyr_item\"><label For=\"A6IE3R3CDX\">n_output</label><span Class=\"cw_vdom_hyr_type\">int:</span><div><span>1</span></div></div><div Class=\"cw_vdom_hyr_item\"><label For=\"KTWT98X8F7\">n_coefficients</label><span Class=\"cw_vdom_hyr_type\">NoneType:</span><div><span>None</span></div></div><div Class=\"cw_vdom_hyr_item\"><label For=\"TPLRF55SFP\">range</label><span Class=\"cw_vdom_hyr_type\">numpy.ndarray[1, 2]:</span><div>[[-5 10]]</div></div></div></div></div>"
      ],
      "text/plain": [
       "<system_identification.lsqr_model.LeastSquaresModel at 0x7f4231d1ee20>"
      ]
     },
     "execution_count": 5,
     "metadata": {},
     "output_type": "execute_result"
    }
   ],
   "source": [
    "model = LeastSquaresModel.new_polynomial(\n",
    "    n_inputs=1,\n",
    "    input_range=input_range,\n",
    "    order=2)\n",
    "model"
   ]
  },
  {
   "cell_type": "code",
   "execution_count": 6,
   "id": "1dee43ee-1ab4-4ebb-a848-6565a7b33ee9",
   "metadata": {},
   "outputs": [],
   "source": [
    "model.train(inputs, reference_outputs_noisy)"
   ]
  },
  {
   "cell_type": "code",
   "execution_count": 7,
   "id": "0ef644f9-032b-4ba0-a493-97724f5b1434",
   "metadata": {},
   "outputs": [
    {
     "data": {
      "application/vnd.jupyter.widget-view+json": {
       "model_id": "50ef1afc99224d69bd3e2429e19f7ac1",
       "version_major": 2,
       "version_minor": 0
      },
      "text/plain": [
       "Canvas(toolbar=Toolbar(toolitems=[('Home', 'Reset original view', 'home', 'home'), ('Back', 'Back to previous …"
      ]
     },
     "metadata": {},
     "output_type": "display_data"
    },
    {
     "data": {
      "text/plain": [
       "[<matplotlib.lines.Line2D at 0x7f42283bfac0>]"
      ]
     },
     "execution_count": 7,
     "metadata": {},
     "output_type": "execute_result"
    }
   ],
   "source": [
    "fig = plt.figure()\n",
    "outputs = model.evaluate(inputs)\n",
    "plt.plot(inputs.squeeze(), reference_outputs.squeeze())\n",
    "plt.plot(inputs.squeeze(), reference_outputs_noisy.squeeze(), \".\", markersize=1)\n",
    "plt.plot(inputs.squeeze(), outputs.squeeze())"
   ]
  },
  {
   "cell_type": "code",
   "execution_count": 18,
   "id": "8ffa352f-8c0b-438c-8820-e82213e45cb7",
   "metadata": {},
   "outputs": [
    {
     "data": {
      "text/html": [
       "<div><svg style=\"position: absolute; width: 0; height: 0; overflow: hidden\">\n",
       "<defs>\n",
       "<symbol id=\"icon-database\" viewBox=\"0 0 32 32\">\n",
       "<path d=\"M16 0c-8.837 0-16 2.239-16 5v4c0 2.761 7.163 5 16 5s16-2.239 16-5v-4c0-2.761-7.163-5-16-5z\"></path>\n",
       "<path d=\"M16 17c-8.837 0-16-2.239-16-5v6c0 2.761 7.163 5 16 5s16-2.239 16-5v-6c0 2.761-7.163 5-16 5z\"></path>\n",
       "<path d=\"M16 26c-8.837 0-16-2.239-16-5v6c0 2.761 7.163 5 16 5s16-2.239 16-5v-6c0 2.761-7.163 5-16 5z\"></path>\n",
       "</symbol>\n",
       "<symbol id=\"icon-file-text2\" viewBox=\"0 0 32 32\">\n",
       "<path d=\"M28.681 7.159c-0.694-0.947-1.662-2.053-2.724-3.116s-2.169-2.030-3.116-2.724c-1.612-1.182-2.393-1.319-2.841-1.319h-15.5c-1.378 0-2.5 1.121-2.5 2.5v27c0 1.378 1.122 2.5 2.5 2.5h23c1.378 0 2.5-1.122 2.5-2.5v-19.5c0-0.448-0.137-1.23-1.319-2.841zM24.543 5.457c0.959 0.959 1.712 1.825 2.268 2.543h-4.811v-4.811c0.718 0.556 1.584 1.309 2.543 2.268zM28 29.5c0 0.271-0.229 0.5-0.5 0.5h-23c-0.271 0-0.5-0.229-0.5-0.5v-27c0-0.271 0.229-0.5 0.5-0.5 0 0 15.499-0 15.5 0v7c0 0.552 0.448 1 1 1h7v19.5z\"></path>\n",
       "<path d=\"M23 26h-14c-0.552 0-1-0.448-1-1s0.448-1 1-1h14c0.552 0 1 0.448 1 1s-0.448 1-1 1z\"></path>\n",
       "<path d=\"M23 22h-14c-0.552 0-1-0.448-1-1s0.448-1 1-1h14c0.552 0 1 0.448 1 1s-0.448 1-1 1z\"></path>\n",
       "<path d=\"M23 18h-14c-0.552 0-1-0.448-1-1s0.448-1 1-1h14c0.552 0 1 0.448 1 1s-0.448 1-1 1z\"></path>\n",
       "</symbol>\n",
       "</defs>\n",
       "</svg>\n",
       "<style>/* CSS stylesheet for displaying xarray objects in jupyterlab.\n",
       " *\n",
       " */\n",
       "\n",
       ":root {\n",
       "  --xr-font-color0: var(--jp-content-font-color0, rgba(0, 0, 0, 1));\n",
       "  --xr-font-color2: var(--jp-content-font-color2, rgba(0, 0, 0, 0.54));\n",
       "  --xr-font-color3: var(--jp-content-font-color3, rgba(0, 0, 0, 0.38));\n",
       "  --xr-border-color: var(--jp-border-color2, #e0e0e0);\n",
       "  --xr-disabled-color: var(--jp-layout-color3, #bdbdbd);\n",
       "  --xr-background-color: var(--jp-layout-color0, white);\n",
       "  --xr-background-color-row-even: var(--jp-layout-color1, white);\n",
       "  --xr-background-color-row-odd: var(--jp-layout-color2, #eeeeee);\n",
       "}\n",
       "\n",
       "html[theme=dark],\n",
       "body.vscode-dark {\n",
       "  --xr-font-color0: rgba(255, 255, 255, 1);\n",
       "  --xr-font-color2: rgba(255, 255, 255, 0.54);\n",
       "  --xr-font-color3: rgba(255, 255, 255, 0.38);\n",
       "  --xr-border-color: #1F1F1F;\n",
       "  --xr-disabled-color: #515151;\n",
       "  --xr-background-color: #111111;\n",
       "  --xr-background-color-row-even: #111111;\n",
       "  --xr-background-color-row-odd: #313131;\n",
       "}\n",
       "\n",
       ".xr-wrap {\n",
       "  display: block;\n",
       "  min-width: 300px;\n",
       "  max-width: 700px;\n",
       "}\n",
       "\n",
       ".xr-text-repr-fallback {\n",
       "  /* fallback to plain text repr when CSS is not injected (untrusted notebook) */\n",
       "  display: none;\n",
       "}\n",
       "\n",
       ".xr-header {\n",
       "  padding-top: 6px;\n",
       "  padding-bottom: 6px;\n",
       "  margin-bottom: 4px;\n",
       "  border-bottom: solid 1px var(--xr-border-color);\n",
       "}\n",
       "\n",
       ".xr-header > div,\n",
       ".xr-header > ul {\n",
       "  display: inline;\n",
       "  margin-top: 0;\n",
       "  margin-bottom: 0;\n",
       "}\n",
       "\n",
       ".xr-obj-type,\n",
       ".xr-array-name {\n",
       "  margin-left: 2px;\n",
       "  margin-right: 10px;\n",
       "}\n",
       "\n",
       ".xr-obj-type {\n",
       "  color: var(--xr-font-color2);\n",
       "}\n",
       "\n",
       ".xr-sections {\n",
       "  padding-left: 0 !important;\n",
       "  display: grid;\n",
       "  grid-template-columns: 150px auto auto 1fr 20px 20px;\n",
       "}\n",
       "\n",
       ".xr-section-item {\n",
       "  display: contents;\n",
       "}\n",
       "\n",
       ".xr-section-item input {\n",
       "  display: none;\n",
       "}\n",
       "\n",
       ".xr-section-item input + label {\n",
       "  color: var(--xr-disabled-color);\n",
       "}\n",
       "\n",
       ".xr-section-item input:enabled + label {\n",
       "  cursor: pointer;\n",
       "  color: var(--xr-font-color2);\n",
       "}\n",
       "\n",
       ".xr-section-item input:enabled + label:hover {\n",
       "  color: var(--xr-font-color0);\n",
       "}\n",
       "\n",
       ".xr-section-summary {\n",
       "  grid-column: 1;\n",
       "  color: var(--xr-font-color2);\n",
       "  font-weight: 500;\n",
       "}\n",
       "\n",
       ".xr-section-summary > span {\n",
       "  display: inline-block;\n",
       "  padding-left: 0.5em;\n",
       "}\n",
       "\n",
       ".xr-section-summary-in:disabled + label {\n",
       "  color: var(--xr-font-color2);\n",
       "}\n",
       "\n",
       ".xr-section-summary-in + label:before {\n",
       "  display: inline-block;\n",
       "  content: '►';\n",
       "  font-size: 11px;\n",
       "  width: 15px;\n",
       "  text-align: center;\n",
       "}\n",
       "\n",
       ".xr-section-summary-in:disabled + label:before {\n",
       "  color: var(--xr-disabled-color);\n",
       "}\n",
       "\n",
       ".xr-section-summary-in:checked + label:before {\n",
       "  content: '▼';\n",
       "}\n",
       "\n",
       ".xr-section-summary-in:checked + label > span {\n",
       "  display: none;\n",
       "}\n",
       "\n",
       ".xr-section-summary,\n",
       ".xr-section-inline-details {\n",
       "  padding-top: 4px;\n",
       "  padding-bottom: 4px;\n",
       "}\n",
       "\n",
       ".xr-section-inline-details {\n",
       "  grid-column: 2 / -1;\n",
       "}\n",
       "\n",
       ".xr-section-details {\n",
       "  display: none;\n",
       "  grid-column: 1 / -1;\n",
       "  margin-bottom: 5px;\n",
       "}\n",
       "\n",
       ".xr-section-summary-in:checked ~ .xr-section-details {\n",
       "  display: contents;\n",
       "}\n",
       "\n",
       ".xr-array-wrap {\n",
       "  grid-column: 1 / -1;\n",
       "  display: grid;\n",
       "  grid-template-columns: 20px auto;\n",
       "}\n",
       "\n",
       ".xr-array-wrap > label {\n",
       "  grid-column: 1;\n",
       "  vertical-align: top;\n",
       "}\n",
       "\n",
       ".xr-preview {\n",
       "  color: var(--xr-font-color3);\n",
       "}\n",
       "\n",
       ".xr-array-preview,\n",
       ".xr-array-data {\n",
       "  padding: 0 5px !important;\n",
       "  grid-column: 2;\n",
       "}\n",
       "\n",
       ".xr-array-data,\n",
       ".xr-array-in:checked ~ .xr-array-preview {\n",
       "  display: none;\n",
       "}\n",
       "\n",
       ".xr-array-in:checked ~ .xr-array-data,\n",
       ".xr-array-preview {\n",
       "  display: inline-block;\n",
       "}\n",
       "\n",
       ".xr-dim-list {\n",
       "  display: inline-block !important;\n",
       "  list-style: none;\n",
       "  padding: 0 !important;\n",
       "  margin: 0;\n",
       "}\n",
       "\n",
       ".xr-dim-list li {\n",
       "  display: inline-block;\n",
       "  padding: 0;\n",
       "  margin: 0;\n",
       "}\n",
       "\n",
       ".xr-dim-list:before {\n",
       "  content: '(';\n",
       "}\n",
       "\n",
       ".xr-dim-list:after {\n",
       "  content: ')';\n",
       "}\n",
       "\n",
       ".xr-dim-list li:not(:last-child):after {\n",
       "  content: ',';\n",
       "  padding-right: 5px;\n",
       "}\n",
       "\n",
       ".xr-has-index {\n",
       "  font-weight: bold;\n",
       "}\n",
       "\n",
       ".xr-var-list,\n",
       ".xr-var-item {\n",
       "  display: contents;\n",
       "}\n",
       "\n",
       ".xr-var-item > div,\n",
       ".xr-var-item label,\n",
       ".xr-var-item > .xr-var-name span {\n",
       "  background-color: var(--xr-background-color-row-even);\n",
       "  margin-bottom: 0;\n",
       "}\n",
       "\n",
       ".xr-var-item > .xr-var-name:hover span {\n",
       "  padding-right: 5px;\n",
       "}\n",
       "\n",
       ".xr-var-list > li:nth-child(odd) > div,\n",
       ".xr-var-list > li:nth-child(odd) > label,\n",
       ".xr-var-list > li:nth-child(odd) > .xr-var-name span {\n",
       "  background-color: var(--xr-background-color-row-odd);\n",
       "}\n",
       "\n",
       ".xr-var-name {\n",
       "  grid-column: 1;\n",
       "}\n",
       "\n",
       ".xr-var-dims {\n",
       "  grid-column: 2;\n",
       "}\n",
       "\n",
       ".xr-var-dtype {\n",
       "  grid-column: 3;\n",
       "  text-align: right;\n",
       "  color: var(--xr-font-color2);\n",
       "}\n",
       "\n",
       ".xr-var-preview {\n",
       "  grid-column: 4;\n",
       "}\n",
       "\n",
       ".xr-var-name,\n",
       ".xr-var-dims,\n",
       ".xr-var-dtype,\n",
       ".xr-preview,\n",
       ".xr-attrs dt {\n",
       "  white-space: nowrap;\n",
       "  overflow: hidden;\n",
       "  text-overflow: ellipsis;\n",
       "  padding-right: 10px;\n",
       "}\n",
       "\n",
       ".xr-var-name:hover,\n",
       ".xr-var-dims:hover,\n",
       ".xr-var-dtype:hover,\n",
       ".xr-attrs dt:hover {\n",
       "  overflow: visible;\n",
       "  width: auto;\n",
       "  z-index: 1;\n",
       "}\n",
       "\n",
       ".xr-var-attrs,\n",
       ".xr-var-data {\n",
       "  display: none;\n",
       "  background-color: var(--xr-background-color) !important;\n",
       "  padding-bottom: 5px !important;\n",
       "}\n",
       "\n",
       ".xr-var-attrs-in:checked ~ .xr-var-attrs,\n",
       ".xr-var-data-in:checked ~ .xr-var-data {\n",
       "  display: block;\n",
       "}\n",
       "\n",
       ".xr-var-data > table {\n",
       "  float: right;\n",
       "}\n",
       "\n",
       ".xr-var-name span,\n",
       ".xr-var-data,\n",
       ".xr-attrs {\n",
       "  padding-left: 25px !important;\n",
       "}\n",
       "\n",
       ".xr-attrs,\n",
       ".xr-var-attrs,\n",
       ".xr-var-data {\n",
       "  grid-column: 1 / -1;\n",
       "}\n",
       "\n",
       "dl.xr-attrs {\n",
       "  padding: 0;\n",
       "  margin: 0;\n",
       "  display: grid;\n",
       "  grid-template-columns: 125px auto;\n",
       "}\n",
       "\n",
       ".xr-attrs dt,\n",
       ".xr-attrs dd {\n",
       "  padding: 0;\n",
       "  margin: 0;\n",
       "  float: left;\n",
       "  padding-right: 10px;\n",
       "  width: auto;\n",
       "}\n",
       "\n",
       ".xr-attrs dt {\n",
       "  font-weight: normal;\n",
       "  grid-column: 1;\n",
       "}\n",
       "\n",
       ".xr-attrs dt:hover span {\n",
       "  display: inline-block;\n",
       "  background: var(--xr-background-color);\n",
       "  padding-right: 10px;\n",
       "}\n",
       "\n",
       ".xr-attrs dd {\n",
       "  grid-column: 2;\n",
       "  white-space: pre-wrap;\n",
       "  word-break: break-all;\n",
       "}\n",
       "\n",
       ".xr-icon-database,\n",
       ".xr-icon-file-text2 {\n",
       "  display: inline-block;\n",
       "  vertical-align: middle;\n",
       "  width: 1em;\n",
       "  height: 1.5em !important;\n",
       "  stroke-width: 0;\n",
       "  stroke: currentColor;\n",
       "  fill: currentColor;\n",
       "}\n",
       "</style><pre class='xr-text-repr-fallback'>&lt;xarray.Dataset&gt;\n",
       "Dimensions:                (epoch: 1, i: 10000, j: 1, k: 3)\n",
       "Coordinates:\n",
       "  * epoch                  (epoch) int64 1\n",
       "Dimensions without coordinates: i, j, k\n",
       "Data variables:\n",
       "    gradient               (epoch) float64 nan\n",
       "    error_training_data    (epoch, i) float64 0.4464 0.474 ... -0.2996 -0.2146\n",
       "    error_validation_data  (epoch, j) float64 nan\n",
       "    error_training_jb      (epoch) float64 194.8\n",
       "    error_training_jbp     (epoch) float64 5.033e-43\n",
       "    error_training_skew    (epoch) float64 0.01125\n",
       "    error_training_kurt    (epoch) float64 2.317\n",
       "    error_validation_jb    (epoch) float64 nan\n",
       "    error_validation_jbp   (epoch) float64 nan\n",
       "    error_validation_skew  (epoch) float64 nan\n",
       "    error_validation_kurt  (epoch) float64 nan\n",
       "    coefficients           (epoch, k) float64 1.868 0.1639 -0.00387</pre><div class='xr-wrap' hidden><div class='xr-header'><div class='xr-obj-type'>xarray.Dataset</div></div><ul class='xr-sections'><li class='xr-section-item'><input id='section-373a7062-341e-48fc-88e1-3ec0d717aa90' class='xr-section-summary-in' type='checkbox' disabled ><label for='section-373a7062-341e-48fc-88e1-3ec0d717aa90' class='xr-section-summary'  title='Expand/collapse section'>Dimensions:</label><div class='xr-section-inline-details'><ul class='xr-dim-list'><li><span class='xr-has-index'>epoch</span>: 1</li><li><span>i</span>: 10000</li><li><span>j</span>: 1</li><li><span>k</span>: 3</li></ul></div><div class='xr-section-details'></div></li><li class='xr-section-item'><input id='section-f0767c03-9b5b-468e-a1c3-c6a1187290de' class='xr-section-summary-in' type='checkbox'  checked><label for='section-f0767c03-9b5b-468e-a1c3-c6a1187290de' class='xr-section-summary' >Coordinates: <span>(1)</span></label><div class='xr-section-inline-details'></div><div class='xr-section-details'><ul class='xr-var-list'><li class='xr-var-item'><div class='xr-var-name'><span class='xr-has-index'>epoch</span></div><div class='xr-var-dims'>(epoch)</div><div class='xr-var-dtype'>int64</div><div class='xr-var-preview xr-preview'>1</div><input id='attrs-3aab25a3-f4b1-4da3-9e4d-750d4fc080c5' class='xr-var-attrs-in' type='checkbox' disabled><label for='attrs-3aab25a3-f4b1-4da3-9e4d-750d4fc080c5' title='Show/Hide attributes'><svg class='icon xr-icon-file-text2'><use xlink:href='#icon-file-text2'></use></svg></label><input id='data-2c78488d-3b93-4ac8-b24b-672b46bcf6b5' class='xr-var-data-in' type='checkbox'><label for='data-2c78488d-3b93-4ac8-b24b-672b46bcf6b5' title='Show/Hide data repr'><svg class='icon xr-icon-database'><use xlink:href='#icon-database'></use></svg></label><div class='xr-var-attrs'><dl class='xr-attrs'></dl></div><div class='xr-var-data'><pre>array([1])</pre></div></li></ul></div></li><li class='xr-section-item'><input id='section-bfdbe6cd-0920-457b-86b6-cbdbb18c8045' class='xr-section-summary-in' type='checkbox'  checked><label for='section-bfdbe6cd-0920-457b-86b6-cbdbb18c8045' class='xr-section-summary' >Data variables: <span>(12)</span></label><div class='xr-section-inline-details'></div><div class='xr-section-details'><ul class='xr-var-list'><li class='xr-var-item'><div class='xr-var-name'><span>gradient</span></div><div class='xr-var-dims'>(epoch)</div><div class='xr-var-dtype'>float64</div><div class='xr-var-preview xr-preview'>nan</div><input id='attrs-74e39305-3884-4401-8088-a6968a2f7d77' class='xr-var-attrs-in' type='checkbox' disabled><label for='attrs-74e39305-3884-4401-8088-a6968a2f7d77' title='Show/Hide attributes'><svg class='icon xr-icon-file-text2'><use xlink:href='#icon-file-text2'></use></svg></label><input id='data-7f456a1f-3111-486b-9969-b17285f26db0' class='xr-var-data-in' type='checkbox'><label for='data-7f456a1f-3111-486b-9969-b17285f26db0' title='Show/Hide data repr'><svg class='icon xr-icon-database'><use xlink:href='#icon-database'></use></svg></label><div class='xr-var-attrs'><dl class='xr-attrs'></dl></div><div class='xr-var-data'><pre>array([nan])</pre></div></li><li class='xr-var-item'><div class='xr-var-name'><span>error_training_data</span></div><div class='xr-var-dims'>(epoch, i)</div><div class='xr-var-dtype'>float64</div><div class='xr-var-preview xr-preview'>0.4464 0.474 ... -0.2996 -0.2146</div><input id='attrs-b1603d16-33c7-489f-9fd0-b58faade27cd' class='xr-var-attrs-in' type='checkbox' disabled><label for='attrs-b1603d16-33c7-489f-9fd0-b58faade27cd' title='Show/Hide attributes'><svg class='icon xr-icon-file-text2'><use xlink:href='#icon-file-text2'></use></svg></label><input id='data-5423dcd8-94f7-4b1c-a110-4cd9652afdac' class='xr-var-data-in' type='checkbox'><label for='data-5423dcd8-94f7-4b1c-a110-4cd9652afdac' title='Show/Hide data repr'><svg class='icon xr-icon-database'><use xlink:href='#icon-database'></use></svg></label><div class='xr-var-attrs'><dl class='xr-attrs'></dl></div><div class='xr-var-data'><pre>array([[ 0.44636096,  0.47401202,  0.25701499, ..., -0.21272618,\n",
       "        -0.29956092, -0.21459338]])</pre></div></li><li class='xr-var-item'><div class='xr-var-name'><span>error_validation_data</span></div><div class='xr-var-dims'>(epoch, j)</div><div class='xr-var-dtype'>float64</div><div class='xr-var-preview xr-preview'>nan</div><input id='attrs-18500f62-1e50-4c31-b29e-78fa064c7a1b' class='xr-var-attrs-in' type='checkbox' disabled><label for='attrs-18500f62-1e50-4c31-b29e-78fa064c7a1b' title='Show/Hide attributes'><svg class='icon xr-icon-file-text2'><use xlink:href='#icon-file-text2'></use></svg></label><input id='data-e00cb8f0-150d-4fce-91ec-157981a538ca' class='xr-var-data-in' type='checkbox'><label for='data-e00cb8f0-150d-4fce-91ec-157981a538ca' title='Show/Hide data repr'><svg class='icon xr-icon-database'><use xlink:href='#icon-database'></use></svg></label><div class='xr-var-attrs'><dl class='xr-attrs'></dl></div><div class='xr-var-data'><pre>array([[nan]])</pre></div></li><li class='xr-var-item'><div class='xr-var-name'><span>error_training_jb</span></div><div class='xr-var-dims'>(epoch)</div><div class='xr-var-dtype'>float64</div><div class='xr-var-preview xr-preview'>194.8</div><input id='attrs-a95904a6-228b-465d-adb4-a9535ed7b0cb' class='xr-var-attrs-in' type='checkbox' disabled><label for='attrs-a95904a6-228b-465d-adb4-a9535ed7b0cb' title='Show/Hide attributes'><svg class='icon xr-icon-file-text2'><use xlink:href='#icon-file-text2'></use></svg></label><input id='data-9da60168-ae29-4978-a919-886b5bd6e26c' class='xr-var-data-in' type='checkbox'><label for='data-9da60168-ae29-4978-a919-886b5bd6e26c' title='Show/Hide data repr'><svg class='icon xr-icon-database'><use xlink:href='#icon-database'></use></svg></label><div class='xr-var-attrs'><dl class='xr-attrs'></dl></div><div class='xr-var-data'><pre>array([194.79017223])</pre></div></li><li class='xr-var-item'><div class='xr-var-name'><span>error_training_jbp</span></div><div class='xr-var-dims'>(epoch)</div><div class='xr-var-dtype'>float64</div><div class='xr-var-preview xr-preview'>5.033e-43</div><input id='attrs-ff0ffc11-e643-4497-8650-6819435290e1' class='xr-var-attrs-in' type='checkbox' disabled><label for='attrs-ff0ffc11-e643-4497-8650-6819435290e1' title='Show/Hide attributes'><svg class='icon xr-icon-file-text2'><use xlink:href='#icon-file-text2'></use></svg></label><input id='data-74799086-0153-4cae-982b-547e90cc2550' class='xr-var-data-in' type='checkbox'><label for='data-74799086-0153-4cae-982b-547e90cc2550' title='Show/Hide data repr'><svg class='icon xr-icon-database'><use xlink:href='#icon-database'></use></svg></label><div class='xr-var-attrs'><dl class='xr-attrs'></dl></div><div class='xr-var-data'><pre>array([5.03328516e-43])</pre></div></li><li class='xr-var-item'><div class='xr-var-name'><span>error_training_skew</span></div><div class='xr-var-dims'>(epoch)</div><div class='xr-var-dtype'>float64</div><div class='xr-var-preview xr-preview'>0.01125</div><input id='attrs-c0ef039d-8ee5-426d-b9a1-2b41c4bdd527' class='xr-var-attrs-in' type='checkbox' disabled><label for='attrs-c0ef039d-8ee5-426d-b9a1-2b41c4bdd527' title='Show/Hide attributes'><svg class='icon xr-icon-file-text2'><use xlink:href='#icon-file-text2'></use></svg></label><input id='data-778d2b9d-cc6a-4b75-b6a2-0cca15844157' class='xr-var-data-in' type='checkbox'><label for='data-778d2b9d-cc6a-4b75-b6a2-0cca15844157' title='Show/Hide data repr'><svg class='icon xr-icon-database'><use xlink:href='#icon-database'></use></svg></label><div class='xr-var-attrs'><dl class='xr-attrs'></dl></div><div class='xr-var-data'><pre>array([0.01124637])</pre></div></li><li class='xr-var-item'><div class='xr-var-name'><span>error_training_kurt</span></div><div class='xr-var-dims'>(epoch)</div><div class='xr-var-dtype'>float64</div><div class='xr-var-preview xr-preview'>2.317</div><input id='attrs-6824d7dd-b22d-4808-ad55-5b482c7180bd' class='xr-var-attrs-in' type='checkbox' disabled><label for='attrs-6824d7dd-b22d-4808-ad55-5b482c7180bd' title='Show/Hide attributes'><svg class='icon xr-icon-file-text2'><use xlink:href='#icon-file-text2'></use></svg></label><input id='data-cc608449-928e-4bc1-a873-6b9fbc23258c' class='xr-var-data-in' type='checkbox'><label for='data-cc608449-928e-4bc1-a873-6b9fbc23258c' title='Show/Hide data repr'><svg class='icon xr-icon-database'><use xlink:href='#icon-database'></use></svg></label><div class='xr-var-attrs'><dl class='xr-attrs'></dl></div><div class='xr-var-data'><pre>array([2.31663298])</pre></div></li><li class='xr-var-item'><div class='xr-var-name'><span>error_validation_jb</span></div><div class='xr-var-dims'>(epoch)</div><div class='xr-var-dtype'>float64</div><div class='xr-var-preview xr-preview'>nan</div><input id='attrs-4dcf08be-17d3-43af-8167-097bccb15e5a' class='xr-var-attrs-in' type='checkbox' disabled><label for='attrs-4dcf08be-17d3-43af-8167-097bccb15e5a' title='Show/Hide attributes'><svg class='icon xr-icon-file-text2'><use xlink:href='#icon-file-text2'></use></svg></label><input id='data-19b63f5b-b5d9-410f-9336-f32681e6ec02' class='xr-var-data-in' type='checkbox'><label for='data-19b63f5b-b5d9-410f-9336-f32681e6ec02' title='Show/Hide data repr'><svg class='icon xr-icon-database'><use xlink:href='#icon-database'></use></svg></label><div class='xr-var-attrs'><dl class='xr-attrs'></dl></div><div class='xr-var-data'><pre>array([nan])</pre></div></li><li class='xr-var-item'><div class='xr-var-name'><span>error_validation_jbp</span></div><div class='xr-var-dims'>(epoch)</div><div class='xr-var-dtype'>float64</div><div class='xr-var-preview xr-preview'>nan</div><input id='attrs-b23a275b-3f54-40bd-8699-079b894a9107' class='xr-var-attrs-in' type='checkbox' disabled><label for='attrs-b23a275b-3f54-40bd-8699-079b894a9107' title='Show/Hide attributes'><svg class='icon xr-icon-file-text2'><use xlink:href='#icon-file-text2'></use></svg></label><input id='data-79c4908b-d7cb-4842-9765-c1609ca2bb17' class='xr-var-data-in' type='checkbox'><label for='data-79c4908b-d7cb-4842-9765-c1609ca2bb17' title='Show/Hide data repr'><svg class='icon xr-icon-database'><use xlink:href='#icon-database'></use></svg></label><div class='xr-var-attrs'><dl class='xr-attrs'></dl></div><div class='xr-var-data'><pre>array([nan])</pre></div></li><li class='xr-var-item'><div class='xr-var-name'><span>error_validation_skew</span></div><div class='xr-var-dims'>(epoch)</div><div class='xr-var-dtype'>float64</div><div class='xr-var-preview xr-preview'>nan</div><input id='attrs-97639adb-dc94-44c9-9106-b2076706e7ce' class='xr-var-attrs-in' type='checkbox' disabled><label for='attrs-97639adb-dc94-44c9-9106-b2076706e7ce' title='Show/Hide attributes'><svg class='icon xr-icon-file-text2'><use xlink:href='#icon-file-text2'></use></svg></label><input id='data-fecd9769-16a8-49f0-a56e-5d763920fa63' class='xr-var-data-in' type='checkbox'><label for='data-fecd9769-16a8-49f0-a56e-5d763920fa63' title='Show/Hide data repr'><svg class='icon xr-icon-database'><use xlink:href='#icon-database'></use></svg></label><div class='xr-var-attrs'><dl class='xr-attrs'></dl></div><div class='xr-var-data'><pre>array([nan])</pre></div></li><li class='xr-var-item'><div class='xr-var-name'><span>error_validation_kurt</span></div><div class='xr-var-dims'>(epoch)</div><div class='xr-var-dtype'>float64</div><div class='xr-var-preview xr-preview'>nan</div><input id='attrs-30a91959-7319-483d-9158-96853c1fe5ea' class='xr-var-attrs-in' type='checkbox' disabled><label for='attrs-30a91959-7319-483d-9158-96853c1fe5ea' title='Show/Hide attributes'><svg class='icon xr-icon-file-text2'><use xlink:href='#icon-file-text2'></use></svg></label><input id='data-c908b800-2024-4d64-9623-19277fe8d6af' class='xr-var-data-in' type='checkbox'><label for='data-c908b800-2024-4d64-9623-19277fe8d6af' title='Show/Hide data repr'><svg class='icon xr-icon-database'><use xlink:href='#icon-database'></use></svg></label><div class='xr-var-attrs'><dl class='xr-attrs'></dl></div><div class='xr-var-data'><pre>array([nan])</pre></div></li><li class='xr-var-item'><div class='xr-var-name'><span>coefficients</span></div><div class='xr-var-dims'>(epoch, k)</div><div class='xr-var-dtype'>float64</div><div class='xr-var-preview xr-preview'>1.868 0.1639 -0.00387</div><input id='attrs-e4d79873-c9a7-4f05-82d4-4559b6c43505' class='xr-var-attrs-in' type='checkbox' disabled><label for='attrs-e4d79873-c9a7-4f05-82d4-4559b6c43505' title='Show/Hide attributes'><svg class='icon xr-icon-file-text2'><use xlink:href='#icon-file-text2'></use></svg></label><input id='data-f6b10887-8d1a-4d23-a121-a715c8dc37d2' class='xr-var-data-in' type='checkbox'><label for='data-f6b10887-8d1a-4d23-a121-a715c8dc37d2' title='Show/Hide data repr'><svg class='icon xr-icon-database'><use xlink:href='#icon-database'></use></svg></label><div class='xr-var-attrs'><dl class='xr-attrs'></dl></div><div class='xr-var-data'><pre>array([[ 1.86844452,  0.16385341, -0.00387033]])</pre></div></li></ul></div></li><li class='xr-section-item'><input id='section-341680e0-7ad7-40dc-a4ea-e07236d9d74c' class='xr-section-summary-in' type='checkbox' disabled ><label for='section-341680e0-7ad7-40dc-a4ea-e07236d9d74c' class='xr-section-summary'  title='Expand/collapse section'>Attributes: <span>(0)</span></label><div class='xr-section-inline-details'></div><div class='xr-section-details'><dl class='xr-attrs'></dl></div></li></ul></div></div>"
      ],
      "text/plain": [
       "<xarray.Dataset>\n",
       "Dimensions:                (epoch: 1, i: 10000, j: 1, k: 3)\n",
       "Coordinates:\n",
       "  * epoch                  (epoch) int64 1\n",
       "Dimensions without coordinates: i, j, k\n",
       "Data variables:\n",
       "    gradient               (epoch) float64 nan\n",
       "    error_training_data    (epoch, i) float64 0.4464 0.474 ... -0.2996 -0.2146\n",
       "    error_validation_data  (epoch, j) float64 nan\n",
       "    error_training_jb      (epoch) float64 194.8\n",
       "    error_training_jbp     (epoch) float64 5.033e-43\n",
       "    error_training_skew    (epoch) float64 0.01125\n",
       "    error_training_kurt    (epoch) float64 2.317\n",
       "    error_validation_jb    (epoch) float64 nan\n",
       "    error_validation_jbp   (epoch) float64 nan\n",
       "    error_validation_skew  (epoch) float64 nan\n",
       "    error_validation_kurt  (epoch) float64 nan\n",
       "    coefficients           (epoch, k) float64 1.868 0.1639 -0.00387"
      ]
     },
     "execution_count": 18,
     "metadata": {},
     "output_type": "execute_result"
    }
   ],
   "source": [
    "model.training_log"
   ]
  },
  {
   "cell_type": "code",
   "execution_count": 12,
   "id": "2aa4753c-3b73-4307-8ad6-a40483009da9",
   "metadata": {},
   "outputs": [
    {
     "data": {
      "application/vnd.jupyter.widget-view+json": {
       "model_id": "3bcc126575854e099d5a4687f8363d02",
       "version_major": 2,
       "version_minor": 0
      },
      "text/plain": [
       "Canvas(toolbar=Toolbar(toolitems=[('Home', 'Reset original view', 'home', 'home'), ('Back', 'Back to previous …"
      ]
     },
     "metadata": {},
     "output_type": "display_data"
    },
    {
     "data": {
      "application/vnd.jupyter.widget-view+json": {
       "model_id": "5fba3bf3e2594eafad15a3486a2dfb82",
       "version_major": 2,
       "version_minor": 0
      },
      "text/plain": [
       "  0%|          | 0/24 [00:00<?, ?it/s]"
      ]
     },
     "metadata": {},
     "output_type": "display_data"
    }
   ],
   "source": [
    "orders = list(range(1, 25))\n",
    "extra_axis = 5\n",
    "fig, axs = plt.subplots(len(orders) + extra_axis, 1, figsize=(8, (len(orders) + extra_axis) * 2))\n",
    "\n",
    "error_mean = []\n",
    "error_jb = []\n",
    "error_jbp = []\n",
    "error_skew = []\n",
    "error_kurt = []\n",
    "\n",
    "for i, order in tqdm(enumerate(orders), total=len(orders)):\n",
    "    model = LeastSquaresModel.new_polynomial(\n",
    "        n_inputs=1,\n",
    "        input_range=input_range,\n",
    "        order=order)\n",
    "\n",
    "    model.train(inputs, reference_outputs_noisy)\n",
    "\n",
    "    error_mean.append(model.training_log.error_training_data.mean())\n",
    "\n",
    "    error_jb.append(model.error_training_jb.jb.item())\n",
    "    error_jbp.append(model.error_training_jbp.jbp.item())\n",
    "    error_skew.append(model.error_training_skew.skew.item())\n",
    "    error_kurt.append(model.error_training_kurt.kurt.item())\n",
    "\n",
    "    model.training_log.error_training_data.plot.line(x='i', ls=\" \", marker=\".\", ax=axs[i+extra_axis])\n",
    "    axs[i+extra_axis].set_title(f\"Histogram polynomial order={order}\")\n",
    "\n",
    "axs[0].plot(orders, error_mean)\n",
    "axs[1].plot(orders, error_jb)\n",
    "axs[2].plot(orders, error_jbp)\n",
    "axs[3].plot(orders, error_skew)\n",
    "axs[4].plot(orders, error_kurt)\n",
    "\n",
    "axs[1].set_yscale('log')\n",
    "\n",
    "plt.tight_layout()"
   ]
  },
  {
   "cell_type": "markdown",
   "id": "29e6d1c7-73ae-4901-af96-7f3d930421ef",
   "metadata": {},
   "source": [
    "## 2D"
   ]
  },
  {
   "cell_type": "code",
   "execution_count": 12,
   "id": "78f240ca-c46d-4f1a-8e6d-382d7cbe2e86",
   "metadata": {},
   "outputs": [],
   "source": [
    "input_range = np.array([(-1, 1), (-3, 5)])\n",
    "\n",
    "\n",
    "def foo(x):\n",
    "    return -x[0]**2 + np.tanh(x[1]*2)\n",
    "\n",
    "\n",
    "resolution = 100\n",
    "inputs = np.array(tuple(product(np.linspace(*input_range[0, :], resolution),\n",
    "                                np.linspace(*input_range[1, :], resolution))))\n",
    "\n",
    "reference_outputs = np.array(list(map(foo, inputs)))\n",
    "reference_outputs_noisy = reference_outputs + (np.random.random(reference_outputs.shape) - 0.5) * 0.1\n",
    "\n",
    "inputs = inputs[..., None]\n",
    "reference_outputs = reference_outputs.reshape(-1, 1, 1)\n",
    "reference_outputs_noisy = reference_outputs_noisy.reshape(-1, 1, 1)"
   ]
  },
  {
   "cell_type": "code",
   "execution_count": 13,
   "id": "ea27ea9a-963b-41c6-b269-a6a241b7bcdd",
   "metadata": {},
   "outputs": [
    {
     "data": {
      "application/vnd.jupyter.widget-view+json": {
       "model_id": "53d29c34f11846b2b59190f2c7f772ac",
       "version_major": 2,
       "version_minor": 0
      },
      "text/plain": [
       "Canvas(toolbar=Toolbar(toolitems=[('Home', 'Reset original view', 'home', 'home'), ('Back', 'Back to previous …"
      ]
     },
     "metadata": {},
     "output_type": "display_data"
    },
    {
     "data": {
      "text/plain": [
       "<mpl_toolkits.mplot3d.art3d.Path3DCollection at 0x7efca4bc6ca0>"
      ]
     },
     "execution_count": 13,
     "metadata": {},
     "output_type": "execute_result"
    }
   ],
   "source": [
    "fig = plt.figure()\n",
    "ax = fig.add_subplot(projection='3d')\n",
    "ax.scatter(inputs[:, 0, 0], inputs[:, 1, 0], reference_outputs.squeeze(), s=0.1)"
   ]
  },
  {
   "cell_type": "code",
   "execution_count": 14,
   "id": "787655cc-98c7-40be-ae9f-ba1452b392bf",
   "metadata": {},
   "outputs": [
    {
     "data": {
      "text/html": [
       "<div Class=\"cw_vdom_hyr cw_vdom_hyr_item\"><style>.cw_vdom_hyr {\n",
       "    font-family: monospace;\n",
       "}\n",
       "\n",
       ".cw_vdom_hyr_item > input {\n",
       "    display: none;\n",
       "}\n",
       "\n",
       ".cw_vdom_hyr_item > label {\n",
       "    color: var(--jp-accent-color1);\n",
       "    font-weight: bold;\n",
       "}\n",
       "\n",
       ".cw_vdom_hyr_item > label::before {\n",
       "    content: \"\\00a0\";\n",
       "}\n",
       "\n",
       ".cw_vdom_hyr_item > label::after {\n",
       "    content: \": \";\n",
       "}\n",
       "\n",
       ".cw_vdom_hyr_item > div {\n",
       "    display: inline-block;\n",
       "}\n",
       "\n",
       ".cw_vdom_hyr_item > input + label {\n",
       "    cursor: pointer;\n",
       "}\n",
       "\n",
       ".cw_vdom_hyr_item > input + label::before {\n",
       "    content: \"+\";\n",
       "}\n",
       "\n",
       ".cw_vdom_hyr_item > input:checked + label::before {\n",
       "    content: \"-\";\n",
       "}\n",
       "\n",
       ".cw_vdom_hyr_item > input ~ div {\n",
       "    display: none;\n",
       "    padding-left: 20px;\n",
       "}\n",
       "\n",
       ".cw_vdom_hyr_item > input:checked ~ div {\n",
       "    display: block;\n",
       "}\n",
       "\n",
       ".cw_vdom_hyr_type {\n",
       "    color: var(--jp-ui-font-color3);\n",
       "    font-size: var(--jp-ui-font-size0);\n",
       "}\n",
       "</style><input type=\"checkbox\" id=\"ILOZUYV2L9\" ></input><label For=\"ILOZUYV2L9\">Least squares model</label><span Class=\"cw_vdom_hyr_type\">system_identification.lsqr_model.LeastSquaresModel:</span><div><div><div Class=\"cw_vdom_hyr_item\"><label For=\"ONY7XRJPW9\">description</label><span Class=\"cw_vdom_hyr_type\">str[51]:</span><div><span>Least squares model fitting a `5` order polynomial.</span></div></div><div Class=\"cw_vdom_hyr_item\"><label For=\"B4TEM96NK6\">n_inputs</label><span Class=\"cw_vdom_hyr_type\">int:</span><div><span>2</span></div></div><div Class=\"cw_vdom_hyr_item\"><label For=\"FYU32CKNUK\">n_output</label><span Class=\"cw_vdom_hyr_type\">int:</span><div><span>1</span></div></div><div Class=\"cw_vdom_hyr_item\"><label For=\"CQ80U7TGOS\">n_coefficients</label><span Class=\"cw_vdom_hyr_type\">NoneType:</span><div><span>None</span></div></div><div Class=\"cw_vdom_hyr_item\"><input type=\"checkbox\" id=\"T1MRGWSBOY\" ></input><label For=\"T1MRGWSBOY\">range</label><span Class=\"cw_vdom_hyr_type\">numpy.ndarray[2, 2]:</span><div><div>[[-1  1]<br/> [-3  5]]</div></div></div></div></div></div>"
      ],
      "text/plain": [
       "<system_identification.lsqr_model.LeastSquaresModel at 0x7efca4b3a460>"
      ]
     },
     "execution_count": 14,
     "metadata": {},
     "output_type": "execute_result"
    }
   ],
   "source": [
    "model = LeastSquaresModel.new_polynomial(\n",
    "    n_inputs=2,\n",
    "    input_range=input_range,\n",
    "    order=5)\n",
    "model"
   ]
  },
  {
   "cell_type": "code",
   "execution_count": 15,
   "id": "cb3a9897-5e61-4bf7-99f8-aec3559b764a",
   "metadata": {},
   "outputs": [],
   "source": [
    "model.train(inputs, reference_outputs)"
   ]
  },
  {
   "cell_type": "code",
   "execution_count": 16,
   "id": "30e7cf84-fd2c-4158-8f89-9ce659afe984",
   "metadata": {},
   "outputs": [
    {
     "data": {
      "application/vnd.jupyter.widget-view+json": {
       "model_id": "eb270644627e49af9e1c22343c97c4e1",
       "version_major": 2,
       "version_minor": 0
      },
      "text/plain": [
       "Canvas(toolbar=Toolbar(toolitems=[('Home', 'Reset original view', 'home', 'home'), ('Back', 'Back to previous …"
      ]
     },
     "metadata": {},
     "output_type": "display_data"
    },
    {
     "data": {
      "text/plain": [
       "<mpl_toolkits.mplot3d.art3d.Path3DCollection at 0x7efca4aaf1c0>"
      ]
     },
     "execution_count": 16,
     "metadata": {},
     "output_type": "execute_result"
    }
   ],
   "source": [
    "fig = plt.figure()\n",
    "output = model.evaluate(inputs)\n",
    "ax = fig.add_subplot(projection='3d')\n",
    "ax.scatter(inputs[:, 0, 0], inputs[:, 1, 0], reference_outputs.squeeze(), s=0.1)\n",
    "ax.scatter(inputs[:, 0, 0], inputs[:, 1, 0], output.squeeze(), s=0.1)"
   ]
  },
  {
   "cell_type": "code",
   "execution_count": null,
   "id": "7092a6f6-1e5f-423e-bb5e-09216a2a7649",
   "metadata": {},
   "outputs": [],
   "source": []
  }
 ],
 "metadata": {
  "kernelspec": {
   "display_name": "Python 3 (ipykernel)",
   "language": "python",
   "name": "python3"
  },
  "language_info": {
   "codemirror_mode": {
    "name": "ipython",
    "version": 3
   },
   "file_extension": ".py",
   "mimetype": "text/x-python",
   "name": "python",
   "nbconvert_exporter": "python",
   "pygments_lexer": "ipython3",
   "version": "3.9.6"
  }
 },
 "nbformat": 4,
 "nbformat_minor": 5
}
