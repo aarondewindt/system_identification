{
 "cells": [
  {
   "cell_type": "markdown",
   "id": "exempt-dealer",
   "metadata": {},
   "source": [
    "# Radial Basis Function Neural Network"
   ]
  },
  {
   "cell_type": "code",
   "execution_count": 1,
   "id": "sexual-verse",
   "metadata": {},
   "outputs": [],
   "source": [
    "%load_ext autoreload\n",
    "%autoreload 2\n",
    "%matplotlib widget"
   ]
  },
  {
   "cell_type": "code",
   "execution_count": 2,
   "id": "above-vinyl",
   "metadata": {},
   "outputs": [],
   "source": [
    "from itertools import product\n",
    "import pickle\n",
    "\n",
    "import numpy as np\n",
    "import xarray as xr\n",
    "import xarray.ufuncs as xf\n",
    "import matplotlib.pyplot as plt\n",
    "\n",
    "from system_identification.rbfnn_model import RadialBasisFunctionNeuralNetworkModel"
   ]
  },
  {
   "cell_type": "markdown",
   "id": "c4a9f6fd-b243-4149-aa66-9ceed64a2c1d",
   "metadata": {},
   "source": [
    "## 1D"
   ]
  },
  {
   "cell_type": "code",
   "execution_count": 3,
   "id": "a9f74bb5-d52a-4d4c-8b7e-798356076ef6",
   "metadata": {},
   "outputs": [],
   "source": [
    "def foo(x):\n",
    "    return -x**2\n",
    "\n",
    "\n",
    "inputs = np.linspace(-1, 1, 1000)\n",
    "reference_outputs = np.array(list(map(foo, inputs)))\n",
    "reference_outputs_noisy = reference_outputs + np.random.normal(0, 0.1, size=reference_outputs.shape)\n",
    "\n",
    "inputs = inputs.reshape(-1, 1, 1)\n",
    "reference_outputs = reference_outputs.reshape(-1, 1, 1)\n",
    "reference_outputs_noisy = reference_outputs_noisy.reshape(-1, 1, 1)"
   ]
  },
  {
   "cell_type": "markdown",
   "id": "7cb269c2-a667-463e-aac4-3ce76d39210c",
   "metadata": {},
   "source": [
    "### Least squares"
   ]
  },
  {
   "cell_type": "code",
   "execution_count": 4,
   "id": "recognized-employer",
   "metadata": {},
   "outputs": [
    {
     "data": {
      "text/html": [
       "<div Class=\"cw_vdom_hyr cw_vdom_hyr_item\"><style>.cw_vdom_hyr {\n",
       "    font-family: monospace;\n",
       "}\n",
       "\n",
       ".cw_vdom_hyr_item > input {\n",
       "    display: none;\n",
       "}\n",
       "\n",
       ".cw_vdom_hyr_item > label {\n",
       "    color: var(--jp-accent-color1);\n",
       "    font-weight: bold;\n",
       "}\n",
       "\n",
       ".cw_vdom_hyr_item > label::before {\n",
       "    content: \"\\00a0\";\n",
       "}\n",
       "\n",
       ".cw_vdom_hyr_item > label::after {\n",
       "    content: \": \";\n",
       "}\n",
       "\n",
       ".cw_vdom_hyr_item > div {\n",
       "    display: inline-block;\n",
       "}\n",
       "\n",
       ".cw_vdom_hyr_item > input + label {\n",
       "    cursor: pointer;\n",
       "}\n",
       "\n",
       ".cw_vdom_hyr_item > input + label::before {\n",
       "    content: \"+\";\n",
       "}\n",
       "\n",
       ".cw_vdom_hyr_item > input:checked + label::before {\n",
       "    content: \"-\";\n",
       "}\n",
       "\n",
       ".cw_vdom_hyr_item > input ~ div {\n",
       "    display: none;\n",
       "    padding-left: 20px;\n",
       "}\n",
       "\n",
       ".cw_vdom_hyr_item > input:checked ~ div {\n",
       "    display: block;\n",
       "}\n",
       "\n",
       ".cw_vdom_hyr_type {\n",
       "    color: var(--jp-ui-font-color3);\n",
       "    font-size: var(--jp-ui-font-size0);\n",
       "}\n",
       "</style><input type=\"checkbox\" id=\"GGZMQZFWOH\" ></input><label For=\"GGZMQZFWOH\">Radial Basis Function Neural Network</label><span Class=\"cw_vdom_hyr_type\">system_identification.rbfnn_model.RadialBasisFunctionNeuralNetworkModel:</span><div><div><div Class=\"cw_vdom_hyr_item\"><label For=\"0O0TEXLAVG\">description</label><span Class=\"cw_vdom_hyr_type\">str[87]:</span><div><span>Radial basis function neural network with the initial centers placed in a uniform grid.</span></div></div><div Class=\"cw_vdom_hyr_item\"><label For=\"AVMEB18VFJ\">n_inputs</label><span Class=\"cw_vdom_hyr_type\">int:</span><div><span>1</span></div></div><div Class=\"cw_vdom_hyr_item\"><label For=\"5DLDN9KEOS\">n_hidden</label><span Class=\"cw_vdom_hyr_type\">int:</span><div><span>9</span></div></div><div Class=\"cw_vdom_hyr_item\"><label For=\"0QOHOPT49U\">n_output</label><span Class=\"cw_vdom_hyr_type\">int:</span><div><span>1</span></div></div><div Class=\"cw_vdom_hyr_item\"><input type=\"checkbox\" id=\"1PJ7UBGBCR\" ></input><label For=\"1PJ7UBGBCR\">training_parameters</label><span Class=\"cw_vdom_hyr_type\">dict[3]:</span><div><div><div Class=\"cw_vdom_hyr_item\"><label For=\"L5PVKX4UTT\">training_algorithm</label><span Class=\"cw_vdom_hyr_type\">NoneType:</span><div><span>None</span></div></div><div Class=\"cw_vdom_hyr_item\"><label For=\"YPASRKX8FE\">goal</label><span Class=\"cw_vdom_hyr_type\">NoneType:</span><div><span>None</span></div></div><div Class=\"cw_vdom_hyr_item\"><label For=\"3G9QTBA2N0\">min_grad</label><span Class=\"cw_vdom_hyr_type\">NoneType:</span><div><span>None</span></div></div></div></div></div><div Class=\"cw_vdom_hyr_item\"><input type=\"checkbox\" id=\"Z55WRRL4B1\" ></input><label For=\"Z55WRRL4B1\">weights</label><span Class=\"cw_vdom_hyr_type\">dict[3]:</span><div><div><div Class=\"cw_vdom_hyr_item\"><label For=\"XMEZYBQVGF\">weights_a</label><span Class=\"cw_vdom_hyr_type\">numpy.ndarray[9]:</span><div>[1. 1. 1. 1. 1. 1. 1. 1. 1.]</div></div><div Class=\"cw_vdom_hyr_item\"><input type=\"checkbox\" id=\"18I0RORZZL\" ></input><label For=\"18I0RORZZL\">weights_c</label><span Class=\"cw_vdom_hyr_type\">numpy.ndarray[9, 1]:</span><div><div>[[-1.  ]<br/> [-0.75]<br/> [-0.5 ]<br/> [-0.25]<br/> [ 0.  ]<br/> [ 0.25]<br/> [ 0.5 ]<br/> [ 0.75]<br/> [ 1.  ]]</div></div></div><div Class=\"cw_vdom_hyr_item\"><input type=\"checkbox\" id=\"Y19XTRXB7R\" ></input><label For=\"Y19XTRXB7R\">weights_w</label><span Class=\"cw_vdom_hyr_type\">numpy.ndarray[9, 1]:</span><div><div>[[1.75]<br/> [1.75]<br/> [1.75]<br/> [1.75]<br/> [1.75]<br/> [1.75]<br/> [1.75]<br/> [1.75]<br/> [1.75]]</div></div></div></div></div></div></div></div></div>"
      ],
      "text/plain": [
       "<RadialBasisFunctionNeuralNetwork\n",
       " n_inputs=1\n",
       " n_hidden=9\n",
       " n_outputs=1>"
      ]
     },
     "execution_count": 4,
     "metadata": {},
     "output_type": "execute_result"
    }
   ],
   "source": [
    "model = RadialBasisFunctionNeuralNetworkModel.new_grid_placement(\n",
    "    n_inputs=1,\n",
    "    grid_size=[9],\n",
    "    input_range=np.array([(-1, 1)]),\n",
    "    rbf_width=1.75,\n",
    "    rbf_amplitude=1,\n",
    ")\n",
    "model"
   ]
  },
  {
   "cell_type": "code",
   "execution_count": 5,
   "id": "cda46db8-fcff-4f89-bfb6-759dcfaea485",
   "metadata": {},
   "outputs": [],
   "source": [
    "model.train(inputs, reference_outputs_noisy)"
   ]
  },
  {
   "cell_type": "code",
   "execution_count": 6,
   "id": "428733c8-2449-4714-b2f9-18895249cb2c",
   "metadata": {},
   "outputs": [
    {
     "data": {
      "application/vnd.jupyter.widget-view+json": {
       "model_id": "75787b642c1a4072a2bf644b716fdc10",
       "version_major": 2,
       "version_minor": 0
      },
      "text/plain": [
       "Canvas(toolbar=Toolbar(toolitems=[('Home', 'Reset original view', 'home', 'home'), ('Back', 'Back to previous …"
      ]
     },
     "metadata": {},
     "output_type": "display_data"
    },
    {
     "data": {
      "text/plain": [
       "[<matplotlib.lines.Line2D at 0x7f9edc56f8b0>]"
      ]
     },
     "execution_count": 6,
     "metadata": {},
     "output_type": "execute_result"
    }
   ],
   "source": [
    "fig = plt.figure()\n",
    "outputs = model.evaluate(inputs)\n",
    "plt.plot(inputs.squeeze(), reference_outputs.squeeze())\n",
    "plt.plot(inputs.squeeze(), reference_outputs_noisy.squeeze(), \".\", markersize=1)\n",
    "plt.plot(inputs.squeeze(), outputs.squeeze())"
   ]
  },
  {
   "cell_type": "markdown",
   "id": "c4cb2b62-09d6-4c3d-9207-b26dcf720bb0",
   "metadata": {},
   "source": [
    "### Levenberg-Marquardt training"
   ]
  },
  {
   "cell_type": "code",
   "execution_count": 4,
   "id": "12df9ce8-fa04-4123-a723-237b241fcddc",
   "metadata": {},
   "outputs": [],
   "source": [
    "model = RadialBasisFunctionNeuralNetworkModel.new_grid_placement(\n",
    "    n_inputs=1,\n",
    "    grid_size=[3],\n",
    "    input_range=np.array([(-1, 1)]),\n",
    "    rbf_width=3,\n",
    "    rbf_amplitude=1,\n",
    ")"
   ]
  },
  {
   "cell_type": "code",
   "execution_count": 5,
   "id": "92356a46-3cd4-4280-bf34-4d5037ac7ee2",
   "metadata": {},
   "outputs": [
    {
     "data": {
      "text/html": [
       "<div Class=\"cw_vdom_hyr cw_vdom_hyr_item\"><style>.cw_vdom_hyr {\n",
       "    font-family: monospace;\n",
       "}\n",
       "\n",
       ".cw_vdom_hyr_item > input {\n",
       "    display: none;\n",
       "}\n",
       "\n",
       ".cw_vdom_hyr_item > label {\n",
       "    color: var(--jp-accent-color1);\n",
       "    font-weight: bold;\n",
       "}\n",
       "\n",
       ".cw_vdom_hyr_item > label::before {\n",
       "    content: \"\\00a0\";\n",
       "}\n",
       "\n",
       ".cw_vdom_hyr_item > label::after {\n",
       "    content: \": \";\n",
       "}\n",
       "\n",
       ".cw_vdom_hyr_item > div {\n",
       "    display: inline-block;\n",
       "}\n",
       "\n",
       ".cw_vdom_hyr_item > input + label {\n",
       "    cursor: pointer;\n",
       "}\n",
       "\n",
       ".cw_vdom_hyr_item > input + label::before {\n",
       "    content: \"+\";\n",
       "}\n",
       "\n",
       ".cw_vdom_hyr_item > input:checked + label::before {\n",
       "    content: \"-\";\n",
       "}\n",
       "\n",
       ".cw_vdom_hyr_item > input ~ div {\n",
       "    display: none;\n",
       "    padding-left: 20px;\n",
       "}\n",
       "\n",
       ".cw_vdom_hyr_item > input:checked ~ div {\n",
       "    display: block;\n",
       "}\n",
       "\n",
       ".cw_vdom_hyr_type {\n",
       "    color: var(--jp-ui-font-color3);\n",
       "    font-size: var(--jp-ui-font-size0);\n",
       "}\n",
       "</style><input type=\"checkbox\" id=\"BZX09YEHDX\" ></input><label For=\"BZX09YEHDX\">Radial Basis Function Neural Network</label><span Class=\"cw_vdom_hyr_type\">system_identification.rbfnn_model.RadialBasisFunctionNeuralNetworkModel:</span><div><div><div Class=\"cw_vdom_hyr_item\"><label For=\"L71MJBZRNE\">description</label><span Class=\"cw_vdom_hyr_type\">str[87]:</span><div><span>Radial basis function neural network with the initial centers placed in a uniform grid.</span></div></div><div Class=\"cw_vdom_hyr_item\"><label For=\"0HT29AI3AP\">n_inputs</label><span Class=\"cw_vdom_hyr_type\">int:</span><div><span>1</span></div></div><div Class=\"cw_vdom_hyr_item\"><label For=\"XYFT29T67C\">n_hidden</label><span Class=\"cw_vdom_hyr_type\">int:</span><div><span>3</span></div></div><div Class=\"cw_vdom_hyr_item\"><label For=\"XYKKUHWWQR\">n_output</label><span Class=\"cw_vdom_hyr_type\">int:</span><div><span>1</span></div></div><div Class=\"cw_vdom_hyr_item\"><input type=\"checkbox\" id=\"2FCBCGUXBW\" ></input><label For=\"2FCBCGUXBW\">training_parameters</label><span Class=\"cw_vdom_hyr_type\">dict[3]:</span><div><div><div Class=\"cw_vdom_hyr_item\"><label For=\"WF79S1Y7D4\">training_algorithm</label><span Class=\"cw_vdom_hyr_type\">NoneType:</span><div><span>None</span></div></div><div Class=\"cw_vdom_hyr_item\"><label For=\"RB5NV2LH0S\">goal</label><span Class=\"cw_vdom_hyr_type\">NoneType:</span><div><span>None</span></div></div><div Class=\"cw_vdom_hyr_item\"><label For=\"N3TBV954MJ\">min_grad</label><span Class=\"cw_vdom_hyr_type\">NoneType:</span><div><span>None</span></div></div></div></div></div><div Class=\"cw_vdom_hyr_item\"><input type=\"checkbox\" id=\"LMXVSDY11Z\" ></input><label For=\"LMXVSDY11Z\">weights</label><span Class=\"cw_vdom_hyr_type\">dict[3]:</span><div><div><div Class=\"cw_vdom_hyr_item\"><label For=\"GV2GTU5E5W\">weights_a</label><span Class=\"cw_vdom_hyr_type\">numpy.ndarray[3]:</span><div>[1. 1. 1.]</div></div><div Class=\"cw_vdom_hyr_item\"><input type=\"checkbox\" id=\"ZUU4Y14MZ6\" ></input><label For=\"ZUU4Y14MZ6\">weights_c</label><span Class=\"cw_vdom_hyr_type\">numpy.ndarray[3, 1]:</span><div><div>[[-1.]<br/> [ 0.]<br/> [ 1.]]</div></div></div><div Class=\"cw_vdom_hyr_item\"><input type=\"checkbox\" id=\"ZOFK897Q0X\" ></input><label For=\"ZOFK897Q0X\">weights_w</label><span Class=\"cw_vdom_hyr_type\">numpy.ndarray[3, 1]:</span><div><div>[[3.]<br/> [3.]<br/> [3.]]</div></div></div></div></div></div></div></div></div>"
      ],
      "text/plain": [
       "<RadialBasisFunctionNeuralNetwork\n",
       " n_inputs=1\n",
       " n_hidden=3\n",
       " n_outputs=1>"
      ]
     },
     "execution_count": 5,
     "metadata": {},
     "output_type": "execute_result"
    }
   ],
   "source": [
    "model"
   ]
  },
  {
   "cell_type": "code",
   "execution_count": 6,
   "id": "c29a1460-d13b-4029-b57a-3534c421f12e",
   "metadata": {},
   "outputs": [
    {
     "data": {
      "application/vnd.jupyter.widget-view+json": {
       "model_id": "e0555837c0e04736aa451bfe2ea4861e",
       "version_major": 2,
       "version_minor": 0
      },
      "text/plain": [
       "  0%|          | 0/1000 [00:00<?, ?it/s]"
      ]
     },
     "metadata": {},
     "output_type": "display_data"
    }
   ],
   "source": [
    "model.train(\n",
    "    inputs,\n",
    "    reference_outputs,\n",
    "    epochs=1000,\n",
    "    goal=1e-6,\n",
    "    train_log_freq=1,\n",
    "    method=\"trainlm\",\n",
    "    mu=10.,\n",
    "    alpha=0.95\n",
    ")"
   ]
  },
  {
   "cell_type": "code",
   "execution_count": null,
   "id": "e9f8dfa8-7540-4ffb-9eeb-56ead9f11faf",
   "metadata": {},
   "outputs": [],
   "source": []
  },
  {
   "cell_type": "code",
   "execution_count": 7,
   "id": "aa6ce3b4-084a-4038-9486-e5e5b2ca2551",
   "metadata": {},
   "outputs": [
    {
     "data": {
      "application/vnd.jupyter.widget-view+json": {
       "model_id": "0b2cc019aaa040f79a4b3a05e6ee5c60",
       "version_major": 2,
       "version_minor": 0
      },
      "text/plain": [
       "Canvas(toolbar=Toolbar(toolitems=[('Home', 'Reset original view', 'home', 'home'), ('Back', 'Back to previous …"
      ]
     },
     "metadata": {},
     "output_type": "display_data"
    },
    {
     "data": {
      "application/vnd.jupyter.widget-view+json": {
       "model_id": "b0906123150c44ee8e0f5b263fe89aa5",
       "version_major": 2,
       "version_minor": 0
      },
      "text/plain": [
       "Canvas(toolbar=Toolbar(toolitems=[('Home', 'Reset original view', 'home', 'home'), ('Back', 'Back to previous …"
      ]
     },
     "metadata": {},
     "output_type": "display_data"
    },
    {
     "data": {
      "text/plain": [
       "[<matplotlib.lines.Line2D at 0x7fb7777c59a0>]"
      ]
     },
     "execution_count": 7,
     "metadata": {},
     "output_type": "execute_result"
    }
   ],
   "source": [
    "fig = plt.figure()\n",
    "outputs = model.evaluate(inputs)\n",
    "plt.plot(inputs.squeeze(), reference_outputs.squeeze())\n",
    "plt.plot(inputs.squeeze(), reference_outputs_noisy.squeeze(), \".\", markersize=1)\n",
    "plt.plot(inputs.squeeze(), outputs.squeeze())\n",
    "\n",
    "fig, axs = plt.subplots(3, 1, figsize=(8, 6))\n",
    "abs(model.training_log.error_training_data).mean(\"i\").plot(ax=axs[0])\n",
    "axs[0].set_yscale(\"log\")\n",
    "model.training_log.error_training_jb.plot(ax=axs[1])\n",
    "model.training_log.error_training_jbp.plot(ax=axs[2])"
   ]
  },
  {
   "cell_type": "markdown",
   "id": "b3ddef2d-d450-4161-84a2-110d4069adf3",
   "metadata": {},
   "source": [
    "## 2D"
   ]
  },
  {
   "cell_type": "code",
   "execution_count": 10,
   "id": "c6361a36-d81d-4ad1-bb9c-3f42e966de1f",
   "metadata": {},
   "outputs": [],
   "source": [
    "def foo(x):\n",
    "    return -x[0]**2 + np.sin(x[1]*2)\n",
    "\n",
    "\n",
    "resolution = 100\n",
    "input_range = np.array([(-1, 1), (-3, 5)])\n",
    "inputs = np.array(tuple(product(np.linspace(*input_range[0, :], resolution),\n",
    "                                np.linspace(*input_range[1, :], resolution))))\n",
    "\n",
    "reference_outputs = np.array(list(map(foo, inputs)))\n",
    "reference_outputs_noisy = reference_outputs + (np.random.random(reference_outputs.shape) - 0.5) * 0.1\n",
    "\n",
    "inputs = inputs[..., None]\n",
    "reference_outputs = reference_outputs.reshape(-1, 1, 1)\n",
    "reference_outputs_noisy = reference_outputs_noisy.reshape(-1, 1, 1)"
   ]
  },
  {
   "cell_type": "markdown",
   "id": "cab6d2cb-63f4-4554-bb09-b8a973b829a4",
   "metadata": {
    "tags": []
   },
   "source": [
    "### Least squares"
   ]
  },
  {
   "cell_type": "code",
   "execution_count": 10,
   "id": "4d9d6d5c-3191-4ddc-99de-4d0f8240dbff",
   "metadata": {},
   "outputs": [
    {
     "data": {
      "text/html": [
       "<div Class=\"cw_vdom_hyr cw_vdom_hyr_item\"><style>.cw_vdom_hyr {\n",
       "    font-family: monospace;\n",
       "}\n",
       "\n",
       ".cw_vdom_hyr_item > input {\n",
       "    display: none;\n",
       "}\n",
       "\n",
       ".cw_vdom_hyr_item > label {\n",
       "    color: var(--jp-accent-color1);\n",
       "    font-weight: bold;\n",
       "}\n",
       "\n",
       ".cw_vdom_hyr_item > label::before {\n",
       "    content: \"\\00a0\";\n",
       "}\n",
       "\n",
       ".cw_vdom_hyr_item > label::after {\n",
       "    content: \": \";\n",
       "}\n",
       "\n",
       ".cw_vdom_hyr_item > div {\n",
       "    display: inline-block;\n",
       "}\n",
       "\n",
       ".cw_vdom_hyr_item > input + label {\n",
       "    cursor: pointer;\n",
       "}\n",
       "\n",
       ".cw_vdom_hyr_item > input + label::before {\n",
       "    content: \"+\";\n",
       "}\n",
       "\n",
       ".cw_vdom_hyr_item > input:checked + label::before {\n",
       "    content: \"-\";\n",
       "}\n",
       "\n",
       ".cw_vdom_hyr_item > input ~ div {\n",
       "    display: none;\n",
       "    padding-left: 20px;\n",
       "}\n",
       "\n",
       ".cw_vdom_hyr_item > input:checked ~ div {\n",
       "    display: block;\n",
       "}\n",
       "\n",
       ".cw_vdom_hyr_type {\n",
       "    color: var(--jp-ui-font-color3);\n",
       "    font-size: var(--jp-ui-font-size0);\n",
       "}\n",
       "</style><input type=\"checkbox\" id=\"DKZ41SJEPL\" ></input><label For=\"DKZ41SJEPL\">Radial Basis Function Neural Network</label><span Class=\"cw_vdom_hyr_type\">system_identification.rbfnn_model.RadialBasisFunctionNeuralNetworkModel:</span><div><div><div Class=\"cw_vdom_hyr_item\"><label For=\"7SYURWOVZ1\">description</label><span Class=\"cw_vdom_hyr_type\">str[87]:</span><div><span>Radial basis function neural network with the initial centers placed in a uniform grid.</span></div></div><div Class=\"cw_vdom_hyr_item\"><label For=\"GH0RQKE7TK\">n_inputs</label><span Class=\"cw_vdom_hyr_type\">int:</span><div><span>2</span></div></div><div Class=\"cw_vdom_hyr_item\"><label For=\"I6IWTJ6LTH\">n_hidden</label><span Class=\"cw_vdom_hyr_type\">int:</span><div><span>75</span></div></div><div Class=\"cw_vdom_hyr_item\"><label For=\"HVDAMYM40J\">n_output</label><span Class=\"cw_vdom_hyr_type\">int:</span><div><span>1</span></div></div><div Class=\"cw_vdom_hyr_item\"><input type=\"checkbox\" id=\"F5YWP2KW12\" ></input><label For=\"F5YWP2KW12\">training_parameters</label><span Class=\"cw_vdom_hyr_type\">dict[3]:</span><div><div><div Class=\"cw_vdom_hyr_item\"><label For=\"RUKJ9WR9XQ\">training_algorithm</label><span Class=\"cw_vdom_hyr_type\">NoneType:</span><div><span>None</span></div></div><div Class=\"cw_vdom_hyr_item\"><label For=\"G4EG7FECCA\">goal</label><span Class=\"cw_vdom_hyr_type\">NoneType:</span><div><span>None</span></div></div><div Class=\"cw_vdom_hyr_item\"><label For=\"VKCJ7ZAY0I\">min_grad</label><span Class=\"cw_vdom_hyr_type\">NoneType:</span><div><span>None</span></div></div></div></div></div><div Class=\"cw_vdom_hyr_item\"><input type=\"checkbox\" id=\"D29LX6HKRB\" ></input><label For=\"D29LX6HKRB\">weights</label><span Class=\"cw_vdom_hyr_type\">dict[3]:</span><div><div><div Class=\"cw_vdom_hyr_item\"><label For=\"PDWV6YA9GC\">weights_a</label><span Class=\"cw_vdom_hyr_type\">numpy.ndarray[75]:</span><div>[1. 1. 1. 1. 1. 1. 1. 1. 1. 1. 1. 1. 1. 1. 1. 1. 1. 1. 1. 1. 1. 1. 1. 1.\n",
       " 1. 1. 1. 1. 1. 1. 1. 1. 1. 1. 1. 1. 1. 1. 1. 1. 1. 1. 1. 1. 1. 1. 1. 1.\n",
       " 1. 1. 1. 1. 1. 1. 1. 1. 1. 1. 1. 1. 1. 1. 1. 1. 1. 1. 1. 1. 1. 1. 1. 1.\n",
       " 1. 1. 1.]</div></div><div Class=\"cw_vdom_hyr_item\"><input type=\"checkbox\" id=\"O3AQ58V9QH\" ></input><label For=\"O3AQ58V9QH\">weights_c</label><span Class=\"cw_vdom_hyr_type\">numpy.ndarray[75, 2]:</span><div><div>[[-1.         -3.        ]<br/> [-1.         -2.42857143]<br/> [-1.         -1.85714286]<br/> [-1.         -1.28571429]<br/> [-1.         -0.71428571]<br/> [-1.         -0.14285714]<br/> [-1.          0.42857143]<br/> [-1.          1.        ]<br/> [-1.          1.57142857]<br/> [-1.          2.14285714]<br/> [-1.          2.71428571]<br/> [-1.          3.28571429]<br/> [-1.          3.85714286]<br/> [-1.          4.42857143]<br/> [-1.          5.        ]<br/> [-0.5        -3.        ]<br/> [-0.5        -2.42857143]<br/> [-0.5        -1.85714286]<br/> [-0.5        -1.28571429]<br/> [-0.5        -0.71428571]<br/> [-0.5        -0.14285714]<br/> [-0.5         0.42857143]<br/> [-0.5         1.        ]<br/> [-0.5         1.57142857]<br/> [-0.5         2.14285714]<br/> [-0.5         2.71428571]<br/> [-0.5         3.28571429]<br/> [-0.5         3.85714286]<br/> [-0.5         4.42857143]<br/> [-0.5         5.        ]<br/> [ 0.         -3.        ]<br/> [ 0.         -2.42857143]<br/> [ 0.         -1.85714286]<br/> [ 0.         -1.28571429]<br/> [ 0.         -0.71428571]<br/> [ 0.         -0.14285714]<br/> [ 0.          0.42857143]<br/> [ 0.          1.        ]<br/> [ 0.          1.57142857]<br/> [ 0.          2.14285714]<br/> [ 0.          2.71428571]<br/> [ 0.          3.28571429]<br/> [ 0.          3.85714286]<br/> [ 0.          4.42857143]<br/> [ 0.          5.        ]<br/> [ 0.5        -3.        ]<br/> [ 0.5        -2.42857143]<br/> [ 0.5        -1.85714286]<br/> [ 0.5        -1.28571429]<br/> [ 0.5        -0.71428571]<br/> [ 0.5        -0.14285714]<br/> [ 0.5         0.42857143]<br/> [ 0.5         1.        ]<br/> [ 0.5         1.57142857]<br/> [ 0.5         2.14285714]<br/> [ 0.5         2.71428571]<br/> [ 0.5         3.28571429]<br/> [ 0.5         3.85714286]<br/> [ 0.5         4.42857143]<br/> [ 0.5         5.        ]<br/> [ 1.         -3.        ]<br/> [ 1.         -2.42857143]<br/> [ 1.         -1.85714286]<br/> [ 1.         -1.28571429]<br/> [ 1.         -0.71428571]<br/> [ 1.         -0.14285714]<br/> [ 1.          0.42857143]<br/> [ 1.          1.        ]<br/> [ 1.          1.57142857]<br/> [ 1.          2.14285714]<br/> [ 1.          2.71428571]<br/> [ 1.          3.28571429]<br/> [ 1.          3.85714286]<br/> [ 1.          4.42857143]<br/> [ 1.          5.        ]]</div></div></div><div Class=\"cw_vdom_hyr_item\"><input type=\"checkbox\" id=\"2CJT48CMRR\" ></input><label For=\"2CJT48CMRR\">weights_w</label><span Class=\"cw_vdom_hyr_type\">numpy.ndarray[75, 2]:</span><div><div>[[1.75 1.75]<br/> [1.75 1.75]<br/> [1.75 1.75]<br/> [1.75 1.75]<br/> [1.75 1.75]<br/> [1.75 1.75]<br/> [1.75 1.75]<br/> [1.75 1.75]<br/> [1.75 1.75]<br/> [1.75 1.75]<br/> [1.75 1.75]<br/> [1.75 1.75]<br/> [1.75 1.75]<br/> [1.75 1.75]<br/> [1.75 1.75]<br/> [1.75 1.75]<br/> [1.75 1.75]<br/> [1.75 1.75]<br/> [1.75 1.75]<br/> [1.75 1.75]<br/> [1.75 1.75]<br/> [1.75 1.75]<br/> [1.75 1.75]<br/> [1.75 1.75]<br/> [1.75 1.75]<br/> [1.75 1.75]<br/> [1.75 1.75]<br/> [1.75 1.75]<br/> [1.75 1.75]<br/> [1.75 1.75]<br/> [1.75 1.75]<br/> [1.75 1.75]<br/> [1.75 1.75]<br/> [1.75 1.75]<br/> [1.75 1.75]<br/> [1.75 1.75]<br/> [1.75 1.75]<br/> [1.75 1.75]<br/> [1.75 1.75]<br/> [1.75 1.75]<br/> [1.75 1.75]<br/> [1.75 1.75]<br/> [1.75 1.75]<br/> [1.75 1.75]<br/> [1.75 1.75]<br/> [1.75 1.75]<br/> [1.75 1.75]<br/> [1.75 1.75]<br/> [1.75 1.75]<br/> [1.75 1.75]<br/> [1.75 1.75]<br/> [1.75 1.75]<br/> [1.75 1.75]<br/> [1.75 1.75]<br/> [1.75 1.75]<br/> [1.75 1.75]<br/> [1.75 1.75]<br/> [1.75 1.75]<br/> [1.75 1.75]<br/> [1.75 1.75]<br/> [1.75 1.75]<br/> [1.75 1.75]<br/> [1.75 1.75]<br/> [1.75 1.75]<br/> [1.75 1.75]<br/> [1.75 1.75]<br/> [1.75 1.75]<br/> [1.75 1.75]<br/> [1.75 1.75]<br/> [1.75 1.75]<br/> [1.75 1.75]<br/> [1.75 1.75]<br/> [1.75 1.75]<br/> [1.75 1.75]<br/> [1.75 1.75]]</div></div></div></div></div></div></div></div></div>"
      ],
      "text/plain": [
       "<RadialBasisFunctionNeuralNetwork\n",
       " n_inputs=2\n",
       " n_hidden=75\n",
       " n_outputs=1>"
      ]
     },
     "execution_count": 10,
     "metadata": {},
     "output_type": "execute_result"
    }
   ],
   "source": [
    "model = RadialBasisFunctionNeuralNetworkModel.new_grid_placement(\n",
    "    n_inputs=2,\n",
    "    grid_size=[5, 15],\n",
    "    input_range=input_range,\n",
    "    rbf_width=1.75,\n",
    "    rbf_amplitude=1,\n",
    ")\n",
    "model"
   ]
  },
  {
   "cell_type": "code",
   "execution_count": 11,
   "id": "13a58a76-0705-43af-90ff-9c6a6b1f6226",
   "metadata": {},
   "outputs": [],
   "source": [
    "model.train(inputs, reference_outputs)\n",
    "output = model.evaluate(inputs)"
   ]
  },
  {
   "cell_type": "code",
   "execution_count": 12,
   "id": "9e11376f-59a7-4bff-91a6-928b85579fc3",
   "metadata": {},
   "outputs": [
    {
     "data": {
      "application/vnd.jupyter.widget-view+json": {
       "model_id": "0d5bf343a85f437aa60719b0980c6859",
       "version_major": 2,
       "version_minor": 0
      },
      "text/plain": [
       "Canvas(toolbar=Toolbar(toolitems=[('Home', 'Reset original view', 'home', 'home'), ('Back', 'Back to previous …"
      ]
     },
     "metadata": {},
     "output_type": "display_data"
    },
    {
     "data": {
      "application/vnd.jupyter.widget-view+json": {
       "model_id": "c0ea91aedefb4212b8905ab226590794",
       "version_major": 2,
       "version_minor": 0
      },
      "text/plain": [
       "Canvas(toolbar=Toolbar(toolitems=[('Home', 'Reset original view', 'home', 'home'), ('Back', 'Back to previous …"
      ]
     },
     "metadata": {},
     "output_type": "display_data"
    },
    {
     "data": {
      "text/plain": [
       "<mpl_toolkits.mplot3d.art3d.Path3DCollection at 0x7f9ed430dcd0>"
      ]
     },
     "execution_count": 12,
     "metadata": {},
     "output_type": "execute_result"
    }
   ],
   "source": [
    "fig = plt.figure(figsize=(4, 3))\n",
    "plt.plot(model.weights_c[:, 0], model.weights_c[:, 1], \"x\")\n",
    "\n",
    "fig = plt.figure(figsize=(4, 3))\n",
    "ax = fig.add_subplot(projection='3d')\n",
    "ax.scatter(inputs[:, 0, 0], inputs[:, 1, 0], reference_outputs.squeeze(), s=0.1)\n",
    "ax.scatter(inputs[:, 0, 0], inputs[:, 1, 0], output.squeeze(), s=0.1)"
   ]
  },
  {
   "cell_type": "markdown",
   "id": "746fb9bf-23ab-4ca7-83e2-a0cef7cdfd09",
   "metadata": {},
   "source": [
    "### Levenberg-Marquardt training"
   ]
  },
  {
   "cell_type": "code",
   "execution_count": 11,
   "id": "dcafe03b-8669-4250-9175-7f73fdab17eb",
   "metadata": {},
   "outputs": [
    {
     "data": {
      "text/html": [
       "<div Class=\"cw_vdom_hyr cw_vdom_hyr_item\"><style>.cw_vdom_hyr {\n",
       "    font-family: monospace;\n",
       "}\n",
       "\n",
       ".cw_vdom_hyr_item > input {\n",
       "    display: none;\n",
       "}\n",
       "\n",
       ".cw_vdom_hyr_item > label {\n",
       "    color: var(--jp-accent-color1);\n",
       "    font-weight: bold;\n",
       "}\n",
       "\n",
       ".cw_vdom_hyr_item > label::before {\n",
       "    content: \"\\00a0\";\n",
       "}\n",
       "\n",
       ".cw_vdom_hyr_item > label::after {\n",
       "    content: \": \";\n",
       "}\n",
       "\n",
       ".cw_vdom_hyr_item > div {\n",
       "    display: inline-block;\n",
       "}\n",
       "\n",
       ".cw_vdom_hyr_item > input + label {\n",
       "    cursor: pointer;\n",
       "}\n",
       "\n",
       ".cw_vdom_hyr_item > input + label::before {\n",
       "    content: \"+\";\n",
       "}\n",
       "\n",
       ".cw_vdom_hyr_item > input:checked + label::before {\n",
       "    content: \"-\";\n",
       "}\n",
       "\n",
       ".cw_vdom_hyr_item > input ~ div {\n",
       "    display: none;\n",
       "    padding-left: 20px;\n",
       "}\n",
       "\n",
       ".cw_vdom_hyr_item > input:checked ~ div {\n",
       "    display: block;\n",
       "}\n",
       "\n",
       ".cw_vdom_hyr_type {\n",
       "    color: var(--jp-ui-font-color3);\n",
       "    font-size: var(--jp-ui-font-size0);\n",
       "}\n",
       "</style><input type=\"checkbox\" id=\"W0YIV3QK29\" ></input><label For=\"W0YIV3QK29\">Radial Basis Function Neural Network</label><span Class=\"cw_vdom_hyr_type\">system_identification.rbfnn_model.RadialBasisFunctionNeuralNetworkModel:</span><div><div><div Class=\"cw_vdom_hyr_item\"><label For=\"C1MFFS96JB\">description</label><span Class=\"cw_vdom_hyr_type\">str[87]:</span><div><span>Radial basis function neural network with the initial centers placed in a uniform grid.</span></div></div><div Class=\"cw_vdom_hyr_item\"><label For=\"F106D2SBS1\">n_inputs</label><span Class=\"cw_vdom_hyr_type\">int:</span><div><span>2</span></div></div><div Class=\"cw_vdom_hyr_item\"><label For=\"MJHPURLOYE\">n_hidden</label><span Class=\"cw_vdom_hyr_type\">int:</span><div><span>35</span></div></div><div Class=\"cw_vdom_hyr_item\"><label For=\"9GH83D66F0\">n_output</label><span Class=\"cw_vdom_hyr_type\">int:</span><div><span>1</span></div></div><div Class=\"cw_vdom_hyr_item\"><input type=\"checkbox\" id=\"7VEQKRFTDO\" ></input><label For=\"7VEQKRFTDO\">training_parameters</label><span Class=\"cw_vdom_hyr_type\">dict[3]:</span><div><div><div Class=\"cw_vdom_hyr_item\"><label For=\"YEPY89WHRE\">training_algorithm</label><span Class=\"cw_vdom_hyr_type\">NoneType:</span><div><span>None</span></div></div><div Class=\"cw_vdom_hyr_item\"><label For=\"FX385KYZJL\">goal</label><span Class=\"cw_vdom_hyr_type\">NoneType:</span><div><span>None</span></div></div><div Class=\"cw_vdom_hyr_item\"><label For=\"OTX9X1X27Z\">min_grad</label><span Class=\"cw_vdom_hyr_type\">NoneType:</span><div><span>None</span></div></div></div></div></div><div Class=\"cw_vdom_hyr_item\"><input type=\"checkbox\" id=\"IWDQ8X028B\" ></input><label For=\"IWDQ8X028B\">weights</label><span Class=\"cw_vdom_hyr_type\">dict[3]:</span><div><div><div Class=\"cw_vdom_hyr_item\"><label For=\"QKX6YIHK0D\">weights_a</label><span Class=\"cw_vdom_hyr_type\">numpy.ndarray[35]:</span><div>[1. 1. 1. 1. 1. 1. 1. 1. 1. 1. 1. 1. 1. 1. 1. 1. 1. 1. 1. 1. 1. 1. 1. 1.\n",
       " 1. 1. 1. 1. 1. 1. 1. 1. 1. 1. 1.]</div></div><div Class=\"cw_vdom_hyr_item\"><input type=\"checkbox\" id=\"P7ZLDICTAO\" ></input><label For=\"P7ZLDICTAO\">weights_c</label><span Class=\"cw_vdom_hyr_type\">numpy.ndarray[35, 2]:</span><div><div>[[-1.         -3.        ]<br/> [-1.         -1.66666667]<br/> [-1.         -0.33333333]<br/> [-1.          1.        ]<br/> [-1.          2.33333333]<br/> [-1.          3.66666667]<br/> [-1.          5.        ]<br/> [-0.5        -3.        ]<br/> [-0.5        -1.66666667]<br/> [-0.5        -0.33333333]<br/> [-0.5         1.        ]<br/> [-0.5         2.33333333]<br/> [-0.5         3.66666667]<br/> [-0.5         5.        ]<br/> [ 0.         -3.        ]<br/> [ 0.         -1.66666667]<br/> [ 0.         -0.33333333]<br/> [ 0.          1.        ]<br/> [ 0.          2.33333333]<br/> [ 0.          3.66666667]<br/> [ 0.          5.        ]<br/> [ 0.5        -3.        ]<br/> [ 0.5        -1.66666667]<br/> [ 0.5        -0.33333333]<br/> [ 0.5         1.        ]<br/> [ 0.5         2.33333333]<br/> [ 0.5         3.66666667]<br/> [ 0.5         5.        ]<br/> [ 1.         -3.        ]<br/> [ 1.         -1.66666667]<br/> [ 1.         -0.33333333]<br/> [ 1.          1.        ]<br/> [ 1.          2.33333333]<br/> [ 1.          3.66666667]<br/> [ 1.          5.        ]]</div></div></div><div Class=\"cw_vdom_hyr_item\"><input type=\"checkbox\" id=\"WHVT092S7X\" ></input><label For=\"WHVT092S7X\">weights_w</label><span Class=\"cw_vdom_hyr_type\">numpy.ndarray[35, 2]:</span><div><div>[[1.75 1.75]<br/> [1.75 1.75]<br/> [1.75 1.75]<br/> [1.75 1.75]<br/> [1.75 1.75]<br/> [1.75 1.75]<br/> [1.75 1.75]<br/> [1.75 1.75]<br/> [1.75 1.75]<br/> [1.75 1.75]<br/> [1.75 1.75]<br/> [1.75 1.75]<br/> [1.75 1.75]<br/> [1.75 1.75]<br/> [1.75 1.75]<br/> [1.75 1.75]<br/> [1.75 1.75]<br/> [1.75 1.75]<br/> [1.75 1.75]<br/> [1.75 1.75]<br/> [1.75 1.75]<br/> [1.75 1.75]<br/> [1.75 1.75]<br/> [1.75 1.75]<br/> [1.75 1.75]<br/> [1.75 1.75]<br/> [1.75 1.75]<br/> [1.75 1.75]<br/> [1.75 1.75]<br/> [1.75 1.75]<br/> [1.75 1.75]<br/> [1.75 1.75]<br/> [1.75 1.75]<br/> [1.75 1.75]<br/> [1.75 1.75]]</div></div></div></div></div></div></div></div></div>"
      ],
      "text/plain": [
       "<RadialBasisFunctionNeuralNetwork\n",
       " n_inputs=2\n",
       " n_hidden=35\n",
       " n_outputs=1>"
      ]
     },
     "execution_count": 11,
     "metadata": {},
     "output_type": "execute_result"
    }
   ],
   "source": [
    "model = RadialBasisFunctionNeuralNetworkModel.new_grid_placement(\n",
    "    n_inputs=2,\n",
    "    grid_size=[5, 7],\n",
    "    input_range=input_range,\n",
    "    rbf_width=1.75,\n",
    "    rbf_amplitude=1,\n",
    ")\n",
    "model"
   ]
  },
  {
   "cell_type": "code",
   "execution_count": 80,
   "id": "53206e63-340d-4e55-be30-b3100425adb2",
   "metadata": {},
   "outputs": [],
   "source": [
    "# Pretrain the network using least squares.\n",
    "model.train(inputs, reference_outputs_noisy)"
   ]
  },
  {
   "cell_type": "code",
   "execution_count": 12,
   "id": "dfe25118-262a-4a1e-be82-f5a5befc2513",
   "metadata": {},
   "outputs": [
    {
     "data": {
      "application/vnd.jupyter.widget-view+json": {
       "model_id": "8444ea93d0f6467382778717f9257265",
       "version_major": 2,
       "version_minor": 0
      },
      "text/plain": [
       "  0%|          | 0/30 [00:00<?, ?it/s]"
      ]
     },
     "metadata": {},
     "output_type": "display_data"
    }
   ],
   "source": [
    "model.train(\n",
    "    inputs,\n",
    "    reference_outputs_noisy,\n",
    "    epochs=30,\n",
    "    goal=1e-6,\n",
    "    train_log_freq=1,\n",
    "    method=\"trainlm\",\n",
    "    mu=10.,\n",
    "    alpha=0.95\n",
    ")"
   ]
  },
  {
   "cell_type": "code",
   "execution_count": 82,
   "id": "bbaaa7d4-1e47-4d3d-8af5-4197f87d8e20",
   "metadata": {},
   "outputs": [
    {
     "data": {
      "text/html": [
       "<div><svg style=\"position: absolute; width: 0; height: 0; overflow: hidden\">\n",
       "<defs>\n",
       "<symbol id=\"icon-database\" viewBox=\"0 0 32 32\">\n",
       "<path d=\"M16 0c-8.837 0-16 2.239-16 5v4c0 2.761 7.163 5 16 5s16-2.239 16-5v-4c0-2.761-7.163-5-16-5z\"></path>\n",
       "<path d=\"M16 17c-8.837 0-16-2.239-16-5v6c0 2.761 7.163 5 16 5s16-2.239 16-5v-6c0 2.761-7.163 5-16 5z\"></path>\n",
       "<path d=\"M16 26c-8.837 0-16-2.239-16-5v6c0 2.761 7.163 5 16 5s16-2.239 16-5v-6c0 2.761-7.163 5-16 5z\"></path>\n",
       "</symbol>\n",
       "<symbol id=\"icon-file-text2\" viewBox=\"0 0 32 32\">\n",
       "<path d=\"M28.681 7.159c-0.694-0.947-1.662-2.053-2.724-3.116s-2.169-2.030-3.116-2.724c-1.612-1.182-2.393-1.319-2.841-1.319h-15.5c-1.378 0-2.5 1.121-2.5 2.5v27c0 1.378 1.122 2.5 2.5 2.5h23c1.378 0 2.5-1.122 2.5-2.5v-19.5c0-0.448-0.137-1.23-1.319-2.841zM24.543 5.457c0.959 0.959 1.712 1.825 2.268 2.543h-4.811v-4.811c0.718 0.556 1.584 1.309 2.543 2.268zM28 29.5c0 0.271-0.229 0.5-0.5 0.5h-23c-0.271 0-0.5-0.229-0.5-0.5v-27c0-0.271 0.229-0.5 0.5-0.5 0 0 15.499-0 15.5 0v7c0 0.552 0.448 1 1 1h7v19.5z\"></path>\n",
       "<path d=\"M23 26h-14c-0.552 0-1-0.448-1-1s0.448-1 1-1h14c0.552 0 1 0.448 1 1s-0.448 1-1 1z\"></path>\n",
       "<path d=\"M23 22h-14c-0.552 0-1-0.448-1-1s0.448-1 1-1h14c0.552 0 1 0.448 1 1s-0.448 1-1 1z\"></path>\n",
       "<path d=\"M23 18h-14c-0.552 0-1-0.448-1-1s0.448-1 1-1h14c0.552 0 1 0.448 1 1s-0.448 1-1 1z\"></path>\n",
       "</symbol>\n",
       "</defs>\n",
       "</svg>\n",
       "<style>/* CSS stylesheet for displaying xarray objects in jupyterlab.\n",
       " *\n",
       " */\n",
       "\n",
       ":root {\n",
       "  --xr-font-color0: var(--jp-content-font-color0, rgba(0, 0, 0, 1));\n",
       "  --xr-font-color2: var(--jp-content-font-color2, rgba(0, 0, 0, 0.54));\n",
       "  --xr-font-color3: var(--jp-content-font-color3, rgba(0, 0, 0, 0.38));\n",
       "  --xr-border-color: var(--jp-border-color2, #e0e0e0);\n",
       "  --xr-disabled-color: var(--jp-layout-color3, #bdbdbd);\n",
       "  --xr-background-color: var(--jp-layout-color0, white);\n",
       "  --xr-background-color-row-even: var(--jp-layout-color1, white);\n",
       "  --xr-background-color-row-odd: var(--jp-layout-color2, #eeeeee);\n",
       "}\n",
       "\n",
       "html[theme=dark],\n",
       "body.vscode-dark {\n",
       "  --xr-font-color0: rgba(255, 255, 255, 1);\n",
       "  --xr-font-color2: rgba(255, 255, 255, 0.54);\n",
       "  --xr-font-color3: rgba(255, 255, 255, 0.38);\n",
       "  --xr-border-color: #1F1F1F;\n",
       "  --xr-disabled-color: #515151;\n",
       "  --xr-background-color: #111111;\n",
       "  --xr-background-color-row-even: #111111;\n",
       "  --xr-background-color-row-odd: #313131;\n",
       "}\n",
       "\n",
       ".xr-wrap {\n",
       "  display: block;\n",
       "  min-width: 300px;\n",
       "  max-width: 700px;\n",
       "}\n",
       "\n",
       ".xr-text-repr-fallback {\n",
       "  /* fallback to plain text repr when CSS is not injected (untrusted notebook) */\n",
       "  display: none;\n",
       "}\n",
       "\n",
       ".xr-header {\n",
       "  padding-top: 6px;\n",
       "  padding-bottom: 6px;\n",
       "  margin-bottom: 4px;\n",
       "  border-bottom: solid 1px var(--xr-border-color);\n",
       "}\n",
       "\n",
       ".xr-header > div,\n",
       ".xr-header > ul {\n",
       "  display: inline;\n",
       "  margin-top: 0;\n",
       "  margin-bottom: 0;\n",
       "}\n",
       "\n",
       ".xr-obj-type,\n",
       ".xr-array-name {\n",
       "  margin-left: 2px;\n",
       "  margin-right: 10px;\n",
       "}\n",
       "\n",
       ".xr-obj-type {\n",
       "  color: var(--xr-font-color2);\n",
       "}\n",
       "\n",
       ".xr-sections {\n",
       "  padding-left: 0 !important;\n",
       "  display: grid;\n",
       "  grid-template-columns: 150px auto auto 1fr 20px 20px;\n",
       "}\n",
       "\n",
       ".xr-section-item {\n",
       "  display: contents;\n",
       "}\n",
       "\n",
       ".xr-section-item input {\n",
       "  display: none;\n",
       "}\n",
       "\n",
       ".xr-section-item input + label {\n",
       "  color: var(--xr-disabled-color);\n",
       "}\n",
       "\n",
       ".xr-section-item input:enabled + label {\n",
       "  cursor: pointer;\n",
       "  color: var(--xr-font-color2);\n",
       "}\n",
       "\n",
       ".xr-section-item input:enabled + label:hover {\n",
       "  color: var(--xr-font-color0);\n",
       "}\n",
       "\n",
       ".xr-section-summary {\n",
       "  grid-column: 1;\n",
       "  color: var(--xr-font-color2);\n",
       "  font-weight: 500;\n",
       "}\n",
       "\n",
       ".xr-section-summary > span {\n",
       "  display: inline-block;\n",
       "  padding-left: 0.5em;\n",
       "}\n",
       "\n",
       ".xr-section-summary-in:disabled + label {\n",
       "  color: var(--xr-font-color2);\n",
       "}\n",
       "\n",
       ".xr-section-summary-in + label:before {\n",
       "  display: inline-block;\n",
       "  content: '►';\n",
       "  font-size: 11px;\n",
       "  width: 15px;\n",
       "  text-align: center;\n",
       "}\n",
       "\n",
       ".xr-section-summary-in:disabled + label:before {\n",
       "  color: var(--xr-disabled-color);\n",
       "}\n",
       "\n",
       ".xr-section-summary-in:checked + label:before {\n",
       "  content: '▼';\n",
       "}\n",
       "\n",
       ".xr-section-summary-in:checked + label > span {\n",
       "  display: none;\n",
       "}\n",
       "\n",
       ".xr-section-summary,\n",
       ".xr-section-inline-details {\n",
       "  padding-top: 4px;\n",
       "  padding-bottom: 4px;\n",
       "}\n",
       "\n",
       ".xr-section-inline-details {\n",
       "  grid-column: 2 / -1;\n",
       "}\n",
       "\n",
       ".xr-section-details {\n",
       "  display: none;\n",
       "  grid-column: 1 / -1;\n",
       "  margin-bottom: 5px;\n",
       "}\n",
       "\n",
       ".xr-section-summary-in:checked ~ .xr-section-details {\n",
       "  display: contents;\n",
       "}\n",
       "\n",
       ".xr-array-wrap {\n",
       "  grid-column: 1 / -1;\n",
       "  display: grid;\n",
       "  grid-template-columns: 20px auto;\n",
       "}\n",
       "\n",
       ".xr-array-wrap > label {\n",
       "  grid-column: 1;\n",
       "  vertical-align: top;\n",
       "}\n",
       "\n",
       ".xr-preview {\n",
       "  color: var(--xr-font-color3);\n",
       "}\n",
       "\n",
       ".xr-array-preview,\n",
       ".xr-array-data {\n",
       "  padding: 0 5px !important;\n",
       "  grid-column: 2;\n",
       "}\n",
       "\n",
       ".xr-array-data,\n",
       ".xr-array-in:checked ~ .xr-array-preview {\n",
       "  display: none;\n",
       "}\n",
       "\n",
       ".xr-array-in:checked ~ .xr-array-data,\n",
       ".xr-array-preview {\n",
       "  display: inline-block;\n",
       "}\n",
       "\n",
       ".xr-dim-list {\n",
       "  display: inline-block !important;\n",
       "  list-style: none;\n",
       "  padding: 0 !important;\n",
       "  margin: 0;\n",
       "}\n",
       "\n",
       ".xr-dim-list li {\n",
       "  display: inline-block;\n",
       "  padding: 0;\n",
       "  margin: 0;\n",
       "}\n",
       "\n",
       ".xr-dim-list:before {\n",
       "  content: '(';\n",
       "}\n",
       "\n",
       ".xr-dim-list:after {\n",
       "  content: ')';\n",
       "}\n",
       "\n",
       ".xr-dim-list li:not(:last-child):after {\n",
       "  content: ',';\n",
       "  padding-right: 5px;\n",
       "}\n",
       "\n",
       ".xr-has-index {\n",
       "  font-weight: bold;\n",
       "}\n",
       "\n",
       ".xr-var-list,\n",
       ".xr-var-item {\n",
       "  display: contents;\n",
       "}\n",
       "\n",
       ".xr-var-item > div,\n",
       ".xr-var-item label,\n",
       ".xr-var-item > .xr-var-name span {\n",
       "  background-color: var(--xr-background-color-row-even);\n",
       "  margin-bottom: 0;\n",
       "}\n",
       "\n",
       ".xr-var-item > .xr-var-name:hover span {\n",
       "  padding-right: 5px;\n",
       "}\n",
       "\n",
       ".xr-var-list > li:nth-child(odd) > div,\n",
       ".xr-var-list > li:nth-child(odd) > label,\n",
       ".xr-var-list > li:nth-child(odd) > .xr-var-name span {\n",
       "  background-color: var(--xr-background-color-row-odd);\n",
       "}\n",
       "\n",
       ".xr-var-name {\n",
       "  grid-column: 1;\n",
       "}\n",
       "\n",
       ".xr-var-dims {\n",
       "  grid-column: 2;\n",
       "}\n",
       "\n",
       ".xr-var-dtype {\n",
       "  grid-column: 3;\n",
       "  text-align: right;\n",
       "  color: var(--xr-font-color2);\n",
       "}\n",
       "\n",
       ".xr-var-preview {\n",
       "  grid-column: 4;\n",
       "}\n",
       "\n",
       ".xr-var-name,\n",
       ".xr-var-dims,\n",
       ".xr-var-dtype,\n",
       ".xr-preview,\n",
       ".xr-attrs dt {\n",
       "  white-space: nowrap;\n",
       "  overflow: hidden;\n",
       "  text-overflow: ellipsis;\n",
       "  padding-right: 10px;\n",
       "}\n",
       "\n",
       ".xr-var-name:hover,\n",
       ".xr-var-dims:hover,\n",
       ".xr-var-dtype:hover,\n",
       ".xr-attrs dt:hover {\n",
       "  overflow: visible;\n",
       "  width: auto;\n",
       "  z-index: 1;\n",
       "}\n",
       "\n",
       ".xr-var-attrs,\n",
       ".xr-var-data {\n",
       "  display: none;\n",
       "  background-color: var(--xr-background-color) !important;\n",
       "  padding-bottom: 5px !important;\n",
       "}\n",
       "\n",
       ".xr-var-attrs-in:checked ~ .xr-var-attrs,\n",
       ".xr-var-data-in:checked ~ .xr-var-data {\n",
       "  display: block;\n",
       "}\n",
       "\n",
       ".xr-var-data > table {\n",
       "  float: right;\n",
       "}\n",
       "\n",
       ".xr-var-name span,\n",
       ".xr-var-data,\n",
       ".xr-attrs {\n",
       "  padding-left: 25px !important;\n",
       "}\n",
       "\n",
       ".xr-attrs,\n",
       ".xr-var-attrs,\n",
       ".xr-var-data {\n",
       "  grid-column: 1 / -1;\n",
       "}\n",
       "\n",
       "dl.xr-attrs {\n",
       "  padding: 0;\n",
       "  margin: 0;\n",
       "  display: grid;\n",
       "  grid-template-columns: 125px auto;\n",
       "}\n",
       "\n",
       ".xr-attrs dt,\n",
       ".xr-attrs dd {\n",
       "  padding: 0;\n",
       "  margin: 0;\n",
       "  float: left;\n",
       "  padding-right: 10px;\n",
       "  width: auto;\n",
       "}\n",
       "\n",
       ".xr-attrs dt {\n",
       "  font-weight: normal;\n",
       "  grid-column: 1;\n",
       "}\n",
       "\n",
       ".xr-attrs dt:hover span {\n",
       "  display: inline-block;\n",
       "  background: var(--xr-background-color);\n",
       "  padding-right: 10px;\n",
       "}\n",
       "\n",
       ".xr-attrs dd {\n",
       "  grid-column: 2;\n",
       "  white-space: pre-wrap;\n",
       "  word-break: break-all;\n",
       "}\n",
       "\n",
       ".xr-icon-database,\n",
       ".xr-icon-file-text2 {\n",
       "  display: inline-block;\n",
       "  vertical-align: middle;\n",
       "  width: 1em;\n",
       "  height: 1.5em !important;\n",
       "  stroke-width: 0;\n",
       "  stroke: currentColor;\n",
       "  fill: currentColor;\n",
       "}\n",
       "</style><pre class='xr-text-repr-fallback'>&lt;xarray.Dataset&gt;\n",
       "Dimensions:                (epoch: 30, i: 10000, j: 1, k: 35, l: 35, m: 2, n: 35, o: 2)\n",
       "Coordinates:\n",
       "  * epoch                  (epoch) int64 1 2 3 4 5 6 7 ... 24 25 26 27 28 29 30\n",
       "Dimensions without coordinates: i, j, k, l, m, n, o\n",
       "Data variables: (12/14)\n",
       "    gradient               (epoch) float64 3.978e+04 4.502e+04 ... 5.336e+04\n",
       "    error_training_data    (epoch, i) float64 -0.142 -0.09916 ... -0.04944\n",
       "    error_validation_data  (epoch, j) float64 nan nan nan nan ... nan nan nan\n",
       "    error_training_jb      (epoch) float64 131.5 60.79 0.7119 ... 356.6 370.3\n",
       "    error_training_jbp     (epoch) float64 2.818e-29 6.301e-14 ... 3.924e-81\n",
       "    error_training_skew    (epoch) float64 0.08382 0.1559 ... -0.00998 -0.007569\n",
       "    ...                     ...\n",
       "    error_validation_jbp   (epoch) float64 nan nan nan nan ... nan nan nan nan\n",
       "    error_validation_skew  (epoch) float64 nan nan nan nan ... nan nan nan nan\n",
       "    error_validation_kurt  (epoch) float64 nan nan nan nan ... nan nan nan nan\n",
       "    weights_a              (epoch, k) float64 -1.184 -0.7737 ... -0.2823 -1.747\n",
       "    weights_c              (epoch, l, m) float64 -1.228 -3.324 ... 1.26 5.201\n",
       "    weights_w              (epoch, n, o) float64 1.608 1.719 ... 1.354 1.202</pre><div class='xr-wrap' hidden><div class='xr-header'><div class='xr-obj-type'>xarray.Dataset</div></div><ul class='xr-sections'><li class='xr-section-item'><input id='section-1a3e22e9-700b-4bb7-a7bb-9dd968ec06e0' class='xr-section-summary-in' type='checkbox' disabled ><label for='section-1a3e22e9-700b-4bb7-a7bb-9dd968ec06e0' class='xr-section-summary'  title='Expand/collapse section'>Dimensions:</label><div class='xr-section-inline-details'><ul class='xr-dim-list'><li><span class='xr-has-index'>epoch</span>: 30</li><li><span>i</span>: 10000</li><li><span>j</span>: 1</li><li><span>k</span>: 35</li><li><span>l</span>: 35</li><li><span>m</span>: 2</li><li><span>n</span>: 35</li><li><span>o</span>: 2</li></ul></div><div class='xr-section-details'></div></li><li class='xr-section-item'><input id='section-56baed59-6291-427b-a8a0-e50103a918e7' class='xr-section-summary-in' type='checkbox'  checked><label for='section-56baed59-6291-427b-a8a0-e50103a918e7' class='xr-section-summary' >Coordinates: <span>(1)</span></label><div class='xr-section-inline-details'></div><div class='xr-section-details'><ul class='xr-var-list'><li class='xr-var-item'><div class='xr-var-name'><span class='xr-has-index'>epoch</span></div><div class='xr-var-dims'>(epoch)</div><div class='xr-var-dtype'>int64</div><div class='xr-var-preview xr-preview'>1 2 3 4 5 6 7 ... 25 26 27 28 29 30</div><input id='attrs-586e100c-316a-45b2-98b2-acf944c5a451' class='xr-var-attrs-in' type='checkbox' disabled><label for='attrs-586e100c-316a-45b2-98b2-acf944c5a451' title='Show/Hide attributes'><svg class='icon xr-icon-file-text2'><use xlink:href='#icon-file-text2'></use></svg></label><input id='data-2113ddcc-4ac6-4740-a025-c8b9b3ee42ee' class='xr-var-data-in' type='checkbox'><label for='data-2113ddcc-4ac6-4740-a025-c8b9b3ee42ee' title='Show/Hide data repr'><svg class='icon xr-icon-database'><use xlink:href='#icon-database'></use></svg></label><div class='xr-var-attrs'><dl class='xr-attrs'></dl></div><div class='xr-var-data'><pre>array([ 1,  2,  3,  4,  5,  6,  7,  8,  9, 10, 11, 12, 13, 14, 15, 16, 17, 18,\n",
       "       19, 20, 21, 22, 23, 24, 25, 26, 27, 28, 29, 30])</pre></div></li></ul></div></li><li class='xr-section-item'><input id='section-a8a6143e-bfde-408d-90e0-0399ee35c462' class='xr-section-summary-in' type='checkbox'  checked><label for='section-a8a6143e-bfde-408d-90e0-0399ee35c462' class='xr-section-summary' >Data variables: <span>(14)</span></label><div class='xr-section-inline-details'></div><div class='xr-section-details'><ul class='xr-var-list'><li class='xr-var-item'><div class='xr-var-name'><span>gradient</span></div><div class='xr-var-dims'>(epoch)</div><div class='xr-var-dtype'>float64</div><div class='xr-var-preview xr-preview'>3.978e+04 4.502e+04 ... 5.336e+04</div><input id='attrs-b5e204f2-d088-45af-ad64-848324f14130' class='xr-var-attrs-in' type='checkbox' disabled><label for='attrs-b5e204f2-d088-45af-ad64-848324f14130' title='Show/Hide attributes'><svg class='icon xr-icon-file-text2'><use xlink:href='#icon-file-text2'></use></svg></label><input id='data-1e6e8058-e42c-46e5-99bb-81010262a877' class='xr-var-data-in' type='checkbox'><label for='data-1e6e8058-e42c-46e5-99bb-81010262a877' title='Show/Hide data repr'><svg class='icon xr-icon-database'><use xlink:href='#icon-database'></use></svg></label><div class='xr-var-attrs'><dl class='xr-attrs'></dl></div><div class='xr-var-data'><pre>array([39777.24761969, 45021.48326005, 39270.24283156, 42489.09783683,\n",
       "       41251.25158138, 43131.84124317, 42720.89223089, 43872.02721149,\n",
       "       43900.64155767, 44687.03149837, 44941.54015193, 45528.32824703,\n",
       "       45887.43391227, 46389.03268286, 46803.6079924 , 47279.41710325,\n",
       "       47727.42160459, 48203.01727748, 48669.05613219, 49145.17431964,\n",
       "       49614.03527634, 50080.51670361, 50536.36570666, 50983.20681461,\n",
       "       51415.68122724, 51832.98806822, 52234.58347582, 52622.24999975,\n",
       "       52996.94967589, 53358.84534851])</pre></div></li><li class='xr-var-item'><div class='xr-var-name'><span>error_training_data</span></div><div class='xr-var-dims'>(epoch, i)</div><div class='xr-var-dtype'>float64</div><div class='xr-var-preview xr-preview'>-0.142 -0.09916 ... -0.04944</div><input id='attrs-8da096b4-daeb-44aa-a70a-07f60257607d' class='xr-var-attrs-in' type='checkbox' disabled><label for='attrs-8da096b4-daeb-44aa-a70a-07f60257607d' title='Show/Hide attributes'><svg class='icon xr-icon-file-text2'><use xlink:href='#icon-file-text2'></use></svg></label><input id='data-7b7e265a-aa1c-4a87-a2e2-8be4680eaee6' class='xr-var-data-in' type='checkbox'><label for='data-7b7e265a-aa1c-4a87-a2e2-8be4680eaee6' title='Show/Hide data repr'><svg class='icon xr-icon-database'><use xlink:href='#icon-database'></use></svg></label><div class='xr-var-attrs'><dl class='xr-attrs'></dl></div><div class='xr-var-data'><pre>array([[-0.14195785, -0.09915765, -0.08350598, ..., -0.14049238,\n",
       "        -0.12579251, -0.18360182],\n",
       "       [-0.2405073 , -0.17705424, -0.12999658, ..., -0.0472449 ,\n",
       "        -0.06071425, -0.14540966],\n",
       "       [-0.25969294, -0.21227341, -0.17794166, ..., -0.0010195 ,\n",
       "        -0.03587009, -0.14443174],\n",
       "       ...,\n",
       "       [-0.04786476, -0.07085174, -0.09218888, ..., -0.00177009,\n",
       "        -0.00317535, -0.05351675],\n",
       "       [-0.04574072, -0.06949939, -0.0913024 , ..., -0.00161522,\n",
       "        -0.00242435, -0.05149536],\n",
       "       [-0.04372099, -0.06820513, -0.09043863, ..., -0.00143185,\n",
       "        -0.0016229 , -0.04943978]])</pre></div></li><li class='xr-var-item'><div class='xr-var-name'><span>error_validation_data</span></div><div class='xr-var-dims'>(epoch, j)</div><div class='xr-var-dtype'>float64</div><div class='xr-var-preview xr-preview'>nan nan nan nan ... nan nan nan nan</div><input id='attrs-54a4a06d-ff33-43b0-ae02-ce5aa8a7ebf4' class='xr-var-attrs-in' type='checkbox' disabled><label for='attrs-54a4a06d-ff33-43b0-ae02-ce5aa8a7ebf4' title='Show/Hide attributes'><svg class='icon xr-icon-file-text2'><use xlink:href='#icon-file-text2'></use></svg></label><input id='data-9332bedc-3985-445a-92a1-18195c3e4d18' class='xr-var-data-in' type='checkbox'><label for='data-9332bedc-3985-445a-92a1-18195c3e4d18' title='Show/Hide data repr'><svg class='icon xr-icon-database'><use xlink:href='#icon-database'></use></svg></label><div class='xr-var-attrs'><dl class='xr-attrs'></dl></div><div class='xr-var-data'><pre>array([[nan],\n",
       "       [nan],\n",
       "       [nan],\n",
       "       [nan],\n",
       "       [nan],\n",
       "       [nan],\n",
       "       [nan],\n",
       "       [nan],\n",
       "       [nan],\n",
       "       [nan],\n",
       "       [nan],\n",
       "       [nan],\n",
       "       [nan],\n",
       "       [nan],\n",
       "       [nan],\n",
       "       [nan],\n",
       "       [nan],\n",
       "       [nan],\n",
       "       [nan],\n",
       "       [nan],\n",
       "       [nan],\n",
       "       [nan],\n",
       "       [nan],\n",
       "       [nan],\n",
       "       [nan],\n",
       "       [nan],\n",
       "       [nan],\n",
       "       [nan],\n",
       "       [nan],\n",
       "       [nan]])</pre></div></li><li class='xr-var-item'><div class='xr-var-name'><span>error_training_jb</span></div><div class='xr-var-dims'>(epoch)</div><div class='xr-var-dtype'>float64</div><div class='xr-var-preview xr-preview'>131.5 60.79 0.7119 ... 356.6 370.3</div><input id='attrs-80234e66-40c9-4495-bf18-8bba1d9d407d' class='xr-var-attrs-in' type='checkbox' disabled><label for='attrs-80234e66-40c9-4495-bf18-8bba1d9d407d' title='Show/Hide attributes'><svg class='icon xr-icon-file-text2'><use xlink:href='#icon-file-text2'></use></svg></label><input id='data-67db11af-3c55-4853-90b4-e33f6da94fa1' class='xr-var-data-in' type='checkbox'><label for='data-67db11af-3c55-4853-90b4-e33f6da94fa1' title='Show/Hide data repr'><svg class='icon xr-icon-database'><use xlink:href='#icon-database'></use></svg></label><div class='xr-var-attrs'><dl class='xr-attrs'></dl></div><div class='xr-var-data'><pre>array([131.47811385,  60.79086336,   0.7118606 ,  57.43004469,\n",
       "         4.39240317,  38.04646709,  49.43839778,  44.4339852 ,\n",
       "        74.97962848,  67.60664873,  85.00890622,  87.2762189 ,\n",
       "        99.35628612, 108.12925515, 120.6604862 , 133.44471641,\n",
       "       148.12383435, 163.84764386, 180.8352855 , 198.69591484,\n",
       "       217.21521197, 236.00544743, 254.81271095, 273.35451423,\n",
       "       291.4816609 , 309.00665274, 325.80340925, 341.70004056,\n",
       "       356.56784859, 370.28440601])</pre></div></li><li class='xr-var-item'><div class='xr-var-name'><span>error_training_jbp</span></div><div class='xr-var-dims'>(epoch)</div><div class='xr-var-dtype'>float64</div><div class='xr-var-preview xr-preview'>2.818e-29 6.301e-14 ... 3.924e-81</div><input id='attrs-60318f0c-e980-421c-a7d8-07cbcf835d4b' class='xr-var-attrs-in' type='checkbox' disabled><label for='attrs-60318f0c-e980-421c-a7d8-07cbcf835d4b' title='Show/Hide attributes'><svg class='icon xr-icon-file-text2'><use xlink:href='#icon-file-text2'></use></svg></label><input id='data-7cda6846-8d87-471b-b459-ffbdf38ee29a' class='xr-var-data-in' type='checkbox'><label for='data-7cda6846-8d87-471b-b459-ffbdf38ee29a' title='Show/Hide data repr'><svg class='icon xr-icon-database'><use xlink:href='#icon-database'></use></svg></label><div class='xr-var-attrs'><dl class='xr-attrs'></dl></div><div class='xr-var-data'><pre>array([2.81767133e-29, 6.30132308e-14, 7.00521444e-01, 3.38239441e-13,\n",
       "       1.11224835e-01, 5.47412416e-09, 1.83902793e-11, 2.24534308e-10,\n",
       "       5.22854135e-17, 2.08642490e-15, 3.47176690e-19, 1.11740308e-19,\n",
       "       2.66107183e-22, 3.31154436e-24, 6.29373321e-27, 1.05401796e-29,\n",
       "       6.84412686e-33, 2.63594412e-36, 5.39655598e-40, 7.14052763e-44,\n",
       "       6.79698055e-48, 5.65025751e-52, 4.65717823e-56, 4.38350426e-60,\n",
       "       5.07646678e-64, 7.94434180e-68, 1.78932236e-71, 6.32090059e-75,\n",
       "       3.73486980e-78, 3.92430603e-81])</pre></div></li><li class='xr-var-item'><div class='xr-var-name'><span>error_training_skew</span></div><div class='xr-var-dims'>(epoch)</div><div class='xr-var-dtype'>float64</div><div class='xr-var-preview xr-preview'>0.08382 0.1559 ... -0.007569</div><input id='attrs-e28deb60-61ad-4226-9df4-4b5b068a4de5' class='xr-var-attrs-in' type='checkbox' disabled><label for='attrs-e28deb60-61ad-4226-9df4-4b5b068a4de5' title='Show/Hide attributes'><svg class='icon xr-icon-file-text2'><use xlink:href='#icon-file-text2'></use></svg></label><input id='data-2314e74f-034f-475d-9c19-fbf614982e72' class='xr-var-data-in' type='checkbox'><label for='data-2314e74f-034f-475d-9c19-fbf614982e72' title='Show/Hide data repr'><svg class='icon xr-icon-database'><use xlink:href='#icon-database'></use></svg></label><div class='xr-var-attrs'><dl class='xr-attrs'></dl></div><div class='xr-var-data'><pre>array([ 0.08382172,  0.15589849, -0.01651685, -0.13563461, -0.03011454,\n",
       "       -0.14932421, -0.15825831, -0.13633495, -0.17433788, -0.13491586,\n",
       "       -0.151951  , -0.12536913, -0.12641385, -0.10951549, -0.10378036,\n",
       "       -0.09181681, -0.08393096, -0.07409726, -0.0657866 , -0.0571306 ,\n",
       "       -0.04935167, -0.04197158, -0.03542103, -0.02955208, -0.024442  ,\n",
       "       -0.01998212, -0.01613308, -0.01281571, -0.00998027, -0.00756929])</pre></div></li><li class='xr-var-item'><div class='xr-var-name'><span>error_training_kurt</span></div><div class='xr-var-dims'>(epoch)</div><div class='xr-var-dtype'>float64</div><div class='xr-var-preview xr-preview'>2.464 2.779 2.975 ... 2.075 2.057</div><input id='attrs-63e34d73-5d1a-4595-bed1-a6dc53bdb50d' class='xr-var-attrs-in' type='checkbox' disabled><label for='attrs-63e34d73-5d1a-4595-bed1-a6dc53bdb50d' title='Show/Hide attributes'><svg class='icon xr-icon-file-text2'><use xlink:href='#icon-file-text2'></use></svg></label><input id='data-bea0e3b3-aaa4-4100-ba8d-7cfef37985c3' class='xr-var-data-in' type='checkbox'><label for='data-bea0e3b3-aaa4-4100-ba8d-7cfef37985c3' title='Show/Hide data repr'><svg class='icon xr-icon-database'><use xlink:href='#icon-database'></use></svg></label><div class='xr-var-attrs'><dl class='xr-attrs'></dl></div><div class='xr-var-data'><pre>array([2.46386275, 2.77936293, 2.97515567, 3.25346621, 2.91684817,\n",
       "       3.04605048, 2.86409789, 2.82029832, 2.75838807, 2.70092342,\n",
       "       2.66583695, 2.61712502, 2.58222825, 2.54006996, 2.50350859,\n",
       "       2.46470007, 2.4278815 , 2.39067847, 2.35448224, 2.31896067,\n",
       "       2.28475587, 2.25209184, 2.22119842, 2.19218967, 2.16503513,\n",
       "       2.13975653, 2.11632185, 2.09478007, 2.07514087, 2.05742194])</pre></div></li><li class='xr-var-item'><div class='xr-var-name'><span>error_validation_jb</span></div><div class='xr-var-dims'>(epoch)</div><div class='xr-var-dtype'>float64</div><div class='xr-var-preview xr-preview'>nan nan nan nan ... nan nan nan nan</div><input id='attrs-f3cd861d-4d87-4502-96b6-408ee473d4d8' class='xr-var-attrs-in' type='checkbox' disabled><label for='attrs-f3cd861d-4d87-4502-96b6-408ee473d4d8' title='Show/Hide attributes'><svg class='icon xr-icon-file-text2'><use xlink:href='#icon-file-text2'></use></svg></label><input id='data-b68d9682-9ad7-41cb-a177-09278110bcf0' class='xr-var-data-in' type='checkbox'><label for='data-b68d9682-9ad7-41cb-a177-09278110bcf0' title='Show/Hide data repr'><svg class='icon xr-icon-database'><use xlink:href='#icon-database'></use></svg></label><div class='xr-var-attrs'><dl class='xr-attrs'></dl></div><div class='xr-var-data'><pre>array([nan, nan, nan, nan, nan, nan, nan, nan, nan, nan, nan, nan, nan,\n",
       "       nan, nan, nan, nan, nan, nan, nan, nan, nan, nan, nan, nan, nan,\n",
       "       nan, nan, nan, nan])</pre></div></li><li class='xr-var-item'><div class='xr-var-name'><span>error_validation_jbp</span></div><div class='xr-var-dims'>(epoch)</div><div class='xr-var-dtype'>float64</div><div class='xr-var-preview xr-preview'>nan nan nan nan ... nan nan nan nan</div><input id='attrs-5f7a13b1-7a5e-45f4-9548-2d11e8f0984e' class='xr-var-attrs-in' type='checkbox' disabled><label for='attrs-5f7a13b1-7a5e-45f4-9548-2d11e8f0984e' title='Show/Hide attributes'><svg class='icon xr-icon-file-text2'><use xlink:href='#icon-file-text2'></use></svg></label><input id='data-77414421-6462-439d-b417-a42defb812ca' class='xr-var-data-in' type='checkbox'><label for='data-77414421-6462-439d-b417-a42defb812ca' title='Show/Hide data repr'><svg class='icon xr-icon-database'><use xlink:href='#icon-database'></use></svg></label><div class='xr-var-attrs'><dl class='xr-attrs'></dl></div><div class='xr-var-data'><pre>array([nan, nan, nan, nan, nan, nan, nan, nan, nan, nan, nan, nan, nan,\n",
       "       nan, nan, nan, nan, nan, nan, nan, nan, nan, nan, nan, nan, nan,\n",
       "       nan, nan, nan, nan])</pre></div></li><li class='xr-var-item'><div class='xr-var-name'><span>error_validation_skew</span></div><div class='xr-var-dims'>(epoch)</div><div class='xr-var-dtype'>float64</div><div class='xr-var-preview xr-preview'>nan nan nan nan ... nan nan nan nan</div><input id='attrs-0b9ccee8-eafa-4d68-b61e-eb76661711ab' class='xr-var-attrs-in' type='checkbox' disabled><label for='attrs-0b9ccee8-eafa-4d68-b61e-eb76661711ab' title='Show/Hide attributes'><svg class='icon xr-icon-file-text2'><use xlink:href='#icon-file-text2'></use></svg></label><input id='data-7d184243-566a-4154-8053-bd7cbd1a5ec6' class='xr-var-data-in' type='checkbox'><label for='data-7d184243-566a-4154-8053-bd7cbd1a5ec6' title='Show/Hide data repr'><svg class='icon xr-icon-database'><use xlink:href='#icon-database'></use></svg></label><div class='xr-var-attrs'><dl class='xr-attrs'></dl></div><div class='xr-var-data'><pre>array([nan, nan, nan, nan, nan, nan, nan, nan, nan, nan, nan, nan, nan,\n",
       "       nan, nan, nan, nan, nan, nan, nan, nan, nan, nan, nan, nan, nan,\n",
       "       nan, nan, nan, nan])</pre></div></li><li class='xr-var-item'><div class='xr-var-name'><span>error_validation_kurt</span></div><div class='xr-var-dims'>(epoch)</div><div class='xr-var-dtype'>float64</div><div class='xr-var-preview xr-preview'>nan nan nan nan ... nan nan nan nan</div><input id='attrs-23615003-4e4f-4f96-a79b-45f9956d6b6a' class='xr-var-attrs-in' type='checkbox' disabled><label for='attrs-23615003-4e4f-4f96-a79b-45f9956d6b6a' title='Show/Hide attributes'><svg class='icon xr-icon-file-text2'><use xlink:href='#icon-file-text2'></use></svg></label><input id='data-9b972ebe-7127-40fd-b820-47c9dc9a73c4' class='xr-var-data-in' type='checkbox'><label for='data-9b972ebe-7127-40fd-b820-47c9dc9a73c4' title='Show/Hide data repr'><svg class='icon xr-icon-database'><use xlink:href='#icon-database'></use></svg></label><div class='xr-var-attrs'><dl class='xr-attrs'></dl></div><div class='xr-var-data'><pre>array([nan, nan, nan, nan, nan, nan, nan, nan, nan, nan, nan, nan, nan,\n",
       "       nan, nan, nan, nan, nan, nan, nan, nan, nan, nan, nan, nan, nan,\n",
       "       nan, nan, nan, nan])</pre></div></li><li class='xr-var-item'><div class='xr-var-name'><span>weights_a</span></div><div class='xr-var-dims'>(epoch, k)</div><div class='xr-var-dtype'>float64</div><div class='xr-var-preview xr-preview'>-1.184 -0.7737 ... -0.2823 -1.747</div><input id='attrs-c90c90d8-8e42-4512-b169-09d5e0e37a25' class='xr-var-attrs-in' type='checkbox' disabled><label for='attrs-c90c90d8-8e42-4512-b169-09d5e0e37a25' title='Show/Hide attributes'><svg class='icon xr-icon-file-text2'><use xlink:href='#icon-file-text2'></use></svg></label><input id='data-a1bec8c3-e038-4285-90c7-c23bff174533' class='xr-var-data-in' type='checkbox'><label for='data-a1bec8c3-e038-4285-90c7-c23bff174533' title='Show/Hide data repr'><svg class='icon xr-icon-database'><use xlink:href='#icon-database'></use></svg></label><div class='xr-var-attrs'><dl class='xr-attrs'></dl></div><div class='xr-var-data'><pre>array([[-1.18353304, -0.77369397, -1.88518504, ..., -2.32641371,\n",
       "        -0.28228115, -1.74682958],\n",
       "       [-1.18353304, -0.77369397, -1.88518504, ..., -2.32641371,\n",
       "        -0.28228115, -1.74682958],\n",
       "       [-1.18353304, -0.77369397, -1.88518504, ..., -2.32641371,\n",
       "        -0.28228115, -1.74682958],\n",
       "       ...,\n",
       "       [-1.18353304, -0.77369397, -1.88518504, ..., -2.32641371,\n",
       "        -0.28228115, -1.74682958],\n",
       "       [-1.18353304, -0.77369397, -1.88518504, ..., -2.32641371,\n",
       "        -0.28228115, -1.74682958],\n",
       "       [-1.18353304, -0.77369397, -1.88518504, ..., -2.32641371,\n",
       "        -0.28228115, -1.74682958]])</pre></div></li><li class='xr-var-item'><div class='xr-var-name'><span>weights_c</span></div><div class='xr-var-dims'>(epoch, l, m)</div><div class='xr-var-dtype'>float64</div><div class='xr-var-preview xr-preview'>-1.228 -3.324 -1.585 ... 1.26 5.201</div><input id='attrs-2422e76e-e597-4eda-b6f8-f4f319ccb850' class='xr-var-attrs-in' type='checkbox' disabled><label for='attrs-2422e76e-e597-4eda-b6f8-f4f319ccb850' title='Show/Hide attributes'><svg class='icon xr-icon-file-text2'><use xlink:href='#icon-file-text2'></use></svg></label><input id='data-38172a39-9bff-40a6-a0eb-edae3ab703d6' class='xr-var-data-in' type='checkbox'><label for='data-38172a39-9bff-40a6-a0eb-edae3ab703d6' title='Show/Hide data repr'><svg class='icon xr-icon-database'><use xlink:href='#icon-database'></use></svg></label><div class='xr-var-attrs'><dl class='xr-attrs'></dl></div><div class='xr-var-data'><pre>array([[[-1.22811381, -3.32353466],\n",
       "        [-1.58541829, -1.18655367],\n",
       "        [-1.3167722 , -0.60315866],\n",
       "        ...,\n",
       "        [ 1.43651898,  2.34151777],\n",
       "        [ 1.46163059,  3.65150257],\n",
       "        [ 1.26019845,  5.2007518 ]],\n",
       "\n",
       "       [[-1.22811381, -3.32353466],\n",
       "        [-1.58541829, -1.18655367],\n",
       "        [-1.3167722 , -0.60315866],\n",
       "        ...,\n",
       "        [ 1.43651898,  2.34151777],\n",
       "        [ 1.46163059,  3.65150257],\n",
       "        [ 1.26019845,  5.2007518 ]],\n",
       "\n",
       "       [[-1.22811381, -3.32353466],\n",
       "        [-1.58541829, -1.18655367],\n",
       "        [-1.3167722 , -0.60315866],\n",
       "        ...,\n",
       "...\n",
       "        ...,\n",
       "        [ 1.43651898,  2.34151777],\n",
       "        [ 1.46163059,  3.65150257],\n",
       "        [ 1.26019845,  5.2007518 ]],\n",
       "\n",
       "       [[-1.22811381, -3.32353466],\n",
       "        [-1.58541829, -1.18655367],\n",
       "        [-1.3167722 , -0.60315866],\n",
       "        ...,\n",
       "        [ 1.43651898,  2.34151777],\n",
       "        [ 1.46163059,  3.65150257],\n",
       "        [ 1.26019845,  5.2007518 ]],\n",
       "\n",
       "       [[-1.22811381, -3.32353466],\n",
       "        [-1.58541829, -1.18655367],\n",
       "        [-1.3167722 , -0.60315866],\n",
       "        ...,\n",
       "        [ 1.43651898,  2.34151777],\n",
       "        [ 1.46163059,  3.65150257],\n",
       "        [ 1.26019845,  5.2007518 ]]])</pre></div></li><li class='xr-var-item'><div class='xr-var-name'><span>weights_w</span></div><div class='xr-var-dims'>(epoch, n, o)</div><div class='xr-var-dtype'>float64</div><div class='xr-var-preview xr-preview'>1.608 1.719 1.582 ... 1.354 1.202</div><input id='attrs-21c030d7-8569-46ee-b9f8-510b7ecb0a4b' class='xr-var-attrs-in' type='checkbox' disabled><label for='attrs-21c030d7-8569-46ee-b9f8-510b7ecb0a4b' title='Show/Hide attributes'><svg class='icon xr-icon-file-text2'><use xlink:href='#icon-file-text2'></use></svg></label><input id='data-1877095f-f691-4f6c-a7c7-c9bc106abaa6' class='xr-var-data-in' type='checkbox'><label for='data-1877095f-f691-4f6c-a7c7-c9bc106abaa6' title='Show/Hide data repr'><svg class='icon xr-icon-database'><use xlink:href='#icon-database'></use></svg></label><div class='xr-var-attrs'><dl class='xr-attrs'></dl></div><div class='xr-var-data'><pre>array([[[1.60818376, 1.71897173],\n",
       "        [1.58186497, 1.34138665],\n",
       "        [1.08875098, 0.85380529],\n",
       "        ...,\n",
       "        [1.20993011, 0.9220567 ],\n",
       "        [1.80858701, 1.50037975],\n",
       "        [1.35392963, 1.20242741]],\n",
       "\n",
       "       [[1.60818376, 1.71897173],\n",
       "        [1.58186497, 1.34138665],\n",
       "        [1.08875098, 0.85380529],\n",
       "        ...,\n",
       "        [1.20993011, 0.9220567 ],\n",
       "        [1.80858701, 1.50037975],\n",
       "        [1.35392963, 1.20242741]],\n",
       "\n",
       "       [[1.60818376, 1.71897173],\n",
       "        [1.58186497, 1.34138665],\n",
       "        [1.08875098, 0.85380529],\n",
       "        ...,\n",
       "...\n",
       "        ...,\n",
       "        [1.20993011, 0.9220567 ],\n",
       "        [1.80858701, 1.50037975],\n",
       "        [1.35392963, 1.20242741]],\n",
       "\n",
       "       [[1.60818376, 1.71897173],\n",
       "        [1.58186497, 1.34138665],\n",
       "        [1.08875098, 0.85380529],\n",
       "        ...,\n",
       "        [1.20993011, 0.9220567 ],\n",
       "        [1.80858701, 1.50037975],\n",
       "        [1.35392963, 1.20242741]],\n",
       "\n",
       "       [[1.60818376, 1.71897173],\n",
       "        [1.58186497, 1.34138665],\n",
       "        [1.08875098, 0.85380529],\n",
       "        ...,\n",
       "        [1.20993011, 0.9220567 ],\n",
       "        [1.80858701, 1.50037975],\n",
       "        [1.35392963, 1.20242741]]])</pre></div></li></ul></div></li><li class='xr-section-item'><input id='section-d58f101c-d117-472d-a16f-ff2fccf3612b' class='xr-section-summary-in' type='checkbox' disabled ><label for='section-d58f101c-d117-472d-a16f-ff2fccf3612b' class='xr-section-summary'  title='Expand/collapse section'>Attributes: <span>(0)</span></label><div class='xr-section-inline-details'></div><div class='xr-section-details'><dl class='xr-attrs'></dl></div></li></ul></div></div>"
      ],
      "text/plain": [
       "<xarray.Dataset>\n",
       "Dimensions:                (epoch: 30, i: 10000, j: 1, k: 35, l: 35, m: 2, n: 35, o: 2)\n",
       "Coordinates:\n",
       "  * epoch                  (epoch) int64 1 2 3 4 5 6 7 ... 24 25 26 27 28 29 30\n",
       "Dimensions without coordinates: i, j, k, l, m, n, o\n",
       "Data variables: (12/14)\n",
       "    gradient               (epoch) float64 3.978e+04 4.502e+04 ... 5.336e+04\n",
       "    error_training_data    (epoch, i) float64 -0.142 -0.09916 ... -0.04944\n",
       "    error_validation_data  (epoch, j) float64 nan nan nan nan ... nan nan nan\n",
       "    error_training_jb      (epoch) float64 131.5 60.79 0.7119 ... 356.6 370.3\n",
       "    error_training_jbp     (epoch) float64 2.818e-29 6.301e-14 ... 3.924e-81\n",
       "    error_training_skew    (epoch) float64 0.08382 0.1559 ... -0.00998 -0.007569\n",
       "    ...                     ...\n",
       "    error_validation_jbp   (epoch) float64 nan nan nan nan ... nan nan nan nan\n",
       "    error_validation_skew  (epoch) float64 nan nan nan nan ... nan nan nan nan\n",
       "    error_validation_kurt  (epoch) float64 nan nan nan nan ... nan nan nan nan\n",
       "    weights_a              (epoch, k) float64 -1.184 -0.7737 ... -0.2823 -1.747\n",
       "    weights_c              (epoch, l, m) float64 -1.228 -3.324 ... 1.26 5.201\n",
       "    weights_w              (epoch, n, o) float64 1.608 1.719 ... 1.354 1.202"
      ]
     },
     "execution_count": 82,
     "metadata": {},
     "output_type": "execute_result"
    }
   ],
   "source": [
    "model.training_log"
   ]
  },
  {
   "cell_type": "code",
   "execution_count": 83,
   "id": "22009def-ca9b-4bb8-9eae-8f89014bf6bf",
   "metadata": {},
   "outputs": [
    {
     "data": {
      "application/vnd.jupyter.widget-view+json": {
       "model_id": "dca8da096a124547ba28e4a7a6a73b2b",
       "version_major": 2,
       "version_minor": 0
      },
      "text/plain": [
       "Canvas(toolbar=Toolbar(toolitems=[('Home', 'Reset original view', 'home', 'home'), ('Back', 'Back to previous …"
      ]
     },
     "metadata": {},
     "output_type": "display_data"
    },
    {
     "data": {
      "application/vnd.jupyter.widget-view+json": {
       "model_id": "549d792820664b5f986c82253f43353f",
       "version_major": 2,
       "version_minor": 0
      },
      "text/plain": [
       "Canvas(toolbar=Toolbar(toolitems=[('Home', 'Reset original view', 'home', 'home'), ('Back', 'Back to previous …"
      ]
     },
     "metadata": {},
     "output_type": "display_data"
    },
    {
     "data": {
      "application/vnd.jupyter.widget-view+json": {
       "model_id": "870fcf22a9f041e3bdced6fceba9b1b7",
       "version_major": 2,
       "version_minor": 0
      },
      "text/plain": [
       "Canvas(toolbar=Toolbar(toolitems=[('Home', 'Reset original view', 'home', 'home'), ('Back', 'Back to previous …"
      ]
     },
     "metadata": {},
     "output_type": "display_data"
    },
    {
     "data": {
      "text/plain": [
       "[<matplotlib.lines.Line2D at 0x7f40716d82e0>]"
      ]
     },
     "execution_count": 83,
     "metadata": {},
     "output_type": "execute_result"
    }
   ],
   "source": [
    "fig = plt.figure(figsize=(4, 3))\n",
    "plt.plot(model.weights_c[:, 0], model.weights_c[:, 1], \"x\")\n",
    "\n",
    "fig = plt.figure(figsize=(4, 3))\n",
    "ax = fig.add_subplot(projection='3d')\n",
    "output = model.evaluate(inputs)\n",
    "ax.scatter(inputs[:, 0, 0], inputs[:, 1, 0], reference_outputs.squeeze(), s=0.1)\n",
    "ax.scatter(inputs[:, 0, 0], inputs[:, 1, 0], output.squeeze(), s=0.1)\n",
    "\n",
    "fig, axs = plt.subplots(3, 1, figsize=(8, 6))\n",
    "abs(model.training_log.error_training_data).mean(\"i\").plot(ax=axs[0])\n",
    "axs[0].set_yscale(\"log\")\n",
    "model.training_log.error_training_jb.plot(ax=axs[1])\n",
    "model.training_log.error_training_jbp.plot(ax=axs[2])"
   ]
  },
  {
   "cell_type": "markdown",
   "id": "6c2008bc-9690-4e1b-adfb-dc341f7b7868",
   "metadata": {},
   "source": [
    "## Random within range RBF initialization."
   ]
  },
  {
   "cell_type": "code",
   "execution_count": 34,
   "id": "8a1efe01-a326-49b7-acd7-e2db6cf6bd49",
   "metadata": {},
   "outputs": [
    {
     "data": {
      "text/html": [
       "<div Class=\"cw_vdom_hyr cw_vdom_hyr_item\"><style>.cw_vdom_hyr {\n",
       "    font-family: monospace;\n",
       "}\n",
       "\n",
       ".cw_vdom_hyr_item > input {\n",
       "    display: none;\n",
       "}\n",
       "\n",
       ".cw_vdom_hyr_item > label {\n",
       "    color: var(--jp-accent-color1);\n",
       "    font-weight: bold;\n",
       "}\n",
       "\n",
       ".cw_vdom_hyr_item > label::before {\n",
       "    content: \"\\00a0\";\n",
       "}\n",
       "\n",
       ".cw_vdom_hyr_item > label::after {\n",
       "    content: \": \";\n",
       "}\n",
       "\n",
       ".cw_vdom_hyr_item > div {\n",
       "    display: inline-block;\n",
       "}\n",
       "\n",
       ".cw_vdom_hyr_item > input + label {\n",
       "    cursor: pointer;\n",
       "}\n",
       "\n",
       ".cw_vdom_hyr_item > input + label::before {\n",
       "    content: \"+\";\n",
       "}\n",
       "\n",
       ".cw_vdom_hyr_item > input:checked + label::before {\n",
       "    content: \"-\";\n",
       "}\n",
       "\n",
       ".cw_vdom_hyr_item > input ~ div {\n",
       "    display: none;\n",
       "    padding-left: 20px;\n",
       "}\n",
       "\n",
       ".cw_vdom_hyr_item > input:checked ~ div {\n",
       "    display: block;\n",
       "}\n",
       "\n",
       ".cw_vdom_hyr_type {\n",
       "    color: var(--jp-ui-font-color3);\n",
       "    font-size: var(--jp-ui-font-size0);\n",
       "}\n",
       "</style><input type=\"checkbox\" id=\"49TJZ8P56E\" ></input><label For=\"49TJZ8P56E\">Radial Basis Function Neural Network</label><span Class=\"cw_vdom_hyr_type\">system_identification.rbfnn_model.RadialBasisFunctionNeuralNetworkModel:</span><div><div><div Class=\"cw_vdom_hyr_item\"><label For=\"MS6HB1W8DP\">description</label><span Class=\"cw_vdom_hyr_type\">str[55]:</span><div><span>Feedforward neural network with random initial weights.</span></div></div><div Class=\"cw_vdom_hyr_item\"><label For=\"EITRGGSWJE\">n_inputs</label><span Class=\"cw_vdom_hyr_type\">int:</span><div><span>2</span></div></div><div Class=\"cw_vdom_hyr_item\"><label For=\"T5BJBC4SM5\">n_hidden</label><span Class=\"cw_vdom_hyr_type\">int:</span><div><span>4</span></div></div><div Class=\"cw_vdom_hyr_item\"><label For=\"7UDGXZL1TM\">n_output</label><span Class=\"cw_vdom_hyr_type\">int:</span><div><span>1</span></div></div><div Class=\"cw_vdom_hyr_item\"><input type=\"checkbox\" id=\"OB42ERLZDB\" ></input><label For=\"OB42ERLZDB\">training_parameters</label><span Class=\"cw_vdom_hyr_type\">dict[3]:</span><div><div><div Class=\"cw_vdom_hyr_item\"><label For=\"05TECJQD8F\">training_algorithm</label><span Class=\"cw_vdom_hyr_type\">NoneType:</span><div><span>None</span></div></div><div Class=\"cw_vdom_hyr_item\"><label For=\"I9L5RUFHXQ\">goal</label><span Class=\"cw_vdom_hyr_type\">NoneType:</span><div><span>None</span></div></div><div Class=\"cw_vdom_hyr_item\"><label For=\"8UVGXV6CVQ\">min_grad</label><span Class=\"cw_vdom_hyr_type\">NoneType:</span><div><span>None</span></div></div></div></div></div><div Class=\"cw_vdom_hyr_item\"><input type=\"checkbox\" id=\"69QV2QW04X\" ></input><label For=\"69QV2QW04X\">weights</label><span Class=\"cw_vdom_hyr_type\">dict[3]:</span><div><div><div Class=\"cw_vdom_hyr_item\"><label For=\"LNB7U01D86\">weights_a</label><span Class=\"cw_vdom_hyr_type\">numpy.ndarray[4]:</span><div>[1.28411155 0.77239577 1.08491125 0.7935278 ]</div></div><div Class=\"cw_vdom_hyr_item\"><input type=\"checkbox\" id=\"3FWM55YH3U\" ></input><label For=\"3FWM55YH3U\">weights_c</label><span Class=\"cw_vdom_hyr_type\">numpy.ndarray[4, 2]:</span><div><div>[[-0.09970548  3.90786195]<br/> [ 0.889879    3.54382451]<br/> [ 0.91892743 -1.28478244]<br/> [-0.77749168 -2.17987059]]</div></div></div><div Class=\"cw_vdom_hyr_item\"><input type=\"checkbox\" id=\"JKF2CK0CB4\" ></input><label For=\"JKF2CK0CB4\">weights_w</label><span Class=\"cw_vdom_hyr_type\">numpy.ndarray[4, 2]:</span><div><div>[[1.59702953 1.50897297]<br/> [2.16847405 1.90324432]<br/> [2.40821112 1.95275268]<br/> [2.43339712 1.51350402]]</div></div></div></div></div></div></div></div></div>"
      ],
      "text/plain": [
       "<RadialBasisFunctionNeuralNetwork\n",
       " n_inputs=2\n",
       " n_hidden=4\n",
       " n_outputs=1>"
      ]
     },
     "execution_count": 34,
     "metadata": {},
     "output_type": "execute_result"
    }
   ],
   "source": [
    "model = RadialBasisFunctionNeuralNetworkModel.new_random_placement(\n",
    "    n_inputs=2,\n",
    "    n_hidden=4,\n",
    "    input_range=input_range,\n",
    "    width_range=(1.5, 2.5),\n",
    "    amplitude_range=(0.5, 1.5),\n",
    ")\n",
    "model"
   ]
  },
  {
   "cell_type": "code",
   "execution_count": 35,
   "id": "a3a13463-f64a-47f4-a8d0-73fe34e8a6c6",
   "metadata": {},
   "outputs": [],
   "source": [
    "# Check if the weights are within the given range.\n",
    "assert (0.5 <= model.weights_a).all()\n",
    "assert (1.5 >= model.weights_a).all()\n",
    "assert (1.5 <= model.weights_w).all()\n",
    "assert (2.5 >= model.weights_w).all()\n",
    "assert (input_range[0, 0] <= model.weights_c[:, 0]).all()\n",
    "assert (input_range[0, 1] >= model.weights_c[:, 0]).all()\n",
    "assert (input_range[1, 0] <= model.weights_c[:, 1]).all()\n",
    "assert (input_range[1, 1] >= model.weights_c[:, 1]).all()"
   ]
  },
  {
   "cell_type": "markdown",
   "id": "ed89719b-91ea-44e4-9a40-70945ba75e92",
   "metadata": {},
   "source": [
    "## Pickling"
   ]
  },
  {
   "cell_type": "code",
   "execution_count": 3,
   "id": "5199132c-d3b6-4940-925d-5576c05efc61",
   "metadata": {},
   "outputs": [],
   "source": [
    "model = RadialBasisFunctionNeuralNetworkModel.new_grid_placement(\n",
    "    n_inputs=1,\n",
    "    grid_size=[9],\n",
    "    input_range=np.array([(-1, 1)]),\n",
    "    rbf_width=1.75,\n",
    "    rbf_amplitude=1,\n",
    ")"
   ]
  },
  {
   "cell_type": "code",
   "execution_count": 13,
   "id": "36ca3cec-0eb6-4e44-a33f-ea531b24e11e",
   "metadata": {},
   "outputs": [],
   "source": [
    "pickled = pickle.dumps(model)"
   ]
  },
  {
   "cell_type": "code",
   "execution_count": 14,
   "id": "567ea61d-acff-470a-816a-39a72b60a3bd",
   "metadata": {},
   "outputs": [],
   "source": [
    "unpickled = pickle.loads(pickled)"
   ]
  },
  {
   "cell_type": "code",
   "execution_count": 15,
   "id": "f65a7fcd-69e1-46d4-8e15-7e7bb61716a2",
   "metadata": {},
   "outputs": [
    {
     "data": {
      "text/html": [
       "<div Class=\"cw_vdom_hyr cw_vdom_hyr_item\"><style>.cw_vdom_hyr {\n",
       "    font-family: monospace;\n",
       "}\n",
       "\n",
       ".cw_vdom_hyr_item > input {\n",
       "    display: none;\n",
       "}\n",
       "\n",
       ".cw_vdom_hyr_item > label {\n",
       "    color: var(--jp-accent-color1);\n",
       "    font-weight: bold;\n",
       "}\n",
       "\n",
       ".cw_vdom_hyr_item > label::before {\n",
       "    content: \"\\00a0\";\n",
       "}\n",
       "\n",
       ".cw_vdom_hyr_item > label::after {\n",
       "    content: \": \";\n",
       "}\n",
       "\n",
       ".cw_vdom_hyr_item > div {\n",
       "    display: inline-block;\n",
       "}\n",
       "\n",
       ".cw_vdom_hyr_item > input + label {\n",
       "    cursor: pointer;\n",
       "}\n",
       "\n",
       ".cw_vdom_hyr_item > input + label::before {\n",
       "    content: \"+\";\n",
       "}\n",
       "\n",
       ".cw_vdom_hyr_item > input:checked + label::before {\n",
       "    content: \"-\";\n",
       "}\n",
       "\n",
       ".cw_vdom_hyr_item > input ~ div {\n",
       "    display: none;\n",
       "    padding-left: 20px;\n",
       "}\n",
       "\n",
       ".cw_vdom_hyr_item > input:checked ~ div {\n",
       "    display: block;\n",
       "}\n",
       "\n",
       ".cw_vdom_hyr_type {\n",
       "    color: var(--jp-ui-font-color3);\n",
       "    font-size: var(--jp-ui-font-size0);\n",
       "}\n",
       "</style><input type=\"checkbox\" id=\"1ZRPZ9AWOA\" ></input><label For=\"1ZRPZ9AWOA\">Radial Basis Function Neural Network</label><span Class=\"cw_vdom_hyr_type\">system_identification.rbfnn_model.RadialBasisFunctionNeuralNetworkModel:</span><div><div><div Class=\"cw_vdom_hyr_item\"><label For=\"VWOHK4KBM7\">description</label><span Class=\"cw_vdom_hyr_type\">str[87]:</span><div><span>Radial basis function neural network with the initial centers placed in a uniform grid.</span></div></div><div Class=\"cw_vdom_hyr_item\"><label For=\"0F0FCO46OP\">n_inputs</label><span Class=\"cw_vdom_hyr_type\">int:</span><div><span>2</span></div></div><div Class=\"cw_vdom_hyr_item\"><label For=\"8KQIVHLQ8I\">n_hidden</label><span Class=\"cw_vdom_hyr_type\">int:</span><div><span>35</span></div></div><div Class=\"cw_vdom_hyr_item\"><label For=\"9MZ90DE04P\">n_output</label><span Class=\"cw_vdom_hyr_type\">int:</span><div><span>1</span></div></div><div Class=\"cw_vdom_hyr_item\"><input type=\"checkbox\" id=\"W6ACXK6PEY\" ></input><label For=\"W6ACXK6PEY\">training_parameters</label><span Class=\"cw_vdom_hyr_type\">dict[6]:</span><div><div><div Class=\"cw_vdom_hyr_item\"><label For=\"O1UGLSSG0J\">training_algorithm</label><span Class=\"cw_vdom_hyr_type\">str[7]:</span><div><span>trainlm</span></div></div><div Class=\"cw_vdom_hyr_item\"><label For=\"BIV94EQHOD\">goal</label><span Class=\"cw_vdom_hyr_type\">float:</span><div><span>1e-06</span></div></div><div Class=\"cw_vdom_hyr_item\"><label For=\"X8KWGRNUC0\">min_grad</label><span Class=\"cw_vdom_hyr_type\">float:</span><div><span>1e-10</span></div></div><div Class=\"cw_vdom_hyr_item\"><label For=\"KBSB12DJ7C\">epochs</label><span Class=\"cw_vdom_hyr_type\">int:</span><div><span>30</span></div></div><div Class=\"cw_vdom_hyr_item\"><label For=\"HU9V2DG0RY\">mu</label><span Class=\"cw_vdom_hyr_type\">float:</span><div><span>10.0</span></div></div><div Class=\"cw_vdom_hyr_item\"><label For=\"UXQ73MQHSF\">alpha</label><span Class=\"cw_vdom_hyr_type\">float:</span><div><span>0.95</span></div></div></div></div></div><div Class=\"cw_vdom_hyr_item\"><input type=\"checkbox\" id=\"4TY4C3E9KW\" ></input><label For=\"4TY4C3E9KW\">weights</label><span Class=\"cw_vdom_hyr_type\">dict[3]:</span><div><div><div Class=\"cw_vdom_hyr_item\"><label For=\"16VG4OA2RN\">weights_a</label><span Class=\"cw_vdom_hyr_type\">numpy.ndarray[35]:</span><div>[-1.23480401 -0.60732746 -2.19224367  0.05090543 -2.19783712 -0.123804\n",
       " -1.77593612  0.42367049  0.32003215 -0.29740907  0.70463761 -0.34817833\n",
       "  0.62737544 -0.67728055  0.55912849 -0.31290113 -0.3740996   0.293846\n",
       " -0.62356859  0.80755435 -0.60800768  0.43920221  0.33959741 -0.26683988\n",
       "  0.75213618 -0.32920181  0.66056849 -0.62929627 -1.13898913 -0.82995509\n",
       " -2.0733226  -0.04158335 -2.22423984 -0.17425066 -1.80659675]</div></div><div Class=\"cw_vdom_hyr_item\"><input type=\"checkbox\" id=\"XXSOFRIL1V\" ></input><label For=\"XXSOFRIL1V\">weights_c</label><span Class=\"cw_vdom_hyr_type\">numpy.ndarray[35, 2]:</span><div><div>[[-1.27027460e+00 -3.29439403e+00]<br/> [-1.56566495e+00 -1.51626719e+00]<br/> [-1.32818042e+00 -7.22090585e-01]<br/> [-8.87663058e-01  8.21268921e-01]<br/> [-1.35009679e+00  2.40237418e+00]<br/> [-8.82501848e-01  3.92082428e+00]<br/> [-1.38346758e+00  5.07185688e+00]<br/> [-5.87909039e-01 -2.18222350e+00]<br/> [-3.04007335e-01 -2.61450479e+00]<br/> [-4.04367950e-01 -8.85714473e-01]<br/> [-3.81882087e-01  6.30718803e-01]<br/> [-3.61989214e-01  2.63496805e+00]<br/> [-7.11155992e-01  3.85565646e+00]<br/> [-6.92686395e-01  5.27547141e+00]<br/> [-2.50773659e-02 -2.09020955e+00]<br/> [ 1.53038024e-01 -4.89534903e-01]<br/> [-8.26708802e-03 -9.33237141e-01]<br/> [-3.32747949e-01  1.24031869e+00]<br/> [-5.14315955e-02  2.17309444e+00]<br/> [ 2.58398483e-03  3.93761578e+00]<br/> [ 6.71478259e-03  5.28429049e+00]<br/> [ 5.68159344e-01 -2.14789512e+00]<br/> [ 3.41988453e-01 -2.60920020e+00]<br/> [ 4.16258632e-01 -1.01895856e+00]<br/> [ 5.00650760e-01  7.55992936e-01]<br/> [ 3.54090160e-01  2.61310005e+00]<br/> [ 7.23285592e-01  3.84708519e+00]<br/> [ 6.71115660e-01  5.30065605e+00]<br/> [ 1.25180816e+00 -3.28844075e+00]<br/> [ 1.58040009e+00 -1.48022432e+00]<br/> [ 1.28373066e+00 -7.09218871e-01]<br/> [ 8.69875982e-01  5.31553769e-01]<br/> [ 1.34875383e+00  2.39504919e+00]<br/> [ 9.50269869e-01  3.93823080e+00]<br/> [ 1.35953126e+00  5.11691609e+00]]</div></div></div><div Class=\"cw_vdom_hyr_item\"><input type=\"checkbox\" id=\"IX3Z9102P5\" ></input><label For=\"IX3Z9102P5\">weights_w</label><span Class=\"cw_vdom_hyr_type\">numpy.ndarray[35, 2]:</span><div><div>[[1.66472346 1.80678793]<br/> [1.86425755 1.56135117]<br/> [1.323123   1.02267295]<br/> [1.77055958 2.11600662]<br/> [1.40378385 0.90264537]<br/> [1.73120006 2.02328358]<br/> [1.75103167 1.30154657]<br/> [1.92206886 1.53983518]<br/> [1.89442613 2.2131747 ]<br/> [2.14046534 1.56477428]<br/> [1.44399119 1.53258557]<br/> [2.15437369 1.68831967]<br/> [1.76511076 1.4378059 ]<br/> [1.99810223 1.704149  ]<br/> [1.86526693 1.64121648]<br/> [1.54947217 1.75362626]<br/> [1.33244155 1.26570751]<br/> [1.2817944  1.91229956]<br/> [0.99751727 1.49339461]<br/> [1.71804587 1.34110426]<br/> [1.64724243 1.68948491]<br/> [1.91142257 1.57308533]<br/> [1.90296236 2.19345353]<br/> [2.12724628 1.70842484]<br/> [1.49301926 1.32081035]<br/> [2.18257228 1.62730096]<br/> [1.7838319  1.43054282]<br/> [2.01851437 1.69855136]<br/> [1.64505348 1.79552561]<br/> [1.89718634 1.5141557 ]<br/> [1.39083415 1.01923775]<br/> [1.7257232  2.1569497 ]<br/> [1.3557504  0.90514662]<br/> [1.71742028 2.02329105]<br/> [1.72740733 1.30824845]]</div></div></div></div></div></div></div></div></div>"
      ],
      "text/plain": [
       "<RadialBasisFunctionNeuralNetwork\n",
       " n_inputs=2\n",
       " n_hidden=35\n",
       " n_outputs=1>"
      ]
     },
     "execution_count": 15,
     "metadata": {},
     "output_type": "execute_result"
    }
   ],
   "source": [
    "unpickled"
   ]
  },
  {
   "cell_type": "code",
   "execution_count": null,
   "id": "38513d13-9736-4a20-b6e6-0fe75570a701",
   "metadata": {},
   "outputs": [],
   "source": []
  }
 ],
 "metadata": {
  "kernelspec": {
   "display_name": "Python 3 (ipykernel)",
   "language": "python",
   "name": "python3"
  },
  "language_info": {
   "codemirror_mode": {
    "name": "ipython",
    "version": 3
   },
   "file_extension": ".py",
   "mimetype": "text/x-python",
   "name": "python",
   "nbconvert_exporter": "python",
   "pygments_lexer": "ipython3",
   "version": "3.9.6"
  }
 },
 "nbformat": 4,
 "nbformat_minor": 5
}
