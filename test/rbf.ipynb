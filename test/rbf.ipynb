{
 "cells": [
  {
   "cell_type": "markdown",
   "id": "exempt-dealer",
   "metadata": {},
   "source": [
    "# Radial Basis Function Neural Network"
   ]
  },
  {
   "cell_type": "code",
   "execution_count": 1,
   "id": "sexual-verse",
   "metadata": {},
   "outputs": [],
   "source": [
    "%load_ext autoreload\n",
    "%autoreload 2\n",
    "%matplotlib widget"
   ]
  },
  {
   "cell_type": "code",
   "execution_count": 2,
   "id": "above-vinyl",
   "metadata": {},
   "outputs": [],
   "source": [
    "from itertools import product\n",
    "\n",
    "import numpy as np\n",
    "import xarray as xr\n",
    "import xarray.ufuncs as xf\n",
    "import matplotlib.pyplot as plt\n",
    "\n",
    "from system_identification.rbfnn_model import RadialBasisFunctionNeuralNetworkModel"
   ]
  },
  {
   "cell_type": "markdown",
   "id": "c4a9f6fd-b243-4149-aa66-9ceed64a2c1d",
   "metadata": {},
   "source": [
    "## 1D"
   ]
  },
  {
   "cell_type": "code",
   "execution_count": 9,
   "id": "a9f74bb5-d52a-4d4c-8b7e-798356076ef6",
   "metadata": {},
   "outputs": [],
   "source": [
    "def foo(x):\n",
    "    return -x**2\n",
    "\n",
    "\n",
    "inputs = np.linspace(-1, 1, 1000)\n",
    "reference_outputs = np.array(list(map(foo, inputs)))\n",
    "reference_outputs_noisy = reference_outputs + np.random.normal(0, 0.1, size=reference_outputs.shape)\n",
    "\n",
    "inputs = inputs.reshape(-1, 1, 1)\n",
    "reference_outputs = reference_outputs.reshape(-1, 1, 1)\n",
    "reference_outputs_noisy = reference_outputs_noisy.reshape(-1, 1, 1)"
   ]
  },
  {
   "cell_type": "markdown",
   "id": "7cb269c2-a667-463e-aac4-3ce76d39210c",
   "metadata": {},
   "source": [
    "### Least squares"
   ]
  },
  {
   "cell_type": "code",
   "execution_count": 10,
   "id": "recognized-employer",
   "metadata": {},
   "outputs": [
    {
     "data": {
      "text/html": [
       "<div Class=\"cw_vdom_hyr cw_vdom_hyr_item\"><style>.cw_vdom_hyr {\n",
       "    font-family: monospace;\n",
       "}\n",
       "\n",
       ".cw_vdom_hyr_item > input {\n",
       "    display: none;\n",
       "}\n",
       "\n",
       ".cw_vdom_hyr_item > label {\n",
       "    color: var(--jp-accent-color1);\n",
       "    font-weight: bold;\n",
       "}\n",
       "\n",
       ".cw_vdom_hyr_item > label::before {\n",
       "    content: \"\\00a0\";\n",
       "}\n",
       "\n",
       ".cw_vdom_hyr_item > label::after {\n",
       "    content: \": \";\n",
       "}\n",
       "\n",
       ".cw_vdom_hyr_item > div {\n",
       "    display: inline-block;\n",
       "}\n",
       "\n",
       ".cw_vdom_hyr_item > input + label {\n",
       "    cursor: pointer;\n",
       "}\n",
       "\n",
       ".cw_vdom_hyr_item > input + label::before {\n",
       "    content: \"+\";\n",
       "}\n",
       "\n",
       ".cw_vdom_hyr_item > input:checked + label::before {\n",
       "    content: \"-\";\n",
       "}\n",
       "\n",
       ".cw_vdom_hyr_item > input ~ div {\n",
       "    display: none;\n",
       "    padding-left: 20px;\n",
       "}\n",
       "\n",
       ".cw_vdom_hyr_item > input:checked ~ div {\n",
       "    display: block;\n",
       "}\n",
       "\n",
       ".cw_vdom_hyr_type {\n",
       "    color: var(--jp-ui-font-color3);\n",
       "    font-size: var(--jp-ui-font-size0);\n",
       "}\n",
       "</style><input type=\"checkbox\" id=\"7S79OSPF2D\" ></input><label For=\"7S79OSPF2D\">Radial Basis Function Neural Network</label><span Class=\"cw_vdom_hyr_type\">system_identification.rbfnn_model.RadialBasisFunctionNeuralNetworkModel:</span><div><div><div Class=\"cw_vdom_hyr_item\"><label For=\"V3SRMI3RD1\">description</label><span Class=\"cw_vdom_hyr_type\">str[87]:</span><div><span>Radial basis function neural network with the initial centers placed in a uniform grid.</span></div></div><div Class=\"cw_vdom_hyr_item\"><label For=\"T1KHGXY9XH\">n_inputs</label><span Class=\"cw_vdom_hyr_type\">int:</span><div><span>1</span></div></div><div Class=\"cw_vdom_hyr_item\"><label For=\"BND6JBYFEM\">n_hidden</label><span Class=\"cw_vdom_hyr_type\">int:</span><div><span>9</span></div></div><div Class=\"cw_vdom_hyr_item\"><label For=\"O087GV2HFA\">n_output</label><span Class=\"cw_vdom_hyr_type\">int:</span><div><span>1</span></div></div><div Class=\"cw_vdom_hyr_item\"><input type=\"checkbox\" id=\"09GYSWBO01\" ></input><label For=\"09GYSWBO01\">training_parameters</label><span Class=\"cw_vdom_hyr_type\">dict[3]:</span><div><div><div Class=\"cw_vdom_hyr_item\"><label For=\"QZFATY4KZX\">training_algorithm</label><span Class=\"cw_vdom_hyr_type\">NoneType:</span><div><span>None</span></div></div><div Class=\"cw_vdom_hyr_item\"><label For=\"F5LJZVN220\">goal</label><span Class=\"cw_vdom_hyr_type\">NoneType:</span><div><span>None</span></div></div><div Class=\"cw_vdom_hyr_item\"><label For=\"F9NEKXVQZV\">min_grad</label><span Class=\"cw_vdom_hyr_type\">NoneType:</span><div><span>None</span></div></div></div></div></div><div Class=\"cw_vdom_hyr_item\"><input type=\"checkbox\" id=\"S0EIEDJ45Y\" ></input><label For=\"S0EIEDJ45Y\">weights</label><span Class=\"cw_vdom_hyr_type\">dict[3]:</span><div><div><div Class=\"cw_vdom_hyr_item\"><label For=\"T6JUDJKKOO\">weights_a</label><span Class=\"cw_vdom_hyr_type\">numpy.ndarray[9]:</span><div>[1. 1. 1. 1. 1. 1. 1. 1. 1.]</div></div><div Class=\"cw_vdom_hyr_item\"><input type=\"checkbox\" id=\"XJWL7U0OIK\" ></input><label For=\"XJWL7U0OIK\">weights_c</label><span Class=\"cw_vdom_hyr_type\">numpy.ndarray[9, 1]:</span><div><div>[[-1.  ]<br/> [-0.75]<br/> [-0.5 ]<br/> [-0.25]<br/> [ 0.  ]<br/> [ 0.25]<br/> [ 0.5 ]<br/> [ 0.75]<br/> [ 1.  ]]</div></div></div><div Class=\"cw_vdom_hyr_item\"><input type=\"checkbox\" id=\"7SZOYVOF08\" ></input><label For=\"7SZOYVOF08\">weights_w</label><span Class=\"cw_vdom_hyr_type\">numpy.ndarray[9, 1]:</span><div><div>[[1.75]<br/> [1.75]<br/> [1.75]<br/> [1.75]<br/> [1.75]<br/> [1.75]<br/> [1.75]<br/> [1.75]<br/> [1.75]]</div></div></div></div></div></div></div></div></div>"
      ],
      "text/plain": [
       "<RadialBasisFunctionNeuralNetwork\n",
       " n_inputs=1\n",
       " n_hidden=9\n",
       " n_outputs=1>"
      ]
     },
     "execution_count": 10,
     "metadata": {},
     "output_type": "execute_result"
    }
   ],
   "source": [
    "model = RadialBasisFunctionNeuralNetworkModel.new_grid_placement(\n",
    "    n_inputs=1,\n",
    "    grid_size=[9],\n",
    "    input_range=np.array([(-1, 1)]),\n",
    "    rbf_width=1.75,\n",
    "    rbf_amplitude=1,\n",
    ")\n",
    "model"
   ]
  },
  {
   "cell_type": "code",
   "execution_count": 11,
   "id": "cda46db8-fcff-4f89-bfb6-759dcfaea485",
   "metadata": {},
   "outputs": [],
   "source": [
    "model.train(inputs, reference_outputs_noisy)"
   ]
  },
  {
   "cell_type": "code",
   "execution_count": 12,
   "id": "428733c8-2449-4714-b2f9-18895249cb2c",
   "metadata": {},
   "outputs": [
    {
     "data": {
      "application/vnd.jupyter.widget-view+json": {
       "model_id": "e8bdad1e36154a77b1ba0175fc1efe05",
       "version_major": 2,
       "version_minor": 0
      },
      "text/plain": [
       "Canvas(toolbar=Toolbar(toolitems=[('Home', 'Reset original view', 'home', 'home'), ('Back', 'Back to previous …"
      ]
     },
     "metadata": {},
     "output_type": "display_data"
    },
    {
     "data": {
      "text/plain": [
       "[<matplotlib.lines.Line2D at 0x7f407a609bb0>]"
      ]
     },
     "execution_count": 12,
     "metadata": {},
     "output_type": "execute_result"
    }
   ],
   "source": [
    "fig = plt.figure()\n",
    "outputs = model.evaluate(inputs)\n",
    "plt.plot(inputs.squeeze(), reference_outputs.squeeze())\n",
    "plt.plot(inputs.squeeze(), reference_outputs_noisy.squeeze(), \".\", markersize=1)\n",
    "plt.plot(inputs.squeeze(), outputs.squeeze())"
   ]
  },
  {
   "cell_type": "markdown",
   "id": "c4cb2b62-09d6-4c3d-9207-b26dcf720bb0",
   "metadata": {},
   "source": [
    "### Levenberg-Marquardt training"
   ]
  },
  {
   "cell_type": "code",
   "execution_count": 13,
   "id": "12df9ce8-fa04-4123-a723-237b241fcddc",
   "metadata": {},
   "outputs": [],
   "source": [
    "model = RadialBasisFunctionNeuralNetworkModel.new_grid_placement(\n",
    "    n_inputs=1,\n",
    "    grid_size=[3],\n",
    "    input_range=np.array([(-1, 1)]),\n",
    "    rbf_width=1.75,\n",
    "    rbf_amplitude=1,\n",
    ")"
   ]
  },
  {
   "cell_type": "code",
   "execution_count": 14,
   "id": "92356a46-3cd4-4280-bf34-4d5037ac7ee2",
   "metadata": {},
   "outputs": [
    {
     "data": {
      "text/html": [
       "<div Class=\"cw_vdom_hyr cw_vdom_hyr_item\"><style>.cw_vdom_hyr {\n",
       "    font-family: monospace;\n",
       "}\n",
       "\n",
       ".cw_vdom_hyr_item > input {\n",
       "    display: none;\n",
       "}\n",
       "\n",
       ".cw_vdom_hyr_item > label {\n",
       "    color: var(--jp-accent-color1);\n",
       "    font-weight: bold;\n",
       "}\n",
       "\n",
       ".cw_vdom_hyr_item > label::before {\n",
       "    content: \"\\00a0\";\n",
       "}\n",
       "\n",
       ".cw_vdom_hyr_item > label::after {\n",
       "    content: \": \";\n",
       "}\n",
       "\n",
       ".cw_vdom_hyr_item > div {\n",
       "    display: inline-block;\n",
       "}\n",
       "\n",
       ".cw_vdom_hyr_item > input + label {\n",
       "    cursor: pointer;\n",
       "}\n",
       "\n",
       ".cw_vdom_hyr_item > input + label::before {\n",
       "    content: \"+\";\n",
       "}\n",
       "\n",
       ".cw_vdom_hyr_item > input:checked + label::before {\n",
       "    content: \"-\";\n",
       "}\n",
       "\n",
       ".cw_vdom_hyr_item > input ~ div {\n",
       "    display: none;\n",
       "    padding-left: 20px;\n",
       "}\n",
       "\n",
       ".cw_vdom_hyr_item > input:checked ~ div {\n",
       "    display: block;\n",
       "}\n",
       "\n",
       ".cw_vdom_hyr_type {\n",
       "    color: var(--jp-ui-font-color3);\n",
       "    font-size: var(--jp-ui-font-size0);\n",
       "}\n",
       "</style><input type=\"checkbox\" id=\"QNS04ODIN9\" ></input><label For=\"QNS04ODIN9\">Radial Basis Function Neural Network</label><span Class=\"cw_vdom_hyr_type\">system_identification.rbfnn_model.RadialBasisFunctionNeuralNetworkModel:</span><div><div><div Class=\"cw_vdom_hyr_item\"><label For=\"77A5IUOEXW\">description</label><span Class=\"cw_vdom_hyr_type\">str[87]:</span><div><span>Radial basis function neural network with the initial centers placed in a uniform grid.</span></div></div><div Class=\"cw_vdom_hyr_item\"><label For=\"YV10LN8ZHY\">n_inputs</label><span Class=\"cw_vdom_hyr_type\">int:</span><div><span>1</span></div></div><div Class=\"cw_vdom_hyr_item\"><label For=\"G2FXSHJ9UV\">n_hidden</label><span Class=\"cw_vdom_hyr_type\">int:</span><div><span>3</span></div></div><div Class=\"cw_vdom_hyr_item\"><label For=\"NL27IP6EDV\">n_output</label><span Class=\"cw_vdom_hyr_type\">int:</span><div><span>1</span></div></div><div Class=\"cw_vdom_hyr_item\"><input type=\"checkbox\" id=\"T8VMA1A5UN\" ></input><label For=\"T8VMA1A5UN\">training_parameters</label><span Class=\"cw_vdom_hyr_type\">dict[3]:</span><div><div><div Class=\"cw_vdom_hyr_item\"><label For=\"M1J2J3X11Y\">training_algorithm</label><span Class=\"cw_vdom_hyr_type\">NoneType:</span><div><span>None</span></div></div><div Class=\"cw_vdom_hyr_item\"><label For=\"EP906DQ9LT\">goal</label><span Class=\"cw_vdom_hyr_type\">NoneType:</span><div><span>None</span></div></div><div Class=\"cw_vdom_hyr_item\"><label For=\"DFWSTJN8GJ\">min_grad</label><span Class=\"cw_vdom_hyr_type\">NoneType:</span><div><span>None</span></div></div></div></div></div><div Class=\"cw_vdom_hyr_item\"><input type=\"checkbox\" id=\"8C8UKE2U79\" ></input><label For=\"8C8UKE2U79\">weights</label><span Class=\"cw_vdom_hyr_type\">dict[3]:</span><div><div><div Class=\"cw_vdom_hyr_item\"><label For=\"MWNK6BOQWT\">weights_a</label><span Class=\"cw_vdom_hyr_type\">numpy.ndarray[3]:</span><div>[1. 1. 1.]</div></div><div Class=\"cw_vdom_hyr_item\"><input type=\"checkbox\" id=\"WVJ1W575Z0\" ></input><label For=\"WVJ1W575Z0\">weights_c</label><span Class=\"cw_vdom_hyr_type\">numpy.ndarray[3, 1]:</span><div><div>[[-1.]<br/> [ 0.]<br/> [ 1.]]</div></div></div><div Class=\"cw_vdom_hyr_item\"><input type=\"checkbox\" id=\"KL90WJGBT5\" ></input><label For=\"KL90WJGBT5\">weights_w</label><span Class=\"cw_vdom_hyr_type\">numpy.ndarray[3, 1]:</span><div><div>[[1.75]<br/> [1.75]<br/> [1.75]]</div></div></div></div></div></div></div></div></div>"
      ],
      "text/plain": [
       "<RadialBasisFunctionNeuralNetwork\n",
       " n_inputs=1\n",
       " n_hidden=3\n",
       " n_outputs=1>"
      ]
     },
     "execution_count": 14,
     "metadata": {},
     "output_type": "execute_result"
    }
   ],
   "source": [
    "model"
   ]
  },
  {
   "cell_type": "code",
   "execution_count": 15,
   "id": "c29a1460-d13b-4029-b57a-3534c421f12e",
   "metadata": {},
   "outputs": [
    {
     "data": {
      "application/vnd.jupyter.widget-view+json": {
       "model_id": "51e4eb5b61a54a9ca41d205224acd776",
       "version_major": 2,
       "version_minor": 0
      },
      "text/plain": [
       "  0%|          | 0/1000 [00:00<?, ?it/s]"
      ]
     },
     "metadata": {},
     "output_type": "display_data"
    }
   ],
   "source": [
    "model.train(\n",
    "    inputs,\n",
    "    reference_outputs,\n",
    "    epochs=1000,\n",
    "    goal=1e-6,\n",
    "    train_log_freq=1,\n",
    "    method=\"trainlm\",\n",
    "    mu=10.,\n",
    "    alpha=0.95\n",
    ")"
   ]
  },
  {
   "cell_type": "code",
   "execution_count": 16,
   "id": "aa6ce3b4-084a-4038-9486-e5e5b2ca2551",
   "metadata": {},
   "outputs": [
    {
     "data": {
      "application/vnd.jupyter.widget-view+json": {
       "model_id": "f60e1d7178d849e8b28ee5838de247b5",
       "version_major": 2,
       "version_minor": 0
      },
      "text/plain": [
       "Canvas(toolbar=Toolbar(toolitems=[('Home', 'Reset original view', 'home', 'home'), ('Back', 'Back to previous …"
      ]
     },
     "metadata": {},
     "output_type": "display_data"
    },
    {
     "data": {
      "application/vnd.jupyter.widget-view+json": {
       "model_id": "efc60fb1c6354fceac0bb4529b33fa86",
       "version_major": 2,
       "version_minor": 0
      },
      "text/plain": [
       "Canvas(toolbar=Toolbar(toolitems=[('Home', 'Reset original view', 'home', 'home'), ('Back', 'Back to previous …"
      ]
     },
     "metadata": {},
     "output_type": "display_data"
    },
    {
     "data": {
      "text/plain": [
       "[<matplotlib.lines.Line2D at 0x7f4079bea370>]"
      ]
     },
     "execution_count": 16,
     "metadata": {},
     "output_type": "execute_result"
    }
   ],
   "source": [
    "fig = plt.figure()\n",
    "outputs = model.evaluate(inputs)\n",
    "plt.plot(inputs.squeeze(), reference_outputs.squeeze())\n",
    "plt.plot(inputs.squeeze(), reference_outputs_noisy.squeeze(), \".\", markersize=1)\n",
    "plt.plot(inputs.squeeze(), outputs.squeeze())\n",
    "\n",
    "fig, axs = plt.subplots(3, 1, figsize=(8, 6))\n",
    "model.training_log.error_training_data.mean(\"i\").plot(ax=axs[0])\n",
    "axs[0].set_yscale(\"log\")\n",
    "model.training_log.error_training_jb.plot(ax=axs[1])\n",
    "model.training_log.error_training_jbp.plot(ax=axs[2])"
   ]
  },
  {
   "cell_type": "markdown",
   "id": "b3ddef2d-d450-4161-84a2-110d4069adf3",
   "metadata": {},
   "source": [
    "## 2D"
   ]
  },
  {
   "cell_type": "code",
   "execution_count": 17,
   "id": "c6361a36-d81d-4ad1-bb9c-3f42e966de1f",
   "metadata": {},
   "outputs": [],
   "source": [
    "def foo(x):\n",
    "    return -x[0]**2 + np.sin(x[1]*2)\n",
    "\n",
    "\n",
    "resolution = 100\n",
    "input_range = np.array([(-1, 1), (-3, 5)])\n",
    "inputs = np.array(tuple(product(np.linspace(*input_range[0, :], resolution),\n",
    "                                np.linspace(*input_range[1, :], resolution))))\n",
    "\n",
    "reference_outputs = np.array(list(map(foo, inputs)))\n",
    "reference_outputs_noisy = reference_outputs + (np.random.random(reference_outputs.shape) - 0.5) * 0.1\n",
    "\n",
    "inputs = inputs[..., None]\n",
    "reference_outputs = reference_outputs.reshape(-1, 1, 1)\n",
    "reference_outputs_noisy = reference_outputs_noisy.reshape(-1, 1, 1)"
   ]
  },
  {
   "cell_type": "markdown",
   "id": "cab6d2cb-63f4-4554-bb09-b8a973b829a4",
   "metadata": {
    "tags": []
   },
   "source": [
    "### Least squares"
   ]
  },
  {
   "cell_type": "code",
   "execution_count": 18,
   "id": "4d9d6d5c-3191-4ddc-99de-4d0f8240dbff",
   "metadata": {},
   "outputs": [
    {
     "data": {
      "text/html": [
       "<div Class=\"cw_vdom_hyr cw_vdom_hyr_item\"><style>.cw_vdom_hyr {\n",
       "    font-family: monospace;\n",
       "}\n",
       "\n",
       ".cw_vdom_hyr_item > input {\n",
       "    display: none;\n",
       "}\n",
       "\n",
       ".cw_vdom_hyr_item > label {\n",
       "    color: var(--jp-accent-color1);\n",
       "    font-weight: bold;\n",
       "}\n",
       "\n",
       ".cw_vdom_hyr_item > label::before {\n",
       "    content: \"\\00a0\";\n",
       "}\n",
       "\n",
       ".cw_vdom_hyr_item > label::after {\n",
       "    content: \": \";\n",
       "}\n",
       "\n",
       ".cw_vdom_hyr_item > div {\n",
       "    display: inline-block;\n",
       "}\n",
       "\n",
       ".cw_vdom_hyr_item > input + label {\n",
       "    cursor: pointer;\n",
       "}\n",
       "\n",
       ".cw_vdom_hyr_item > input + label::before {\n",
       "    content: \"+\";\n",
       "}\n",
       "\n",
       ".cw_vdom_hyr_item > input:checked + label::before {\n",
       "    content: \"-\";\n",
       "}\n",
       "\n",
       ".cw_vdom_hyr_item > input ~ div {\n",
       "    display: none;\n",
       "    padding-left: 20px;\n",
       "}\n",
       "\n",
       ".cw_vdom_hyr_item > input:checked ~ div {\n",
       "    display: block;\n",
       "}\n",
       "\n",
       ".cw_vdom_hyr_type {\n",
       "    color: var(--jp-ui-font-color3);\n",
       "    font-size: var(--jp-ui-font-size0);\n",
       "}\n",
       "</style><input type=\"checkbox\" id=\"CXDMAWM8HD\" ></input><label For=\"CXDMAWM8HD\">Radial Basis Function Neural Network</label><span Class=\"cw_vdom_hyr_type\">system_identification.rbfnn_model.RadialBasisFunctionNeuralNetworkModel:</span><div><div><div Class=\"cw_vdom_hyr_item\"><label For=\"0VLOWKLMXG\">description</label><span Class=\"cw_vdom_hyr_type\">str[87]:</span><div><span>Radial basis function neural network with the initial centers placed in a uniform grid.</span></div></div><div Class=\"cw_vdom_hyr_item\"><label For=\"ASO8RT0443\">n_inputs</label><span Class=\"cw_vdom_hyr_type\">int:</span><div><span>2</span></div></div><div Class=\"cw_vdom_hyr_item\"><label For=\"ZR4NLAOHJI\">n_hidden</label><span Class=\"cw_vdom_hyr_type\">int:</span><div><span>75</span></div></div><div Class=\"cw_vdom_hyr_item\"><label For=\"X6VM2X7J8E\">n_output</label><span Class=\"cw_vdom_hyr_type\">int:</span><div><span>1</span></div></div><div Class=\"cw_vdom_hyr_item\"><input type=\"checkbox\" id=\"ILUIOJTAX8\" ></input><label For=\"ILUIOJTAX8\">training_parameters</label><span Class=\"cw_vdom_hyr_type\">dict[3]:</span><div><div><div Class=\"cw_vdom_hyr_item\"><label For=\"2NT8UQ3YO0\">training_algorithm</label><span Class=\"cw_vdom_hyr_type\">NoneType:</span><div><span>None</span></div></div><div Class=\"cw_vdom_hyr_item\"><label For=\"OOQBJPTR5H\">goal</label><span Class=\"cw_vdom_hyr_type\">NoneType:</span><div><span>None</span></div></div><div Class=\"cw_vdom_hyr_item\"><label For=\"9ZT06MB0YM\">min_grad</label><span Class=\"cw_vdom_hyr_type\">NoneType:</span><div><span>None</span></div></div></div></div></div><div Class=\"cw_vdom_hyr_item\"><input type=\"checkbox\" id=\"JX6Y924TUI\" ></input><label For=\"JX6Y924TUI\">weights</label><span Class=\"cw_vdom_hyr_type\">dict[3]:</span><div><div><div Class=\"cw_vdom_hyr_item\"><label For=\"H0SJPEUVR6\">weights_a</label><span Class=\"cw_vdom_hyr_type\">numpy.ndarray[75]:</span><div>[1. 1. 1. 1. 1. 1. 1. 1. 1. 1. 1. 1. 1. 1. 1. 1. 1. 1. 1. 1. 1. 1. 1. 1.\n",
       " 1. 1. 1. 1. 1. 1. 1. 1. 1. 1. 1. 1. 1. 1. 1. 1. 1. 1. 1. 1. 1. 1. 1. 1.\n",
       " 1. 1. 1. 1. 1. 1. 1. 1. 1. 1. 1. 1. 1. 1. 1. 1. 1. 1. 1. 1. 1. 1. 1. 1.\n",
       " 1. 1. 1.]</div></div><div Class=\"cw_vdom_hyr_item\"><input type=\"checkbox\" id=\"GS82BNRGH7\" ></input><label For=\"GS82BNRGH7\">weights_c</label><span Class=\"cw_vdom_hyr_type\">numpy.ndarray[75, 2]:</span><div><div>[[-1.         -3.        ]<br/> [-1.         -2.42857143]<br/> [-1.         -1.85714286]<br/> [-1.         -1.28571429]<br/> [-1.         -0.71428571]<br/> [-1.         -0.14285714]<br/> [-1.          0.42857143]<br/> [-1.          1.        ]<br/> [-1.          1.57142857]<br/> [-1.          2.14285714]<br/> [-1.          2.71428571]<br/> [-1.          3.28571429]<br/> [-1.          3.85714286]<br/> [-1.          4.42857143]<br/> [-1.          5.        ]<br/> [-0.5        -3.        ]<br/> [-0.5        -2.42857143]<br/> [-0.5        -1.85714286]<br/> [-0.5        -1.28571429]<br/> [-0.5        -0.71428571]<br/> [-0.5        -0.14285714]<br/> [-0.5         0.42857143]<br/> [-0.5         1.        ]<br/> [-0.5         1.57142857]<br/> [-0.5         2.14285714]<br/> [-0.5         2.71428571]<br/> [-0.5         3.28571429]<br/> [-0.5         3.85714286]<br/> [-0.5         4.42857143]<br/> [-0.5         5.        ]<br/> [ 0.         -3.        ]<br/> [ 0.         -2.42857143]<br/> [ 0.         -1.85714286]<br/> [ 0.         -1.28571429]<br/> [ 0.         -0.71428571]<br/> [ 0.         -0.14285714]<br/> [ 0.          0.42857143]<br/> [ 0.          1.        ]<br/> [ 0.          1.57142857]<br/> [ 0.          2.14285714]<br/> [ 0.          2.71428571]<br/> [ 0.          3.28571429]<br/> [ 0.          3.85714286]<br/> [ 0.          4.42857143]<br/> [ 0.          5.        ]<br/> [ 0.5        -3.        ]<br/> [ 0.5        -2.42857143]<br/> [ 0.5        -1.85714286]<br/> [ 0.5        -1.28571429]<br/> [ 0.5        -0.71428571]<br/> [ 0.5        -0.14285714]<br/> [ 0.5         0.42857143]<br/> [ 0.5         1.        ]<br/> [ 0.5         1.57142857]<br/> [ 0.5         2.14285714]<br/> [ 0.5         2.71428571]<br/> [ 0.5         3.28571429]<br/> [ 0.5         3.85714286]<br/> [ 0.5         4.42857143]<br/> [ 0.5         5.        ]<br/> [ 1.         -3.        ]<br/> [ 1.         -2.42857143]<br/> [ 1.         -1.85714286]<br/> [ 1.         -1.28571429]<br/> [ 1.         -0.71428571]<br/> [ 1.         -0.14285714]<br/> [ 1.          0.42857143]<br/> [ 1.          1.        ]<br/> [ 1.          1.57142857]<br/> [ 1.          2.14285714]<br/> [ 1.          2.71428571]<br/> [ 1.          3.28571429]<br/> [ 1.          3.85714286]<br/> [ 1.          4.42857143]<br/> [ 1.          5.        ]]</div></div></div><div Class=\"cw_vdom_hyr_item\"><input type=\"checkbox\" id=\"BNII9CIDU6\" ></input><label For=\"BNII9CIDU6\">weights_w</label><span Class=\"cw_vdom_hyr_type\">numpy.ndarray[75, 2]:</span><div><div>[[1.75 1.75]<br/> [1.75 1.75]<br/> [1.75 1.75]<br/> [1.75 1.75]<br/> [1.75 1.75]<br/> [1.75 1.75]<br/> [1.75 1.75]<br/> [1.75 1.75]<br/> [1.75 1.75]<br/> [1.75 1.75]<br/> [1.75 1.75]<br/> [1.75 1.75]<br/> [1.75 1.75]<br/> [1.75 1.75]<br/> [1.75 1.75]<br/> [1.75 1.75]<br/> [1.75 1.75]<br/> [1.75 1.75]<br/> [1.75 1.75]<br/> [1.75 1.75]<br/> [1.75 1.75]<br/> [1.75 1.75]<br/> [1.75 1.75]<br/> [1.75 1.75]<br/> [1.75 1.75]<br/> [1.75 1.75]<br/> [1.75 1.75]<br/> [1.75 1.75]<br/> [1.75 1.75]<br/> [1.75 1.75]<br/> [1.75 1.75]<br/> [1.75 1.75]<br/> [1.75 1.75]<br/> [1.75 1.75]<br/> [1.75 1.75]<br/> [1.75 1.75]<br/> [1.75 1.75]<br/> [1.75 1.75]<br/> [1.75 1.75]<br/> [1.75 1.75]<br/> [1.75 1.75]<br/> [1.75 1.75]<br/> [1.75 1.75]<br/> [1.75 1.75]<br/> [1.75 1.75]<br/> [1.75 1.75]<br/> [1.75 1.75]<br/> [1.75 1.75]<br/> [1.75 1.75]<br/> [1.75 1.75]<br/> [1.75 1.75]<br/> [1.75 1.75]<br/> [1.75 1.75]<br/> [1.75 1.75]<br/> [1.75 1.75]<br/> [1.75 1.75]<br/> [1.75 1.75]<br/> [1.75 1.75]<br/> [1.75 1.75]<br/> [1.75 1.75]<br/> [1.75 1.75]<br/> [1.75 1.75]<br/> [1.75 1.75]<br/> [1.75 1.75]<br/> [1.75 1.75]<br/> [1.75 1.75]<br/> [1.75 1.75]<br/> [1.75 1.75]<br/> [1.75 1.75]<br/> [1.75 1.75]<br/> [1.75 1.75]<br/> [1.75 1.75]<br/> [1.75 1.75]<br/> [1.75 1.75]<br/> [1.75 1.75]]</div></div></div></div></div></div></div></div></div>"
      ],
      "text/plain": [
       "<RadialBasisFunctionNeuralNetwork\n",
       " n_inputs=2\n",
       " n_hidden=75\n",
       " n_outputs=1>"
      ]
     },
     "execution_count": 18,
     "metadata": {},
     "output_type": "execute_result"
    }
   ],
   "source": [
    "model = RadialBasisFunctionNeuralNetworkModel.new_grid_placement(\n",
    "    n_inputs=2,\n",
    "    grid_size=[5, 15],\n",
    "    input_range=input_range,\n",
    "    rbf_width=1.75,\n",
    "    rbf_amplitude=1,\n",
    ")\n",
    "model"
   ]
  },
  {
   "cell_type": "code",
   "execution_count": 19,
   "id": "13a58a76-0705-43af-90ff-9c6a6b1f6226",
   "metadata": {},
   "outputs": [],
   "source": [
    "model.train(inputs, reference_outputs)\n",
    "output = model.evaluate(inputs)"
   ]
  },
  {
   "cell_type": "code",
   "execution_count": 20,
   "id": "9e11376f-59a7-4bff-91a6-928b85579fc3",
   "metadata": {},
   "outputs": [
    {
     "data": {
      "application/vnd.jupyter.widget-view+json": {
       "model_id": "907a199e8f664c029a5705fc71b7a5a1",
       "version_major": 2,
       "version_minor": 0
      },
      "text/plain": [
       "Canvas(toolbar=Toolbar(toolitems=[('Home', 'Reset original view', 'home', 'home'), ('Back', 'Back to previous …"
      ]
     },
     "metadata": {},
     "output_type": "display_data"
    },
    {
     "data": {
      "application/vnd.jupyter.widget-view+json": {
       "model_id": "ab3841b553c74731b292076d0f46cad1",
       "version_major": 2,
       "version_minor": 0
      },
      "text/plain": [
       "Canvas(toolbar=Toolbar(toolitems=[('Home', 'Reset original view', 'home', 'home'), ('Back', 'Back to previous …"
      ]
     },
     "metadata": {},
     "output_type": "display_data"
    },
    {
     "data": {
      "text/plain": [
       "<mpl_toolkits.mplot3d.art3d.Path3DCollection at 0x7f40789c6670>"
      ]
     },
     "execution_count": 20,
     "metadata": {},
     "output_type": "execute_result"
    }
   ],
   "source": [
    "fig = plt.figure(figsize=(4, 3))\n",
    "plt.plot(model.weights_c[:, 0], model.weights_c[:, 1], \"x\")\n",
    "\n",
    "fig = plt.figure(figsize=(4, 3))\n",
    "ax = fig.add_subplot(projection='3d')\n",
    "ax.scatter(inputs[:, 0, 0], inputs[:, 1, 0], reference_outputs.squeeze(), s=0.1)\n",
    "ax.scatter(inputs[:, 0, 0], inputs[:, 1, 0], output.squeeze(), s=0.1)"
   ]
  },
  {
   "cell_type": "markdown",
   "id": "746fb9bf-23ab-4ca7-83e2-a0cef7cdfd09",
   "metadata": {},
   "source": [
    "### Levenberg-Marquardt training"
   ]
  },
  {
   "cell_type": "code",
   "execution_count": 40,
   "id": "dcafe03b-8669-4250-9175-7f73fdab17eb",
   "metadata": {},
   "outputs": [
    {
     "data": {
      "text/html": [
       "<div Class=\"cw_vdom_hyr cw_vdom_hyr_item\"><style>.cw_vdom_hyr {\n",
       "    font-family: monospace;\n",
       "}\n",
       "\n",
       ".cw_vdom_hyr_item > input {\n",
       "    display: none;\n",
       "}\n",
       "\n",
       ".cw_vdom_hyr_item > label {\n",
       "    color: var(--jp-accent-color1);\n",
       "    font-weight: bold;\n",
       "}\n",
       "\n",
       ".cw_vdom_hyr_item > label::before {\n",
       "    content: \"\\00a0\";\n",
       "}\n",
       "\n",
       ".cw_vdom_hyr_item > label::after {\n",
       "    content: \": \";\n",
       "}\n",
       "\n",
       ".cw_vdom_hyr_item > div {\n",
       "    display: inline-block;\n",
       "}\n",
       "\n",
       ".cw_vdom_hyr_item > input + label {\n",
       "    cursor: pointer;\n",
       "}\n",
       "\n",
       ".cw_vdom_hyr_item > input + label::before {\n",
       "    content: \"+\";\n",
       "}\n",
       "\n",
       ".cw_vdom_hyr_item > input:checked + label::before {\n",
       "    content: \"-\";\n",
       "}\n",
       "\n",
       ".cw_vdom_hyr_item > input ~ div {\n",
       "    display: none;\n",
       "    padding-left: 20px;\n",
       "}\n",
       "\n",
       ".cw_vdom_hyr_item > input:checked ~ div {\n",
       "    display: block;\n",
       "}\n",
       "\n",
       ".cw_vdom_hyr_type {\n",
       "    color: var(--jp-ui-font-color3);\n",
       "    font-size: var(--jp-ui-font-size0);\n",
       "}\n",
       "</style><input type=\"checkbox\" id=\"L983MCLYV6\" ></input><label For=\"L983MCLYV6\">Radial Basis Function Neural Network</label><span Class=\"cw_vdom_hyr_type\">system_identification.rbfnn_model.RadialBasisFunctionNeuralNetworkModel:</span><div><div><div Class=\"cw_vdom_hyr_item\"><label For=\"CF13SYL2T2\">description</label><span Class=\"cw_vdom_hyr_type\">str[87]:</span><div><span>Radial basis function neural network with the initial centers placed in a uniform grid.</span></div></div><div Class=\"cw_vdom_hyr_item\"><label For=\"ZUCPYFNS8V\">n_inputs</label><span Class=\"cw_vdom_hyr_type\">int:</span><div><span>2</span></div></div><div Class=\"cw_vdom_hyr_item\"><label For=\"WJWUMIGD7P\">n_hidden</label><span Class=\"cw_vdom_hyr_type\">int:</span><div><span>35</span></div></div><div Class=\"cw_vdom_hyr_item\"><label For=\"VDC731953S\">n_output</label><span Class=\"cw_vdom_hyr_type\">int:</span><div><span>1</span></div></div><div Class=\"cw_vdom_hyr_item\"><input type=\"checkbox\" id=\"9VXOQOFGNM\" ></input><label For=\"9VXOQOFGNM\">training_parameters</label><span Class=\"cw_vdom_hyr_type\">dict[3]:</span><div><div><div Class=\"cw_vdom_hyr_item\"><label For=\"E1FVCJRFWF\">training_algorithm</label><span Class=\"cw_vdom_hyr_type\">NoneType:</span><div><span>None</span></div></div><div Class=\"cw_vdom_hyr_item\"><label For=\"AWXIX9JSB7\">goal</label><span Class=\"cw_vdom_hyr_type\">NoneType:</span><div><span>None</span></div></div><div Class=\"cw_vdom_hyr_item\"><label For=\"GZ94MQI2YN\">min_grad</label><span Class=\"cw_vdom_hyr_type\">NoneType:</span><div><span>None</span></div></div></div></div></div><div Class=\"cw_vdom_hyr_item\"><input type=\"checkbox\" id=\"N14SZLJ93M\" ></input><label For=\"N14SZLJ93M\">weights</label><span Class=\"cw_vdom_hyr_type\">dict[3]:</span><div><div><div Class=\"cw_vdom_hyr_item\"><label For=\"9NDE4R5UQZ\">weights_a</label><span Class=\"cw_vdom_hyr_type\">numpy.ndarray[35]:</span><div>[1. 1. 1. 1. 1. 1. 1. 1. 1. 1. 1. 1. 1. 1. 1. 1. 1. 1. 1. 1. 1. 1. 1. 1.\n",
       " 1. 1. 1. 1. 1. 1. 1. 1. 1. 1. 1.]</div></div><div Class=\"cw_vdom_hyr_item\"><input type=\"checkbox\" id=\"COCN4TYBFT\" ></input><label For=\"COCN4TYBFT\">weights_c</label><span Class=\"cw_vdom_hyr_type\">numpy.ndarray[35, 2]:</span><div><div>[[-1.         -3.        ]<br/> [-1.         -1.66666667]<br/> [-1.         -0.33333333]<br/> [-1.          1.        ]<br/> [-1.          2.33333333]<br/> [-1.          3.66666667]<br/> [-1.          5.        ]<br/> [-0.5        -3.        ]<br/> [-0.5        -1.66666667]<br/> [-0.5        -0.33333333]<br/> [-0.5         1.        ]<br/> [-0.5         2.33333333]<br/> [-0.5         3.66666667]<br/> [-0.5         5.        ]<br/> [ 0.         -3.        ]<br/> [ 0.         -1.66666667]<br/> [ 0.         -0.33333333]<br/> [ 0.          1.        ]<br/> [ 0.          2.33333333]<br/> [ 0.          3.66666667]<br/> [ 0.          5.        ]<br/> [ 0.5        -3.        ]<br/> [ 0.5        -1.66666667]<br/> [ 0.5        -0.33333333]<br/> [ 0.5         1.        ]<br/> [ 0.5         2.33333333]<br/> [ 0.5         3.66666667]<br/> [ 0.5         5.        ]<br/> [ 1.         -3.        ]<br/> [ 1.         -1.66666667]<br/> [ 1.         -0.33333333]<br/> [ 1.          1.        ]<br/> [ 1.          2.33333333]<br/> [ 1.          3.66666667]<br/> [ 1.          5.        ]]</div></div></div><div Class=\"cw_vdom_hyr_item\"><input type=\"checkbox\" id=\"WWYVB7XUEO\" ></input><label For=\"WWYVB7XUEO\">weights_w</label><span Class=\"cw_vdom_hyr_type\">numpy.ndarray[35, 2]:</span><div><div>[[1.75 1.75]<br/> [1.75 1.75]<br/> [1.75 1.75]<br/> [1.75 1.75]<br/> [1.75 1.75]<br/> [1.75 1.75]<br/> [1.75 1.75]<br/> [1.75 1.75]<br/> [1.75 1.75]<br/> [1.75 1.75]<br/> [1.75 1.75]<br/> [1.75 1.75]<br/> [1.75 1.75]<br/> [1.75 1.75]<br/> [1.75 1.75]<br/> [1.75 1.75]<br/> [1.75 1.75]<br/> [1.75 1.75]<br/> [1.75 1.75]<br/> [1.75 1.75]<br/> [1.75 1.75]<br/> [1.75 1.75]<br/> [1.75 1.75]<br/> [1.75 1.75]<br/> [1.75 1.75]<br/> [1.75 1.75]<br/> [1.75 1.75]<br/> [1.75 1.75]<br/> [1.75 1.75]<br/> [1.75 1.75]<br/> [1.75 1.75]<br/> [1.75 1.75]<br/> [1.75 1.75]<br/> [1.75 1.75]<br/> [1.75 1.75]]</div></div></div></div></div></div></div></div></div>"
      ],
      "text/plain": [
       "<RadialBasisFunctionNeuralNetwork\n",
       " n_inputs=2\n",
       " n_hidden=35\n",
       " n_outputs=1>"
      ]
     },
     "execution_count": 40,
     "metadata": {},
     "output_type": "execute_result"
    }
   ],
   "source": [
    "model = RadialBasisFunctionNeuralNetworkModel.new_grid_placement(\n",
    "    n_inputs=2,\n",
    "    grid_size=[5, 7],\n",
    "    input_range=input_range,\n",
    "    rbf_width=1.75,\n",
    "    rbf_amplitude=1,\n",
    ")\n",
    "model"
   ]
  },
  {
   "cell_type": "code",
   "execution_count": 41,
   "id": "53206e63-340d-4e55-be30-b3100425adb2",
   "metadata": {},
   "outputs": [],
   "source": [
    "# Pretrain the network using least squares.\n",
    "model.train(inputs, reference_outputs_noisy)"
   ]
  },
  {
   "cell_type": "code",
   "execution_count": 42,
   "id": "dfe25118-262a-4a1e-be82-f5a5befc2513",
   "metadata": {},
   "outputs": [
    {
     "data": {
      "application/vnd.jupyter.widget-view+json": {
       "model_id": "a3b832d3ceec4078bb9ba60949b1fa57",
       "version_major": 2,
       "version_minor": 0
      },
      "text/plain": [
       "  0%|          | 0/30 [00:00<?, ?it/s]"
      ]
     },
     "metadata": {},
     "output_type": "display_data"
    }
   ],
   "source": [
    "model.train(\n",
    "    inputs,\n",
    "    reference_outputs_noisy,\n",
    "    epochs=30,\n",
    "    goal=1e-6,\n",
    "    train_log_freq=1,\n",
    "    method=\"trainlm\",\n",
    "    mu=10.,\n",
    "    alpha=0.95\n",
    ")"
   ]
  },
  {
   "cell_type": "code",
   "execution_count": 43,
   "id": "bbaaa7d4-1e47-4d3d-8af5-4197f87d8e20",
   "metadata": {},
   "outputs": [
    {
     "data": {
      "text/html": [
       "<div><svg style=\"position: absolute; width: 0; height: 0; overflow: hidden\">\n",
       "<defs>\n",
       "<symbol id=\"icon-database\" viewBox=\"0 0 32 32\">\n",
       "<path d=\"M16 0c-8.837 0-16 2.239-16 5v4c0 2.761 7.163 5 16 5s16-2.239 16-5v-4c0-2.761-7.163-5-16-5z\"></path>\n",
       "<path d=\"M16 17c-8.837 0-16-2.239-16-5v6c0 2.761 7.163 5 16 5s16-2.239 16-5v-6c0 2.761-7.163 5-16 5z\"></path>\n",
       "<path d=\"M16 26c-8.837 0-16-2.239-16-5v6c0 2.761 7.163 5 16 5s16-2.239 16-5v-6c0 2.761-7.163 5-16 5z\"></path>\n",
       "</symbol>\n",
       "<symbol id=\"icon-file-text2\" viewBox=\"0 0 32 32\">\n",
       "<path d=\"M28.681 7.159c-0.694-0.947-1.662-2.053-2.724-3.116s-2.169-2.030-3.116-2.724c-1.612-1.182-2.393-1.319-2.841-1.319h-15.5c-1.378 0-2.5 1.121-2.5 2.5v27c0 1.378 1.122 2.5 2.5 2.5h23c1.378 0 2.5-1.122 2.5-2.5v-19.5c0-0.448-0.137-1.23-1.319-2.841zM24.543 5.457c0.959 0.959 1.712 1.825 2.268 2.543h-4.811v-4.811c0.718 0.556 1.584 1.309 2.543 2.268zM28 29.5c0 0.271-0.229 0.5-0.5 0.5h-23c-0.271 0-0.5-0.229-0.5-0.5v-27c0-0.271 0.229-0.5 0.5-0.5 0 0 15.499-0 15.5 0v7c0 0.552 0.448 1 1 1h7v19.5z\"></path>\n",
       "<path d=\"M23 26h-14c-0.552 0-1-0.448-1-1s0.448-1 1-1h14c0.552 0 1 0.448 1 1s-0.448 1-1 1z\"></path>\n",
       "<path d=\"M23 22h-14c-0.552 0-1-0.448-1-1s0.448-1 1-1h14c0.552 0 1 0.448 1 1s-0.448 1-1 1z\"></path>\n",
       "<path d=\"M23 18h-14c-0.552 0-1-0.448-1-1s0.448-1 1-1h14c0.552 0 1 0.448 1 1s-0.448 1-1 1z\"></path>\n",
       "</symbol>\n",
       "</defs>\n",
       "</svg>\n",
       "<style>/* CSS stylesheet for displaying xarray objects in jupyterlab.\n",
       " *\n",
       " */\n",
       "\n",
       ":root {\n",
       "  --xr-font-color0: var(--jp-content-font-color0, rgba(0, 0, 0, 1));\n",
       "  --xr-font-color2: var(--jp-content-font-color2, rgba(0, 0, 0, 0.54));\n",
       "  --xr-font-color3: var(--jp-content-font-color3, rgba(0, 0, 0, 0.38));\n",
       "  --xr-border-color: var(--jp-border-color2, #e0e0e0);\n",
       "  --xr-disabled-color: var(--jp-layout-color3, #bdbdbd);\n",
       "  --xr-background-color: var(--jp-layout-color0, white);\n",
       "  --xr-background-color-row-even: var(--jp-layout-color1, white);\n",
       "  --xr-background-color-row-odd: var(--jp-layout-color2, #eeeeee);\n",
       "}\n",
       "\n",
       "html[theme=dark],\n",
       "body.vscode-dark {\n",
       "  --xr-font-color0: rgba(255, 255, 255, 1);\n",
       "  --xr-font-color2: rgba(255, 255, 255, 0.54);\n",
       "  --xr-font-color3: rgba(255, 255, 255, 0.38);\n",
       "  --xr-border-color: #1F1F1F;\n",
       "  --xr-disabled-color: #515151;\n",
       "  --xr-background-color: #111111;\n",
       "  --xr-background-color-row-even: #111111;\n",
       "  --xr-background-color-row-odd: #313131;\n",
       "}\n",
       "\n",
       ".xr-wrap {\n",
       "  display: block;\n",
       "  min-width: 300px;\n",
       "  max-width: 700px;\n",
       "}\n",
       "\n",
       ".xr-text-repr-fallback {\n",
       "  /* fallback to plain text repr when CSS is not injected (untrusted notebook) */\n",
       "  display: none;\n",
       "}\n",
       "\n",
       ".xr-header {\n",
       "  padding-top: 6px;\n",
       "  padding-bottom: 6px;\n",
       "  margin-bottom: 4px;\n",
       "  border-bottom: solid 1px var(--xr-border-color);\n",
       "}\n",
       "\n",
       ".xr-header > div,\n",
       ".xr-header > ul {\n",
       "  display: inline;\n",
       "  margin-top: 0;\n",
       "  margin-bottom: 0;\n",
       "}\n",
       "\n",
       ".xr-obj-type,\n",
       ".xr-array-name {\n",
       "  margin-left: 2px;\n",
       "  margin-right: 10px;\n",
       "}\n",
       "\n",
       ".xr-obj-type {\n",
       "  color: var(--xr-font-color2);\n",
       "}\n",
       "\n",
       ".xr-sections {\n",
       "  padding-left: 0 !important;\n",
       "  display: grid;\n",
       "  grid-template-columns: 150px auto auto 1fr 20px 20px;\n",
       "}\n",
       "\n",
       ".xr-section-item {\n",
       "  display: contents;\n",
       "}\n",
       "\n",
       ".xr-section-item input {\n",
       "  display: none;\n",
       "}\n",
       "\n",
       ".xr-section-item input + label {\n",
       "  color: var(--xr-disabled-color);\n",
       "}\n",
       "\n",
       ".xr-section-item input:enabled + label {\n",
       "  cursor: pointer;\n",
       "  color: var(--xr-font-color2);\n",
       "}\n",
       "\n",
       ".xr-section-item input:enabled + label:hover {\n",
       "  color: var(--xr-font-color0);\n",
       "}\n",
       "\n",
       ".xr-section-summary {\n",
       "  grid-column: 1;\n",
       "  color: var(--xr-font-color2);\n",
       "  font-weight: 500;\n",
       "}\n",
       "\n",
       ".xr-section-summary > span {\n",
       "  display: inline-block;\n",
       "  padding-left: 0.5em;\n",
       "}\n",
       "\n",
       ".xr-section-summary-in:disabled + label {\n",
       "  color: var(--xr-font-color2);\n",
       "}\n",
       "\n",
       ".xr-section-summary-in + label:before {\n",
       "  display: inline-block;\n",
       "  content: '►';\n",
       "  font-size: 11px;\n",
       "  width: 15px;\n",
       "  text-align: center;\n",
       "}\n",
       "\n",
       ".xr-section-summary-in:disabled + label:before {\n",
       "  color: var(--xr-disabled-color);\n",
       "}\n",
       "\n",
       ".xr-section-summary-in:checked + label:before {\n",
       "  content: '▼';\n",
       "}\n",
       "\n",
       ".xr-section-summary-in:checked + label > span {\n",
       "  display: none;\n",
       "}\n",
       "\n",
       ".xr-section-summary,\n",
       ".xr-section-inline-details {\n",
       "  padding-top: 4px;\n",
       "  padding-bottom: 4px;\n",
       "}\n",
       "\n",
       ".xr-section-inline-details {\n",
       "  grid-column: 2 / -1;\n",
       "}\n",
       "\n",
       ".xr-section-details {\n",
       "  display: none;\n",
       "  grid-column: 1 / -1;\n",
       "  margin-bottom: 5px;\n",
       "}\n",
       "\n",
       ".xr-section-summary-in:checked ~ .xr-section-details {\n",
       "  display: contents;\n",
       "}\n",
       "\n",
       ".xr-array-wrap {\n",
       "  grid-column: 1 / -1;\n",
       "  display: grid;\n",
       "  grid-template-columns: 20px auto;\n",
       "}\n",
       "\n",
       ".xr-array-wrap > label {\n",
       "  grid-column: 1;\n",
       "  vertical-align: top;\n",
       "}\n",
       "\n",
       ".xr-preview {\n",
       "  color: var(--xr-font-color3);\n",
       "}\n",
       "\n",
       ".xr-array-preview,\n",
       ".xr-array-data {\n",
       "  padding: 0 5px !important;\n",
       "  grid-column: 2;\n",
       "}\n",
       "\n",
       ".xr-array-data,\n",
       ".xr-array-in:checked ~ .xr-array-preview {\n",
       "  display: none;\n",
       "}\n",
       "\n",
       ".xr-array-in:checked ~ .xr-array-data,\n",
       ".xr-array-preview {\n",
       "  display: inline-block;\n",
       "}\n",
       "\n",
       ".xr-dim-list {\n",
       "  display: inline-block !important;\n",
       "  list-style: none;\n",
       "  padding: 0 !important;\n",
       "  margin: 0;\n",
       "}\n",
       "\n",
       ".xr-dim-list li {\n",
       "  display: inline-block;\n",
       "  padding: 0;\n",
       "  margin: 0;\n",
       "}\n",
       "\n",
       ".xr-dim-list:before {\n",
       "  content: '(';\n",
       "}\n",
       "\n",
       ".xr-dim-list:after {\n",
       "  content: ')';\n",
       "}\n",
       "\n",
       ".xr-dim-list li:not(:last-child):after {\n",
       "  content: ',';\n",
       "  padding-right: 5px;\n",
       "}\n",
       "\n",
       ".xr-has-index {\n",
       "  font-weight: bold;\n",
       "}\n",
       "\n",
       ".xr-var-list,\n",
       ".xr-var-item {\n",
       "  display: contents;\n",
       "}\n",
       "\n",
       ".xr-var-item > div,\n",
       ".xr-var-item label,\n",
       ".xr-var-item > .xr-var-name span {\n",
       "  background-color: var(--xr-background-color-row-even);\n",
       "  margin-bottom: 0;\n",
       "}\n",
       "\n",
       ".xr-var-item > .xr-var-name:hover span {\n",
       "  padding-right: 5px;\n",
       "}\n",
       "\n",
       ".xr-var-list > li:nth-child(odd) > div,\n",
       ".xr-var-list > li:nth-child(odd) > label,\n",
       ".xr-var-list > li:nth-child(odd) > .xr-var-name span {\n",
       "  background-color: var(--xr-background-color-row-odd);\n",
       "}\n",
       "\n",
       ".xr-var-name {\n",
       "  grid-column: 1;\n",
       "}\n",
       "\n",
       ".xr-var-dims {\n",
       "  grid-column: 2;\n",
       "}\n",
       "\n",
       ".xr-var-dtype {\n",
       "  grid-column: 3;\n",
       "  text-align: right;\n",
       "  color: var(--xr-font-color2);\n",
       "}\n",
       "\n",
       ".xr-var-preview {\n",
       "  grid-column: 4;\n",
       "}\n",
       "\n",
       ".xr-var-name,\n",
       ".xr-var-dims,\n",
       ".xr-var-dtype,\n",
       ".xr-preview,\n",
       ".xr-attrs dt {\n",
       "  white-space: nowrap;\n",
       "  overflow: hidden;\n",
       "  text-overflow: ellipsis;\n",
       "  padding-right: 10px;\n",
       "}\n",
       "\n",
       ".xr-var-name:hover,\n",
       ".xr-var-dims:hover,\n",
       ".xr-var-dtype:hover,\n",
       ".xr-attrs dt:hover {\n",
       "  overflow: visible;\n",
       "  width: auto;\n",
       "  z-index: 1;\n",
       "}\n",
       "\n",
       ".xr-var-attrs,\n",
       ".xr-var-data {\n",
       "  display: none;\n",
       "  background-color: var(--xr-background-color) !important;\n",
       "  padding-bottom: 5px !important;\n",
       "}\n",
       "\n",
       ".xr-var-attrs-in:checked ~ .xr-var-attrs,\n",
       ".xr-var-data-in:checked ~ .xr-var-data {\n",
       "  display: block;\n",
       "}\n",
       "\n",
       ".xr-var-data > table {\n",
       "  float: right;\n",
       "}\n",
       "\n",
       ".xr-var-name span,\n",
       ".xr-var-data,\n",
       ".xr-attrs {\n",
       "  padding-left: 25px !important;\n",
       "}\n",
       "\n",
       ".xr-attrs,\n",
       ".xr-var-attrs,\n",
       ".xr-var-data {\n",
       "  grid-column: 1 / -1;\n",
       "}\n",
       "\n",
       "dl.xr-attrs {\n",
       "  padding: 0;\n",
       "  margin: 0;\n",
       "  display: grid;\n",
       "  grid-template-columns: 125px auto;\n",
       "}\n",
       "\n",
       ".xr-attrs dt,\n",
       ".xr-attrs dd {\n",
       "  padding: 0;\n",
       "  margin: 0;\n",
       "  float: left;\n",
       "  padding-right: 10px;\n",
       "  width: auto;\n",
       "}\n",
       "\n",
       ".xr-attrs dt {\n",
       "  font-weight: normal;\n",
       "  grid-column: 1;\n",
       "}\n",
       "\n",
       ".xr-attrs dt:hover span {\n",
       "  display: inline-block;\n",
       "  background: var(--xr-background-color);\n",
       "  padding-right: 10px;\n",
       "}\n",
       "\n",
       ".xr-attrs dd {\n",
       "  grid-column: 2;\n",
       "  white-space: pre-wrap;\n",
       "  word-break: break-all;\n",
       "}\n",
       "\n",
       ".xr-icon-database,\n",
       ".xr-icon-file-text2 {\n",
       "  display: inline-block;\n",
       "  vertical-align: middle;\n",
       "  width: 1em;\n",
       "  height: 1.5em !important;\n",
       "  stroke-width: 0;\n",
       "  stroke: currentColor;\n",
       "  fill: currentColor;\n",
       "}\n",
       "</style><pre class='xr-text-repr-fallback'>&lt;xarray.Dataset&gt;\n",
       "Dimensions:                (epoch: 30, i: 10000, j: 10000, k: 35, l: 35, m: 2, n: 35, o: 2)\n",
       "Coordinates:\n",
       "  * epoch                  (epoch) int64 1 2 3 4 5 6 7 ... 24 25 26 27 28 29 30\n",
       "Dimensions without coordinates: i, j, k, l, m, n, o\n",
       "Data variables: (12/14)\n",
       "    gradient               (epoch) float64 3.973e+04 4.497e+04 ... 5.359e+04\n",
       "    error_training_data    (epoch, i) float64 -0.1713 -0.1258 ... -0.1171\n",
       "    error_validation_data  (epoch, j) float64 -0.1713 -0.1258 ... -0.1171\n",
       "    error_training_jb      (epoch) float64 134.9 62.94 3.098 ... 314.0 329.4\n",
       "    error_training_jbp     (epoch) float64 5.168e-30 2.156e-14 ... 2.964e-72\n",
       "    error_training_skew    (epoch) float64 0.08726 0.1522 ... -0.0368 -0.03242\n",
       "    ...                     ...\n",
       "    error_validation_jbp   (epoch) float64 5.168e-30 2.156e-14 ... 2.964e-72\n",
       "    error_validation_skew  (epoch) float64 0.08726 0.1522 ... -0.0368 -0.03242\n",
       "    error_validation_kurt  (epoch) float64 2.458 2.758 2.933 ... 2.135 2.113\n",
       "    weights_a              (epoch, k) float64 -1.11 -0.7268 ... -0.1899 -1.705\n",
       "    weights_c              (epoch, l, m) float64 -1.219 -3.315 ... 1.237 5.19\n",
       "    weights_w              (epoch, n, o) float64 1.545 1.705 ... 1.394 1.209</pre><div class='xr-wrap' hidden><div class='xr-header'><div class='xr-obj-type'>xarray.Dataset</div></div><ul class='xr-sections'><li class='xr-section-item'><input id='section-2dd27a1b-456a-4060-aa9a-a49b87d03029' class='xr-section-summary-in' type='checkbox' disabled ><label for='section-2dd27a1b-456a-4060-aa9a-a49b87d03029' class='xr-section-summary'  title='Expand/collapse section'>Dimensions:</label><div class='xr-section-inline-details'><ul class='xr-dim-list'><li><span class='xr-has-index'>epoch</span>: 30</li><li><span>i</span>: 10000</li><li><span>j</span>: 10000</li><li><span>k</span>: 35</li><li><span>l</span>: 35</li><li><span>m</span>: 2</li><li><span>n</span>: 35</li><li><span>o</span>: 2</li></ul></div><div class='xr-section-details'></div></li><li class='xr-section-item'><input id='section-caf50221-93c3-46a3-ad7e-b462e9eea301' class='xr-section-summary-in' type='checkbox'  checked><label for='section-caf50221-93c3-46a3-ad7e-b462e9eea301' class='xr-section-summary' >Coordinates: <span>(1)</span></label><div class='xr-section-inline-details'></div><div class='xr-section-details'><ul class='xr-var-list'><li class='xr-var-item'><div class='xr-var-name'><span class='xr-has-index'>epoch</span></div><div class='xr-var-dims'>(epoch)</div><div class='xr-var-dtype'>int64</div><div class='xr-var-preview xr-preview'>1 2 3 4 5 6 7 ... 25 26 27 28 29 30</div><input id='attrs-4090894d-33ef-40f5-96cd-5a27f99a0a08' class='xr-var-attrs-in' type='checkbox' disabled><label for='attrs-4090894d-33ef-40f5-96cd-5a27f99a0a08' title='Show/Hide attributes'><svg class='icon xr-icon-file-text2'><use xlink:href='#icon-file-text2'></use></svg></label><input id='data-205f4a3e-5405-4b69-9183-a12d2e66f20f' class='xr-var-data-in' type='checkbox'><label for='data-205f4a3e-5405-4b69-9183-a12d2e66f20f' title='Show/Hide data repr'><svg class='icon xr-icon-database'><use xlink:href='#icon-database'></use></svg></label><div class='xr-var-attrs'><dl class='xr-attrs'></dl></div><div class='xr-var-data'><pre>array([ 1,  2,  3,  4,  5,  6,  7,  8,  9, 10, 11, 12, 13, 14, 15, 16, 17, 18,\n",
       "       19, 20, 21, 22, 23, 24, 25, 26, 27, 28, 29, 30])</pre></div></li></ul></div></li><li class='xr-section-item'><input id='section-e1290671-219d-461d-833f-f378bb555796' class='xr-section-summary-in' type='checkbox'  checked><label for='section-e1290671-219d-461d-833f-f378bb555796' class='xr-section-summary' >Data variables: <span>(14)</span></label><div class='xr-section-inline-details'></div><div class='xr-section-details'><ul class='xr-var-list'><li class='xr-var-item'><div class='xr-var-name'><span>gradient</span></div><div class='xr-var-dims'>(epoch)</div><div class='xr-var-dtype'>float64</div><div class='xr-var-preview xr-preview'>3.973e+04 4.497e+04 ... 5.359e+04</div><input id='attrs-1cb493b0-41e9-4266-91fb-adc1b0d6784b' class='xr-var-attrs-in' type='checkbox' disabled><label for='attrs-1cb493b0-41e9-4266-91fb-adc1b0d6784b' title='Show/Hide attributes'><svg class='icon xr-icon-file-text2'><use xlink:href='#icon-file-text2'></use></svg></label><input id='data-54f21cb8-ab62-4ec9-985f-daa14c3834fc' class='xr-var-data-in' type='checkbox'><label for='data-54f21cb8-ab62-4ec9-985f-daa14c3834fc' title='Show/Hide data repr'><svg class='icon xr-icon-database'><use xlink:href='#icon-database'></use></svg></label><div class='xr-var-attrs'><dl class='xr-attrs'></dl></div><div class='xr-var-data'><pre>array([39725.26549304, 44967.18927407, 39263.39254707, 42476.73911392,\n",
       "       41309.56337059, 43171.54769042, 42814.73954247, 43971.33558556,\n",
       "       44018.33270663, 44793.04060908, 45062.98027216, 45604.74552084,\n",
       "       45958.48933001, 46433.41507758, 46836.57694966, 47289.84885593,\n",
       "       47720.72139565, 48175.19981465, 48625.37433439, 49087.41275958,\n",
       "       49549.38804867, 50015.82765987, 50480.11821564, 50943.42257384,\n",
       "       51403.41158861, 51859.20398619, 52306.3330522 , 52743.73177617,\n",
       "       53171.35332813, 53587.223251  ])</pre></div></li><li class='xr-var-item'><div class='xr-var-name'><span>error_training_data</span></div><div class='xr-var-dims'>(epoch, i)</div><div class='xr-var-dtype'>float64</div><div class='xr-var-preview xr-preview'>-0.1713 -0.1258 ... -0.1171</div><input id='attrs-97b4c56e-ac03-4a25-8cb3-8e5c2529b071' class='xr-var-attrs-in' type='checkbox' disabled><label for='attrs-97b4c56e-ac03-4a25-8cb3-8e5c2529b071' title='Show/Hide attributes'><svg class='icon xr-icon-file-text2'><use xlink:href='#icon-file-text2'></use></svg></label><input id='data-f9e55c0b-6e8f-464a-88d7-b12029f3624e' class='xr-var-data-in' type='checkbox'><label for='data-f9e55c0b-6e8f-464a-88d7-b12029f3624e' title='Show/Hide data repr'><svg class='icon xr-icon-database'><use xlink:href='#icon-database'></use></svg></label><div class='xr-var-attrs'><dl class='xr-attrs'></dl></div><div class='xr-var-data'><pre>array([[-0.17126614, -0.12578056, -0.05645601, ..., -0.12070953,\n",
       "        -0.11838066, -0.24533328],\n",
       "       [-0.26227686, -0.19651819, -0.0965654 , ..., -0.02817793,\n",
       "        -0.05355132, -0.2069346 ],\n",
       "       [-0.28332887, -0.23375509, -0.14655363, ...,  0.01966114,\n",
       "        -0.02814825, -0.20643149],\n",
       "       ...,\n",
       "       [-0.09064162, -0.10449196, -0.06752893, ...,  0.01692361,\n",
       "         0.00150322, -0.12060075],\n",
       "       [-0.08816824, -0.10275426, -0.06627138, ...,  0.01709935,\n",
       "         0.00209778, -0.11889459],\n",
       "       [-0.08575074, -0.10103003, -0.06499526, ...,  0.01726878,\n",
       "         0.00272806, -0.11713612]])</pre></div></li><li class='xr-var-item'><div class='xr-var-name'><span>error_validation_data</span></div><div class='xr-var-dims'>(epoch, j)</div><div class='xr-var-dtype'>float64</div><div class='xr-var-preview xr-preview'>-0.1713 -0.1258 ... -0.1171</div><input id='attrs-c3b9d0eb-3ede-4f94-8cdb-563be530ed40' class='xr-var-attrs-in' type='checkbox' disabled><label for='attrs-c3b9d0eb-3ede-4f94-8cdb-563be530ed40' title='Show/Hide attributes'><svg class='icon xr-icon-file-text2'><use xlink:href='#icon-file-text2'></use></svg></label><input id='data-b438817f-6474-4ffc-8aa1-b18e7be481a2' class='xr-var-data-in' type='checkbox'><label for='data-b438817f-6474-4ffc-8aa1-b18e7be481a2' title='Show/Hide data repr'><svg class='icon xr-icon-database'><use xlink:href='#icon-database'></use></svg></label><div class='xr-var-attrs'><dl class='xr-attrs'></dl></div><div class='xr-var-data'><pre>array([[-0.17126614, -0.12578056, -0.05645601, ..., -0.12070953,\n",
       "        -0.11838066, -0.24533328],\n",
       "       [-0.26227686, -0.19651819, -0.0965654 , ..., -0.02817793,\n",
       "        -0.05355132, -0.2069346 ],\n",
       "       [-0.28332887, -0.23375509, -0.14655363, ...,  0.01966114,\n",
       "        -0.02814825, -0.20643149],\n",
       "       ...,\n",
       "       [-0.09064162, -0.10449196, -0.06752893, ...,  0.01692361,\n",
       "         0.00150322, -0.12060075],\n",
       "       [-0.08816824, -0.10275426, -0.06627138, ...,  0.01709935,\n",
       "         0.00209778, -0.11889459],\n",
       "       [-0.08575074, -0.10103003, -0.06499526, ...,  0.01726878,\n",
       "         0.00272806, -0.11713612]])</pre></div></li><li class='xr-var-item'><div class='xr-var-name'><span>error_training_jb</span></div><div class='xr-var-dims'>(epoch)</div><div class='xr-var-dtype'>float64</div><div class='xr-var-preview xr-preview'>134.9 62.94 3.098 ... 314.0 329.4</div><input id='attrs-2e408d25-65c1-486a-9f9d-1f96e630870f' class='xr-var-attrs-in' type='checkbox' disabled><label for='attrs-2e408d25-65c1-486a-9f9d-1f96e630870f' title='Show/Hide attributes'><svg class='icon xr-icon-file-text2'><use xlink:href='#icon-file-text2'></use></svg></label><input id='data-447da7e5-ae94-49d7-a2af-ea2f28bb1b54' class='xr-var-data-in' type='checkbox'><label for='data-447da7e5-ae94-49d7-a2af-ea2f28bb1b54' title='Show/Hide data repr'><svg class='icon xr-icon-database'><use xlink:href='#icon-database'></use></svg></label><div class='xr-var-attrs'><dl class='xr-attrs'></dl></div><div class='xr-var-data'><pre>array([134.87008995,  62.93589207,   3.09813731,  26.82684462,\n",
       "         7.82190341,  27.35529239,  56.52385778,  48.29252532,\n",
       "        82.05501578,  72.16827819,  89.65865742,  89.09594289,\n",
       "        99.39157782, 105.1465534 , 114.75971203, 123.93792242,\n",
       "       134.79750087, 146.27457842, 158.79299093, 172.10532966,\n",
       "       186.21775379, 201.03500646, 216.46381196, 232.39429276,\n",
       "       248.6855415 , 265.17567498, 281.68502681, 298.02001586,\n",
       "       313.99002048, 329.39947227])</pre></div></li><li class='xr-var-item'><div class='xr-var-name'><span>error_training_jbp</span></div><div class='xr-var-dims'>(epoch)</div><div class='xr-var-dtype'>float64</div><div class='xr-var-preview xr-preview'>5.168e-30 2.156e-14 ... 2.964e-72</div><input id='attrs-733c2864-95e7-4872-8db5-5dd8080f79d4' class='xr-var-attrs-in' type='checkbox' disabled><label for='attrs-733c2864-95e7-4872-8db5-5dd8080f79d4' title='Show/Hide attributes'><svg class='icon xr-icon-file-text2'><use xlink:href='#icon-file-text2'></use></svg></label><input id='data-407d4a92-4d87-4b82-ac69-616d6c145680' class='xr-var-data-in' type='checkbox'><label for='data-407d4a92-4d87-4b82-ac69-616d6c145680' title='Show/Hide data repr'><svg class='icon xr-icon-database'><use xlink:href='#icon-database'></use></svg></label><div class='xr-var-attrs'><dl class='xr-attrs'></dl></div><div class='xr-var-data'><pre>array([5.16811395e-30, 2.15597976e-14, 2.12445742e-01, 1.49494325e-06,\n",
       "       2.00214375e-02, 1.14781985e-06, 5.32108548e-13, 3.26145484e-11,\n",
       "       1.52047652e-18, 2.13234517e-16, 3.39523559e-20, 4.49843885e-20,\n",
       "       2.61452682e-22, 1.47135013e-23, 1.20294331e-25, 1.22242464e-27,\n",
       "       5.35913378e-30, 1.72535662e-32, 3.30019907e-35, 4.24426519e-38,\n",
       "       3.65871472e-41, 2.21719052e-44, 9.89647350e-48, 3.43732435e-51,\n",
       "       9.96829309e-55, 2.61718132e-58, 6.80571270e-62, 1.93097125e-65,\n",
       "       6.57556942e-69, 2.96355796e-72])</pre></div></li><li class='xr-var-item'><div class='xr-var-name'><span>error_training_skew</span></div><div class='xr-var-dims'>(epoch)</div><div class='xr-var-dtype'>float64</div><div class='xr-var-preview xr-preview'>0.08726 0.1522 ... -0.0368 -0.03242</div><input id='attrs-ec4f08cc-67f7-419d-bec3-39b492567472' class='xr-var-attrs-in' type='checkbox' disabled><label for='attrs-ec4f08cc-67f7-419d-bec3-39b492567472' title='Show/Hide attributes'><svg class='icon xr-icon-file-text2'><use xlink:href='#icon-file-text2'></use></svg></label><input id='data-4e973e9d-c44c-401f-859c-a8f389c3ed19' class='xr-var-data-in' type='checkbox'><label for='data-4e973e9d-c44c-401f-859c-a8f389c3ed19' title='Show/Hide data repr'><svg class='icon xr-icon-database'><use xlink:href='#icon-database'></use></svg></label><div class='xr-var-attrs'><dl class='xr-attrs'></dl></div><div class='xr-var-data'><pre>array([ 0.08725699,  0.1522234 , -0.02685378, -0.112737  , -0.04431897,\n",
       "       -0.12504629, -0.17160076, -0.13040626, -0.19054899, -0.14479116,\n",
       "       -0.16645551, -0.14137658, -0.14543588, -0.13090138, -0.12747546,\n",
       "       -0.11775052, -0.11190414, -0.10402607, -0.09748274, -0.09035502,\n",
       "       -0.08374551, -0.07704777, -0.07062368, -0.06429825, -0.05821279,\n",
       "       -0.05235249, -0.04680495, -0.04160495, -0.03680374, -0.03241817])</pre></div></li><li class='xr-var-item'><div class='xr-var-name'><span>error_training_kurt</span></div><div class='xr-var-dims'>(epoch)</div><div class='xr-var-dtype'>float64</div><div class='xr-var-preview xr-preview'>2.458 2.758 2.933 ... 2.135 2.113</div><input id='attrs-05a82164-8746-4533-8afc-4b3d4501b101' class='xr-var-attrs-in' type='checkbox' disabled><label for='attrs-05a82164-8746-4533-8afc-4b3d4501b101' title='Show/Hide attributes'><svg class='icon xr-icon-file-text2'><use xlink:href='#icon-file-text2'></use></svg></label><input id='data-9450521f-ebac-4b00-83ad-6813ec03b4a7' class='xr-var-data-in' type='checkbox'><label for='data-9450521f-ebac-4b00-83ad-6813ec03b4a7' title='Show/Hide data repr'><svg class='icon xr-icon-database'><use xlink:href='#icon-database'></use></svg></label><div class='xr-var-attrs'><dl class='xr-attrs'></dl></div><div class='xr-var-data'><pre>array([2.45848999, 2.7584254 , 2.93253869, 3.11638687, 2.89552088,\n",
       "       2.94426485, 2.86632138, 2.78118754, 2.77263166, 2.70109207,\n",
       "       2.67696589, 2.63410259, 2.60765652, 2.5712681 , 2.54128077,\n",
       "       2.50807493, 2.47710053, 2.44522681, 2.41425975, 2.38323694,\n",
       "       2.35279882, 2.32269757, 2.29320276, 2.26433075, 2.2362655 ,\n",
       "       2.20914066, 2.18312715, 2.15838004, 2.13503874, 2.11323341])</pre></div></li><li class='xr-var-item'><div class='xr-var-name'><span>error_validation_jb</span></div><div class='xr-var-dims'>(epoch)</div><div class='xr-var-dtype'>float64</div><div class='xr-var-preview xr-preview'>134.9 62.94 3.098 ... 314.0 329.4</div><input id='attrs-59a2d522-285f-40ba-adc9-4472583045ae' class='xr-var-attrs-in' type='checkbox' disabled><label for='attrs-59a2d522-285f-40ba-adc9-4472583045ae' title='Show/Hide attributes'><svg class='icon xr-icon-file-text2'><use xlink:href='#icon-file-text2'></use></svg></label><input id='data-41a3f517-0213-4cf1-9c86-bf55101b13dd' class='xr-var-data-in' type='checkbox'><label for='data-41a3f517-0213-4cf1-9c86-bf55101b13dd' title='Show/Hide data repr'><svg class='icon xr-icon-database'><use xlink:href='#icon-database'></use></svg></label><div class='xr-var-attrs'><dl class='xr-attrs'></dl></div><div class='xr-var-data'><pre>array([134.87008995,  62.93589207,   3.09813731,  26.82684462,\n",
       "         7.82190341,  27.35529239,  56.52385778,  48.29252532,\n",
       "        82.05501578,  72.16827819,  89.65865742,  89.09594289,\n",
       "        99.39157782, 105.1465534 , 114.75971203, 123.93792242,\n",
       "       134.79750087, 146.27457842, 158.79299093, 172.10532966,\n",
       "       186.21775379, 201.03500646, 216.46381196, 232.39429276,\n",
       "       248.6855415 , 265.17567498, 281.68502681, 298.02001586,\n",
       "       313.99002048, 329.39947227])</pre></div></li><li class='xr-var-item'><div class='xr-var-name'><span>error_validation_jbp</span></div><div class='xr-var-dims'>(epoch)</div><div class='xr-var-dtype'>float64</div><div class='xr-var-preview xr-preview'>5.168e-30 2.156e-14 ... 2.964e-72</div><input id='attrs-f402cbfc-6dc7-4b10-82bc-813925b1ab95' class='xr-var-attrs-in' type='checkbox' disabled><label for='attrs-f402cbfc-6dc7-4b10-82bc-813925b1ab95' title='Show/Hide attributes'><svg class='icon xr-icon-file-text2'><use xlink:href='#icon-file-text2'></use></svg></label><input id='data-74be3595-865e-4ad1-9cd1-b80e7c91afe5' class='xr-var-data-in' type='checkbox'><label for='data-74be3595-865e-4ad1-9cd1-b80e7c91afe5' title='Show/Hide data repr'><svg class='icon xr-icon-database'><use xlink:href='#icon-database'></use></svg></label><div class='xr-var-attrs'><dl class='xr-attrs'></dl></div><div class='xr-var-data'><pre>array([5.16811395e-30, 2.15597976e-14, 2.12445742e-01, 1.49494325e-06,\n",
       "       2.00214375e-02, 1.14781985e-06, 5.32108548e-13, 3.26145484e-11,\n",
       "       1.52047652e-18, 2.13234517e-16, 3.39523559e-20, 4.49843885e-20,\n",
       "       2.61452682e-22, 1.47135013e-23, 1.20294331e-25, 1.22242464e-27,\n",
       "       5.35913378e-30, 1.72535662e-32, 3.30019907e-35, 4.24426519e-38,\n",
       "       3.65871472e-41, 2.21719052e-44, 9.89647350e-48, 3.43732435e-51,\n",
       "       9.96829309e-55, 2.61718132e-58, 6.80571270e-62, 1.93097125e-65,\n",
       "       6.57556942e-69, 2.96355796e-72])</pre></div></li><li class='xr-var-item'><div class='xr-var-name'><span>error_validation_skew</span></div><div class='xr-var-dims'>(epoch)</div><div class='xr-var-dtype'>float64</div><div class='xr-var-preview xr-preview'>0.08726 0.1522 ... -0.0368 -0.03242</div><input id='attrs-ad65c449-7788-492a-988c-9dfb0b74ff23' class='xr-var-attrs-in' type='checkbox' disabled><label for='attrs-ad65c449-7788-492a-988c-9dfb0b74ff23' title='Show/Hide attributes'><svg class='icon xr-icon-file-text2'><use xlink:href='#icon-file-text2'></use></svg></label><input id='data-e40923a7-ff99-400c-be82-883db0e13024' class='xr-var-data-in' type='checkbox'><label for='data-e40923a7-ff99-400c-be82-883db0e13024' title='Show/Hide data repr'><svg class='icon xr-icon-database'><use xlink:href='#icon-database'></use></svg></label><div class='xr-var-attrs'><dl class='xr-attrs'></dl></div><div class='xr-var-data'><pre>array([ 0.08725699,  0.1522234 , -0.02685378, -0.112737  , -0.04431897,\n",
       "       -0.12504629, -0.17160076, -0.13040626, -0.19054899, -0.14479116,\n",
       "       -0.16645551, -0.14137658, -0.14543588, -0.13090138, -0.12747546,\n",
       "       -0.11775052, -0.11190414, -0.10402607, -0.09748274, -0.09035502,\n",
       "       -0.08374551, -0.07704777, -0.07062368, -0.06429825, -0.05821279,\n",
       "       -0.05235249, -0.04680495, -0.04160495, -0.03680374, -0.03241817])</pre></div></li><li class='xr-var-item'><div class='xr-var-name'><span>error_validation_kurt</span></div><div class='xr-var-dims'>(epoch)</div><div class='xr-var-dtype'>float64</div><div class='xr-var-preview xr-preview'>2.458 2.758 2.933 ... 2.135 2.113</div><input id='attrs-ca382cd6-2d4f-4e58-90d6-33df17f02b2d' class='xr-var-attrs-in' type='checkbox' disabled><label for='attrs-ca382cd6-2d4f-4e58-90d6-33df17f02b2d' title='Show/Hide attributes'><svg class='icon xr-icon-file-text2'><use xlink:href='#icon-file-text2'></use></svg></label><input id='data-208ee613-9bb8-496d-8609-83d2ca1cb733' class='xr-var-data-in' type='checkbox'><label for='data-208ee613-9bb8-496d-8609-83d2ca1cb733' title='Show/Hide data repr'><svg class='icon xr-icon-database'><use xlink:href='#icon-database'></use></svg></label><div class='xr-var-attrs'><dl class='xr-attrs'></dl></div><div class='xr-var-data'><pre>array([2.45848999, 2.7584254 , 2.93253869, 3.11638687, 2.89552088,\n",
       "       2.94426485, 2.86632138, 2.78118754, 2.77263166, 2.70109207,\n",
       "       2.67696589, 2.63410259, 2.60765652, 2.5712681 , 2.54128077,\n",
       "       2.50807493, 2.47710053, 2.44522681, 2.41425975, 2.38323694,\n",
       "       2.35279882, 2.32269757, 2.29320276, 2.26433075, 2.2362655 ,\n",
       "       2.20914066, 2.18312715, 2.15838004, 2.13503874, 2.11323341])</pre></div></li><li class='xr-var-item'><div class='xr-var-name'><span>weights_a</span></div><div class='xr-var-dims'>(epoch, k)</div><div class='xr-var-dtype'>float64</div><div class='xr-var-preview xr-preview'>-1.11 -0.7268 ... -0.1899 -1.705</div><input id='attrs-cf40561a-a611-4bcf-9f04-ac3b1d21b39c' class='xr-var-attrs-in' type='checkbox' disabled><label for='attrs-cf40561a-a611-4bcf-9f04-ac3b1d21b39c' title='Show/Hide attributes'><svg class='icon xr-icon-file-text2'><use xlink:href='#icon-file-text2'></use></svg></label><input id='data-ba83bb89-5aec-4109-aaf5-039cd3bc3445' class='xr-var-data-in' type='checkbox'><label for='data-ba83bb89-5aec-4109-aaf5-039cd3bc3445' title='Show/Hide data repr'><svg class='icon xr-icon-database'><use xlink:href='#icon-database'></use></svg></label><div class='xr-var-attrs'><dl class='xr-attrs'></dl></div><div class='xr-var-data'><pre>array([[-1.10970831, -0.72681879, -1.85829041, ..., -2.32673384,\n",
       "        -0.18987856, -1.70450697],\n",
       "       [-1.10970831, -0.72681879, -1.85829041, ..., -2.32673384,\n",
       "        -0.18987856, -1.70450697],\n",
       "       [-1.10970831, -0.72681879, -1.85829041, ..., -2.32673384,\n",
       "        -0.18987856, -1.70450697],\n",
       "       ...,\n",
       "       [-1.10970831, -0.72681879, -1.85829041, ..., -2.32673384,\n",
       "        -0.18987856, -1.70450697],\n",
       "       [-1.10970831, -0.72681879, -1.85829041, ..., -2.32673384,\n",
       "        -0.18987856, -1.70450697],\n",
       "       [-1.10970831, -0.72681879, -1.85829041, ..., -2.32673384,\n",
       "        -0.18987856, -1.70450697]])</pre></div></li><li class='xr-var-item'><div class='xr-var-name'><span>weights_c</span></div><div class='xr-var-dims'>(epoch, l, m)</div><div class='xr-var-dtype'>float64</div><div class='xr-var-preview xr-preview'>-1.219 -3.315 -1.562 ... 1.237 5.19</div><input id='attrs-ad088176-fcd1-42fb-bb40-380fba5ea2b8' class='xr-var-attrs-in' type='checkbox' disabled><label for='attrs-ad088176-fcd1-42fb-bb40-380fba5ea2b8' title='Show/Hide attributes'><svg class='icon xr-icon-file-text2'><use xlink:href='#icon-file-text2'></use></svg></label><input id='data-94f0f5f4-922e-410f-876e-365fcf7d40ca' class='xr-var-data-in' type='checkbox'><label for='data-94f0f5f4-922e-410f-876e-365fcf7d40ca' title='Show/Hide data repr'><svg class='icon xr-icon-database'><use xlink:href='#icon-database'></use></svg></label><div class='xr-var-attrs'><dl class='xr-attrs'></dl></div><div class='xr-var-data'><pre>array([[[-1.21893355, -3.31481027],\n",
       "        [-1.56204487, -1.14278646],\n",
       "        [-1.32991348, -0.61246904],\n",
       "        ...,\n",
       "        [ 1.43275924,  2.34289002],\n",
       "        [ 1.43377498,  3.59826567],\n",
       "        [ 1.23727007,  5.189597  ]],\n",
       "\n",
       "       [[-1.21893355, -3.31481027],\n",
       "        [-1.56204487, -1.14278646],\n",
       "        [-1.32991348, -0.61246904],\n",
       "        ...,\n",
       "        [ 1.43275924,  2.34289002],\n",
       "        [ 1.43377498,  3.59826567],\n",
       "        [ 1.23727007,  5.189597  ]],\n",
       "\n",
       "       [[-1.21893355, -3.31481027],\n",
       "        [-1.56204487, -1.14278646],\n",
       "        [-1.32991348, -0.61246904],\n",
       "        ...,\n",
       "...\n",
       "        ...,\n",
       "        [ 1.43275924,  2.34289002],\n",
       "        [ 1.43377498,  3.59826567],\n",
       "        [ 1.23727007,  5.189597  ]],\n",
       "\n",
       "       [[-1.21893355, -3.31481027],\n",
       "        [-1.56204487, -1.14278646],\n",
       "        [-1.32991348, -0.61246904],\n",
       "        ...,\n",
       "        [ 1.43275924,  2.34289002],\n",
       "        [ 1.43377498,  3.59826567],\n",
       "        [ 1.23727007,  5.189597  ]],\n",
       "\n",
       "       [[-1.21893355, -3.31481027],\n",
       "        [-1.56204487, -1.14278646],\n",
       "        [-1.32991348, -0.61246904],\n",
       "        ...,\n",
       "        [ 1.43275924,  2.34289002],\n",
       "        [ 1.43377498,  3.59826567],\n",
       "        [ 1.23727007,  5.189597  ]]])</pre></div></li><li class='xr-var-item'><div class='xr-var-name'><span>weights_w</span></div><div class='xr-var-dims'>(epoch, n, o)</div><div class='xr-var-dtype'>float64</div><div class='xr-var-preview xr-preview'>1.545 1.705 1.577 ... 1.394 1.209</div><input id='attrs-60a14287-b106-47f5-b511-8ae2697f7495' class='xr-var-attrs-in' type='checkbox' disabled><label for='attrs-60a14287-b106-47f5-b511-8ae2697f7495' title='Show/Hide attributes'><svg class='icon xr-icon-file-text2'><use xlink:href='#icon-file-text2'></use></svg></label><input id='data-97d4717a-7a3b-4016-a310-ef2eaef0654b' class='xr-var-data-in' type='checkbox'><label for='data-97d4717a-7a3b-4016-a310-ef2eaef0654b' title='Show/Hide data repr'><svg class='icon xr-icon-database'><use xlink:href='#icon-database'></use></svg></label><div class='xr-var-attrs'><dl class='xr-attrs'></dl></div><div class='xr-var-data'><pre>array([[[1.54508864, 1.70522055],\n",
       "        [1.57673578, 1.29732962],\n",
       "        [1.07562621, 0.85610203],\n",
       "        ...,\n",
       "        [1.20610646, 0.90487087],\n",
       "        [1.79930672, 1.50669158],\n",
       "        [1.39426528, 1.20850406]],\n",
       "\n",
       "       [[1.54508864, 1.70522055],\n",
       "        [1.57673578, 1.29732962],\n",
       "        [1.07562621, 0.85610203],\n",
       "        ...,\n",
       "        [1.20610646, 0.90487087],\n",
       "        [1.79930672, 1.50669158],\n",
       "        [1.39426528, 1.20850406]],\n",
       "\n",
       "       [[1.54508864, 1.70522055],\n",
       "        [1.57673578, 1.29732962],\n",
       "        [1.07562621, 0.85610203],\n",
       "        ...,\n",
       "...\n",
       "        ...,\n",
       "        [1.20610646, 0.90487087],\n",
       "        [1.79930672, 1.50669158],\n",
       "        [1.39426528, 1.20850406]],\n",
       "\n",
       "       [[1.54508864, 1.70522055],\n",
       "        [1.57673578, 1.29732962],\n",
       "        [1.07562621, 0.85610203],\n",
       "        ...,\n",
       "        [1.20610646, 0.90487087],\n",
       "        [1.79930672, 1.50669158],\n",
       "        [1.39426528, 1.20850406]],\n",
       "\n",
       "       [[1.54508864, 1.70522055],\n",
       "        [1.57673578, 1.29732962],\n",
       "        [1.07562621, 0.85610203],\n",
       "        ...,\n",
       "        [1.20610646, 0.90487087],\n",
       "        [1.79930672, 1.50669158],\n",
       "        [1.39426528, 1.20850406]]])</pre></div></li></ul></div></li><li class='xr-section-item'><input id='section-992c8fb4-530e-4028-b906-d9e31d52075e' class='xr-section-summary-in' type='checkbox' disabled ><label for='section-992c8fb4-530e-4028-b906-d9e31d52075e' class='xr-section-summary'  title='Expand/collapse section'>Attributes: <span>(0)</span></label><div class='xr-section-inline-details'></div><div class='xr-section-details'><dl class='xr-attrs'></dl></div></li></ul></div></div>"
      ],
      "text/plain": [
       "<xarray.Dataset>\n",
       "Dimensions:                (epoch: 30, i: 10000, j: 10000, k: 35, l: 35, m: 2, n: 35, o: 2)\n",
       "Coordinates:\n",
       "  * epoch                  (epoch) int64 1 2 3 4 5 6 7 ... 24 25 26 27 28 29 30\n",
       "Dimensions without coordinates: i, j, k, l, m, n, o\n",
       "Data variables: (12/14)\n",
       "    gradient               (epoch) float64 3.973e+04 4.497e+04 ... 5.359e+04\n",
       "    error_training_data    (epoch, i) float64 -0.1713 -0.1258 ... -0.1171\n",
       "    error_validation_data  (epoch, j) float64 -0.1713 -0.1258 ... -0.1171\n",
       "    error_training_jb      (epoch) float64 134.9 62.94 3.098 ... 314.0 329.4\n",
       "    error_training_jbp     (epoch) float64 5.168e-30 2.156e-14 ... 2.964e-72\n",
       "    error_training_skew    (epoch) float64 0.08726 0.1522 ... -0.0368 -0.03242\n",
       "    ...                     ...\n",
       "    error_validation_jbp   (epoch) float64 5.168e-30 2.156e-14 ... 2.964e-72\n",
       "    error_validation_skew  (epoch) float64 0.08726 0.1522 ... -0.0368 -0.03242\n",
       "    error_validation_kurt  (epoch) float64 2.458 2.758 2.933 ... 2.135 2.113\n",
       "    weights_a              (epoch, k) float64 -1.11 -0.7268 ... -0.1899 -1.705\n",
       "    weights_c              (epoch, l, m) float64 -1.219 -3.315 ... 1.237 5.19\n",
       "    weights_w              (epoch, n, o) float64 1.545 1.705 ... 1.394 1.209"
      ]
     },
     "execution_count": 43,
     "metadata": {},
     "output_type": "execute_result"
    }
   ],
   "source": [
    "model.training_log"
   ]
  },
  {
   "cell_type": "code",
   "execution_count": 44,
   "id": "22009def-ca9b-4bb8-9eae-8f89014bf6bf",
   "metadata": {},
   "outputs": [
    {
     "data": {
      "application/vnd.jupyter.widget-view+json": {
       "model_id": "8f39a710eec74f9c841a67622db5dac2",
       "version_major": 2,
       "version_minor": 0
      },
      "text/plain": [
       "Canvas(toolbar=Toolbar(toolitems=[('Home', 'Reset original view', 'home', 'home'), ('Back', 'Back to previous …"
      ]
     },
     "metadata": {},
     "output_type": "display_data"
    },
    {
     "data": {
      "application/vnd.jupyter.widget-view+json": {
       "model_id": "eff6880214b9461f83e4bd4c3c687f64",
       "version_major": 2,
       "version_minor": 0
      },
      "text/plain": [
       "Canvas(toolbar=Toolbar(toolitems=[('Home', 'Reset original view', 'home', 'home'), ('Back', 'Back to previous …"
      ]
     },
     "metadata": {},
     "output_type": "display_data"
    },
    {
     "data": {
      "application/vnd.jupyter.widget-view+json": {
       "model_id": "027ae6bee6844e7dbcaabe705c73e26a",
       "version_major": 2,
       "version_minor": 0
      },
      "text/plain": [
       "Canvas(toolbar=Toolbar(toolitems=[('Home', 'Reset original view', 'home', 'home'), ('Back', 'Back to previous …"
      ]
     },
     "metadata": {},
     "output_type": "display_data"
    },
    {
     "data": {
      "text/plain": [
       "[<matplotlib.lines.Line2D at 0x7f4078570fa0>]"
      ]
     },
     "execution_count": 44,
     "metadata": {},
     "output_type": "execute_result"
    }
   ],
   "source": [
    "fig = plt.figure(figsize=(4, 3))\n",
    "plt.plot(model.weights_c[:, 0], model.weights_c[:, 1], \"x\")\n",
    "\n",
    "fig = plt.figure(figsize=(4, 3))\n",
    "ax = fig.add_subplot(projection='3d')\n",
    "output = model.evaluate(inputs)\n",
    "ax.scatter(inputs[:, 0, 0], inputs[:, 1, 0], reference_outputs.squeeze(), s=0.1)\n",
    "ax.scatter(inputs[:, 0, 0], inputs[:, 1, 0], output.squeeze(), s=0.1)\n",
    "\n",
    "fig, axs = plt.subplots(3, 1, figsize=(8, 6))\n",
    "model.training_log.error_training_data.mean(\"i\").plot(ax=axs[0])\n",
    "axs[0].set_yscale(\"log\")\n",
    "model.training_log.error_training_jb.plot(ax=axs[1])\n",
    "model.training_log.error_training_jbp.plot(ax=axs[2])"
   ]
  },
  {
   "cell_type": "markdown",
   "id": "6c2008bc-9690-4e1b-adfb-dc341f7b7868",
   "metadata": {},
   "source": [
    "## Initialize the RBF network by placing the centers randomly"
   ]
  },
  {
   "cell_type": "code",
   "execution_count": 45,
   "id": "8a1efe01-a326-49b7-acd7-e2db6cf6bd49",
   "metadata": {},
   "outputs": [
    {
     "data": {
      "text/html": [
       "<div Class=\"cw_vdom_hyr cw_vdom_hyr_item\"><style>.cw_vdom_hyr {\n",
       "    font-family: monospace;\n",
       "}\n",
       "\n",
       ".cw_vdom_hyr_item > input {\n",
       "    display: none;\n",
       "}\n",
       "\n",
       ".cw_vdom_hyr_item > label {\n",
       "    color: var(--jp-accent-color1);\n",
       "    font-weight: bold;\n",
       "}\n",
       "\n",
       ".cw_vdom_hyr_item > label::before {\n",
       "    content: \"\\00a0\";\n",
       "}\n",
       "\n",
       ".cw_vdom_hyr_item > label::after {\n",
       "    content: \": \";\n",
       "}\n",
       "\n",
       ".cw_vdom_hyr_item > div {\n",
       "    display: inline-block;\n",
       "}\n",
       "\n",
       ".cw_vdom_hyr_item > input + label {\n",
       "    cursor: pointer;\n",
       "}\n",
       "\n",
       ".cw_vdom_hyr_item > input + label::before {\n",
       "    content: \"+\";\n",
       "}\n",
       "\n",
       ".cw_vdom_hyr_item > input:checked + label::before {\n",
       "    content: \"-\";\n",
       "}\n",
       "\n",
       ".cw_vdom_hyr_item > input ~ div {\n",
       "    display: none;\n",
       "    padding-left: 20px;\n",
       "}\n",
       "\n",
       ".cw_vdom_hyr_item > input:checked ~ div {\n",
       "    display: block;\n",
       "}\n",
       "\n",
       ".cw_vdom_hyr_type {\n",
       "    color: var(--jp-ui-font-color3);\n",
       "    font-size: var(--jp-ui-font-size0);\n",
       "}\n",
       "</style><input type=\"checkbox\" id=\"F36VHWK24P\" ></input><label For=\"F36VHWK24P\">Radial Basis Function Neural Network</label><span Class=\"cw_vdom_hyr_type\">system_identification.rbfnn_model.RadialBasisFunctionNeuralNetworkModel:</span><div><div><div Class=\"cw_vdom_hyr_item\"><label For=\"BDH5F5YQCX\">description</label><span Class=\"cw_vdom_hyr_type\">str[55]:</span><div><span>Feedforward neural network with random initial weights.</span></div></div><div Class=\"cw_vdom_hyr_item\"><label For=\"0S5KZL0OB6\">n_inputs</label><span Class=\"cw_vdom_hyr_type\">int:</span><div><span>2</span></div></div><div Class=\"cw_vdom_hyr_item\"><label For=\"GR6TEBE540\">n_hidden</label><span Class=\"cw_vdom_hyr_type\">int:</span><div><span>4</span></div></div><div Class=\"cw_vdom_hyr_item\"><label For=\"YWO7E69E8L\">n_output</label><span Class=\"cw_vdom_hyr_type\">int:</span><div><span>1</span></div></div><div Class=\"cw_vdom_hyr_item\"><input type=\"checkbox\" id=\"S87LG00GED\" ></input><label For=\"S87LG00GED\">training_parameters</label><span Class=\"cw_vdom_hyr_type\">dict[3]:</span><div><div><div Class=\"cw_vdom_hyr_item\"><label For=\"G2GPIAWEHN\">training_algorithm</label><span Class=\"cw_vdom_hyr_type\">NoneType:</span><div><span>None</span></div></div><div Class=\"cw_vdom_hyr_item\"><label For=\"39XU1T2330\">goal</label><span Class=\"cw_vdom_hyr_type\">NoneType:</span><div><span>None</span></div></div><div Class=\"cw_vdom_hyr_item\"><label For=\"JOP6HTPCOF\">min_grad</label><span Class=\"cw_vdom_hyr_type\">NoneType:</span><div><span>None</span></div></div></div></div></div><div Class=\"cw_vdom_hyr_item\"><input type=\"checkbox\" id=\"L2Z8GK2XO6\" ></input><label For=\"L2Z8GK2XO6\">weights</label><span Class=\"cw_vdom_hyr_type\">dict[3]:</span><div><div><div Class=\"cw_vdom_hyr_item\"><label For=\"ZD3BQUCUML\">weights_a</label><span Class=\"cw_vdom_hyr_type\">numpy.ndarray[4]:</span><div>[1. 1. 1. 1.]</div></div><div Class=\"cw_vdom_hyr_item\"><input type=\"checkbox\" id=\"JTLLA30UJ2\" ></input><label For=\"JTLLA30UJ2\">weights_c</label><span Class=\"cw_vdom_hyr_type\">numpy.ndarray[4, 2]:</span><div><div>[[-0.20634217  1.53993576]<br/> [ 0.33126387  1.69947982]<br/> [-0.58168783  0.44950857]<br/> [-0.51877002  4.21402855]]</div></div></div><div Class=\"cw_vdom_hyr_item\"><input type=\"checkbox\" id=\"OF7TJM0YG8\" ></input><label For=\"OF7TJM0YG8\">weights_w</label><span Class=\"cw_vdom_hyr_type\">numpy.ndarray[4, 2]:</span><div><div>[[1.75 1.75]<br/> [1.75 1.75]<br/> [1.75 1.75]<br/> [1.75 1.75]]</div></div></div></div></div></div></div></div></div>"
      ],
      "text/plain": [
       "<RadialBasisFunctionNeuralNetwork\n",
       " n_inputs=2\n",
       " n_hidden=4\n",
       " n_outputs=1>"
      ]
     },
     "execution_count": 45,
     "metadata": {},
     "output_type": "execute_result"
    }
   ],
   "source": [
    "RadialBasisFunctionNeuralNetworkModel.new_random_placement(\n",
    "    n_inputs=2,\n",
    "    n_hidden=4,\n",
    "    input_range=input_range,\n",
    "    rbf_width=1.75,\n",
    "    rbf_amplitude=1,\n",
    ")"
   ]
  },
  {
   "cell_type": "code",
   "execution_count": null,
   "id": "a3a13463-f64a-47f4-a8d0-73fe34e8a6c6",
   "metadata": {},
   "outputs": [],
   "source": []
  }
 ],
 "metadata": {
  "kernelspec": {
   "display_name": "Python 3 (ipykernel)",
   "language": "python",
   "name": "python3"
  },
  "language_info": {
   "codemirror_mode": {
    "name": "ipython",
    "version": 3
   },
   "file_extension": ".py",
   "mimetype": "text/x-python",
   "name": "python",
   "nbconvert_exporter": "python",
   "pygments_lexer": "ipython3",
   "version": "3.9.6"
  }
 },
 "nbformat": 4,
 "nbformat_minor": 5
}
