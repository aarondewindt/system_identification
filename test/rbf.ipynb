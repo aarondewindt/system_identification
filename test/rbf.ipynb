{
 "cells": [
  {
   "cell_type": "markdown",
   "id": "exempt-dealer",
   "metadata": {},
   "source": [
    "# Radial Basis Function Neural Network"
   ]
  },
  {
   "cell_type": "code",
   "execution_count": 1,
   "id": "sexual-verse",
   "metadata": {},
   "outputs": [],
   "source": [
    "%load_ext autoreload\n",
    "%autoreload 2\n",
    "%matplotlib widget"
   ]
  },
  {
   "cell_type": "code",
   "execution_count": 2,
   "id": "above-vinyl",
   "metadata": {},
   "outputs": [],
   "source": [
    "from itertools import product\n",
    "\n",
    "import numpy as np\n",
    "import xarray as xr\n",
    "import xarray.ufuncs as xf\n",
    "import matplotlib.pyplot as plt\n",
    "\n",
    "from system_identification.rbfnn_model import RadialBasisFunctionNeuralNetworkModel"
   ]
  },
  {
   "cell_type": "markdown",
   "id": "c4a9f6fd-b243-4149-aa66-9ceed64a2c1d",
   "metadata": {},
   "source": [
    "## 1D"
   ]
  },
  {
   "cell_type": "code",
   "execution_count": 55,
   "id": "a9f74bb5-d52a-4d4c-8b7e-798356076ef6",
   "metadata": {},
   "outputs": [],
   "source": [
    "def foo(x):\n",
    "    return -x**2\n",
    "\n",
    "\n",
    "inputs = np.linspace(-1, 1, 1000)\n",
    "reference_outputs = np.array(list(map(foo, inputs)))\n",
    "reference_outputs_noisy = reference_outputs + np.random.normal(0, 0.1, size=reference_outputs.shape)\n",
    "\n",
    "inputs = inputs.reshape(-1, 1, 1)\n",
    "reference_outputs = reference_outputs.reshape(-1, 1, 1)\n",
    "reference_outputs_noisy = reference_outputs_noisy.reshape(-1, 1, 1)"
   ]
  },
  {
   "cell_type": "markdown",
   "id": "7cb269c2-a667-463e-aac4-3ce76d39210c",
   "metadata": {},
   "source": [
    "### Least squares"
   ]
  },
  {
   "cell_type": "code",
   "execution_count": 10,
   "id": "recognized-employer",
   "metadata": {},
   "outputs": [
    {
     "data": {
      "text/html": [
       "<div Class=\"cw_vdom_hyr cw_vdom_hyr_item\"><style>.cw_vdom_hyr {\n",
       "    font-family: monospace;\n",
       "}\n",
       "\n",
       ".cw_vdom_hyr_item > input {\n",
       "    display: none;\n",
       "}\n",
       "\n",
       ".cw_vdom_hyr_item > label {\n",
       "    color: var(--jp-accent-color1);\n",
       "    font-weight: bold;\n",
       "}\n",
       "\n",
       ".cw_vdom_hyr_item > label::before {\n",
       "    content: \"\\00a0\";\n",
       "}\n",
       "\n",
       ".cw_vdom_hyr_item > label::after {\n",
       "    content: \": \";\n",
       "}\n",
       "\n",
       ".cw_vdom_hyr_item > div {\n",
       "    display: inline-block;\n",
       "}\n",
       "\n",
       ".cw_vdom_hyr_item > input + label {\n",
       "    cursor: pointer;\n",
       "}\n",
       "\n",
       ".cw_vdom_hyr_item > input + label::before {\n",
       "    content: \"+\";\n",
       "}\n",
       "\n",
       ".cw_vdom_hyr_item > input:checked + label::before {\n",
       "    content: \"-\";\n",
       "}\n",
       "\n",
       ".cw_vdom_hyr_item > input ~ div {\n",
       "    display: none;\n",
       "    padding-left: 20px;\n",
       "}\n",
       "\n",
       ".cw_vdom_hyr_item > input:checked ~ div {\n",
       "    display: block;\n",
       "}\n",
       "\n",
       ".cw_vdom_hyr_type {\n",
       "    color: var(--jp-ui-font-color3);\n",
       "    font-size: var(--jp-ui-font-size0);\n",
       "}\n",
       "</style><input type=\"checkbox\" id=\"7S79OSPF2D\" ></input><label For=\"7S79OSPF2D\">Radial Basis Function Neural Network</label><span Class=\"cw_vdom_hyr_type\">system_identification.rbfnn_model.RadialBasisFunctionNeuralNetworkModel:</span><div><div><div Class=\"cw_vdom_hyr_item\"><label For=\"V3SRMI3RD1\">description</label><span Class=\"cw_vdom_hyr_type\">str[87]:</span><div><span>Radial basis function neural network with the initial centers placed in a uniform grid.</span></div></div><div Class=\"cw_vdom_hyr_item\"><label For=\"T1KHGXY9XH\">n_inputs</label><span Class=\"cw_vdom_hyr_type\">int:</span><div><span>1</span></div></div><div Class=\"cw_vdom_hyr_item\"><label For=\"BND6JBYFEM\">n_hidden</label><span Class=\"cw_vdom_hyr_type\">int:</span><div><span>9</span></div></div><div Class=\"cw_vdom_hyr_item\"><label For=\"O087GV2HFA\">n_output</label><span Class=\"cw_vdom_hyr_type\">int:</span><div><span>1</span></div></div><div Class=\"cw_vdom_hyr_item\"><input type=\"checkbox\" id=\"09GYSWBO01\" ></input><label For=\"09GYSWBO01\">training_parameters</label><span Class=\"cw_vdom_hyr_type\">dict[3]:</span><div><div><div Class=\"cw_vdom_hyr_item\"><label For=\"QZFATY4KZX\">training_algorithm</label><span Class=\"cw_vdom_hyr_type\">NoneType:</span><div><span>None</span></div></div><div Class=\"cw_vdom_hyr_item\"><label For=\"F5LJZVN220\">goal</label><span Class=\"cw_vdom_hyr_type\">NoneType:</span><div><span>None</span></div></div><div Class=\"cw_vdom_hyr_item\"><label For=\"F9NEKXVQZV\">min_grad</label><span Class=\"cw_vdom_hyr_type\">NoneType:</span><div><span>None</span></div></div></div></div></div><div Class=\"cw_vdom_hyr_item\"><input type=\"checkbox\" id=\"S0EIEDJ45Y\" ></input><label For=\"S0EIEDJ45Y\">weights</label><span Class=\"cw_vdom_hyr_type\">dict[3]:</span><div><div><div Class=\"cw_vdom_hyr_item\"><label For=\"T6JUDJKKOO\">weights_a</label><span Class=\"cw_vdom_hyr_type\">numpy.ndarray[9]:</span><div>[1. 1. 1. 1. 1. 1. 1. 1. 1.]</div></div><div Class=\"cw_vdom_hyr_item\"><input type=\"checkbox\" id=\"XJWL7U0OIK\" ></input><label For=\"XJWL7U0OIK\">weights_c</label><span Class=\"cw_vdom_hyr_type\">numpy.ndarray[9, 1]:</span><div><div>[[-1.  ]<br/> [-0.75]<br/> [-0.5 ]<br/> [-0.25]<br/> [ 0.  ]<br/> [ 0.25]<br/> [ 0.5 ]<br/> [ 0.75]<br/> [ 1.  ]]</div></div></div><div Class=\"cw_vdom_hyr_item\"><input type=\"checkbox\" id=\"7SZOYVOF08\" ></input><label For=\"7SZOYVOF08\">weights_w</label><span Class=\"cw_vdom_hyr_type\">numpy.ndarray[9, 1]:</span><div><div>[[1.75]<br/> [1.75]<br/> [1.75]<br/> [1.75]<br/> [1.75]<br/> [1.75]<br/> [1.75]<br/> [1.75]<br/> [1.75]]</div></div></div></div></div></div></div></div></div>"
      ],
      "text/plain": [
       "<RadialBasisFunctionNeuralNetwork\n",
       " n_inputs=1\n",
       " n_hidden=9\n",
       " n_outputs=1>"
      ]
     },
     "execution_count": 10,
     "metadata": {},
     "output_type": "execute_result"
    }
   ],
   "source": [
    "model = RadialBasisFunctionNeuralNetworkModel.new_grid_placement(\n",
    "    n_inputs=1,\n",
    "    grid_size=[9],\n",
    "    input_range=np.array([(-1, 1)]),\n",
    "    rbf_width=1.75,\n",
    "    rbf_amplitude=1,\n",
    ")\n",
    "model"
   ]
  },
  {
   "cell_type": "code",
   "execution_count": 11,
   "id": "cda46db8-fcff-4f89-bfb6-759dcfaea485",
   "metadata": {},
   "outputs": [],
   "source": [
    "model.train(inputs, reference_outputs_noisy)"
   ]
  },
  {
   "cell_type": "code",
   "execution_count": 12,
   "id": "428733c8-2449-4714-b2f9-18895249cb2c",
   "metadata": {},
   "outputs": [
    {
     "data": {
      "application/vnd.jupyter.widget-view+json": {
       "model_id": "e8bdad1e36154a77b1ba0175fc1efe05",
       "version_major": 2,
       "version_minor": 0
      },
      "text/plain": [
       "Canvas(toolbar=Toolbar(toolitems=[('Home', 'Reset original view', 'home', 'home'), ('Back', 'Back to previous …"
      ]
     },
     "metadata": {},
     "output_type": "display_data"
    },
    {
     "data": {
      "text/plain": [
       "[<matplotlib.lines.Line2D at 0x7f407a609bb0>]"
      ]
     },
     "execution_count": 12,
     "metadata": {},
     "output_type": "execute_result"
    }
   ],
   "source": [
    "fig = plt.figure()\n",
    "outputs = model.evaluate(inputs)\n",
    "plt.plot(inputs.squeeze(), reference_outputs.squeeze())\n",
    "plt.plot(inputs.squeeze(), reference_outputs_noisy.squeeze(), \".\", markersize=1)\n",
    "plt.plot(inputs.squeeze(), outputs.squeeze())"
   ]
  },
  {
   "cell_type": "markdown",
   "id": "c4cb2b62-09d6-4c3d-9207-b26dcf720bb0",
   "metadata": {},
   "source": [
    "### Levenberg-Marquardt training"
   ]
  },
  {
   "cell_type": "code",
   "execution_count": 68,
   "id": "12df9ce8-fa04-4123-a723-237b241fcddc",
   "metadata": {},
   "outputs": [],
   "source": [
    "model = RadialBasisFunctionNeuralNetworkModel.new_grid_placement(\n",
    "    n_inputs=1,\n",
    "    grid_size=[3],\n",
    "    input_range=np.array([(-1, 1)]),\n",
    "    rbf_width=3,\n",
    "    rbf_amplitude=1,\n",
    ")"
   ]
  },
  {
   "cell_type": "code",
   "execution_count": 69,
   "id": "92356a46-3cd4-4280-bf34-4d5037ac7ee2",
   "metadata": {},
   "outputs": [
    {
     "data": {
      "text/html": [
       "<div Class=\"cw_vdom_hyr cw_vdom_hyr_item\"><style>.cw_vdom_hyr {\n",
       "    font-family: monospace;\n",
       "}\n",
       "\n",
       ".cw_vdom_hyr_item > input {\n",
       "    display: none;\n",
       "}\n",
       "\n",
       ".cw_vdom_hyr_item > label {\n",
       "    color: var(--jp-accent-color1);\n",
       "    font-weight: bold;\n",
       "}\n",
       "\n",
       ".cw_vdom_hyr_item > label::before {\n",
       "    content: \"\\00a0\";\n",
       "}\n",
       "\n",
       ".cw_vdom_hyr_item > label::after {\n",
       "    content: \": \";\n",
       "}\n",
       "\n",
       ".cw_vdom_hyr_item > div {\n",
       "    display: inline-block;\n",
       "}\n",
       "\n",
       ".cw_vdom_hyr_item > input + label {\n",
       "    cursor: pointer;\n",
       "}\n",
       "\n",
       ".cw_vdom_hyr_item > input + label::before {\n",
       "    content: \"+\";\n",
       "}\n",
       "\n",
       ".cw_vdom_hyr_item > input:checked + label::before {\n",
       "    content: \"-\";\n",
       "}\n",
       "\n",
       ".cw_vdom_hyr_item > input ~ div {\n",
       "    display: none;\n",
       "    padding-left: 20px;\n",
       "}\n",
       "\n",
       ".cw_vdom_hyr_item > input:checked ~ div {\n",
       "    display: block;\n",
       "}\n",
       "\n",
       ".cw_vdom_hyr_type {\n",
       "    color: var(--jp-ui-font-color3);\n",
       "    font-size: var(--jp-ui-font-size0);\n",
       "}\n",
       "</style><input type=\"checkbox\" id=\"CUUVDNH0D9\" ></input><label For=\"CUUVDNH0D9\">Radial Basis Function Neural Network</label><span Class=\"cw_vdom_hyr_type\">system_identification.rbfnn_model.RadialBasisFunctionNeuralNetworkModel:</span><div><div><div Class=\"cw_vdom_hyr_item\"><label For=\"9UAPX5IQ6E\">description</label><span Class=\"cw_vdom_hyr_type\">str[87]:</span><div><span>Radial basis function neural network with the initial centers placed in a uniform grid.</span></div></div><div Class=\"cw_vdom_hyr_item\"><label For=\"ICCGRWZMN3\">n_inputs</label><span Class=\"cw_vdom_hyr_type\">int:</span><div><span>1</span></div></div><div Class=\"cw_vdom_hyr_item\"><label For=\"BPFQEGGDAS\">n_hidden</label><span Class=\"cw_vdom_hyr_type\">int:</span><div><span>3</span></div></div><div Class=\"cw_vdom_hyr_item\"><label For=\"B2SJ9QUSMH\">n_output</label><span Class=\"cw_vdom_hyr_type\">int:</span><div><span>1</span></div></div><div Class=\"cw_vdom_hyr_item\"><input type=\"checkbox\" id=\"CRHJQT1LFP\" ></input><label For=\"CRHJQT1LFP\">training_parameters</label><span Class=\"cw_vdom_hyr_type\">dict[3]:</span><div><div><div Class=\"cw_vdom_hyr_item\"><label For=\"5QT8A2K0CH\">training_algorithm</label><span Class=\"cw_vdom_hyr_type\">NoneType:</span><div><span>None</span></div></div><div Class=\"cw_vdom_hyr_item\"><label For=\"5P4XIA98B0\">goal</label><span Class=\"cw_vdom_hyr_type\">NoneType:</span><div><span>None</span></div></div><div Class=\"cw_vdom_hyr_item\"><label For=\"FX7G5312MV\">min_grad</label><span Class=\"cw_vdom_hyr_type\">NoneType:</span><div><span>None</span></div></div></div></div></div><div Class=\"cw_vdom_hyr_item\"><input type=\"checkbox\" id=\"XXIVGGUNKP\" ></input><label For=\"XXIVGGUNKP\">weights</label><span Class=\"cw_vdom_hyr_type\">dict[3]:</span><div><div><div Class=\"cw_vdom_hyr_item\"><label For=\"2XR7ZHTFY7\">weights_a</label><span Class=\"cw_vdom_hyr_type\">numpy.ndarray[3]:</span><div>[1. 1. 1.]</div></div><div Class=\"cw_vdom_hyr_item\"><input type=\"checkbox\" id=\"KCDUNG7775\" ></input><label For=\"KCDUNG7775\">weights_c</label><span Class=\"cw_vdom_hyr_type\">numpy.ndarray[3, 1]:</span><div><div>[[-1.]<br/> [ 0.]<br/> [ 1.]]</div></div></div><div Class=\"cw_vdom_hyr_item\"><input type=\"checkbox\" id=\"7AAC1C6ZKW\" ></input><label For=\"7AAC1C6ZKW\">weights_w</label><span Class=\"cw_vdom_hyr_type\">numpy.ndarray[3, 1]:</span><div><div>[[3.]<br/> [3.]<br/> [3.]]</div></div></div></div></div></div></div></div></div>"
      ],
      "text/plain": [
       "<RadialBasisFunctionNeuralNetwork\n",
       " n_inputs=1\n",
       " n_hidden=3\n",
       " n_outputs=1>"
      ]
     },
     "execution_count": 69,
     "metadata": {},
     "output_type": "execute_result"
    }
   ],
   "source": [
    "model"
   ]
  },
  {
   "cell_type": "code",
   "execution_count": 71,
   "id": "c29a1460-d13b-4029-b57a-3534c421f12e",
   "metadata": {},
   "outputs": [
    {
     "data": {
      "application/vnd.jupyter.widget-view+json": {
       "model_id": "2144a07963a44f8cb961f97ee936079d",
       "version_major": 2,
       "version_minor": 0
      },
      "text/plain": [
       "  0%|          | 0/1000 [00:00<?, ?it/s]"
      ]
     },
     "metadata": {},
     "output_type": "display_data"
    }
   ],
   "source": [
    "model.train(\n",
    "    inputs,\n",
    "    reference_outputs,\n",
    "    epochs=1000,\n",
    "    goal=1e-6,\n",
    "    train_log_freq=1,\n",
    "    method=\"trainlm\",\n",
    "    mu=10.,\n",
    "    alpha=0.95\n",
    ")"
   ]
  },
  {
   "cell_type": "code",
   "execution_count": null,
   "id": "e9f8dfa8-7540-4ffb-9eeb-56ead9f11faf",
   "metadata": {},
   "outputs": [],
   "source": []
  },
  {
   "cell_type": "code",
   "execution_count": 74,
   "id": "aa6ce3b4-084a-4038-9486-e5e5b2ca2551",
   "metadata": {},
   "outputs": [
    {
     "data": {
      "application/vnd.jupyter.widget-view+json": {
       "model_id": "ac7cc42894e84d0ea5ac85cd14ecb286",
       "version_major": 2,
       "version_minor": 0
      },
      "text/plain": [
       "Canvas(toolbar=Toolbar(toolitems=[('Home', 'Reset original view', 'home', 'home'), ('Back', 'Back to previous …"
      ]
     },
     "metadata": {},
     "output_type": "display_data"
    },
    {
     "data": {
      "application/vnd.jupyter.widget-view+json": {
       "model_id": "015b3acd774149a888d28e00ee5ed783",
       "version_major": 2,
       "version_minor": 0
      },
      "text/plain": [
       "Canvas(toolbar=Toolbar(toolitems=[('Home', 'Reset original view', 'home', 'home'), ('Back', 'Back to previous …"
      ]
     },
     "metadata": {},
     "output_type": "display_data"
    },
    {
     "data": {
      "text/plain": [
       "[<matplotlib.lines.Line2D at 0x7f407194abb0>]"
      ]
     },
     "execution_count": 74,
     "metadata": {},
     "output_type": "execute_result"
    }
   ],
   "source": [
    "fig = plt.figure()\n",
    "outputs = model.evaluate(inputs)\n",
    "plt.plot(inputs.squeeze(), reference_outputs.squeeze())\n",
    "plt.plot(inputs.squeeze(), reference_outputs_noisy.squeeze(), \".\", markersize=1)\n",
    "plt.plot(inputs.squeeze(), outputs.squeeze())\n",
    "\n",
    "fig, axs = plt.subplots(3, 1, figsize=(8, 6))\n",
    "abs(model.training_log.error_training_data).mean(\"i\").plot(ax=axs[0])\n",
    "axs[0].set_yscale(\"log\")\n",
    "model.training_log.error_training_jb.plot(ax=axs[1])\n",
    "model.training_log.error_training_jbp.plot(ax=axs[2])"
   ]
  },
  {
   "cell_type": "markdown",
   "id": "b3ddef2d-d450-4161-84a2-110d4069adf3",
   "metadata": {},
   "source": [
    "## 2D"
   ]
  },
  {
   "cell_type": "code",
   "execution_count": 75,
   "id": "c6361a36-d81d-4ad1-bb9c-3f42e966de1f",
   "metadata": {},
   "outputs": [],
   "source": [
    "def foo(x):\n",
    "    return -x[0]**2 + np.sin(x[1]*2)\n",
    "\n",
    "\n",
    "resolution = 100\n",
    "input_range = np.array([(-1, 1), (-3, 5)])\n",
    "inputs = np.array(tuple(product(np.linspace(*input_range[0, :], resolution),\n",
    "                                np.linspace(*input_range[1, :], resolution))))\n",
    "\n",
    "reference_outputs = np.array(list(map(foo, inputs)))\n",
    "reference_outputs_noisy = reference_outputs + (np.random.random(reference_outputs.shape) - 0.5) * 0.1\n",
    "\n",
    "inputs = inputs[..., None]\n",
    "reference_outputs = reference_outputs.reshape(-1, 1, 1)\n",
    "reference_outputs_noisy = reference_outputs_noisy.reshape(-1, 1, 1)"
   ]
  },
  {
   "cell_type": "markdown",
   "id": "cab6d2cb-63f4-4554-bb09-b8a973b829a4",
   "metadata": {
    "tags": []
   },
   "source": [
    "### Least squares"
   ]
  },
  {
   "cell_type": "code",
   "execution_count": 76,
   "id": "4d9d6d5c-3191-4ddc-99de-4d0f8240dbff",
   "metadata": {},
   "outputs": [
    {
     "data": {
      "text/html": [
       "<div Class=\"cw_vdom_hyr cw_vdom_hyr_item\"><style>.cw_vdom_hyr {\n",
       "    font-family: monospace;\n",
       "}\n",
       "\n",
       ".cw_vdom_hyr_item > input {\n",
       "    display: none;\n",
       "}\n",
       "\n",
       ".cw_vdom_hyr_item > label {\n",
       "    color: var(--jp-accent-color1);\n",
       "    font-weight: bold;\n",
       "}\n",
       "\n",
       ".cw_vdom_hyr_item > label::before {\n",
       "    content: \"\\00a0\";\n",
       "}\n",
       "\n",
       ".cw_vdom_hyr_item > label::after {\n",
       "    content: \": \";\n",
       "}\n",
       "\n",
       ".cw_vdom_hyr_item > div {\n",
       "    display: inline-block;\n",
       "}\n",
       "\n",
       ".cw_vdom_hyr_item > input + label {\n",
       "    cursor: pointer;\n",
       "}\n",
       "\n",
       ".cw_vdom_hyr_item > input + label::before {\n",
       "    content: \"+\";\n",
       "}\n",
       "\n",
       ".cw_vdom_hyr_item > input:checked + label::before {\n",
       "    content: \"-\";\n",
       "}\n",
       "\n",
       ".cw_vdom_hyr_item > input ~ div {\n",
       "    display: none;\n",
       "    padding-left: 20px;\n",
       "}\n",
       "\n",
       ".cw_vdom_hyr_item > input:checked ~ div {\n",
       "    display: block;\n",
       "}\n",
       "\n",
       ".cw_vdom_hyr_type {\n",
       "    color: var(--jp-ui-font-color3);\n",
       "    font-size: var(--jp-ui-font-size0);\n",
       "}\n",
       "</style><input type=\"checkbox\" id=\"6RK02H35T7\" ></input><label For=\"6RK02H35T7\">Radial Basis Function Neural Network</label><span Class=\"cw_vdom_hyr_type\">system_identification.rbfnn_model.RadialBasisFunctionNeuralNetworkModel:</span><div><div><div Class=\"cw_vdom_hyr_item\"><label For=\"RQS1OKSG0Z\">description</label><span Class=\"cw_vdom_hyr_type\">str[87]:</span><div><span>Radial basis function neural network with the initial centers placed in a uniform grid.</span></div></div><div Class=\"cw_vdom_hyr_item\"><label For=\"SZ9MZCFLR3\">n_inputs</label><span Class=\"cw_vdom_hyr_type\">int:</span><div><span>2</span></div></div><div Class=\"cw_vdom_hyr_item\"><label For=\"957Z6LB16Y\">n_hidden</label><span Class=\"cw_vdom_hyr_type\">int:</span><div><span>75</span></div></div><div Class=\"cw_vdom_hyr_item\"><label For=\"RGHZBDRUY1\">n_output</label><span Class=\"cw_vdom_hyr_type\">int:</span><div><span>1</span></div></div><div Class=\"cw_vdom_hyr_item\"><input type=\"checkbox\" id=\"KB0PZTEEFA\" ></input><label For=\"KB0PZTEEFA\">training_parameters</label><span Class=\"cw_vdom_hyr_type\">dict[3]:</span><div><div><div Class=\"cw_vdom_hyr_item\"><label For=\"3GPN7AK3B9\">training_algorithm</label><span Class=\"cw_vdom_hyr_type\">NoneType:</span><div><span>None</span></div></div><div Class=\"cw_vdom_hyr_item\"><label For=\"B6WHSO465P\">goal</label><span Class=\"cw_vdom_hyr_type\">NoneType:</span><div><span>None</span></div></div><div Class=\"cw_vdom_hyr_item\"><label For=\"4GQVNBJ9H4\">min_grad</label><span Class=\"cw_vdom_hyr_type\">NoneType:</span><div><span>None</span></div></div></div></div></div><div Class=\"cw_vdom_hyr_item\"><input type=\"checkbox\" id=\"VET025HWDM\" ></input><label For=\"VET025HWDM\">weights</label><span Class=\"cw_vdom_hyr_type\">dict[3]:</span><div><div><div Class=\"cw_vdom_hyr_item\"><label For=\"SU15LS5ZIY\">weights_a</label><span Class=\"cw_vdom_hyr_type\">numpy.ndarray[75]:</span><div>[1. 1. 1. 1. 1. 1. 1. 1. 1. 1. 1. 1. 1. 1. 1. 1. 1. 1. 1. 1. 1. 1. 1. 1.\n",
       " 1. 1. 1. 1. 1. 1. 1. 1. 1. 1. 1. 1. 1. 1. 1. 1. 1. 1. 1. 1. 1. 1. 1. 1.\n",
       " 1. 1. 1. 1. 1. 1. 1. 1. 1. 1. 1. 1. 1. 1. 1. 1. 1. 1. 1. 1. 1. 1. 1. 1.\n",
       " 1. 1. 1.]</div></div><div Class=\"cw_vdom_hyr_item\"><input type=\"checkbox\" id=\"CBJ46PUB73\" ></input><label For=\"CBJ46PUB73\">weights_c</label><span Class=\"cw_vdom_hyr_type\">numpy.ndarray[75, 2]:</span><div><div>[[-1.         -3.        ]<br/> [-1.         -2.42857143]<br/> [-1.         -1.85714286]<br/> [-1.         -1.28571429]<br/> [-1.         -0.71428571]<br/> [-1.         -0.14285714]<br/> [-1.          0.42857143]<br/> [-1.          1.        ]<br/> [-1.          1.57142857]<br/> [-1.          2.14285714]<br/> [-1.          2.71428571]<br/> [-1.          3.28571429]<br/> [-1.          3.85714286]<br/> [-1.          4.42857143]<br/> [-1.          5.        ]<br/> [-0.5        -3.        ]<br/> [-0.5        -2.42857143]<br/> [-0.5        -1.85714286]<br/> [-0.5        -1.28571429]<br/> [-0.5        -0.71428571]<br/> [-0.5        -0.14285714]<br/> [-0.5         0.42857143]<br/> [-0.5         1.        ]<br/> [-0.5         1.57142857]<br/> [-0.5         2.14285714]<br/> [-0.5         2.71428571]<br/> [-0.5         3.28571429]<br/> [-0.5         3.85714286]<br/> [-0.5         4.42857143]<br/> [-0.5         5.        ]<br/> [ 0.         -3.        ]<br/> [ 0.         -2.42857143]<br/> [ 0.         -1.85714286]<br/> [ 0.         -1.28571429]<br/> [ 0.         -0.71428571]<br/> [ 0.         -0.14285714]<br/> [ 0.          0.42857143]<br/> [ 0.          1.        ]<br/> [ 0.          1.57142857]<br/> [ 0.          2.14285714]<br/> [ 0.          2.71428571]<br/> [ 0.          3.28571429]<br/> [ 0.          3.85714286]<br/> [ 0.          4.42857143]<br/> [ 0.          5.        ]<br/> [ 0.5        -3.        ]<br/> [ 0.5        -2.42857143]<br/> [ 0.5        -1.85714286]<br/> [ 0.5        -1.28571429]<br/> [ 0.5        -0.71428571]<br/> [ 0.5        -0.14285714]<br/> [ 0.5         0.42857143]<br/> [ 0.5         1.        ]<br/> [ 0.5         1.57142857]<br/> [ 0.5         2.14285714]<br/> [ 0.5         2.71428571]<br/> [ 0.5         3.28571429]<br/> [ 0.5         3.85714286]<br/> [ 0.5         4.42857143]<br/> [ 0.5         5.        ]<br/> [ 1.         -3.        ]<br/> [ 1.         -2.42857143]<br/> [ 1.         -1.85714286]<br/> [ 1.         -1.28571429]<br/> [ 1.         -0.71428571]<br/> [ 1.         -0.14285714]<br/> [ 1.          0.42857143]<br/> [ 1.          1.        ]<br/> [ 1.          1.57142857]<br/> [ 1.          2.14285714]<br/> [ 1.          2.71428571]<br/> [ 1.          3.28571429]<br/> [ 1.          3.85714286]<br/> [ 1.          4.42857143]<br/> [ 1.          5.        ]]</div></div></div><div Class=\"cw_vdom_hyr_item\"><input type=\"checkbox\" id=\"7QCRK2YKV6\" ></input><label For=\"7QCRK2YKV6\">weights_w</label><span Class=\"cw_vdom_hyr_type\">numpy.ndarray[75, 2]:</span><div><div>[[1.75 1.75]<br/> [1.75 1.75]<br/> [1.75 1.75]<br/> [1.75 1.75]<br/> [1.75 1.75]<br/> [1.75 1.75]<br/> [1.75 1.75]<br/> [1.75 1.75]<br/> [1.75 1.75]<br/> [1.75 1.75]<br/> [1.75 1.75]<br/> [1.75 1.75]<br/> [1.75 1.75]<br/> [1.75 1.75]<br/> [1.75 1.75]<br/> [1.75 1.75]<br/> [1.75 1.75]<br/> [1.75 1.75]<br/> [1.75 1.75]<br/> [1.75 1.75]<br/> [1.75 1.75]<br/> [1.75 1.75]<br/> [1.75 1.75]<br/> [1.75 1.75]<br/> [1.75 1.75]<br/> [1.75 1.75]<br/> [1.75 1.75]<br/> [1.75 1.75]<br/> [1.75 1.75]<br/> [1.75 1.75]<br/> [1.75 1.75]<br/> [1.75 1.75]<br/> [1.75 1.75]<br/> [1.75 1.75]<br/> [1.75 1.75]<br/> [1.75 1.75]<br/> [1.75 1.75]<br/> [1.75 1.75]<br/> [1.75 1.75]<br/> [1.75 1.75]<br/> [1.75 1.75]<br/> [1.75 1.75]<br/> [1.75 1.75]<br/> [1.75 1.75]<br/> [1.75 1.75]<br/> [1.75 1.75]<br/> [1.75 1.75]<br/> [1.75 1.75]<br/> [1.75 1.75]<br/> [1.75 1.75]<br/> [1.75 1.75]<br/> [1.75 1.75]<br/> [1.75 1.75]<br/> [1.75 1.75]<br/> [1.75 1.75]<br/> [1.75 1.75]<br/> [1.75 1.75]<br/> [1.75 1.75]<br/> [1.75 1.75]<br/> [1.75 1.75]<br/> [1.75 1.75]<br/> [1.75 1.75]<br/> [1.75 1.75]<br/> [1.75 1.75]<br/> [1.75 1.75]<br/> [1.75 1.75]<br/> [1.75 1.75]<br/> [1.75 1.75]<br/> [1.75 1.75]<br/> [1.75 1.75]<br/> [1.75 1.75]<br/> [1.75 1.75]<br/> [1.75 1.75]<br/> [1.75 1.75]<br/> [1.75 1.75]]</div></div></div></div></div></div></div></div></div>"
      ],
      "text/plain": [
       "<RadialBasisFunctionNeuralNetwork\n",
       " n_inputs=2\n",
       " n_hidden=75\n",
       " n_outputs=1>"
      ]
     },
     "execution_count": 76,
     "metadata": {},
     "output_type": "execute_result"
    }
   ],
   "source": [
    "model = RadialBasisFunctionNeuralNetworkModel.new_grid_placement(\n",
    "    n_inputs=2,\n",
    "    grid_size=[5, 15],\n",
    "    input_range=input_range,\n",
    "    rbf_width=1.75,\n",
    "    rbf_amplitude=1,\n",
    ")\n",
    "model"
   ]
  },
  {
   "cell_type": "code",
   "execution_count": 77,
   "id": "13a58a76-0705-43af-90ff-9c6a6b1f6226",
   "metadata": {},
   "outputs": [],
   "source": [
    "model.train(inputs, reference_outputs)\n",
    "output = model.evaluate(inputs)"
   ]
  },
  {
   "cell_type": "code",
   "execution_count": 78,
   "id": "9e11376f-59a7-4bff-91a6-928b85579fc3",
   "metadata": {},
   "outputs": [
    {
     "data": {
      "application/vnd.jupyter.widget-view+json": {
       "model_id": "5198cf34a59d4df9b7ef2672a8079db5",
       "version_major": 2,
       "version_minor": 0
      },
      "text/plain": [
       "Canvas(toolbar=Toolbar(toolitems=[('Home', 'Reset original view', 'home', 'home'), ('Back', 'Back to previous …"
      ]
     },
     "metadata": {},
     "output_type": "display_data"
    },
    {
     "data": {
      "application/vnd.jupyter.widget-view+json": {
       "model_id": "68432749e660417ab6b45d0d1188ad0c",
       "version_major": 2,
       "version_minor": 0
      },
      "text/plain": [
       "Canvas(toolbar=Toolbar(toolitems=[('Home', 'Reset original view', 'home', 'home'), ('Back', 'Back to previous …"
      ]
     },
     "metadata": {},
     "output_type": "display_data"
    },
    {
     "data": {
      "text/plain": [
       "<mpl_toolkits.mplot3d.art3d.Path3DCollection at 0x7f40717d8220>"
      ]
     },
     "execution_count": 78,
     "metadata": {},
     "output_type": "execute_result"
    }
   ],
   "source": [
    "fig = plt.figure(figsize=(4, 3))\n",
    "plt.plot(model.weights_c[:, 0], model.weights_c[:, 1], \"x\")\n",
    "\n",
    "fig = plt.figure(figsize=(4, 3))\n",
    "ax = fig.add_subplot(projection='3d')\n",
    "ax.scatter(inputs[:, 0, 0], inputs[:, 1, 0], reference_outputs.squeeze(), s=0.1)\n",
    "ax.scatter(inputs[:, 0, 0], inputs[:, 1, 0], output.squeeze(), s=0.1)"
   ]
  },
  {
   "cell_type": "markdown",
   "id": "746fb9bf-23ab-4ca7-83e2-a0cef7cdfd09",
   "metadata": {},
   "source": [
    "### Levenberg-Marquardt training"
   ]
  },
  {
   "cell_type": "code",
   "execution_count": 79,
   "id": "dcafe03b-8669-4250-9175-7f73fdab17eb",
   "metadata": {},
   "outputs": [
    {
     "data": {
      "text/html": [
       "<div Class=\"cw_vdom_hyr cw_vdom_hyr_item\"><style>.cw_vdom_hyr {\n",
       "    font-family: monospace;\n",
       "}\n",
       "\n",
       ".cw_vdom_hyr_item > input {\n",
       "    display: none;\n",
       "}\n",
       "\n",
       ".cw_vdom_hyr_item > label {\n",
       "    color: var(--jp-accent-color1);\n",
       "    font-weight: bold;\n",
       "}\n",
       "\n",
       ".cw_vdom_hyr_item > label::before {\n",
       "    content: \"\\00a0\";\n",
       "}\n",
       "\n",
       ".cw_vdom_hyr_item > label::after {\n",
       "    content: \": \";\n",
       "}\n",
       "\n",
       ".cw_vdom_hyr_item > div {\n",
       "    display: inline-block;\n",
       "}\n",
       "\n",
       ".cw_vdom_hyr_item > input + label {\n",
       "    cursor: pointer;\n",
       "}\n",
       "\n",
       ".cw_vdom_hyr_item > input + label::before {\n",
       "    content: \"+\";\n",
       "}\n",
       "\n",
       ".cw_vdom_hyr_item > input:checked + label::before {\n",
       "    content: \"-\";\n",
       "}\n",
       "\n",
       ".cw_vdom_hyr_item > input ~ div {\n",
       "    display: none;\n",
       "    padding-left: 20px;\n",
       "}\n",
       "\n",
       ".cw_vdom_hyr_item > input:checked ~ div {\n",
       "    display: block;\n",
       "}\n",
       "\n",
       ".cw_vdom_hyr_type {\n",
       "    color: var(--jp-ui-font-color3);\n",
       "    font-size: var(--jp-ui-font-size0);\n",
       "}\n",
       "</style><input type=\"checkbox\" id=\"N0JPG3J3IY\" ></input><label For=\"N0JPG3J3IY\">Radial Basis Function Neural Network</label><span Class=\"cw_vdom_hyr_type\">system_identification.rbfnn_model.RadialBasisFunctionNeuralNetworkModel:</span><div><div><div Class=\"cw_vdom_hyr_item\"><label For=\"F82TPK0NZY\">description</label><span Class=\"cw_vdom_hyr_type\">str[87]:</span><div><span>Radial basis function neural network with the initial centers placed in a uniform grid.</span></div></div><div Class=\"cw_vdom_hyr_item\"><label For=\"2B1SOXG0ZA\">n_inputs</label><span Class=\"cw_vdom_hyr_type\">int:</span><div><span>2</span></div></div><div Class=\"cw_vdom_hyr_item\"><label For=\"HYKPHFUJO7\">n_hidden</label><span Class=\"cw_vdom_hyr_type\">int:</span><div><span>35</span></div></div><div Class=\"cw_vdom_hyr_item\"><label For=\"TQ5GBHKOCO\">n_output</label><span Class=\"cw_vdom_hyr_type\">int:</span><div><span>1</span></div></div><div Class=\"cw_vdom_hyr_item\"><input type=\"checkbox\" id=\"Z1CRQAJZ8R\" ></input><label For=\"Z1CRQAJZ8R\">training_parameters</label><span Class=\"cw_vdom_hyr_type\">dict[3]:</span><div><div><div Class=\"cw_vdom_hyr_item\"><label For=\"1USLIVSSA9\">training_algorithm</label><span Class=\"cw_vdom_hyr_type\">NoneType:</span><div><span>None</span></div></div><div Class=\"cw_vdom_hyr_item\"><label For=\"3BPGFUT83J\">goal</label><span Class=\"cw_vdom_hyr_type\">NoneType:</span><div><span>None</span></div></div><div Class=\"cw_vdom_hyr_item\"><label For=\"J0H6BG30BV\">min_grad</label><span Class=\"cw_vdom_hyr_type\">NoneType:</span><div><span>None</span></div></div></div></div></div><div Class=\"cw_vdom_hyr_item\"><input type=\"checkbox\" id=\"3HZ61131G7\" ></input><label For=\"3HZ61131G7\">weights</label><span Class=\"cw_vdom_hyr_type\">dict[3]:</span><div><div><div Class=\"cw_vdom_hyr_item\"><label For=\"MR11KG4G7L\">weights_a</label><span Class=\"cw_vdom_hyr_type\">numpy.ndarray[35]:</span><div>[1. 1. 1. 1. 1. 1. 1. 1. 1. 1. 1. 1. 1. 1. 1. 1. 1. 1. 1. 1. 1. 1. 1. 1.\n",
       " 1. 1. 1. 1. 1. 1. 1. 1. 1. 1. 1.]</div></div><div Class=\"cw_vdom_hyr_item\"><input type=\"checkbox\" id=\"8BXLYB0BGZ\" ></input><label For=\"8BXLYB0BGZ\">weights_c</label><span Class=\"cw_vdom_hyr_type\">numpy.ndarray[35, 2]:</span><div><div>[[-1.         -3.        ]<br/> [-1.         -1.66666667]<br/> [-1.         -0.33333333]<br/> [-1.          1.        ]<br/> [-1.          2.33333333]<br/> [-1.          3.66666667]<br/> [-1.          5.        ]<br/> [-0.5        -3.        ]<br/> [-0.5        -1.66666667]<br/> [-0.5        -0.33333333]<br/> [-0.5         1.        ]<br/> [-0.5         2.33333333]<br/> [-0.5         3.66666667]<br/> [-0.5         5.        ]<br/> [ 0.         -3.        ]<br/> [ 0.         -1.66666667]<br/> [ 0.         -0.33333333]<br/> [ 0.          1.        ]<br/> [ 0.          2.33333333]<br/> [ 0.          3.66666667]<br/> [ 0.          5.        ]<br/> [ 0.5        -3.        ]<br/> [ 0.5        -1.66666667]<br/> [ 0.5        -0.33333333]<br/> [ 0.5         1.        ]<br/> [ 0.5         2.33333333]<br/> [ 0.5         3.66666667]<br/> [ 0.5         5.        ]<br/> [ 1.         -3.        ]<br/> [ 1.         -1.66666667]<br/> [ 1.         -0.33333333]<br/> [ 1.          1.        ]<br/> [ 1.          2.33333333]<br/> [ 1.          3.66666667]<br/> [ 1.          5.        ]]</div></div></div><div Class=\"cw_vdom_hyr_item\"><input type=\"checkbox\" id=\"YI6PGXBVME\" ></input><label For=\"YI6PGXBVME\">weights_w</label><span Class=\"cw_vdom_hyr_type\">numpy.ndarray[35, 2]:</span><div><div>[[1.75 1.75]<br/> [1.75 1.75]<br/> [1.75 1.75]<br/> [1.75 1.75]<br/> [1.75 1.75]<br/> [1.75 1.75]<br/> [1.75 1.75]<br/> [1.75 1.75]<br/> [1.75 1.75]<br/> [1.75 1.75]<br/> [1.75 1.75]<br/> [1.75 1.75]<br/> [1.75 1.75]<br/> [1.75 1.75]<br/> [1.75 1.75]<br/> [1.75 1.75]<br/> [1.75 1.75]<br/> [1.75 1.75]<br/> [1.75 1.75]<br/> [1.75 1.75]<br/> [1.75 1.75]<br/> [1.75 1.75]<br/> [1.75 1.75]<br/> [1.75 1.75]<br/> [1.75 1.75]<br/> [1.75 1.75]<br/> [1.75 1.75]<br/> [1.75 1.75]<br/> [1.75 1.75]<br/> [1.75 1.75]<br/> [1.75 1.75]<br/> [1.75 1.75]<br/> [1.75 1.75]<br/> [1.75 1.75]<br/> [1.75 1.75]]</div></div></div></div></div></div></div></div></div>"
      ],
      "text/plain": [
       "<RadialBasisFunctionNeuralNetwork\n",
       " n_inputs=2\n",
       " n_hidden=35\n",
       " n_outputs=1>"
      ]
     },
     "execution_count": 79,
     "metadata": {},
     "output_type": "execute_result"
    }
   ],
   "source": [
    "model = RadialBasisFunctionNeuralNetworkModel.new_grid_placement(\n",
    "    n_inputs=2,\n",
    "    grid_size=[5, 7],\n",
    "    input_range=input_range,\n",
    "    rbf_width=1.75,\n",
    "    rbf_amplitude=1,\n",
    ")\n",
    "model"
   ]
  },
  {
   "cell_type": "code",
   "execution_count": 80,
   "id": "53206e63-340d-4e55-be30-b3100425adb2",
   "metadata": {},
   "outputs": [],
   "source": [
    "# Pretrain the network using least squares.\n",
    "model.train(inputs, reference_outputs_noisy)"
   ]
  },
  {
   "cell_type": "code",
   "execution_count": 81,
   "id": "dfe25118-262a-4a1e-be82-f5a5befc2513",
   "metadata": {},
   "outputs": [
    {
     "data": {
      "application/vnd.jupyter.widget-view+json": {
       "model_id": "6b1a9c19377c4290b61ba0b3770b28e9",
       "version_major": 2,
       "version_minor": 0
      },
      "text/plain": [
       "  0%|          | 0/30 [00:00<?, ?it/s]"
      ]
     },
     "metadata": {},
     "output_type": "display_data"
    }
   ],
   "source": [
    "model.train(\n",
    "    inputs,\n",
    "    reference_outputs_noisy,\n",
    "    epochs=30,\n",
    "    goal=1e-6,\n",
    "    train_log_freq=1,\n",
    "    method=\"trainlm\",\n",
    "    mu=10.,\n",
    "    alpha=0.95\n",
    ")"
   ]
  },
  {
   "cell_type": "code",
   "execution_count": 82,
   "id": "bbaaa7d4-1e47-4d3d-8af5-4197f87d8e20",
   "metadata": {},
   "outputs": [
    {
     "data": {
      "text/html": [
       "<div><svg style=\"position: absolute; width: 0; height: 0; overflow: hidden\">\n",
       "<defs>\n",
       "<symbol id=\"icon-database\" viewBox=\"0 0 32 32\">\n",
       "<path d=\"M16 0c-8.837 0-16 2.239-16 5v4c0 2.761 7.163 5 16 5s16-2.239 16-5v-4c0-2.761-7.163-5-16-5z\"></path>\n",
       "<path d=\"M16 17c-8.837 0-16-2.239-16-5v6c0 2.761 7.163 5 16 5s16-2.239 16-5v-6c0 2.761-7.163 5-16 5z\"></path>\n",
       "<path d=\"M16 26c-8.837 0-16-2.239-16-5v6c0 2.761 7.163 5 16 5s16-2.239 16-5v-6c0 2.761-7.163 5-16 5z\"></path>\n",
       "</symbol>\n",
       "<symbol id=\"icon-file-text2\" viewBox=\"0 0 32 32\">\n",
       "<path d=\"M28.681 7.159c-0.694-0.947-1.662-2.053-2.724-3.116s-2.169-2.030-3.116-2.724c-1.612-1.182-2.393-1.319-2.841-1.319h-15.5c-1.378 0-2.5 1.121-2.5 2.5v27c0 1.378 1.122 2.5 2.5 2.5h23c1.378 0 2.5-1.122 2.5-2.5v-19.5c0-0.448-0.137-1.23-1.319-2.841zM24.543 5.457c0.959 0.959 1.712 1.825 2.268 2.543h-4.811v-4.811c0.718 0.556 1.584 1.309 2.543 2.268zM28 29.5c0 0.271-0.229 0.5-0.5 0.5h-23c-0.271 0-0.5-0.229-0.5-0.5v-27c0-0.271 0.229-0.5 0.5-0.5 0 0 15.499-0 15.5 0v7c0 0.552 0.448 1 1 1h7v19.5z\"></path>\n",
       "<path d=\"M23 26h-14c-0.552 0-1-0.448-1-1s0.448-1 1-1h14c0.552 0 1 0.448 1 1s-0.448 1-1 1z\"></path>\n",
       "<path d=\"M23 22h-14c-0.552 0-1-0.448-1-1s0.448-1 1-1h14c0.552 0 1 0.448 1 1s-0.448 1-1 1z\"></path>\n",
       "<path d=\"M23 18h-14c-0.552 0-1-0.448-1-1s0.448-1 1-1h14c0.552 0 1 0.448 1 1s-0.448 1-1 1z\"></path>\n",
       "</symbol>\n",
       "</defs>\n",
       "</svg>\n",
       "<style>/* CSS stylesheet for displaying xarray objects in jupyterlab.\n",
       " *\n",
       " */\n",
       "\n",
       ":root {\n",
       "  --xr-font-color0: var(--jp-content-font-color0, rgba(0, 0, 0, 1));\n",
       "  --xr-font-color2: var(--jp-content-font-color2, rgba(0, 0, 0, 0.54));\n",
       "  --xr-font-color3: var(--jp-content-font-color3, rgba(0, 0, 0, 0.38));\n",
       "  --xr-border-color: var(--jp-border-color2, #e0e0e0);\n",
       "  --xr-disabled-color: var(--jp-layout-color3, #bdbdbd);\n",
       "  --xr-background-color: var(--jp-layout-color0, white);\n",
       "  --xr-background-color-row-even: var(--jp-layout-color1, white);\n",
       "  --xr-background-color-row-odd: var(--jp-layout-color2, #eeeeee);\n",
       "}\n",
       "\n",
       "html[theme=dark],\n",
       "body.vscode-dark {\n",
       "  --xr-font-color0: rgba(255, 255, 255, 1);\n",
       "  --xr-font-color2: rgba(255, 255, 255, 0.54);\n",
       "  --xr-font-color3: rgba(255, 255, 255, 0.38);\n",
       "  --xr-border-color: #1F1F1F;\n",
       "  --xr-disabled-color: #515151;\n",
       "  --xr-background-color: #111111;\n",
       "  --xr-background-color-row-even: #111111;\n",
       "  --xr-background-color-row-odd: #313131;\n",
       "}\n",
       "\n",
       ".xr-wrap {\n",
       "  display: block;\n",
       "  min-width: 300px;\n",
       "  max-width: 700px;\n",
       "}\n",
       "\n",
       ".xr-text-repr-fallback {\n",
       "  /* fallback to plain text repr when CSS is not injected (untrusted notebook) */\n",
       "  display: none;\n",
       "}\n",
       "\n",
       ".xr-header {\n",
       "  padding-top: 6px;\n",
       "  padding-bottom: 6px;\n",
       "  margin-bottom: 4px;\n",
       "  border-bottom: solid 1px var(--xr-border-color);\n",
       "}\n",
       "\n",
       ".xr-header > div,\n",
       ".xr-header > ul {\n",
       "  display: inline;\n",
       "  margin-top: 0;\n",
       "  margin-bottom: 0;\n",
       "}\n",
       "\n",
       ".xr-obj-type,\n",
       ".xr-array-name {\n",
       "  margin-left: 2px;\n",
       "  margin-right: 10px;\n",
       "}\n",
       "\n",
       ".xr-obj-type {\n",
       "  color: var(--xr-font-color2);\n",
       "}\n",
       "\n",
       ".xr-sections {\n",
       "  padding-left: 0 !important;\n",
       "  display: grid;\n",
       "  grid-template-columns: 150px auto auto 1fr 20px 20px;\n",
       "}\n",
       "\n",
       ".xr-section-item {\n",
       "  display: contents;\n",
       "}\n",
       "\n",
       ".xr-section-item input {\n",
       "  display: none;\n",
       "}\n",
       "\n",
       ".xr-section-item input + label {\n",
       "  color: var(--xr-disabled-color);\n",
       "}\n",
       "\n",
       ".xr-section-item input:enabled + label {\n",
       "  cursor: pointer;\n",
       "  color: var(--xr-font-color2);\n",
       "}\n",
       "\n",
       ".xr-section-item input:enabled + label:hover {\n",
       "  color: var(--xr-font-color0);\n",
       "}\n",
       "\n",
       ".xr-section-summary {\n",
       "  grid-column: 1;\n",
       "  color: var(--xr-font-color2);\n",
       "  font-weight: 500;\n",
       "}\n",
       "\n",
       ".xr-section-summary > span {\n",
       "  display: inline-block;\n",
       "  padding-left: 0.5em;\n",
       "}\n",
       "\n",
       ".xr-section-summary-in:disabled + label {\n",
       "  color: var(--xr-font-color2);\n",
       "}\n",
       "\n",
       ".xr-section-summary-in + label:before {\n",
       "  display: inline-block;\n",
       "  content: '►';\n",
       "  font-size: 11px;\n",
       "  width: 15px;\n",
       "  text-align: center;\n",
       "}\n",
       "\n",
       ".xr-section-summary-in:disabled + label:before {\n",
       "  color: var(--xr-disabled-color);\n",
       "}\n",
       "\n",
       ".xr-section-summary-in:checked + label:before {\n",
       "  content: '▼';\n",
       "}\n",
       "\n",
       ".xr-section-summary-in:checked + label > span {\n",
       "  display: none;\n",
       "}\n",
       "\n",
       ".xr-section-summary,\n",
       ".xr-section-inline-details {\n",
       "  padding-top: 4px;\n",
       "  padding-bottom: 4px;\n",
       "}\n",
       "\n",
       ".xr-section-inline-details {\n",
       "  grid-column: 2 / -1;\n",
       "}\n",
       "\n",
       ".xr-section-details {\n",
       "  display: none;\n",
       "  grid-column: 1 / -1;\n",
       "  margin-bottom: 5px;\n",
       "}\n",
       "\n",
       ".xr-section-summary-in:checked ~ .xr-section-details {\n",
       "  display: contents;\n",
       "}\n",
       "\n",
       ".xr-array-wrap {\n",
       "  grid-column: 1 / -1;\n",
       "  display: grid;\n",
       "  grid-template-columns: 20px auto;\n",
       "}\n",
       "\n",
       ".xr-array-wrap > label {\n",
       "  grid-column: 1;\n",
       "  vertical-align: top;\n",
       "}\n",
       "\n",
       ".xr-preview {\n",
       "  color: var(--xr-font-color3);\n",
       "}\n",
       "\n",
       ".xr-array-preview,\n",
       ".xr-array-data {\n",
       "  padding: 0 5px !important;\n",
       "  grid-column: 2;\n",
       "}\n",
       "\n",
       ".xr-array-data,\n",
       ".xr-array-in:checked ~ .xr-array-preview {\n",
       "  display: none;\n",
       "}\n",
       "\n",
       ".xr-array-in:checked ~ .xr-array-data,\n",
       ".xr-array-preview {\n",
       "  display: inline-block;\n",
       "}\n",
       "\n",
       ".xr-dim-list {\n",
       "  display: inline-block !important;\n",
       "  list-style: none;\n",
       "  padding: 0 !important;\n",
       "  margin: 0;\n",
       "}\n",
       "\n",
       ".xr-dim-list li {\n",
       "  display: inline-block;\n",
       "  padding: 0;\n",
       "  margin: 0;\n",
       "}\n",
       "\n",
       ".xr-dim-list:before {\n",
       "  content: '(';\n",
       "}\n",
       "\n",
       ".xr-dim-list:after {\n",
       "  content: ')';\n",
       "}\n",
       "\n",
       ".xr-dim-list li:not(:last-child):after {\n",
       "  content: ',';\n",
       "  padding-right: 5px;\n",
       "}\n",
       "\n",
       ".xr-has-index {\n",
       "  font-weight: bold;\n",
       "}\n",
       "\n",
       ".xr-var-list,\n",
       ".xr-var-item {\n",
       "  display: contents;\n",
       "}\n",
       "\n",
       ".xr-var-item > div,\n",
       ".xr-var-item label,\n",
       ".xr-var-item > .xr-var-name span {\n",
       "  background-color: var(--xr-background-color-row-even);\n",
       "  margin-bottom: 0;\n",
       "}\n",
       "\n",
       ".xr-var-item > .xr-var-name:hover span {\n",
       "  padding-right: 5px;\n",
       "}\n",
       "\n",
       ".xr-var-list > li:nth-child(odd) > div,\n",
       ".xr-var-list > li:nth-child(odd) > label,\n",
       ".xr-var-list > li:nth-child(odd) > .xr-var-name span {\n",
       "  background-color: var(--xr-background-color-row-odd);\n",
       "}\n",
       "\n",
       ".xr-var-name {\n",
       "  grid-column: 1;\n",
       "}\n",
       "\n",
       ".xr-var-dims {\n",
       "  grid-column: 2;\n",
       "}\n",
       "\n",
       ".xr-var-dtype {\n",
       "  grid-column: 3;\n",
       "  text-align: right;\n",
       "  color: var(--xr-font-color2);\n",
       "}\n",
       "\n",
       ".xr-var-preview {\n",
       "  grid-column: 4;\n",
       "}\n",
       "\n",
       ".xr-var-name,\n",
       ".xr-var-dims,\n",
       ".xr-var-dtype,\n",
       ".xr-preview,\n",
       ".xr-attrs dt {\n",
       "  white-space: nowrap;\n",
       "  overflow: hidden;\n",
       "  text-overflow: ellipsis;\n",
       "  padding-right: 10px;\n",
       "}\n",
       "\n",
       ".xr-var-name:hover,\n",
       ".xr-var-dims:hover,\n",
       ".xr-var-dtype:hover,\n",
       ".xr-attrs dt:hover {\n",
       "  overflow: visible;\n",
       "  width: auto;\n",
       "  z-index: 1;\n",
       "}\n",
       "\n",
       ".xr-var-attrs,\n",
       ".xr-var-data {\n",
       "  display: none;\n",
       "  background-color: var(--xr-background-color) !important;\n",
       "  padding-bottom: 5px !important;\n",
       "}\n",
       "\n",
       ".xr-var-attrs-in:checked ~ .xr-var-attrs,\n",
       ".xr-var-data-in:checked ~ .xr-var-data {\n",
       "  display: block;\n",
       "}\n",
       "\n",
       ".xr-var-data > table {\n",
       "  float: right;\n",
       "}\n",
       "\n",
       ".xr-var-name span,\n",
       ".xr-var-data,\n",
       ".xr-attrs {\n",
       "  padding-left: 25px !important;\n",
       "}\n",
       "\n",
       ".xr-attrs,\n",
       ".xr-var-attrs,\n",
       ".xr-var-data {\n",
       "  grid-column: 1 / -1;\n",
       "}\n",
       "\n",
       "dl.xr-attrs {\n",
       "  padding: 0;\n",
       "  margin: 0;\n",
       "  display: grid;\n",
       "  grid-template-columns: 125px auto;\n",
       "}\n",
       "\n",
       ".xr-attrs dt,\n",
       ".xr-attrs dd {\n",
       "  padding: 0;\n",
       "  margin: 0;\n",
       "  float: left;\n",
       "  padding-right: 10px;\n",
       "  width: auto;\n",
       "}\n",
       "\n",
       ".xr-attrs dt {\n",
       "  font-weight: normal;\n",
       "  grid-column: 1;\n",
       "}\n",
       "\n",
       ".xr-attrs dt:hover span {\n",
       "  display: inline-block;\n",
       "  background: var(--xr-background-color);\n",
       "  padding-right: 10px;\n",
       "}\n",
       "\n",
       ".xr-attrs dd {\n",
       "  grid-column: 2;\n",
       "  white-space: pre-wrap;\n",
       "  word-break: break-all;\n",
       "}\n",
       "\n",
       ".xr-icon-database,\n",
       ".xr-icon-file-text2 {\n",
       "  display: inline-block;\n",
       "  vertical-align: middle;\n",
       "  width: 1em;\n",
       "  height: 1.5em !important;\n",
       "  stroke-width: 0;\n",
       "  stroke: currentColor;\n",
       "  fill: currentColor;\n",
       "}\n",
       "</style><pre class='xr-text-repr-fallback'>&lt;xarray.Dataset&gt;\n",
       "Dimensions:                (epoch: 30, i: 10000, j: 1, k: 35, l: 35, m: 2, n: 35, o: 2)\n",
       "Coordinates:\n",
       "  * epoch                  (epoch) int64 1 2 3 4 5 6 7 ... 24 25 26 27 28 29 30\n",
       "Dimensions without coordinates: i, j, k, l, m, n, o\n",
       "Data variables: (12/14)\n",
       "    gradient               (epoch) float64 3.978e+04 4.502e+04 ... 5.336e+04\n",
       "    error_training_data    (epoch, i) float64 -0.142 -0.09916 ... -0.04944\n",
       "    error_validation_data  (epoch, j) float64 nan nan nan nan ... nan nan nan\n",
       "    error_training_jb      (epoch) float64 131.5 60.79 0.7119 ... 356.6 370.3\n",
       "    error_training_jbp     (epoch) float64 2.818e-29 6.301e-14 ... 3.924e-81\n",
       "    error_training_skew    (epoch) float64 0.08382 0.1559 ... -0.00998 -0.007569\n",
       "    ...                     ...\n",
       "    error_validation_jbp   (epoch) float64 nan nan nan nan ... nan nan nan nan\n",
       "    error_validation_skew  (epoch) float64 nan nan nan nan ... nan nan nan nan\n",
       "    error_validation_kurt  (epoch) float64 nan nan nan nan ... nan nan nan nan\n",
       "    weights_a              (epoch, k) float64 -1.184 -0.7737 ... -0.2823 -1.747\n",
       "    weights_c              (epoch, l, m) float64 -1.228 -3.324 ... 1.26 5.201\n",
       "    weights_w              (epoch, n, o) float64 1.608 1.719 ... 1.354 1.202</pre><div class='xr-wrap' hidden><div class='xr-header'><div class='xr-obj-type'>xarray.Dataset</div></div><ul class='xr-sections'><li class='xr-section-item'><input id='section-1a3e22e9-700b-4bb7-a7bb-9dd968ec06e0' class='xr-section-summary-in' type='checkbox' disabled ><label for='section-1a3e22e9-700b-4bb7-a7bb-9dd968ec06e0' class='xr-section-summary'  title='Expand/collapse section'>Dimensions:</label><div class='xr-section-inline-details'><ul class='xr-dim-list'><li><span class='xr-has-index'>epoch</span>: 30</li><li><span>i</span>: 10000</li><li><span>j</span>: 1</li><li><span>k</span>: 35</li><li><span>l</span>: 35</li><li><span>m</span>: 2</li><li><span>n</span>: 35</li><li><span>o</span>: 2</li></ul></div><div class='xr-section-details'></div></li><li class='xr-section-item'><input id='section-56baed59-6291-427b-a8a0-e50103a918e7' class='xr-section-summary-in' type='checkbox'  checked><label for='section-56baed59-6291-427b-a8a0-e50103a918e7' class='xr-section-summary' >Coordinates: <span>(1)</span></label><div class='xr-section-inline-details'></div><div class='xr-section-details'><ul class='xr-var-list'><li class='xr-var-item'><div class='xr-var-name'><span class='xr-has-index'>epoch</span></div><div class='xr-var-dims'>(epoch)</div><div class='xr-var-dtype'>int64</div><div class='xr-var-preview xr-preview'>1 2 3 4 5 6 7 ... 25 26 27 28 29 30</div><input id='attrs-586e100c-316a-45b2-98b2-acf944c5a451' class='xr-var-attrs-in' type='checkbox' disabled><label for='attrs-586e100c-316a-45b2-98b2-acf944c5a451' title='Show/Hide attributes'><svg class='icon xr-icon-file-text2'><use xlink:href='#icon-file-text2'></use></svg></label><input id='data-2113ddcc-4ac6-4740-a025-c8b9b3ee42ee' class='xr-var-data-in' type='checkbox'><label for='data-2113ddcc-4ac6-4740-a025-c8b9b3ee42ee' title='Show/Hide data repr'><svg class='icon xr-icon-database'><use xlink:href='#icon-database'></use></svg></label><div class='xr-var-attrs'><dl class='xr-attrs'></dl></div><div class='xr-var-data'><pre>array([ 1,  2,  3,  4,  5,  6,  7,  8,  9, 10, 11, 12, 13, 14, 15, 16, 17, 18,\n",
       "       19, 20, 21, 22, 23, 24, 25, 26, 27, 28, 29, 30])</pre></div></li></ul></div></li><li class='xr-section-item'><input id='section-a8a6143e-bfde-408d-90e0-0399ee35c462' class='xr-section-summary-in' type='checkbox'  checked><label for='section-a8a6143e-bfde-408d-90e0-0399ee35c462' class='xr-section-summary' >Data variables: <span>(14)</span></label><div class='xr-section-inline-details'></div><div class='xr-section-details'><ul class='xr-var-list'><li class='xr-var-item'><div class='xr-var-name'><span>gradient</span></div><div class='xr-var-dims'>(epoch)</div><div class='xr-var-dtype'>float64</div><div class='xr-var-preview xr-preview'>3.978e+04 4.502e+04 ... 5.336e+04</div><input id='attrs-b5e204f2-d088-45af-ad64-848324f14130' class='xr-var-attrs-in' type='checkbox' disabled><label for='attrs-b5e204f2-d088-45af-ad64-848324f14130' title='Show/Hide attributes'><svg class='icon xr-icon-file-text2'><use xlink:href='#icon-file-text2'></use></svg></label><input id='data-1e6e8058-e42c-46e5-99bb-81010262a877' class='xr-var-data-in' type='checkbox'><label for='data-1e6e8058-e42c-46e5-99bb-81010262a877' title='Show/Hide data repr'><svg class='icon xr-icon-database'><use xlink:href='#icon-database'></use></svg></label><div class='xr-var-attrs'><dl class='xr-attrs'></dl></div><div class='xr-var-data'><pre>array([39777.24761969, 45021.48326005, 39270.24283156, 42489.09783683,\n",
       "       41251.25158138, 43131.84124317, 42720.89223089, 43872.02721149,\n",
       "       43900.64155767, 44687.03149837, 44941.54015193, 45528.32824703,\n",
       "       45887.43391227, 46389.03268286, 46803.6079924 , 47279.41710325,\n",
       "       47727.42160459, 48203.01727748, 48669.05613219, 49145.17431964,\n",
       "       49614.03527634, 50080.51670361, 50536.36570666, 50983.20681461,\n",
       "       51415.68122724, 51832.98806822, 52234.58347582, 52622.24999975,\n",
       "       52996.94967589, 53358.84534851])</pre></div></li><li class='xr-var-item'><div class='xr-var-name'><span>error_training_data</span></div><div class='xr-var-dims'>(epoch, i)</div><div class='xr-var-dtype'>float64</div><div class='xr-var-preview xr-preview'>-0.142 -0.09916 ... -0.04944</div><input id='attrs-8da096b4-daeb-44aa-a70a-07f60257607d' class='xr-var-attrs-in' type='checkbox' disabled><label for='attrs-8da096b4-daeb-44aa-a70a-07f60257607d' title='Show/Hide attributes'><svg class='icon xr-icon-file-text2'><use xlink:href='#icon-file-text2'></use></svg></label><input id='data-7b7e265a-aa1c-4a87-a2e2-8be4680eaee6' class='xr-var-data-in' type='checkbox'><label for='data-7b7e265a-aa1c-4a87-a2e2-8be4680eaee6' title='Show/Hide data repr'><svg class='icon xr-icon-database'><use xlink:href='#icon-database'></use></svg></label><div class='xr-var-attrs'><dl class='xr-attrs'></dl></div><div class='xr-var-data'><pre>array([[-0.14195785, -0.09915765, -0.08350598, ..., -0.14049238,\n",
       "        -0.12579251, -0.18360182],\n",
       "       [-0.2405073 , -0.17705424, -0.12999658, ..., -0.0472449 ,\n",
       "        -0.06071425, -0.14540966],\n",
       "       [-0.25969294, -0.21227341, -0.17794166, ..., -0.0010195 ,\n",
       "        -0.03587009, -0.14443174],\n",
       "       ...,\n",
       "       [-0.04786476, -0.07085174, -0.09218888, ..., -0.00177009,\n",
       "        -0.00317535, -0.05351675],\n",
       "       [-0.04574072, -0.06949939, -0.0913024 , ..., -0.00161522,\n",
       "        -0.00242435, -0.05149536],\n",
       "       [-0.04372099, -0.06820513, -0.09043863, ..., -0.00143185,\n",
       "        -0.0016229 , -0.04943978]])</pre></div></li><li class='xr-var-item'><div class='xr-var-name'><span>error_validation_data</span></div><div class='xr-var-dims'>(epoch, j)</div><div class='xr-var-dtype'>float64</div><div class='xr-var-preview xr-preview'>nan nan nan nan ... nan nan nan nan</div><input id='attrs-54a4a06d-ff33-43b0-ae02-ce5aa8a7ebf4' class='xr-var-attrs-in' type='checkbox' disabled><label for='attrs-54a4a06d-ff33-43b0-ae02-ce5aa8a7ebf4' title='Show/Hide attributes'><svg class='icon xr-icon-file-text2'><use xlink:href='#icon-file-text2'></use></svg></label><input id='data-9332bedc-3985-445a-92a1-18195c3e4d18' class='xr-var-data-in' type='checkbox'><label for='data-9332bedc-3985-445a-92a1-18195c3e4d18' title='Show/Hide data repr'><svg class='icon xr-icon-database'><use xlink:href='#icon-database'></use></svg></label><div class='xr-var-attrs'><dl class='xr-attrs'></dl></div><div class='xr-var-data'><pre>array([[nan],\n",
       "       [nan],\n",
       "       [nan],\n",
       "       [nan],\n",
       "       [nan],\n",
       "       [nan],\n",
       "       [nan],\n",
       "       [nan],\n",
       "       [nan],\n",
       "       [nan],\n",
       "       [nan],\n",
       "       [nan],\n",
       "       [nan],\n",
       "       [nan],\n",
       "       [nan],\n",
       "       [nan],\n",
       "       [nan],\n",
       "       [nan],\n",
       "       [nan],\n",
       "       [nan],\n",
       "       [nan],\n",
       "       [nan],\n",
       "       [nan],\n",
       "       [nan],\n",
       "       [nan],\n",
       "       [nan],\n",
       "       [nan],\n",
       "       [nan],\n",
       "       [nan],\n",
       "       [nan]])</pre></div></li><li class='xr-var-item'><div class='xr-var-name'><span>error_training_jb</span></div><div class='xr-var-dims'>(epoch)</div><div class='xr-var-dtype'>float64</div><div class='xr-var-preview xr-preview'>131.5 60.79 0.7119 ... 356.6 370.3</div><input id='attrs-80234e66-40c9-4495-bf18-8bba1d9d407d' class='xr-var-attrs-in' type='checkbox' disabled><label for='attrs-80234e66-40c9-4495-bf18-8bba1d9d407d' title='Show/Hide attributes'><svg class='icon xr-icon-file-text2'><use xlink:href='#icon-file-text2'></use></svg></label><input id='data-67db11af-3c55-4853-90b4-e33f6da94fa1' class='xr-var-data-in' type='checkbox'><label for='data-67db11af-3c55-4853-90b4-e33f6da94fa1' title='Show/Hide data repr'><svg class='icon xr-icon-database'><use xlink:href='#icon-database'></use></svg></label><div class='xr-var-attrs'><dl class='xr-attrs'></dl></div><div class='xr-var-data'><pre>array([131.47811385,  60.79086336,   0.7118606 ,  57.43004469,\n",
       "         4.39240317,  38.04646709,  49.43839778,  44.4339852 ,\n",
       "        74.97962848,  67.60664873,  85.00890622,  87.2762189 ,\n",
       "        99.35628612, 108.12925515, 120.6604862 , 133.44471641,\n",
       "       148.12383435, 163.84764386, 180.8352855 , 198.69591484,\n",
       "       217.21521197, 236.00544743, 254.81271095, 273.35451423,\n",
       "       291.4816609 , 309.00665274, 325.80340925, 341.70004056,\n",
       "       356.56784859, 370.28440601])</pre></div></li><li class='xr-var-item'><div class='xr-var-name'><span>error_training_jbp</span></div><div class='xr-var-dims'>(epoch)</div><div class='xr-var-dtype'>float64</div><div class='xr-var-preview xr-preview'>2.818e-29 6.301e-14 ... 3.924e-81</div><input id='attrs-60318f0c-e980-421c-a7d8-07cbcf835d4b' class='xr-var-attrs-in' type='checkbox' disabled><label for='attrs-60318f0c-e980-421c-a7d8-07cbcf835d4b' title='Show/Hide attributes'><svg class='icon xr-icon-file-text2'><use xlink:href='#icon-file-text2'></use></svg></label><input id='data-7cda6846-8d87-471b-b459-ffbdf38ee29a' class='xr-var-data-in' type='checkbox'><label for='data-7cda6846-8d87-471b-b459-ffbdf38ee29a' title='Show/Hide data repr'><svg class='icon xr-icon-database'><use xlink:href='#icon-database'></use></svg></label><div class='xr-var-attrs'><dl class='xr-attrs'></dl></div><div class='xr-var-data'><pre>array([2.81767133e-29, 6.30132308e-14, 7.00521444e-01, 3.38239441e-13,\n",
       "       1.11224835e-01, 5.47412416e-09, 1.83902793e-11, 2.24534308e-10,\n",
       "       5.22854135e-17, 2.08642490e-15, 3.47176690e-19, 1.11740308e-19,\n",
       "       2.66107183e-22, 3.31154436e-24, 6.29373321e-27, 1.05401796e-29,\n",
       "       6.84412686e-33, 2.63594412e-36, 5.39655598e-40, 7.14052763e-44,\n",
       "       6.79698055e-48, 5.65025751e-52, 4.65717823e-56, 4.38350426e-60,\n",
       "       5.07646678e-64, 7.94434180e-68, 1.78932236e-71, 6.32090059e-75,\n",
       "       3.73486980e-78, 3.92430603e-81])</pre></div></li><li class='xr-var-item'><div class='xr-var-name'><span>error_training_skew</span></div><div class='xr-var-dims'>(epoch)</div><div class='xr-var-dtype'>float64</div><div class='xr-var-preview xr-preview'>0.08382 0.1559 ... -0.007569</div><input id='attrs-e28deb60-61ad-4226-9df4-4b5b068a4de5' class='xr-var-attrs-in' type='checkbox' disabled><label for='attrs-e28deb60-61ad-4226-9df4-4b5b068a4de5' title='Show/Hide attributes'><svg class='icon xr-icon-file-text2'><use xlink:href='#icon-file-text2'></use></svg></label><input id='data-2314e74f-034f-475d-9c19-fbf614982e72' class='xr-var-data-in' type='checkbox'><label for='data-2314e74f-034f-475d-9c19-fbf614982e72' title='Show/Hide data repr'><svg class='icon xr-icon-database'><use xlink:href='#icon-database'></use></svg></label><div class='xr-var-attrs'><dl class='xr-attrs'></dl></div><div class='xr-var-data'><pre>array([ 0.08382172,  0.15589849, -0.01651685, -0.13563461, -0.03011454,\n",
       "       -0.14932421, -0.15825831, -0.13633495, -0.17433788, -0.13491586,\n",
       "       -0.151951  , -0.12536913, -0.12641385, -0.10951549, -0.10378036,\n",
       "       -0.09181681, -0.08393096, -0.07409726, -0.0657866 , -0.0571306 ,\n",
       "       -0.04935167, -0.04197158, -0.03542103, -0.02955208, -0.024442  ,\n",
       "       -0.01998212, -0.01613308, -0.01281571, -0.00998027, -0.00756929])</pre></div></li><li class='xr-var-item'><div class='xr-var-name'><span>error_training_kurt</span></div><div class='xr-var-dims'>(epoch)</div><div class='xr-var-dtype'>float64</div><div class='xr-var-preview xr-preview'>2.464 2.779 2.975 ... 2.075 2.057</div><input id='attrs-63e34d73-5d1a-4595-bed1-a6dc53bdb50d' class='xr-var-attrs-in' type='checkbox' disabled><label for='attrs-63e34d73-5d1a-4595-bed1-a6dc53bdb50d' title='Show/Hide attributes'><svg class='icon xr-icon-file-text2'><use xlink:href='#icon-file-text2'></use></svg></label><input id='data-bea0e3b3-aaa4-4100-ba8d-7cfef37985c3' class='xr-var-data-in' type='checkbox'><label for='data-bea0e3b3-aaa4-4100-ba8d-7cfef37985c3' title='Show/Hide data repr'><svg class='icon xr-icon-database'><use xlink:href='#icon-database'></use></svg></label><div class='xr-var-attrs'><dl class='xr-attrs'></dl></div><div class='xr-var-data'><pre>array([2.46386275, 2.77936293, 2.97515567, 3.25346621, 2.91684817,\n",
       "       3.04605048, 2.86409789, 2.82029832, 2.75838807, 2.70092342,\n",
       "       2.66583695, 2.61712502, 2.58222825, 2.54006996, 2.50350859,\n",
       "       2.46470007, 2.4278815 , 2.39067847, 2.35448224, 2.31896067,\n",
       "       2.28475587, 2.25209184, 2.22119842, 2.19218967, 2.16503513,\n",
       "       2.13975653, 2.11632185, 2.09478007, 2.07514087, 2.05742194])</pre></div></li><li class='xr-var-item'><div class='xr-var-name'><span>error_validation_jb</span></div><div class='xr-var-dims'>(epoch)</div><div class='xr-var-dtype'>float64</div><div class='xr-var-preview xr-preview'>nan nan nan nan ... nan nan nan nan</div><input id='attrs-f3cd861d-4d87-4502-96b6-408ee473d4d8' class='xr-var-attrs-in' type='checkbox' disabled><label for='attrs-f3cd861d-4d87-4502-96b6-408ee473d4d8' title='Show/Hide attributes'><svg class='icon xr-icon-file-text2'><use xlink:href='#icon-file-text2'></use></svg></label><input id='data-b68d9682-9ad7-41cb-a177-09278110bcf0' class='xr-var-data-in' type='checkbox'><label for='data-b68d9682-9ad7-41cb-a177-09278110bcf0' title='Show/Hide data repr'><svg class='icon xr-icon-database'><use xlink:href='#icon-database'></use></svg></label><div class='xr-var-attrs'><dl class='xr-attrs'></dl></div><div class='xr-var-data'><pre>array([nan, nan, nan, nan, nan, nan, nan, nan, nan, nan, nan, nan, nan,\n",
       "       nan, nan, nan, nan, nan, nan, nan, nan, nan, nan, nan, nan, nan,\n",
       "       nan, nan, nan, nan])</pre></div></li><li class='xr-var-item'><div class='xr-var-name'><span>error_validation_jbp</span></div><div class='xr-var-dims'>(epoch)</div><div class='xr-var-dtype'>float64</div><div class='xr-var-preview xr-preview'>nan nan nan nan ... nan nan nan nan</div><input id='attrs-5f7a13b1-7a5e-45f4-9548-2d11e8f0984e' class='xr-var-attrs-in' type='checkbox' disabled><label for='attrs-5f7a13b1-7a5e-45f4-9548-2d11e8f0984e' title='Show/Hide attributes'><svg class='icon xr-icon-file-text2'><use xlink:href='#icon-file-text2'></use></svg></label><input id='data-77414421-6462-439d-b417-a42defb812ca' class='xr-var-data-in' type='checkbox'><label for='data-77414421-6462-439d-b417-a42defb812ca' title='Show/Hide data repr'><svg class='icon xr-icon-database'><use xlink:href='#icon-database'></use></svg></label><div class='xr-var-attrs'><dl class='xr-attrs'></dl></div><div class='xr-var-data'><pre>array([nan, nan, nan, nan, nan, nan, nan, nan, nan, nan, nan, nan, nan,\n",
       "       nan, nan, nan, nan, nan, nan, nan, nan, nan, nan, nan, nan, nan,\n",
       "       nan, nan, nan, nan])</pre></div></li><li class='xr-var-item'><div class='xr-var-name'><span>error_validation_skew</span></div><div class='xr-var-dims'>(epoch)</div><div class='xr-var-dtype'>float64</div><div class='xr-var-preview xr-preview'>nan nan nan nan ... nan nan nan nan</div><input id='attrs-0b9ccee8-eafa-4d68-b61e-eb76661711ab' class='xr-var-attrs-in' type='checkbox' disabled><label for='attrs-0b9ccee8-eafa-4d68-b61e-eb76661711ab' title='Show/Hide attributes'><svg class='icon xr-icon-file-text2'><use xlink:href='#icon-file-text2'></use></svg></label><input id='data-7d184243-566a-4154-8053-bd7cbd1a5ec6' class='xr-var-data-in' type='checkbox'><label for='data-7d184243-566a-4154-8053-bd7cbd1a5ec6' title='Show/Hide data repr'><svg class='icon xr-icon-database'><use xlink:href='#icon-database'></use></svg></label><div class='xr-var-attrs'><dl class='xr-attrs'></dl></div><div class='xr-var-data'><pre>array([nan, nan, nan, nan, nan, nan, nan, nan, nan, nan, nan, nan, nan,\n",
       "       nan, nan, nan, nan, nan, nan, nan, nan, nan, nan, nan, nan, nan,\n",
       "       nan, nan, nan, nan])</pre></div></li><li class='xr-var-item'><div class='xr-var-name'><span>error_validation_kurt</span></div><div class='xr-var-dims'>(epoch)</div><div class='xr-var-dtype'>float64</div><div class='xr-var-preview xr-preview'>nan nan nan nan ... nan nan nan nan</div><input id='attrs-23615003-4e4f-4f96-a79b-45f9956d6b6a' class='xr-var-attrs-in' type='checkbox' disabled><label for='attrs-23615003-4e4f-4f96-a79b-45f9956d6b6a' title='Show/Hide attributes'><svg class='icon xr-icon-file-text2'><use xlink:href='#icon-file-text2'></use></svg></label><input id='data-9b972ebe-7127-40fd-b820-47c9dc9a73c4' class='xr-var-data-in' type='checkbox'><label for='data-9b972ebe-7127-40fd-b820-47c9dc9a73c4' title='Show/Hide data repr'><svg class='icon xr-icon-database'><use xlink:href='#icon-database'></use></svg></label><div class='xr-var-attrs'><dl class='xr-attrs'></dl></div><div class='xr-var-data'><pre>array([nan, nan, nan, nan, nan, nan, nan, nan, nan, nan, nan, nan, nan,\n",
       "       nan, nan, nan, nan, nan, nan, nan, nan, nan, nan, nan, nan, nan,\n",
       "       nan, nan, nan, nan])</pre></div></li><li class='xr-var-item'><div class='xr-var-name'><span>weights_a</span></div><div class='xr-var-dims'>(epoch, k)</div><div class='xr-var-dtype'>float64</div><div class='xr-var-preview xr-preview'>-1.184 -0.7737 ... -0.2823 -1.747</div><input id='attrs-c90c90d8-8e42-4512-b169-09d5e0e37a25' class='xr-var-attrs-in' type='checkbox' disabled><label for='attrs-c90c90d8-8e42-4512-b169-09d5e0e37a25' title='Show/Hide attributes'><svg class='icon xr-icon-file-text2'><use xlink:href='#icon-file-text2'></use></svg></label><input id='data-a1bec8c3-e038-4285-90c7-c23bff174533' class='xr-var-data-in' type='checkbox'><label for='data-a1bec8c3-e038-4285-90c7-c23bff174533' title='Show/Hide data repr'><svg class='icon xr-icon-database'><use xlink:href='#icon-database'></use></svg></label><div class='xr-var-attrs'><dl class='xr-attrs'></dl></div><div class='xr-var-data'><pre>array([[-1.18353304, -0.77369397, -1.88518504, ..., -2.32641371,\n",
       "        -0.28228115, -1.74682958],\n",
       "       [-1.18353304, -0.77369397, -1.88518504, ..., -2.32641371,\n",
       "        -0.28228115, -1.74682958],\n",
       "       [-1.18353304, -0.77369397, -1.88518504, ..., -2.32641371,\n",
       "        -0.28228115, -1.74682958],\n",
       "       ...,\n",
       "       [-1.18353304, -0.77369397, -1.88518504, ..., -2.32641371,\n",
       "        -0.28228115, -1.74682958],\n",
       "       [-1.18353304, -0.77369397, -1.88518504, ..., -2.32641371,\n",
       "        -0.28228115, -1.74682958],\n",
       "       [-1.18353304, -0.77369397, -1.88518504, ..., -2.32641371,\n",
       "        -0.28228115, -1.74682958]])</pre></div></li><li class='xr-var-item'><div class='xr-var-name'><span>weights_c</span></div><div class='xr-var-dims'>(epoch, l, m)</div><div class='xr-var-dtype'>float64</div><div class='xr-var-preview xr-preview'>-1.228 -3.324 -1.585 ... 1.26 5.201</div><input id='attrs-2422e76e-e597-4eda-b6f8-f4f319ccb850' class='xr-var-attrs-in' type='checkbox' disabled><label for='attrs-2422e76e-e597-4eda-b6f8-f4f319ccb850' title='Show/Hide attributes'><svg class='icon xr-icon-file-text2'><use xlink:href='#icon-file-text2'></use></svg></label><input id='data-38172a39-9bff-40a6-a0eb-edae3ab703d6' class='xr-var-data-in' type='checkbox'><label for='data-38172a39-9bff-40a6-a0eb-edae3ab703d6' title='Show/Hide data repr'><svg class='icon xr-icon-database'><use xlink:href='#icon-database'></use></svg></label><div class='xr-var-attrs'><dl class='xr-attrs'></dl></div><div class='xr-var-data'><pre>array([[[-1.22811381, -3.32353466],\n",
       "        [-1.58541829, -1.18655367],\n",
       "        [-1.3167722 , -0.60315866],\n",
       "        ...,\n",
       "        [ 1.43651898,  2.34151777],\n",
       "        [ 1.46163059,  3.65150257],\n",
       "        [ 1.26019845,  5.2007518 ]],\n",
       "\n",
       "       [[-1.22811381, -3.32353466],\n",
       "        [-1.58541829, -1.18655367],\n",
       "        [-1.3167722 , -0.60315866],\n",
       "        ...,\n",
       "        [ 1.43651898,  2.34151777],\n",
       "        [ 1.46163059,  3.65150257],\n",
       "        [ 1.26019845,  5.2007518 ]],\n",
       "\n",
       "       [[-1.22811381, -3.32353466],\n",
       "        [-1.58541829, -1.18655367],\n",
       "        [-1.3167722 , -0.60315866],\n",
       "        ...,\n",
       "...\n",
       "        ...,\n",
       "        [ 1.43651898,  2.34151777],\n",
       "        [ 1.46163059,  3.65150257],\n",
       "        [ 1.26019845,  5.2007518 ]],\n",
       "\n",
       "       [[-1.22811381, -3.32353466],\n",
       "        [-1.58541829, -1.18655367],\n",
       "        [-1.3167722 , -0.60315866],\n",
       "        ...,\n",
       "        [ 1.43651898,  2.34151777],\n",
       "        [ 1.46163059,  3.65150257],\n",
       "        [ 1.26019845,  5.2007518 ]],\n",
       "\n",
       "       [[-1.22811381, -3.32353466],\n",
       "        [-1.58541829, -1.18655367],\n",
       "        [-1.3167722 , -0.60315866],\n",
       "        ...,\n",
       "        [ 1.43651898,  2.34151777],\n",
       "        [ 1.46163059,  3.65150257],\n",
       "        [ 1.26019845,  5.2007518 ]]])</pre></div></li><li class='xr-var-item'><div class='xr-var-name'><span>weights_w</span></div><div class='xr-var-dims'>(epoch, n, o)</div><div class='xr-var-dtype'>float64</div><div class='xr-var-preview xr-preview'>1.608 1.719 1.582 ... 1.354 1.202</div><input id='attrs-21c030d7-8569-46ee-b9f8-510b7ecb0a4b' class='xr-var-attrs-in' type='checkbox' disabled><label for='attrs-21c030d7-8569-46ee-b9f8-510b7ecb0a4b' title='Show/Hide attributes'><svg class='icon xr-icon-file-text2'><use xlink:href='#icon-file-text2'></use></svg></label><input id='data-1877095f-f691-4f6c-a7c7-c9bc106abaa6' class='xr-var-data-in' type='checkbox'><label for='data-1877095f-f691-4f6c-a7c7-c9bc106abaa6' title='Show/Hide data repr'><svg class='icon xr-icon-database'><use xlink:href='#icon-database'></use></svg></label><div class='xr-var-attrs'><dl class='xr-attrs'></dl></div><div class='xr-var-data'><pre>array([[[1.60818376, 1.71897173],\n",
       "        [1.58186497, 1.34138665],\n",
       "        [1.08875098, 0.85380529],\n",
       "        ...,\n",
       "        [1.20993011, 0.9220567 ],\n",
       "        [1.80858701, 1.50037975],\n",
       "        [1.35392963, 1.20242741]],\n",
       "\n",
       "       [[1.60818376, 1.71897173],\n",
       "        [1.58186497, 1.34138665],\n",
       "        [1.08875098, 0.85380529],\n",
       "        ...,\n",
       "        [1.20993011, 0.9220567 ],\n",
       "        [1.80858701, 1.50037975],\n",
       "        [1.35392963, 1.20242741]],\n",
       "\n",
       "       [[1.60818376, 1.71897173],\n",
       "        [1.58186497, 1.34138665],\n",
       "        [1.08875098, 0.85380529],\n",
       "        ...,\n",
       "...\n",
       "        ...,\n",
       "        [1.20993011, 0.9220567 ],\n",
       "        [1.80858701, 1.50037975],\n",
       "        [1.35392963, 1.20242741]],\n",
       "\n",
       "       [[1.60818376, 1.71897173],\n",
       "        [1.58186497, 1.34138665],\n",
       "        [1.08875098, 0.85380529],\n",
       "        ...,\n",
       "        [1.20993011, 0.9220567 ],\n",
       "        [1.80858701, 1.50037975],\n",
       "        [1.35392963, 1.20242741]],\n",
       "\n",
       "       [[1.60818376, 1.71897173],\n",
       "        [1.58186497, 1.34138665],\n",
       "        [1.08875098, 0.85380529],\n",
       "        ...,\n",
       "        [1.20993011, 0.9220567 ],\n",
       "        [1.80858701, 1.50037975],\n",
       "        [1.35392963, 1.20242741]]])</pre></div></li></ul></div></li><li class='xr-section-item'><input id='section-d58f101c-d117-472d-a16f-ff2fccf3612b' class='xr-section-summary-in' type='checkbox' disabled ><label for='section-d58f101c-d117-472d-a16f-ff2fccf3612b' class='xr-section-summary'  title='Expand/collapse section'>Attributes: <span>(0)</span></label><div class='xr-section-inline-details'></div><div class='xr-section-details'><dl class='xr-attrs'></dl></div></li></ul></div></div>"
      ],
      "text/plain": [
       "<xarray.Dataset>\n",
       "Dimensions:                (epoch: 30, i: 10000, j: 1, k: 35, l: 35, m: 2, n: 35, o: 2)\n",
       "Coordinates:\n",
       "  * epoch                  (epoch) int64 1 2 3 4 5 6 7 ... 24 25 26 27 28 29 30\n",
       "Dimensions without coordinates: i, j, k, l, m, n, o\n",
       "Data variables: (12/14)\n",
       "    gradient               (epoch) float64 3.978e+04 4.502e+04 ... 5.336e+04\n",
       "    error_training_data    (epoch, i) float64 -0.142 -0.09916 ... -0.04944\n",
       "    error_validation_data  (epoch, j) float64 nan nan nan nan ... nan nan nan\n",
       "    error_training_jb      (epoch) float64 131.5 60.79 0.7119 ... 356.6 370.3\n",
       "    error_training_jbp     (epoch) float64 2.818e-29 6.301e-14 ... 3.924e-81\n",
       "    error_training_skew    (epoch) float64 0.08382 0.1559 ... -0.00998 -0.007569\n",
       "    ...                     ...\n",
       "    error_validation_jbp   (epoch) float64 nan nan nan nan ... nan nan nan nan\n",
       "    error_validation_skew  (epoch) float64 nan nan nan nan ... nan nan nan nan\n",
       "    error_validation_kurt  (epoch) float64 nan nan nan nan ... nan nan nan nan\n",
       "    weights_a              (epoch, k) float64 -1.184 -0.7737 ... -0.2823 -1.747\n",
       "    weights_c              (epoch, l, m) float64 -1.228 -3.324 ... 1.26 5.201\n",
       "    weights_w              (epoch, n, o) float64 1.608 1.719 ... 1.354 1.202"
      ]
     },
     "execution_count": 82,
     "metadata": {},
     "output_type": "execute_result"
    }
   ],
   "source": [
    "model.training_log"
   ]
  },
  {
   "cell_type": "code",
   "execution_count": 83,
   "id": "22009def-ca9b-4bb8-9eae-8f89014bf6bf",
   "metadata": {},
   "outputs": [
    {
     "data": {
      "application/vnd.jupyter.widget-view+json": {
       "model_id": "dca8da096a124547ba28e4a7a6a73b2b",
       "version_major": 2,
       "version_minor": 0
      },
      "text/plain": [
       "Canvas(toolbar=Toolbar(toolitems=[('Home', 'Reset original view', 'home', 'home'), ('Back', 'Back to previous …"
      ]
     },
     "metadata": {},
     "output_type": "display_data"
    },
    {
     "data": {
      "application/vnd.jupyter.widget-view+json": {
       "model_id": "549d792820664b5f986c82253f43353f",
       "version_major": 2,
       "version_minor": 0
      },
      "text/plain": [
       "Canvas(toolbar=Toolbar(toolitems=[('Home', 'Reset original view', 'home', 'home'), ('Back', 'Back to previous …"
      ]
     },
     "metadata": {},
     "output_type": "display_data"
    },
    {
     "data": {
      "application/vnd.jupyter.widget-view+json": {
       "model_id": "870fcf22a9f041e3bdced6fceba9b1b7",
       "version_major": 2,
       "version_minor": 0
      },
      "text/plain": [
       "Canvas(toolbar=Toolbar(toolitems=[('Home', 'Reset original view', 'home', 'home'), ('Back', 'Back to previous …"
      ]
     },
     "metadata": {},
     "output_type": "display_data"
    },
    {
     "data": {
      "text/plain": [
       "[<matplotlib.lines.Line2D at 0x7f40716d82e0>]"
      ]
     },
     "execution_count": 83,
     "metadata": {},
     "output_type": "execute_result"
    }
   ],
   "source": [
    "fig = plt.figure(figsize=(4, 3))\n",
    "plt.plot(model.weights_c[:, 0], model.weights_c[:, 1], \"x\")\n",
    "\n",
    "fig = plt.figure(figsize=(4, 3))\n",
    "ax = fig.add_subplot(projection='3d')\n",
    "output = model.evaluate(inputs)\n",
    "ax.scatter(inputs[:, 0, 0], inputs[:, 1, 0], reference_outputs.squeeze(), s=0.1)\n",
    "ax.scatter(inputs[:, 0, 0], inputs[:, 1, 0], output.squeeze(), s=0.1)\n",
    "\n",
    "fig, axs = plt.subplots(3, 1, figsize=(8, 6))\n",
    "abs(model.training_log.error_training_data).mean(\"i\").plot(ax=axs[0])\n",
    "axs[0].set_yscale(\"log\")\n",
    "model.training_log.error_training_jb.plot(ax=axs[1])\n",
    "model.training_log.error_training_jbp.plot(ax=axs[2])"
   ]
  },
  {
   "cell_type": "markdown",
   "id": "6c2008bc-9690-4e1b-adfb-dc341f7b7868",
   "metadata": {},
   "source": [
    "## Initialize the RBF network by placing the centers randomly"
   ]
  },
  {
   "cell_type": "code",
   "execution_count": 45,
   "id": "8a1efe01-a326-49b7-acd7-e2db6cf6bd49",
   "metadata": {},
   "outputs": [
    {
     "data": {
      "text/html": [
       "<div Class=\"cw_vdom_hyr cw_vdom_hyr_item\"><style>.cw_vdom_hyr {\n",
       "    font-family: monospace;\n",
       "}\n",
       "\n",
       ".cw_vdom_hyr_item > input {\n",
       "    display: none;\n",
       "}\n",
       "\n",
       ".cw_vdom_hyr_item > label {\n",
       "    color: var(--jp-accent-color1);\n",
       "    font-weight: bold;\n",
       "}\n",
       "\n",
       ".cw_vdom_hyr_item > label::before {\n",
       "    content: \"\\00a0\";\n",
       "}\n",
       "\n",
       ".cw_vdom_hyr_item > label::after {\n",
       "    content: \": \";\n",
       "}\n",
       "\n",
       ".cw_vdom_hyr_item > div {\n",
       "    display: inline-block;\n",
       "}\n",
       "\n",
       ".cw_vdom_hyr_item > input + label {\n",
       "    cursor: pointer;\n",
       "}\n",
       "\n",
       ".cw_vdom_hyr_item > input + label::before {\n",
       "    content: \"+\";\n",
       "}\n",
       "\n",
       ".cw_vdom_hyr_item > input:checked + label::before {\n",
       "    content: \"-\";\n",
       "}\n",
       "\n",
       ".cw_vdom_hyr_item > input ~ div {\n",
       "    display: none;\n",
       "    padding-left: 20px;\n",
       "}\n",
       "\n",
       ".cw_vdom_hyr_item > input:checked ~ div {\n",
       "    display: block;\n",
       "}\n",
       "\n",
       ".cw_vdom_hyr_type {\n",
       "    color: var(--jp-ui-font-color3);\n",
       "    font-size: var(--jp-ui-font-size0);\n",
       "}\n",
       "</style><input type=\"checkbox\" id=\"F36VHWK24P\" ></input><label For=\"F36VHWK24P\">Radial Basis Function Neural Network</label><span Class=\"cw_vdom_hyr_type\">system_identification.rbfnn_model.RadialBasisFunctionNeuralNetworkModel:</span><div><div><div Class=\"cw_vdom_hyr_item\"><label For=\"BDH5F5YQCX\">description</label><span Class=\"cw_vdom_hyr_type\">str[55]:</span><div><span>Feedforward neural network with random initial weights.</span></div></div><div Class=\"cw_vdom_hyr_item\"><label For=\"0S5KZL0OB6\">n_inputs</label><span Class=\"cw_vdom_hyr_type\">int:</span><div><span>2</span></div></div><div Class=\"cw_vdom_hyr_item\"><label For=\"GR6TEBE540\">n_hidden</label><span Class=\"cw_vdom_hyr_type\">int:</span><div><span>4</span></div></div><div Class=\"cw_vdom_hyr_item\"><label For=\"YWO7E69E8L\">n_output</label><span Class=\"cw_vdom_hyr_type\">int:</span><div><span>1</span></div></div><div Class=\"cw_vdom_hyr_item\"><input type=\"checkbox\" id=\"S87LG00GED\" ></input><label For=\"S87LG00GED\">training_parameters</label><span Class=\"cw_vdom_hyr_type\">dict[3]:</span><div><div><div Class=\"cw_vdom_hyr_item\"><label For=\"G2GPIAWEHN\">training_algorithm</label><span Class=\"cw_vdom_hyr_type\">NoneType:</span><div><span>None</span></div></div><div Class=\"cw_vdom_hyr_item\"><label For=\"39XU1T2330\">goal</label><span Class=\"cw_vdom_hyr_type\">NoneType:</span><div><span>None</span></div></div><div Class=\"cw_vdom_hyr_item\"><label For=\"JOP6HTPCOF\">min_grad</label><span Class=\"cw_vdom_hyr_type\">NoneType:</span><div><span>None</span></div></div></div></div></div><div Class=\"cw_vdom_hyr_item\"><input type=\"checkbox\" id=\"L2Z8GK2XO6\" ></input><label For=\"L2Z8GK2XO6\">weights</label><span Class=\"cw_vdom_hyr_type\">dict[3]:</span><div><div><div Class=\"cw_vdom_hyr_item\"><label For=\"ZD3BQUCUML\">weights_a</label><span Class=\"cw_vdom_hyr_type\">numpy.ndarray[4]:</span><div>[1. 1. 1. 1.]</div></div><div Class=\"cw_vdom_hyr_item\"><input type=\"checkbox\" id=\"JTLLA30UJ2\" ></input><label For=\"JTLLA30UJ2\">weights_c</label><span Class=\"cw_vdom_hyr_type\">numpy.ndarray[4, 2]:</span><div><div>[[-0.20634217  1.53993576]<br/> [ 0.33126387  1.69947982]<br/> [-0.58168783  0.44950857]<br/> [-0.51877002  4.21402855]]</div></div></div><div Class=\"cw_vdom_hyr_item\"><input type=\"checkbox\" id=\"OF7TJM0YG8\" ></input><label For=\"OF7TJM0YG8\">weights_w</label><span Class=\"cw_vdom_hyr_type\">numpy.ndarray[4, 2]:</span><div><div>[[1.75 1.75]<br/> [1.75 1.75]<br/> [1.75 1.75]<br/> [1.75 1.75]]</div></div></div></div></div></div></div></div></div>"
      ],
      "text/plain": [
       "<RadialBasisFunctionNeuralNetwork\n",
       " n_inputs=2\n",
       " n_hidden=4\n",
       " n_outputs=1>"
      ]
     },
     "execution_count": 45,
     "metadata": {},
     "output_type": "execute_result"
    }
   ],
   "source": [
    "RadialBasisFunctionNeuralNetworkModel.new_random_placement(\n",
    "    n_inputs=2,\n",
    "    n_hidden=4,\n",
    "    input_range=input_range,\n",
    "    rbf_width=1.75,\n",
    "    rbf_amplitude=1,\n",
    ")"
   ]
  },
  {
   "cell_type": "code",
   "execution_count": null,
   "id": "a3a13463-f64a-47f4-a8d0-73fe34e8a6c6",
   "metadata": {},
   "outputs": [],
   "source": []
  }
 ],
 "metadata": {
  "kernelspec": {
   "display_name": "Python 3 (ipykernel)",
   "language": "python",
   "name": "python3"
  },
  "language_info": {
   "codemirror_mode": {
    "name": "ipython",
    "version": 3
   },
   "file_extension": ".py",
   "mimetype": "text/x-python",
   "name": "python",
   "nbconvert_exporter": "python",
   "pygments_lexer": "ipython3",
   "version": "3.9.6"
  }
 },
 "nbformat": 4,
 "nbformat_minor": 5
}
