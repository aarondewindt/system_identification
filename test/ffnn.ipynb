{
 "cells": [
  {
   "cell_type": "markdown",
   "id": "99e089b3-1ec9-41dc-a46a-47a5a7aa899b",
   "metadata": {},
   "source": [
    "# Feedforward neural network testing"
   ]
  },
  {
   "cell_type": "code",
   "execution_count": 1,
   "id": "bafe279a-d6d5-4d2a-914a-3b9bd1a3e349",
   "metadata": {},
   "outputs": [],
   "source": [
    "%load_ext autoreload\n",
    "%autoreload 2\n",
    "%matplotlib widget"
   ]
  },
  {
   "cell_type": "code",
   "execution_count": 2,
   "id": "7131f79a-92e5-4245-8807-37c859412204",
   "metadata": {},
   "outputs": [],
   "source": [
    "import numpy as np\n",
    "import numpy.testing as npt\n",
    "import matplotlib.pyplot as plt\n",
    "from tqdm.auto import trange\n",
    "\n",
    "from system_identification.ffnn import FeedForwardNeuralNetwork, TrainingParameters, Model"
   ]
  },
  {
   "cell_type": "markdown",
   "id": "58bba27b-a056-4b66-b750-c2882e1c5846",
   "metadata": {},
   "source": [
    "## Model tests"
   ]
  },
  {
   "cell_type": "code",
   "execution_count": 3,
   "id": "37e720cd-a583-434d-ad84-180123fd6b78",
   "metadata": {},
   "outputs": [],
   "source": [
    "model = Model(\n",
    "    input_weights=np.array([[.1, .8], [.2, .9]]),\n",
    "    output_weights=np.array([[.3, .4]]),\n",
    "    bias_weights_0=np.array([[.5], [.6]]),\n",
    "    bias_weights_1=np.array([[.7]]),\n",
    ")"
   ]
  },
  {
   "cell_type": "code",
   "execution_count": 4,
   "id": "5c817b98-305c-4880-b3e6-19bd22596a32",
   "metadata": {},
   "outputs": [
    {
     "data": {
      "text/plain": [
       "array([[[1.39999384]],\n",
       "\n",
       "       [[1.23267287]],\n",
       "\n",
       "       [[1.05345497]]])"
      ]
     },
     "execution_count": 4,
     "metadata": {},
     "output_type": "execute_result"
    }
   ],
   "source": [
    "inp = np.array([\n",
    "    [[5.], [6.]],\n",
    "    [[3.], [0.]],\n",
    "    [[0.], [0.]],\n",
    "])\n",
    "out = model.evaluate(inp)\n",
    "out"
   ]
  },
  {
   "cell_type": "code",
   "execution_count": 8,
   "id": "64b24d1c-9483-4ce3-8032-dfdb2163a2e1",
   "metadata": {},
   "outputs": [],
   "source": [
    "ref = np.array([\n",
    "    [[1.6]],\n",
    "    [[1.3]],\n",
    "    [[1.]],\n",
    "])\n",
    "model.back_propagation(inp, ref, 0.01)"
   ]
  },
  {
   "cell_type": "code",
   "execution_count": 25,
   "id": "e914898c-e204-49c0-b402-d665f9b69a6f",
   "metadata": {},
   "outputs": [
    {
     "data": {
      "text/plain": [
       "-0.22000772999999998"
      ]
     },
     "execution_count": 25,
     "metadata": {},
     "output_type": "execute_result"
    }
   ],
   "source": [
    "-0.2000025 -0.04470769 + 0.02470246"
   ]
  },
  {
   "cell_type": "markdown",
   "id": "e238d8c3-888f-44f7-ba84-f902a2c4d553",
   "metadata": {},
   "source": [
    "## Learn"
   ]
  },
  {
   "cell_type": "code",
   "execution_count": 4,
   "id": "05299c86-0508-46db-9962-722890313b96",
   "metadata": {},
   "outputs": [],
   "source": [
    "model = Model.new(\n",
    "    n_inputs=1,\n",
    "    n_outputs=1,\n",
    "    n_hidden=1,\n",
    "    range=[[-1, 1]],\n",
    "    training_parameters=None,\n",
    "    log_dir=None,\n",
    ")"
   ]
  },
  {
   "cell_type": "code",
   "execution_count": 3,
   "id": "f1098fd1-57c9-463d-af54-ead443aee96b",
   "metadata": {},
   "outputs": [],
   "source": [
    "model = Model(\n",
    "    [[0.64565706], [0.46928664]],\n",
    "    [[0.38555326, .40531076]],\n",
    "    [[0.3048513], [0.31090629]],\n",
    "    [[0.17008069]]\n",
    ")"
   ]
  },
  {
   "cell_type": "code",
   "execution_count": 4,
   "id": "5c186849-c5e0-4378-a4fb-153db6644e1b",
   "metadata": {},
   "outputs": [
    {
     "data": {
      "text/plain": [
       "array([[[0.51937464]]])"
      ]
     },
     "execution_count": 4,
     "metadata": {},
     "output_type": "execute_result"
    }
   ],
   "source": [
    "model.evaluate(np.array([\n",
    "    [[.3]],\n",
    "]))"
   ]
  },
  {
   "cell_type": "code",
   "execution_count": 7,
   "id": "ffa8530b-2230-4092-9c17-9c3a25d546f5",
   "metadata": {},
   "outputs": [
    {
     "name": "stdout",
     "output_type": "stream",
     "text": [
      "derror_biasweight_0=array([[-0.0244798 ],\n",
      "       [-0.02682323]])\n",
      "derror_dbiasweight_1=array([[-0.08062536]])\n",
      "derror_diw=array([[-0.00734394],\n",
      "       [-0.00804697]])\n",
      "derror_dow=array([[-0.03716626, -0.03412783]])\n"
     ]
    }
   ],
   "source": [
    "model.back_propagation(\n",
    "    inputs=np.array([\n",
    "        [[.3]],\n",
    "    ]),\n",
    "    reference_outputs=np.array([\n",
    "        [[.6]],\n",
    "    ]),\n",
    "    mu=1\n",
    ")"
   ]
  },
  {
   "cell_type": "code",
   "execution_count": 5,
   "id": "e7c3c7a5-767a-41e4-ae80-9d343800aa20",
   "metadata": {},
   "outputs": [],
   "source": [
    "def f(x):\n",
    "    return 0.8 * np.tanh(x[0])\n",
    "\n",
    "\n",
    "inputs = np.random.uniform(-5, 5, (1000, 1, 1))\n",
    "reference_outputs = np.array(list(map(f, inputs))).reshape(1000, 1, 1)"
   ]
  },
  {
   "cell_type": "code",
   "execution_count": 6,
   "id": "6b3dc8e7-04c5-43e8-a278-460c7c4f9e2c",
   "metadata": {},
   "outputs": [
    {
     "data": {
      "text/plain": [
       "(1000, 1, 1)"
      ]
     },
     "execution_count": 6,
     "metadata": {},
     "output_type": "execute_result"
    }
   ],
   "source": [
    "reference_outputs.shape"
   ]
  },
  {
   "cell_type": "code",
   "execution_count": 6,
   "id": "e3062647-b7d5-41a5-896f-7e4699da18e4",
   "metadata": {},
   "outputs": [
    {
     "data": {
      "application/vnd.jupyter.widget-view+json": {
       "model_id": "954108d6c8224b90b1a2b736332cb965",
       "version_major": 2,
       "version_minor": 0
      },
      "text/plain": [
       "Canvas(toolbar=Toolbar(toolitems=[('Home', 'Reset original view', 'home', 'home'), ('Back', 'Back to previous …"
      ]
     },
     "metadata": {},
     "output_type": "display_data"
    }
   ],
   "source": [
    "fig = plt.figure()\n",
    "nn_output = model.evaluate(inputs)\n",
    "plt.plot(inputs.squeeze(), reference_outputs.squeeze(), \"o\")\n",
    "nn_output_line = plt.plot(inputs.squeeze(), nn_output.squeeze(), \"o\")[0]"
   ]
  },
  {
   "cell_type": "code",
   "execution_count": 51,
   "id": "eff2741a-57e5-4c69-bfad-f04713525bb6",
   "metadata": {},
   "outputs": [
    {
     "data": {
      "application/vnd.jupyter.widget-view+json": {
       "model_id": "c1a592f9c06c4f0ab645abfe8a332a51",
       "version_major": 2,
       "version_minor": 0
      },
      "text/plain": [
       "  0%|          | 0/10000 [00:00<?, ?it/s]"
      ]
     },
     "metadata": {},
     "output_type": "display_data"
    }
   ],
   "source": [
    "for i in trange(10000):\n",
    "    model.back_propagation(inputs, reference_outputs, 0.01)\n",
    "\n",
    "nn_output = model.evaluate(inputs)\n",
    "nn_output_line.set_data(inputs.squeeze(), nn_output.squeeze())\n",
    "fig.canvas.draw()"
   ]
  },
  {
   "cell_type": "code",
   "execution_count": null,
   "id": "618edd18-12bb-400c-a32e-0f8451ce093d",
   "metadata": {},
   "outputs": [],
   "source": []
  },
  {
   "cell_type": "code",
   "execution_count": null,
   "id": "30f3e18e-396b-4230-817d-a5d3fe0cce5d",
   "metadata": {},
   "outputs": [],
   "source": []
  }
 ],
 "metadata": {
  "kernelspec": {
   "display_name": "Python 3",
   "language": "python",
   "name": "python3"
  },
  "language_info": {
   "codemirror_mode": {
    "name": "ipython",
    "version": 3
   },
   "file_extension": ".py",
   "mimetype": "text/x-python",
   "name": "python",
   "nbconvert_exporter": "python",
   "pygments_lexer": "ipython3",
   "version": "3.9.2"
  }
 },
 "nbformat": 4,
 "nbformat_minor": 5
}
